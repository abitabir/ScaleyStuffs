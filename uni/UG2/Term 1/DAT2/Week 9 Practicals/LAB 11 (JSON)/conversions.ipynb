{
 "cells": [
  {
   "cell_type": "code",
   "execution_count": 3,
   "metadata": {},
   "outputs": [],
   "source": [
    "import json"
   ]
  },
  {
   "cell_type": "code",
   "execution_count": 8,
   "metadata": {},
   "outputs": [
    {
     "data": {
      "text/plain": [
       "{'store': 'Tesco Express',\n",
       " 'id': 'T12588',\n",
       " 'location': 'Clifton Moore',\n",
       " 'payment methods': {'method1': 'cash',\n",
       "  'method2': 'debit card',\n",
       "  'method3': 'credit card',\n",
       "  'method4': 'cheque',\n",
       "  'method5': 'tesco vouchers'},\n",
       " 'cash machine': None,\n",
       " '24 hours': False}"
      ]
     },
     "execution_count": 8,
     "metadata": {},
     "output_type": "execute_result"
    }
   ],
   "source": [
    "a = \"\"\"\n",
    "{\n",
    "\"store\": \"Tesco Express\",\n",
    "\"id\": \"T12588\",\n",
    "\"location\": \"Clifton Moore\",\n",
    "\"payment methods\": {\n",
    "\"method1\": \"cash\",\n",
    "\"method2\": \"debit card\",\n",
    "\"method3\": \"credit card\",\n",
    "\"method4\": \"cheque\",\n",
    "\"method5\": \"tesco vouchers\"\n",
    "},\n",
    "\"cash machine\": null,\n",
    "\"24 hours\": false\n",
    "}\"\"\"\n",
    "\n",
    "# loading JSON string into python dict object\n",
    "b = json.loads(a)\n",
    "b  # we know this is a python dict now cuz false to False and null to None"
   ]
  },
  {
   "cell_type": "code",
   "execution_count": 9,
   "metadata": {},
   "outputs": [
    {
     "data": {
      "text/plain": [
       "'Tesco Express'"
      ]
     },
     "execution_count": 9,
     "metadata": {},
     "output_type": "execute_result"
    }
   ],
   "source": [
    "b[\"store\"]  # returns Tesco Express"
   ]
  },
  {
   "cell_type": "code",
   "execution_count": 10,
   "metadata": {},
   "outputs": [
    {
     "data": {
      "text/plain": [
       "'{\"store\": \"Tesco Express\", \"id\": \"T12588\", \"location\": \"Clifton Moore\", \"payment methods\": {\"method1\": \"cash\", \"method2\": \"debit card\", \"method3\": \"credit card\", \"method4\": \"cheque\", \"method5\": \"tesco vouchers\"}, \"cash machine\": null, \"24 hours\": false}'"
      ]
     },
     "execution_count": 10,
     "metadata": {},
     "output_type": "execute_result"
    }
   ],
   "source": [
    "# converting the *same* python object back into a JSON string\n",
    "c = json.dumps(b)\n",
    "c  # hum, json string back\n",
    "# c==a  # returns false as different references XOS or maybe minor changes idk"
   ]
  },
  {
   "cell_type": "code",
   "execution_count": 12,
   "metadata": {},
   "outputs": [],
   "source": [
    "# saving string into newfile\n",
    "with open(\"jsonstringtopythondicotojsonstring\", \"w\") as f:\n",
    "    f.write(c)"
   ]
  },
  {
   "cell_type": "code",
   "execution_count": null,
   "metadata": {},
   "outputs": [],
   "source": []
  }
 ],
 "metadata": {
  "kernelspec": {
   "display_name": "Python 3",
   "language": "python",
   "name": "python3"
  },
  "language_info": {
   "codemirror_mode": {
    "name": "ipython",
    "version": 3
   },
   "file_extension": ".py",
   "mimetype": "text/x-python",
   "name": "python",
   "nbconvert_exporter": "python",
   "pygments_lexer": "ipython3",
   "version": "3.8.2"
  }
 },
 "nbformat": 4,
 "nbformat_minor": 4
}

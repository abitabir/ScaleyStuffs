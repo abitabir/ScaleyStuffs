{
 "cells": [
  {
   "cell_type": "markdown",
   "metadata": {},
   "source": [
    "# DATA 1 Practical 5\n",
    "                                                                                                    Simos Gerasimou\n",
    "\n",
    "\n",
    "## A Data Journey In Probability Distributions and Inferential Statistics\n",
    "\n",
    "**Pandas API Reference**: https://pandas.pydata.org/pandas-docs/stable/reference/index.html\n",
    "\n",
    "**Matplotlib API Reference**: https://matplotlib.org/3.1.1/api/index.html\n",
    "\n",
    "**Seaborn API Reference**: https://seaborn.pydata.org/api.html\n",
    "\n",
    "***"
   ]
  },
  {
   "cell_type": "markdown",
   "metadata": {
    "deletable": false,
    "editable": false,
    "run_control": {
     "frozen": true
    }
   },
   "source": [
    "## Part A'\n",
    "\n",
    "### Understanding the Cental Limit Theorem\n",
    "\n",
    "The **central limit theorem** states that, given a sufficiently large sample size, the sampling distribution of the mean for a random variable will approximate a normal distribution regardless of the variable's distribution in the population.\n",
    "\n",
    "---\n",
    "\n",
    "Nisa store at the University of York has recently installed self-checkout machines and the Nisa store manager wants to investigate the time spent by students waiting to be serviced. The manager expects that most students should be able to check out immediately and exponentially fewer students to wait for a successive time. \n",
    "\n",
    "He consults a statistician, whose advice was to model the waiting time at the store using an **exponential distribution** which enables to model the amount of waiting time until the next event with its formula given by $f(x;\\lambda) = \\lambda e ^{-\\lambda x}$, if $x \\geq 0$, where $\\lambda$ is the average rate of occurence per interval. For instance, if $\\beta$ customers are serviced per hour the rate $\\lambda = 1/\\beta$.\n",
    "\n",
    "Based on some preliminary analysis of the log of the self-checkout machines, the manager has found that the on average each machine services **15 customers per hour, i.e., $\\lambda=1/15$**.\n",
    "\n",
    "---\n",
    "\n",
    "**TA1)  Generate 10000 samples following the exponential distribution with $\\beta=15$ ($\\lambda=1/15$). Store this data in a list.**\n",
    "\n",
    "* Hint: Look at random.exponential() function of numpy [(reference)](https://docs.scipy.org/doc/numpy-1.15.0/reference/generated/numpy.random.exponential.html)\n"
   ]
  },
  {
   "cell_type": "code",
   "execution_count": 1,
   "metadata": {},
   "outputs": [],
   "source": [
    "#Write your answer here\n",
    "import numpy as np\n",
    "import seaborn as sns\n",
    "import matplotlib.pyplot as plt"
   ]
  },
  {
   "cell_type": "code",
   "execution_count": 2,
   "metadata": {},
   "outputs": [
    {
     "data": {
      "text/plain": "array([ 3.51172413, 14.42279961,  5.66370058, ...,  4.73023313,\n       12.61272445, 20.93013537])"
     },
     "execution_count": 2,
     "metadata": {},
     "output_type": "execute_result"
    }
   ],
   "source": [
    "data_exponential = np.random.exponential(scale=15, size=10000)\n",
    "data_exponential"
   ]
  },
  {
   "cell_type": "markdown",
   "metadata": {
    "deletable": false,
    "editable": false,
    "run_control": {
     "frozen": true
    }
   },
   "source": [
    "**TA2)  Print the mean of the generated data that is saved on the list.**\n"
   ]
  },
  {
   "cell_type": "code",
   "execution_count": 3,
   "metadata": {},
   "outputs": [
    {
     "data": {
      "text/plain": "15.311642255000939"
     },
     "execution_count": 3,
     "metadata": {},
     "output_type": "execute_result"
    }
   ],
   "source": [
    "#Write your answer here\n",
    "data_exponential.mean()\n",
    "#print(np.mean(data_exponential))"
   ]
  },
  {
   "cell_type": "markdown",
   "metadata": {
    "deletable": false,
    "editable": false,
    "run_control": {
     "frozen": true
    }
   },
   "source": [
    "**TA3)  Plot the histogram of the generated data and the density plot. What is the shape of the distribution? Can you understand what it represents?**\n",
    "\n",
    "* Hint: You may use matplotlib or (better) seaborn (https://seaborn.pydata.org/generated/seaborn.distplot.html)\n",
    "* Do not just ignore the question about trying to understand the distribution!\n"
   ]
  },
  {
   "cell_type": "code",
   "execution_count": 4,
   "metadata": {},
   "outputs": [
    {
     "name": "stderr",
     "output_type": "stream",
     "text": [
      "c:\\projects\\scaleystuffs\\venv\\lib\\site-packages\\seaborn\\distributions.py:2557: FutureWarning: `distplot` is a deprecated function and will be removed in a future version. Please adapt your code to use either `displot` (a figure-level function with similar flexibility) or `histplot` (an axes-level function for histograms).\n",
      "  warnings.warn(msg, FutureWarning)\n"
     ]
    },
    {
     "data": {
      "text/plain": "(0.0, 175.0)"
     },
     "execution_count": 4,
     "metadata": {},
     "output_type": "execute_result"
    },
    {
     "data": {
      "text/plain": "<Figure size 700x700 with 1 Axes>",
      "image/png": "[encoded data removed]"
     },
     "metadata": {
      "needs_background": "light"
     },
     "output_type": "display_data"
    }
   ],
   "source": [
    "#Write your answer here\n",
    "plt.subplots(figsize=(7, 7), dpi=100)\n",
    "ax = sns.distplot(data_exponential, kde=True, bins=100, kde_kws={\"shade\": False, \"color\": \"b\"}, color=\"skyblue\", hist=True, hist_kws={\"linewidth\": 15, \"alpha\": 1})\n",
    "\n",
    "ax.set_ylim(-0.001, 0.055)\n",
    "ax.set_xlim(-0, 175)"
   ]
  },
  {
   "cell_type": "markdown",
   "metadata": {
    "deletable": false,
    "editable": false,
    "run_control": {
     "frozen": true
    }
   },
   "source": [
    "**TA4) Plot again the density curve from the previous task. On the sample plot try to plot the curve as given by the definition of the exponential distribution. What do you expect the relationship between these two plot to be?**\n",
    "\n",
    "* Hint: Check the definition of the exponential distribution. What do you need to plot it?\n",
    "* Hint: Check the range of the values on the X axis"
   ]
  },
  {
   "cell_type": "code",
   "execution_count": 5,
   "metadata": {},
   "outputs": [
    {
     "name": "stderr",
     "output_type": "stream",
     "text": [
      "c:\\projects\\scaleystuffs\\venv\\lib\\site-packages\\seaborn\\distributions.py:2557: FutureWarning: `distplot` is a deprecated function and will be removed in a future version. Please adapt your code to use either `displot` (a figure-level function with similar flexibility) or `kdeplot` (an axes-level function for kernel density plots).\n",
      "  warnings.warn(msg, FutureWarning)\n"
     ]
    },
    {
     "data": {
      "text/plain": "(0.0, 175.0)"
     },
     "execution_count": 5,
     "metadata": {},
     "output_type": "execute_result"
    },
    {
     "data": {
      "text/plain": "<Figure size 700x600 with 1 Axes>",
      "image/png": "[encoded data removed]"
     },
     "metadata": {
      "needs_background": "light"
     },
     "output_type": "display_data"
    }
   ],
   "source": [
    "#Write your answer here\n",
    "plt.subplots(figsize=(7, 6), dpi=100)\n",
    "lambd=1/15\n",
    "xx = np.arange(0, 165, 0.01)  # range 0 to 165, with step 0.01\n",
    "yy = lambd*np.exp(-lambd*xx)\n",
    "ax = plt.plot(xx, yy, color=\"red\", lw=3, ls=\":\", alpha=0.5, label=\"cdf\")  # lw is line width (lol if 100), ls is line style (noice if ':' - dotted is best, dashed ls '-' is default, '-.' dash dot makes my head hurt)\n",
    "# alpha parameter regulates the transparancy of graph plot\n",
    "ax = sns.distplot(data_exponential, kde=True, bins=100, kde_kws={\"shade\": False, \"lw\": True}, color=\"blue\", hist=False,\n",
    "               hist_kws={\"linewidth\":15, \"alpha\":1})  \n",
    "# kde enables Kernel Density Plot along with the distplot\n",
    "ax.set(xlabel=\"X\", ylabel=\"Frequency\")\n",
    "ax.set_ylim(-0.001, 0.055)\n",
    "ax.set_xlim(-0, 175)\n",
    "\n",
    "# relationship is same for when x is in certain range"
   ]
  },
  {
   "cell_type": "markdown",
   "metadata": {
    "deletable": false,
    "editable": false,
    "run_control": {
     "frozen": true
    }
   },
   "source": [
    "**TA5) Using the data generated in TA1, (i) generate and (ii) plot the distribution of sample means over $k=20$ sampling times with $n=5$ (the sampling size).**\n",
    "\n",
    "* Hint:  The \"Distribution of Sample Means\" is the collection of sample means over repeated sampling of a particular size (n) from a population\n",
    "* Hint: You might want to check how to select randomly using Numpy"
   ]
  },
  {
   "cell_type": "code",
   "execution_count": 6,
   "metadata": {},
   "outputs": [
    {
     "name": "stderr",
     "output_type": "stream",
     "text": [
      "c:\\projects\\scaleystuffs\\venv\\lib\\site-packages\\seaborn\\distributions.py:2557: FutureWarning: `distplot` is a deprecated function and will be removed in a future version. Please adapt your code to use either `displot` (a figure-level function with similar flexibility) or `kdeplot` (an axes-level function for kernel density plots).\n",
      "  warnings.warn(msg, FutureWarning)\n"
     ]
    },
    {
     "data": {
      "text/plain": "<matplotlib.legend.Legend at 0x1e3f4af0>"
     },
     "execution_count": 6,
     "metadata": {},
     "output_type": "execute_result"
    },
    {
     "data": {
      "text/plain": "<Figure size 500x400 with 1 Axes>",
      "image/png": "[encoded data removed]"
     },
     "metadata": {
      "needs_background": "light"
     },
     "output_type": "display_data"
    }
   ],
   "source": [
    "#Write your answer here\n",
    "n = 5\n",
    "k = 20\n",
    "avg = []\n",
    "for i in range(1, k):\n",
    "    values = np.random.choice(data_exponential, n)  # generates random sample of size n from data_exponential\n",
    "    avg.append(np.average(values))\n",
    "avg\n",
    "\n",
    "color = [\"r\", \"g\", \"b\", \"y\"]\n",
    "\n",
    "plt.subplots(figsize=(5, 4), dpi=100)\n",
    "ax = sns.distplot(avg, kde=True, kde_kws={\"shade\": False}, bins=100, hist=False, color=\"g\", hist_kws={\"linewidth\": 15, \"alpha\": 0.5},\\\n",
    "                  label=\"k={:.0f}, n={:.0f}\".format(k, n))\n",
    "\n",
    "ax.set(xlabel=\"Exponential Distribution\", ylabel=\"Frequency\")\n",
    "ax.legend()\n",
    "\n",
    "# each iteration varies, but with a global maximum at 12~ish Exponential Distribution wise XOS\n"
   ]
  },
  {
   "cell_type": "markdown",
   "metadata": {
    "deletable": false,
    "editable": false,
    "run_control": {
     "frozen": true
    }
   },
   "source": [
    "**TA6) Repeat TA5 with $n \\in \\{5, 20, 40\\}$. What do you observe as $n$ increases?**"
   ]
  },
  {
   "cell_type": "code",
   "execution_count": 7,
   "metadata": {},
   "outputs": [
    {
     "name": "stderr",
     "output_type": "stream",
     "text": [
      "c:\\projects\\scaleystuffs\\venv\\lib\\site-packages\\seaborn\\distributions.py:2557: FutureWarning: `distplot` is a deprecated function and will be removed in a future version. Please adapt your code to use either `displot` (a figure-level function with similar flexibility) or `kdeplot` (an axes-level function for kernel density plots).\n",
      "  warnings.warn(msg, FutureWarning)\n",
      "c:\\projects\\scaleystuffs\\venv\\lib\\site-packages\\seaborn\\distributions.py:2557: FutureWarning: `distplot` is a deprecated function and will be removed in a future version. Please adapt your code to use either `displot` (a figure-level function with similar flexibility) or `kdeplot` (an axes-level function for kernel density plots).\n",
      "  warnings.warn(msg, FutureWarning)\n",
      "c:\\projects\\scaleystuffs\\venv\\lib\\site-packages\\seaborn\\distributions.py:2557: FutureWarning: `distplot` is a deprecated function and will be removed in a future version. Please adapt your code to use either `displot` (a figure-level function with similar flexibility) or `kdeplot` (an axes-level function for kernel density plots).\n",
      "  warnings.warn(msg, FutureWarning)\n"
     ]
    },
    {
     "data": {
      "text/plain": "<matplotlib.legend.Legend at 0x1e446058>"
     },
     "execution_count": 7,
     "metadata": {},
     "output_type": "execute_result"
    },
    {
     "data": {
      "text/plain": "<Figure size 500x400 with 1 Axes>",
      "image/png": "[encoded data removed]"
     },
     "metadata": {
      "needs_background": "light"
     },
     "output_type": "display_data"
    }
   ],
   "source": [
    "#Write your answer here\n",
    "N = [5, 20, 40]\n",
    "k = 20\n",
    "avgN = []\n",
    "for n in N:  # loopings\n",
    "    avg = []\n",
    "    for i in range(1, k):\n",
    "        values = np.random.choice(data_exponential, n)\n",
    "        avg.append(np.average(values))\n",
    "    avgN.append(avg)\n",
    "\n",
    "color = [\"r\", \"g\", \"b\", \"y\"]\n",
    "\n",
    "plt.subplots(figsize=(5, 4), dpi=100)\n",
    "\n",
    "for i in range(0, len(N)):\n",
    "    ax = sns.distplot(avgN[i], kde=True, kde_kws={\"shade\": False}, bins=100, hist=False, color=color[i], hist_kws={\"linewidth\": 15, \"alpha\": 0.5},\\\n",
    "                      label=\"k={:.0f}, n={:.0f}\".format(k, N[i]))\n",
    "\n",
    "ax.set(xlabel=\"Exponential Distribution\", ylabel=\"Frequency\")\n",
    "ax.legend()\n",
    "\n",
    "# more convergence towards true mean (mew ig)/more frequency towards true mean, as sample size increases"
   ]
  },
  {
   "cell_type": "markdown",
   "metadata": {
    "deletable": false,
    "editable": false,
    "run_control": {
     "frozen": true
    }
   },
   "source": [
    "**TA7) Repeat TA5 with  $n=50$ and $k \\in \\{5, 20,50\\}$. What do you observe as $k$ increases?**"
   ]
  },
  {
   "cell_type": "code",
   "execution_count": 8,
   "metadata": {},
   "outputs": [
    {
     "name": "stderr",
     "output_type": "stream",
     "text": [
      "c:\\projects\\scaleystuffs\\venv\\lib\\site-packages\\seaborn\\distributions.py:2557: FutureWarning: `distplot` is a deprecated function and will be removed in a future version. Please adapt your code to use either `displot` (a figure-level function with similar flexibility) or `kdeplot` (an axes-level function for kernel density plots).\n",
      "  warnings.warn(msg, FutureWarning)\n",
      "c:\\projects\\scaleystuffs\\venv\\lib\\site-packages\\seaborn\\distributions.py:2557: FutureWarning: `distplot` is a deprecated function and will be removed in a future version. Please adapt your code to use either `displot` (a figure-level function with similar flexibility) or `kdeplot` (an axes-level function for kernel density plots).\n",
      "  warnings.warn(msg, FutureWarning)\n",
      "c:\\projects\\scaleystuffs\\venv\\lib\\site-packages\\seaborn\\distributions.py:2557: FutureWarning: `distplot` is a deprecated function and will be removed in a future version. Please adapt your code to use either `displot` (a figure-level function with similar flexibility) or `kdeplot` (an axes-level function for kernel density plots).\n",
      "  warnings.warn(msg, FutureWarning)\n"
     ]
    },
    {
     "data": {
      "text/plain": "<matplotlib.legend.Legend at 0x1e47fda8>"
     },
     "execution_count": 8,
     "metadata": {},
     "output_type": "execute_result"
    },
    {
     "data": {
      "text/plain": "<Figure size 500x400 with 1 Axes>",
      "image/png": "[encoded data removed]"
     },
     "metadata": {
      "needs_background": "light"
     },
     "output_type": "display_data"
    }
   ],
   "source": [
    "#Write your answer here\n",
    "K = [5, 20, 40]\n",
    "n = 20\n",
    "avgK = []\n",
    "for k in K:  # loopings\n",
    "    avg = []\n",
    "    for i in range(1, k):\n",
    "        values = np.random.choice(data_exponential, n)\n",
    "        avg.append(np.average(values))\n",
    "    avgK.append(avg)\n",
    "\n",
    "color = [\"r\", \"g\", \"b\", \"y\"]\n",
    "\n",
    "plt.subplots(figsize=(5, 4), dpi=100)\n",
    "\n",
    "for i in range(0, len(K)):\n",
    "    ax = sns.distplot(avgK[i], kde=True, kde_kws={\"shade\": False}, bins=100, hist=False, color=color[i], hist_kws={\"linewidth\": 15, \"alpha\": 0.5},\\\n",
    "                      label=\"k={:.0f}, n={:.0f}\".format(K[i], n))\n",
    "\n",
    "ax.set(xlabel=\"Exponential Distribution\", ylabel=\"Frequency\")\n",
    "ax.legend()\n",
    "\n",
    "# means seem to increase as k increases\n"
   ]
  },
  {
   "cell_type": "markdown",
   "metadata": {
    "deletable": false,
    "editable": false,
    "run_control": {
     "frozen": true
    }
   },
   "source": [
    "## Part B'\n",
    "\n",
    "### The Normal Distribution\n",
    "\n",
    "\n",
    "**TB1) Suppose $X\\sim N(5, 6^2)$. Find the z scores for x=17 and x=1 and explain their meaning.**\n"
   ]
  },
  {
   "cell_type": "code",
   "execution_count": 9,
   "metadata": {},
   "outputs": [
    {
     "name": "stdout",
     "output_type": "stream",
     "text": [
      "when x = 17, z = 2.0\n",
      "when x = 1, z = -0.6666666666666666\n"
     ]
    }
   ],
   "source": [
    "#Write your answer here\n",
    "# where mew is the actual μ (mu - lowercase), and σ (sigma - lowercase) is the actual standard deviation\n",
    "# z_value = (x_value - μ) / σ  # for distribution where X ~ N(μ, σ^2)\n",
    "def finding_x_value_from_z_value(x):\n",
    "    return((x - mew) / sigma)\n",
    "mew = 5\n",
    "sigma = 6\n",
    "x1 = 17\n",
    "print(\"when x = \" + str(x1) + \", z =\", finding_x_value_from_z_value(x1))\n",
    "# z1 is 2.0 standard deviations above the mean\n",
    "x2 = 1\n",
    "print(\"when x = \" + str(x2) + \", z =\", finding_x_value_from_z_value(x2))\n",
    "# z2 is -0.66 standard deviations above the mean i.e 0.66 standard deviations below the mean"
   ]
  },
  {
   "cell_type": "markdown",
   "metadata": {
    "deletable": false,
    "editable": false,
    "run_control": {
     "frozen": true
    }
   },
   "source": [
    "**TB2) The final exam scores in the Machine Learning 101 module were normally distributed with a mean of 63 and a standard deviation of five.**\n",
    "\n",
    "**(i)  What is the probability that a randomly selected student scored more than 65 on the exam? You must show your calculations and you may use the Z table at** http://www.z-table.com\n",
    "\n",
    "**(ii) What is the probability of randomly selecting a student with score less than 85?**\n",
    "\n",
    "* Hint: You may want to use scipy.stats.norm to answer the following questions (https://docs.scipy.org/doc/scipy/reference/generated/scipy.stats.norm.html)"
   ]
  },
  {
   "cell_type": "code",
   "execution_count": 10,
   "metadata": {},
   "outputs": [
    {
     "name": "stdout",
     "output_type": "stream",
     "text": [
      "probability that randomly selected student, S, scored more than 65 on the exam:\n",
      "0.3445782583896758\n"
     ]
    }
   ],
   "source": [
    "#Write your answer here\n",
    "# note: visualisation of the bell curve would be helpful for this\n",
    "# S ~ N(63, 5^2)\n",
    "# assuming exam is out of 100 marks\n",
    "from scipy.stats import norm\n",
    "print(\"probability that randomly selected student, S, scored more than 65 on the exam:\")\n",
    "# print(100 - norm.ppf(q=0.65, loc=63, scale=5))  # cuz norm.ppf(q=0.65, loc=63, scale=5) gives probability that randomly selected student scored less than 65 on the exam\n",
    "# don't get what use this line of code is XOS\n",
    "# ppf is percentage point function for percentiles and cdf is cumulative distribution function\n",
    "# .ppf() function calculates the probability for a given normal distribution value,\n",
    "# while .cdf() function calculates the normal distribution value for which a given\n",
    "# probability is the required value ~ cdf and ppf are inverses of each other in this particular sense\n",
    "# e.g.\n",
    "# print(norm.ppf(0.95))  # gives z value output, from area under the bell curve to the left of z input: 1.6448536269514722 \n",
    "# print(norm.cdf(1.6448536269514722))  # gives area under the bell curve to the left of z, from z value: 0.95\n",
    "# as they are inverses of each other on the normal distribution\n",
    "\n",
    "# alternatively, could calculate P(S>65) through standardised normal distribution N(0, 1^2)\n",
    "# z = (x - μ) / σ = (65 - 63) / 5 = 2 / 5 = 0.4\n",
    "print(1 - norm.cdf(x=0.4, loc=0, scale=1))  # or looking at the z table 0.4 down, 0,0 across can get 0.6554, which is minused by 1 to get the greater than area of the bell curve to give 0.3446\n",
    "\n"
   ]
  },
  {
   "cell_type": "code",
   "execution_count": 11,
   "metadata": {},
   "outputs": [
    {
     "name": "stdout",
     "output_type": "stream",
     "text": [
      "probability that randomly selected student, S, scored less than 85 on the exam:\n",
      "0.9999945874560923\n"
     ]
    }
   ],
   "source": [
    "#Write your answer here\n",
    "print(\"probability that randomly selected student, S, scored less than 85 on the exam:\")\n",
    "z = (85-63)/5\n",
    "print(norm.cdf(x=z, loc=0, scale=1))  # huh seems that it is virtually impossible to score more than 85 marks\n",
    "# print(norm.ppf(q=0.99, loc=63, scale=5))  # just to check - this means 99% of the scores are 74.6 marks or less\n",
    "\n",
    "# \"A score of 85 is 4.4 standard deviations from the mean of 63 which is much beyond the range\n",
    "# of the standard normal table. Therefore, the probability that one student scores less than 85\n",
    "# is approximately one (or 100%).\""
   ]
  },
  {
   "cell_type": "markdown",
   "metadata": {
    "deletable": false,
    "editable": false,
    "run_control": {
     "frozen": true
    }
   },
   "source": [
    "**TB3) The average number of hours a household personal computer is used for entertainment is two hours per day. Assume the times for entertainment are normally distributed and the standard deviation for the times is half an hour.**\n",
    "\n",
    "**(i) Find the probability that a household personal computer is used for entertainment between 1.8 and 2.75 hours per day.**"
   ]
  },
  {
   "cell_type": "code",
   "execution_count": 12,
   "metadata": {},
   "outputs": [
    {
     "name": "stdout",
     "output_type": "stream",
     "text": [
      "P(2.75 > E > 1.8) = 0.588614540341466\n"
     ]
    }
   ],
   "source": [
    "#Write your answer here\n",
    "# E ~ N(2, 0.5^2)\n",
    "# Z ~ N(0, 1^2)\n",
    "z1 = (2.75-2)/0.5  # = 1.5\n",
    "z2 = (1.8-2)/0.5  # = -0.4\n",
    "# P(2.75 > E > 1.8) = P(E < 2.75) - P(E < 1.8) = P(Z < 1.5) - P(Z < -0.4)\n",
    "print(\"P(2.75 > E > 1.8) =\", norm.cdf(z1, 0, 1) - norm.cdf(z2, 0, 1))\n",
    "# yaaaas got it by doing it by myself alhamdulillah =)"
   ]
  },
  {
   "cell_type": "markdown",
   "metadata": {
    "deletable": false,
    "editable": false,
    "run_control": {
     "frozen": true
    }
   },
   "source": [
    "**(ii) Find the maximum number of hours per day that the bottom quartile of households uses a personal computer for entertainment.**"
   ]
  },
  {
   "cell_type": "code",
   "execution_count": 13,
   "metadata": {},
   "outputs": [
    {
     "name": "stdout",
     "output_type": "stream",
     "text": [
      "1.6627551249019592\n",
      "1.6627551249019592\n"
     ]
    }
   ],
   "source": [
    "#Write your answer here\n",
    "# bottom quartile => 0.25\n",
    "# P(E = 0.25) ~ kinda, even tho continuous distribution  # wai scrap this wrong way round\n",
    "# redo:\n",
    "# P(E < ?) = 0.25  # to find ? ~ maximum number of hours per day the bottom quartile of households use PCs for entertainment purposes\n",
    "print(norm.ppf(0.25, 2, 0.5))\n",
    "\n",
    "# or alternatively using the formula:\n",
    "z = norm.ppf(0.25, 0, 1)\n",
    "# z = (x - μ) / σ\n",
    "# z = (x - 2) / 0.5\n",
    "x = (z * 0.5) + 2\n",
    "print(x)"
   ]
  },
  {
   "cell_type": "markdown",
   "metadata": {
    "deletable": false,
    "editable": false,
    "run_control": {
     "frozen": true
    }
   },
   "source": [
    "**TB4) A citrus farmer who grows mandarin oranges finds that the diameters of mandarin oranges harvested on his farm follow a normal distribution with a mean diameter of 5.85 cm and a standard deviation of 0.24 cm.**\n",
    "\n",
    "**(i) Find the probability that a randomly selected mandarin orange from this farm has a diameter larger than 6.0 cm. Also, plot the density curve with the area covered by the probability shaded.**\n",
    "\n",
    "* Hint: You might want to check how to draw random samples using numpy https://docs.scipy.org/doc/numpy-1.15.0/reference/generated/numpy.random.normal.html\n",
    "* Hint: The following code snippet might be useful\n",
    "\n",
    "```python\n",
    "ax = sns.kdeplot(dist, shade=True)\n",
    "line = ax.get_lines()[-1]\n",
    "x, y = line.get_data()\n",
    "mask = x > 0\n",
    "x, y = x[mask], y[mask]\n",
    "ax.fill_between(x, y1=y, alpha=0.5, facecolor='red')\n",
    "```\n"
   ]
  },
  {
   "cell_type": "code",
   "execution_count": 14,
   "metadata": {},
   "outputs": [
    {
     "name": "stdout",
     "output_type": "stream",
     "text": [
      "0.2659855290487\n",
      "0.2659855290487\n"
     ]
    },
    {
     "name": "stderr",
     "output_type": "stream",
     "text": [
      "c:\\projects\\scaleystuffs\\venv\\lib\\site-packages\\seaborn\\distributions.py:2557: FutureWarning: `distplot` is a deprecated function and will be removed in a future version. Please adapt your code to use either `displot` (a figure-level function with similar flexibility) or `kdeplot` (an axes-level function for kernel density plots).\n",
      "  warnings.warn(msg, FutureWarning)\n"
     ]
    },
    {
     "data": {
      "text/plain": "<matplotlib.collections.PolyCollection at 0x1e4e8940>"
     },
     "execution_count": 14,
     "metadata": {},
     "output_type": "execute_result"
    },
    {
     "data": {
      "text/plain": "<Figure size 432x288 with 1 Axes>",
      "image/png": "[encoded data removed]"
     },
     "metadata": {
      "needs_background": "light"
     },
     "output_type": "display_data"
    }
   ],
   "source": [
    "#Write your answer here\n",
    "# D ~ N(5.85, 0.24^2)\n",
    "# P(D > 6.0)\n",
    "z = (6-5.85)/0.24\n",
    "print(1 - norm.cdf(z, 0, 1))\n",
    "# is the same as\n",
    "print(1 - norm.cdf(6.0, 5.85, 0.24))\n",
    "\n",
    "# visualisings\n",
    "plt.subplots()\n",
    "data_normal = np.random.normal(5.85, 0.24, 1000)\n",
    "# data_normal = norm.rvs(size=10000, loc=0, scale=1)\n",
    "ax = sns.distplot(data_normal, kde=True, color=\"navy\", hist=False, kde_kws={\"shade\": False}, hist_kws={\"linewidth\": 15, \"alpha\": 1})\n",
    "# howww does this look like THE Normal tho, looool T.T X'D\n",
    "ax.set_xlabel(\"x\")\n",
    "ax.set_ylabel(\"pdf(x)\")\n",
    "ax.grid(False)\n",
    "line = ax.get_lines()[-1]\n",
    "x, y = line.get_data()\n",
    "mask = (x > 6)\n",
    "x, y = x[mask], y[mask]\n",
    "ax.fill_between(x, y1=y, alpha=0.5, facecolor=\"teal\")\n"
   ]
  },
  {
   "cell_type": "markdown",
   "metadata": {
    "deletable": false,
    "editable": false,
    "run_control": {
     "frozen": true
    }
   },
   "source": [
    "**(ii) Calculate the middle 20% of mandarin oranges from the farm. Also, plot the density curve with the area covered by the probability shaded.**"
   ]
  },
  {
   "cell_type": "code",
   "execution_count": 15,
   "metadata": {},
   "outputs": [
    {
     "name": "stdout",
     "output_type": "stream",
     "text": [
      "the middle 20% of mandarin oranges have diameters in range 5.910803304752592 and 5.789196695247408\n"
     ]
    }
   ],
   "source": [
    "# 10% below the mean and 10% above the mean, where the mean is at 50%, so\n",
    "# P(0.4 < D < 0.6) = P(D < 0.6) - P(D < 0.4) #WRONG they be areas/probabilities not diameters! (also annoyingly badly worded unspecific question XS)\n",
    "# we want the diametre range of the middle 20% (between 0.4 and 0.6)\n",
    "z1 = norm.ppf(0.6, 0, 1)\n",
    "z2 = norm.ppf(0.4, 0, 1)\n",
    "x1 = 0.24*z1 + 5.85\n",
    "x2 = 0.24*z2 + 5.85\n",
    "print(\"the middle 20% of mandarin oranges have diameters in range\", x1, \"and\", x2)"
   ]
  },
  {
   "cell_type": "code",
   "execution_count": 16,
   "metadata": {},
   "outputs": [
    {
     "name": "stderr",
     "output_type": "stream",
     "text": [
      "c:\\projects\\scaleystuffs\\venv\\lib\\site-packages\\seaborn\\distributions.py:2557: FutureWarning: `distplot` is a deprecated function and will be removed in a future version. Please adapt your code to use either `displot` (a figure-level function with similar flexibility) or `kdeplot` (an axes-level function for kernel density plots).\n",
      "  warnings.warn(msg, FutureWarning)\n"
     ]
    },
    {
     "data": {
      "text/plain": "<matplotlib.collections.PolyCollection at 0x1e525c40>"
     },
     "execution_count": 16,
     "metadata": {},
     "output_type": "execute_result"
    },
    {
     "data": {
      "text/plain": "<Figure size 432x288 with 1 Axes>",
      "image/png": "[encoded data removed]"
     },
     "metadata": {
      "needs_background": "light"
     },
     "output_type": "display_data"
    }
   ],
   "source": [
    "#Write your answer here\n",
    "# visualisings\n",
    "plt.subplots()\n",
    "data_normal = np.random.normal(5.85, 0.24, 1000)\n",
    "# data_normal = norm.rvs(size=10000, loc=0, scale=1)\n",
    "ax = sns.distplot(data_normal, kde=True, color=\"navy\", hist=False, kde_kws={\"shade\": False}, hist_kws={\"linewidth\": 15, \"alpha\": 1})\n",
    "# howww does this look like THE Normal tho, looool T.T X'D\n",
    "ax.set_xlabel(\"x\")\n",
    "ax.set_ylabel(\"pdf(x)\")\n",
    "ax.grid(False)\n",
    "line = ax.get_lines()[-1]\n",
    "x, y = line.get_data()\n",
    "# mask = (x > 0.2) or (x < 0.2)  # wrrrong evalution at that as well t.t\n",
    "mask = (x >= x2) & (x <= x1)\n",
    "x, y = x[mask], y[mask]\n",
    "ax.fill_between(x, y1=y, alpha=0.5, facecolor=\"teal\")\n",
    "\n",
    "# yum"
   ]
  },
  {
   "cell_type": "markdown",
   "metadata": {
    "deletable": false,
    "editable": false,
    "run_control": {
     "frozen": true
    }
   },
   "source": [
    "--- \n",
    "\n"
   ]
  },
  {
   "cell_type": "markdown",
   "metadata": {
    "deletable": false,
    "editable": false,
    "run_control": {
     "frozen": true
    }
   },
   "source": [
    "## Part C'\n",
    "\n",
    "### Inferential Statistics\n",
    "\n",
    "**TC1) A manufacturer claims that the thickness of the spearmint gum it produces is 7.5 one-hundredths of an inch. A quality control specialist regularly checks this claim. On one production run, he took a random sample of $n = 10$ pieces of gum and measured their thickness. He obtained the following readings [7.65, 7.60, 7.65, 7.70, 7.55, 7.55, 7.40, 7.40, 7.50, 7.50] and would like to assess the validity of the claim made by the manufacturer having suspicions that the thickness might be not within the acceptable limits.**\n",
    "\n",
    "**(i) State the Null and Alternative hypotheses**\n"
   ]
  },
  {
   "cell_type": "code",
   "execution_count": 17,
   "metadata": {},
   "outputs": [],
   "source": [
    "#Write your answer here\n",
    "# H0: μ = 7.5\n",
    "# H1: μ != 7.5"
   ]
  },
  {
   "cell_type": "markdown",
   "metadata": {
    "deletable": false,
    "editable": false,
    "run_control": {
     "frozen": true
    }
   },
   "source": [
    "**(ii) Calculate the degrees of freedom**"
   ]
  },
  {
   "cell_type": "code",
   "execution_count": 18,
   "metadata": {},
   "outputs": [],
   "source": [
    "#Write your answer here\n",
    "# 0.01  # wrong, not significance level\n",
    "# df = n - 1  # where df is degrees of freedom and n is sample size\n",
    "# df = 9"
   ]
  },
  {
   "cell_type": "markdown",
   "metadata": {
    "deletable": false,
    "editable": false,
    "run_control": {
     "frozen": true
    }
   },
   "source": [
    "**(iii) Perform the appropriate t test to evaluate the hypotheses for significance level $\\alpha = 0.05$. You must show your calculations, i.e., calculate the result analytically, but you may use the appropriate scipy.stats method to check your results.**\n",
    "\n",
    "https://docs.scipy.org/doc/scipy/reference/stats.html"
   ]
  },
  {
   "cell_type": "code",
   "execution_count": 19,
   "metadata": {},
   "outputs": [
    {
     "name": "stdout",
     "output_type": "stream",
     "text": [
      "1.5389675281277262 \t Ttest_1sampResult(statistic=1.5389675281277262, pvalue=0.15819542053877977)\n"
     ]
    }
   ],
   "source": [
    "#Write your answer here\n",
    "gum_factory_samples_thickness = [7.65, 7.60, 7.65, 7.70, 7.55, 7.55, 7.40, 7.40, 7.50, 7.50]\n",
    "# determining if sample is significantly differernt from the population via t test:\n",
    "# ~ via formula\n",
    "# t = (x̄ – μ) / (s / √n), where x̄ is observed sample mean, μ is theoretical population mean, s is sample's standard deviation, and n is sample size\n",
    "t_calculation_analytically = (np.mean(gum_factory_samples_thickness) - 7.5) / (np.std(gum_factory_samples_thickness, ddof=1) / np.sqrt(len(gum_factory_samples_thickness)))\n",
    "\n",
    "# ddof is delta degrees of freedom, defaulted to 0\n",
    "# ~ via library\n",
    "from scipy import stats\n",
    "t_calculation_programmatically = stats.ttest_1samp(gum_factory_samples_thickness, 7.5)  # one sample\n",
    "\n",
    "print(t_calculation_analytically, \"\\t\", t_calculation_programmatically)"
   ]
  },
  {
   "cell_type": "markdown",
   "metadata": {
    "deletable": false,
    "editable": false,
    "run_control": {
     "frozen": true
    }
   },
   "source": [
    "**TC2) A personal trainer measured the maximum heart rate of 29 of their trainees. The resulting data is: \n",
    "[170, 167, 174, 179, 179, 187, 179, 183, 179, 156, 163, 156, 187, 156, 167, 156, 174, 170, 183, 179, 174, 179, 170, 159, 187]. The personal trainer believes that their mean heart rate is greater than 170 and he is interested in testing this hypothesis.**"
   ]
  },
  {
   "cell_type": "markdown",
   "metadata": {
    "deletable": false,
    "editable": false,
    "run_control": {
     "frozen": true
    }
   },
   "source": [
    "**(i) State the Null and Alternative hypotheses**"
   ]
  },
  {
   "cell_type": "code",
   "execution_count": 20,
   "metadata": {},
   "outputs": [],
   "source": [
    "#Write your answer here\n",
    "#Write your answer here\n",
    "# H0: μ = 170\n",
    "# Ha: μ > 170  # one tailed"
   ]
  },
  {
   "cell_type": "markdown",
   "metadata": {
    "deletable": false,
    "editable": false,
    "run_control": {
     "frozen": true
    }
   },
   "source": [
    "**(ii) Calculate the degrees of freedom**"
   ]
  },
  {
   "cell_type": "code",
   "execution_count": 21,
   "metadata": {},
   "outputs": [
    {
     "data": {
      "text/plain": "24"
     },
     "execution_count": 21,
     "metadata": {},
     "output_type": "execute_result"
    }
   ],
   "source": [
    "#Write your answer here\n",
    "\n",
    "heart_rate_data = [170, 167, 174, 179, 179, 187, 179, 183, 179, 156, 163, 156, 187, 156, 167, 156, 174, 170, 183, 179, 174, 179, 170, 159, 187]\n",
    "d_of_f = len(heart_rate_data) - 1\n",
    "d_of_f"
   ]
  },
  {
   "cell_type": "markdown",
   "metadata": {
    "deletable": false,
    "editable": false,
    "run_control": {
     "frozen": true
    }
   },
   "source": [
    "**(iii) Perform the appropriate t test to evaluate the hypotheses for significance level $\\alpha = 0.05$. You must show your calculations, i.e., calculate the result analytically, but you may use the appropriate scipy.stats method to check your results.**"
   ]
  },
  {
   "cell_type": "code",
   "execution_count": 22,
   "metadata": {},
   "outputs": [
    {
     "name": "stdout",
     "output_type": "stream",
     "text": [
      "Ho: μ = 170\n",
      "Ha: μ > 170\n",
      "as the t value calulated of 1.2218430153659992 is less than the significance level cutoff of 1.711 (at the significance level of 0.05), the null hypothesis Ho is not rejected, and the alternative hypothesis Ha is not accepted, so, from the sample data, it can be concluded that the true population mean is equal to 170, in this one tailed test.\n"
     ]
    }
   ],
   "source": [
    "#Write your answer here\n",
    "# t = (x̄ – μ) / (s / √n)\n",
    "print(\"Ho: μ = 170\\nHa: μ > 170\")\n",
    "mew = 170\n",
    "significance_level_cutoff = 1.711  # retrieved from t distribution table, when 𝛼 = 0.05 abd df = 24\n",
    "t_via_formula = (np.mean(heart_rate_data) - mew) / (np.std(heart_rate_data, ddof=1)/np.sqrt(len(heart_rate_data)))\n",
    "t_via_formula\n",
    "t_via_library = stats.ttest_1samp(heart_rate_data, mew)[0]\n",
    "t_via_library\n",
    "t_value = (t_via_formula + t_via_library) / 2  # why not do it tookily longwindedly XP as is so very me XD\n",
    "if t_value >= significance_level_cutoff:\n",
    "    print(\"as the t value calulated of {} in this one tailed test is greater than the significance level cutoff of {} (at the significance level of 0.05), the null hypothesis Ho is rejected, and the alternative hypothesis Ha is accepted, so, from the sample data, it can be concluded that the true population mean is greater than 170.\".format(t_value, significance_level_cutoff))\n",
    "else:  # i.e if t_value < significance_level_cutoff:\n",
    "    print(\"as the t value calulated of {} is less than the significance level cutoff of {} (at the significance level of 0.05), the null hypothesis Ho is not rejected, and the alternative hypothesis Ha is not accepted, so, from the sample data, it can be concluded that the true population mean is equal to 170, in this one tailed test.\".format(t_value, significance_level_cutoff))\n"
   ]
  },
  {
   "cell_type": "markdown",
   "metadata": {
    "deletable": false,
    "editable": false,
    "run_control": {
     "frozen": true
    }
   },
   "source": [
    "**TC3) A biologist is interested in determining whether sunflower seedlings treated with a special extract results in a lower average height of sunflower seedlings than the standard height of 15.7 cm. The biologist treated a random sample of n = 33 seedlings with the extract and subsequently obtained the following heights: \n",
    "[11.5, 11.8, 15.7, 16.1, 14.1, 10.5, 9.3, 15.0, 11.1, 15.2, 19.0, 12.8, 12.4, 19.2, 13.5, 12.2, 13.3, 16.5, 13.5, 14.4, 16.7, 10.9, 13.0, 10.3, 15.8, 15.1, 17.1, 13.3, 12.4, 8.5, 14.3, 12.9, 13.5]**"
   ]
  },
  {
   "cell_type": "markdown",
   "metadata": {
    "deletable": false,
    "editable": false,
    "run_control": {
     "frozen": true
    }
   },
   "source": [
    "**(i) State the Null and Alternative hypotheses**"
   ]
  },
  {
   "cell_type": "code",
   "execution_count": 23,
   "metadata": {},
   "outputs": [
    {
     "name": "stdout",
     "output_type": "stream",
     "text": [
      "Ho: μ = 15.7\n",
      "Ha: μ < 15.7\n"
     ]
    }
   ],
   "source": [
    "#Write your answer here\n",
    "print(\"Ho: μ = 15.7\")\n",
    "print(\"Ha: μ < 15.7\")"
   ]
  },
  {
   "cell_type": "markdown",
   "metadata": {
    "deletable": false,
    "editable": false,
    "run_control": {
     "frozen": true
    }
   },
   "source": [
    "**(ii) Calculate the degrees of freedom**"
   ]
  },
  {
   "cell_type": "code",
   "execution_count": 24,
   "metadata": {},
   "outputs": [
    {
     "data": {
      "text/plain": "32"
     },
     "execution_count": 24,
     "metadata": {},
     "output_type": "execute_result"
    }
   ],
   "source": [
    "#Write your answer here\n",
    "sunflower_seedlings_heights_data = [11.5, 11.8, 15.7, 16.1, 14.1, 10.5, 9.3, 15.0, 11.1, 15.2, 19.0, 12.8, 12.4, 19.2, 13.5, 12.2, 13.3, 16.5, 13.5, 14.4, 16.7, 10.9, 13.0, 10.3, 15.8, 15.1, 17.1, 13.3, 12.4, 8.5, 14.3, 12.9, 13.5]\n",
    "d_of_f = len(sunflower_seedlings_heights_data) - 1\n",
    "d_of_f"
   ]
  },
  {
   "cell_type": "markdown",
   "metadata": {
    "deletable": false,
    "editable": false,
    "run_control": {
     "frozen": true
    }
   },
   "source": [
    "**(iii) Perform the appropriate t test to evaluate the hypotheses for significance level  𝛼=0.05 . You must show your calculations, i.e., calculate the result analytically, but you may use the appropriate scipy.stats method to check your results.**"
   ]
  },
  {
   "cell_type": "code",
   "execution_count": 25,
   "metadata": {},
   "outputs": [
    {
     "name": "stdout",
     "output_type": "stream",
     "text": [
      "this sample test's t value is significant, as the t value calculated of -4.599006005602887 in this one tailed test is less than the significance level cutoff of 1.697 (at the significance level of 0.05), thus the null hypothesis Ho is rejected, and the alternative hypothesis Ha is accepted, so, from the sample data, it can be concluded that the true population mean after the application of the extract is less than 15.7.\n"
     ]
    }
   ],
   "source": [
    "#Write your answer here\n",
    "# t = (x̄ – μ) / (s / √n)\n",
    "mew = 15.7\n",
    "significance_level_cutoff = 1.697  # retrieved from t distribution table, when 𝛼 = 0.05 and df = 32\n",
    "t_via_formula = (np.mean(sunflower_seedlings_heights_data) - mew) / (np.std(sunflower_seedlings_heights_data, ddof=1)/np.sqrt(len(sunflower_seedlings_heights_data)))\n",
    "t_via_formula\n",
    "t_via_library = stats.ttest_1samp(sunflower_seedlings_heights_data, mew)[0]\n",
    "t_via_library\n",
    "if t_via_formula == t_via_library:\n",
    "    t_value = t_via_formula\n",
    "if t_value < significance_level_cutoff:\n",
    "    print(\"this sample test's t value is significant, as the t value calculated of {} in this one tailed test is less than the significance level cutoff of {} (at the significance level of 0.05), thus the null hypothesis Ho is rejected, and the alternative hypothesis Ha is accepted, so, from the sample data, it can be concluded that the true population mean after the application of the extract is less than 15.7.\".format(t_value, significance_level_cutoff))\n",
    "else:  # i.e if t_value >= significance_level_cutoff:\n",
    "    print(\"this sample test's t value is insignificant, as the t value calculated of {} is greater than (or equal to) the significance level cutoff of {} (at the significance level of 0.05), thus the null hypothesis Ho is not rejected, and consequently the alternative hypothesis Ha is not accepted and subsequently discarded, and so from the sample data, it can be concluded that the true population mean is equal to 15.7, in this one tailed test (i.e no significant change is detected).\".format(t_value, significance_level_cutoff))"
   ]
  },
  {
   "cell_type": "markdown",
   "metadata": {},
   "source": [
    "**TC4) The board of directors at Netflix believes that \"“Displaying better artwork will result in greater engagement by members\". To test this hypothesis the data science team carries out an experiment in which they show to two groups different artworks and measure their engangement rate. The team collected the following data:** \n",
    "\n",
    "Group Control: [-0.5, 3.3, -9.3, 11.3, -5.4, 0, 12.3, -1, -2, -10.6, -10.2, -4.6, -12.2, -6.7, 11.6, 2.8,-7.1, 0.3, 6.2, 1.8, -0.2, 3.7, -9.2, 15.9, 8.3,-10.2]\n",
    "\n",
    "Group Art: [11.4, 9, 11, 3.9, 5.5, 5.7, 9.4, 10.7, 13.6, -2.9, -0.1, 7.4, 21.5, -5.3, -3.8, 13.4, 13.1]\n",
    "\n",
    "**Perform the appropriate t test to evaluate the hypotheses for significance level 𝛼=0.05 . You must show your calculations, i.e., calculate the result analytically, but you may use the appropriate scipy.stats method to check your results. State explicitly the hypothesis and the degrees of freedom**"
   ]
  },
  {
   "cell_type": "code",
   "execution_count": 26,
   "metadata": {},
   "outputs": [
    {
     "name": "stdout",
     "output_type": "stream",
     "text": [
      "we shall use an independent samples t test, where the two variables in this test are\n",
      "the independent/grouping variable, and the dependent/grouping variable\n",
      "we will be assuming the many assumptions that are required for the independent samples t test\n",
      "and specifically, equal variances will be assumed, as the two independent samples are assumed to be drawn\n",
      "from the same population (i.e. σ1^2 = σ2^2) {also, remember σ is standarddeviation and σ^2 is variance}\n",
      "defining the hypotheses, where µ1 and µ2 are the population means for group 1 and group 2, respectively\n",
      "null hypothesis ~ Ho: µ1 = µ2  # if proven true, it is implied that the two populatin means are equal i.e there is no noteworthy change detected\n",
      "alternative hypthesis ~ Ha  µ1 ≠ µ2  # if proven true, it is implied that the two population means are not equal\n",
      "t = (x̄1 - x̄2) / (Sp * √((1 / n1) + (1 / n2)))\n",
      "Sp = √((((n1 − 1) * s1^2) + ((n2 − 1) * s2^2)) / (n1 + n2 - 2))\n",
      "where:\n",
      "# x̄1 is observed mean of first sample, x̄2 is observed mean of second sample\n",
      "# s1 is standard deviation of first sample, s2 is standard deviation of second sample\n",
      "# n1 is size of first sample, n2 is size of second sample\n",
      "# Sp is the pooled standard deviation, assuming the variance is the same in both samples\n",
      "\n",
      "\n",
      "The calculated t value is then compared to the critical t value from the t distribution table with degrees\n",
      "of freedom df = n1 + n2 - 2 {41} and chosen confidence level {0.05}. If the calculated t value {-3.2226} is greater than the\n",
      "critical t value {1.684}, then we reject the null hypothesis {It isn't, so there isn't enough evidence to reject the null\n",
      "hypothesis}.\n",
      "Note that this form of the independent samples t test statistic assumes equal variances.\n",
      "Because we assume equal population variances, it is OK to \"pool\" the sample variances (Sp). However, if\n",
      "this assumption is violated, the pooled variance estimate may not be accurate, which would affect the\n",
      "accuracy of our test statistic (and hence, the p value).\n",
      "\n"
     ]
    },
    {
     "data": {
      "text/plain": "-3.2226764808064194"
     },
     "execution_count": 26,
     "metadata": {},
     "output_type": "execute_result"
    }
   ],
   "source": [
    "# t-test for the means of two independent samples of scores\n",
    "\n",
    "# netflix_viewer_engagement_without_fancy_artwork\n",
    "control_data = [-0.5, 3.3, -9.3, 11.3, -5.4, 0, 12.3, -1, -2, -10.6, -10.2, -4.6, -12.2, -6.7, 11.6, 2.8,-7.1, 0.3, 6.2, 1.8, -0.2, 3.7, -9.2, 15.9, 8.3,-10.2]\n",
    "# netflix_viewer_engagement_with_fancy_artwork\n",
    "artwork_data = [11.4, 9, 11, 3.9, 5.5, 5.7, 9.4, 10.7, 13.6, -2.9, -0.1, 7.4, 21.5, -5.3, -3.8, 13.4, 13.1]\n",
    "\n",
    "control_sample_mean = np.mean(control_data)\n",
    "artwork_sample_mean = np.mean(artwork_data)\n",
    "control_sample_standard_deviation = np.std(control_data, ddof=1)\n",
    "artwork_sample_standard_deviation = np.std(artwork_data, ddof=1)\n",
    "control_d_of_f = len(control_data) - 1\n",
    "artwork_d_of_f = len(artwork_data) - 1\n",
    "\n",
    "# forget the commented comments, very many confusions XOS\n",
    "# # d_of_f = control_d_of_f if control_d_of_f < artwork_d_of_f else artwork_d_of_f # degrees of freedom for both is the smallest doff between the two data samples\n",
    "# # sum_of_products = ((control_d_of_f) * control_sample_standard_distribution * control_sample_standard_distribution + (artwork_d_of_f) * np.power(artwork_sample_standard_distribution, 2) ) / (artwork_d_of_f + control_d_of_f)\n",
    "# # t_via_sum_of_products = (control_sample_mean - artwork_sample_mean - 0) / np.sqrt( (sum_of_products / len(control_data)) + (sum_of_products / len(artwork_data)) )\n",
    "# # sp = (dof1*s1*s1 + dof2*s2*s2) / (dof1 + dof2)  # uhhh what is this formula tho\n",
    "# OH WAIT - alhamdulillah!!! (rabish rahli works, yoooo! X'))) <3)\n",
    "# # in the case of two samples being compared:\n",
    "# # t = (x̄1 – x̄2 - Δ) / √((s1^2 / n1) + (s2^2 / n2))\n",
    "# # where:\n",
    "# # x̄1 is observed mean of first sample, x̄2 is observed mean of second sample\n",
    "# # s1 is standard deviation of first sample, s2 is standard deviation of second sample\n",
    "# # n1 is size of first sample, n2 is size of second sample\n",
    "# # Δ is the hypothesized difference between the population means (0 if testing for equal means)\n",
    "# ACTUALLY, after many red herrings and longwindednesses:\n",
    "print(\"\"\"we shall use an independent samples t test, where the two variables in this test are\n",
    "the independent/grouping variable, and the dependent/grouping variable\n",
    "we will be assuming the many assumptions that are required for the independent samples t test\n",
    "and specifically, equal variances will be assumed, as the two independent samples are assumed to be drawn\n",
    "from the same population (i.e. σ1^2 = σ2^2) {also, remember σ is standarddeviation and σ^2 is variance}\n",
    "defining the hypotheses, where µ1 and µ2 are the population means for group 1 and group 2, respectively\"\"\")\n",
    "print(\"null hypothesis ~ Ho: µ1 = µ2  # if proven true, it is implied that the two populatin means are equal i.e there is no noteworthy change detected\")\n",
    "print(\"alternative hypthesis ~ Ha  µ1 ≠ µ2  # if proven true, it is implied that the two population means are not equal\")\n",
    "print(\"t = (x̄1 - x̄2) / (Sp * √((1 / n1) + (1 / n2)))\")\n",
    "print(\"Sp = √((((n1 − 1) * s1^2) + ((n2 − 1) * s2^2)) / (n1 + n2 - 2))\")\n",
    "print(\"\"\"where:\n",
    "# x̄1 is observed mean of first sample, x̄2 is observed mean of second sample\n",
    "# s1 is standard deviation of first sample, s2 is standard deviation of second sample\n",
    "# n1 is size of first sample, n2 is size of second sample\n",
    "# Sp is the pooled standard deviation, assuming the variance is the same in both samples\n",
    "\"\"\")\n",
    "pooled_sample_standard_deviation = np.sqrt((((len(control_data) - 1) * np.power(control_sample_standard_deviation, 2)) + ((len(artwork_data) - 1) * np.power(artwork_sample_standard_deviation, 2)) / (len(control_data) + len(artwork_data) - 2)))\n",
    "t_via_formula = (control_sample_mean - artwork_sample_mean) / (pooled_sample_standard_deviation * np.sqrt((1 / len(control_data)) + (1 / len(artwork_data))))\n",
    "t_via_library = stats.ttest_ind(control_data, artwork_data)[0]\n",
    "df = len(artwork_data) + len(control_data) - 2\n",
    "print(\"\"\"\n",
    "The calculated t value is then compared to the critical t value from the t distribution table with degrees\n",
    "of freedom df = n1 + n2 - 2 {41} and chosen confidence level {0.05}. If the calculated t value {-3.2226} is greater than the\n",
    "critical t value {1.684}, then we reject the null hypothesis {It isn't, so there isn't enough evidence to reject the null\n",
    "hypothesis}.\n",
    "Note that this form of the independent samples t test statistic assumes equal variances.\n",
    "Because we assume equal population variances, it is OK to \"pool\" the sample variances (Sp). However, if\n",
    "this assumption is violated, the pooled variance estimate may not be accurate, which would affect the\n",
    "accuracy of our test statistic (and hence, the p value).\n",
    "\"\"\")\n",
    "\n",
    "t_via_library  # ok I finally give up, dunno how to get the same t value as the library T.T - no idea. sigh only so much time I can spend on data cri\n",
    "\n",
    "# link that has been useful\n",
    "# https://libguides.library.kent.edu/spss/independentttest#:~:text=The%20Independent%20Samples%20t%20Test%20compares%20the%20means%20of%20two,test%20is%20also%20known%20as%3A&text=Two-Sample%20t%20Test,-Uncorrelated%20Scores%20t"
   ]
  },
  {
   "cell_type": "markdown",
   "metadata": {
    "deletable": false,
    "editable": false,
    "run_control": {
     "frozen": true
    }
   },
   "source": [
    "**TC5) As a coffee lover, John Doe wants to know whether the price of coffee is significantly different between a sample of coffee shops in York and Leeds. To validate this, he collects the following data from various neighbourhoods in York and Leeds**\n",
    "\n",
    "**York**: [1.5 , 1.5 , 1.79, 1.79, 1.79, 1.79, 1.85, 1.85, 1.85, 1.85, 1.85,\n",
    "        1.99, 1.99, 1.99, 1.99, 1.99, 1.99, 1.99, 2.  , 2.  , 2.  , 2.19,\n",
    "        2.19, 2.29, 2.29, 2.29, 2.29, 2.29, 2.5 , 2.5 ]\n",
    "        \n",
    "**Leeds**: [1.99, 1.99, 2.29, 2.29, 2.29, 2.29, 2.49, 2.49, 2.49, 2.49, 2.49,\n",
    "        2.49, 2.49, 2.49, 2.49, 2.79, 2.79, 2.79, 2.79, 2.79, 2.79, 2.79,\n",
    "        2.95, 2.95, 2.95, 2.95, 2.95, 2.95, 2.99, 2.99, 2.99, 2.99, 3.49,\n",
    "        3.49, 3.49]\n",
    "        \n",
    "\n",
    "**Perform the appropriate t test to evaluate the hypotheses for significance level 𝛼=0.05 . You must show your calculations, i.e., calculate the result analytically, but you may use the appropriate scipy.stats method to check your results. State explicitly the hypothesis and the degrees of freedom**\n"
   ]
  },
  {
   "cell_type": "code",
   "execution_count": 27,
   "metadata": {},
   "outputs": [
    {
     "name": "stdout",
     "output_type": "stream",
     "text": [
      "performing independent t test, assuming unequal variances between the coffee prices in york vs leeds\n",
      "Ho:  µy = µl  # enough evidence to suggest insignifcant difference\n",
      "Ha:  µy ≠ µl  # enough evidence to suggest significant difference\n",
      "t = (x̄1 - x̄2) / √((s1^2 / n1) + (s2^2 / n2))\n",
      "\n",
      "The calculated t value -9.2256676192423 is then compared to the critical t value from the t distribution table -1.998 with degrees of freedom:\n",
      "df = ((s1^2 / n1) + (s2^2 / n2))^2 / (((1 / (n1 − 1)) * (s1^2 / n1)^2) + ((1 / (n2 − 1)) * (s2^2 / n2)^2)) 59.598854160855765\n",
      "and chosen confidence level 0.05. If the calculated t value > critical t value, then we reject the null hypothesis.\n",
      "\n",
      "The t-statistic value of -9.2256676192423 is much smaller than the negative t-critical value of -1.998.Hence, we reject Ho, in turn accepting Ha, that there is a significant difference in coffee prices between the two cities.\n"
     ]
    }
   ],
   "source": [
    "print(\"performing independent t test, assuming unequal variances between the coffee prices in york vs leeds\")\n",
    " # concatenating many a list, saving many a code\n",
    "york = [1.5]*2 + [1.79]*4 + [1.85]*5 + [1.99]*7 + [2]*3 + [2.19]*2 + [2.29]*5 + [2.5]*2\n",
    "leeds = [1.99]*2 + [2.29]*4 + [2.49]*9 + [2.79]*7 + [2.95]*6 + [2.99]*4 + [3.49]*3\n",
    "alpha = 0.05\n",
    "dff = len(york) + len(leeds) - 2\n",
    "x1 = np.mean(york)\n",
    "x2 = np.mean(leeds)\n",
    "s1 = np.std(york, ddof=1)\n",
    "s2 = np.std(leeds, ddof=1)\n",
    "n1 = len(york)\n",
    "n2 = len(leeds)\n",
    "\n",
    "print(\"Ho:  µy = µl  # enough evidence to suggest insignifcant difference\")\n",
    "print(\"Ha:  µy ≠ µl  # enough evidence to suggest significant difference\")\n",
    "t_via_lib = stats.ttest_ind(york, leeds, equal_var=False, nan_policy='omit')[0]  # unequal variances, and performing calculations ignoring nan values\n",
    "print(\"t = (x̄1 - x̄2) / √((s1^2 / n1) + (s2^2 / n2))\")\n",
    "t_via_form = t = (x1 - x2) / np.sqrt((s1 * s1 / n1) + (s2 * s2 / n2))\n",
    "d_of_f = np.power(((s1 * s1 / n1) + (s2 * s2 / n2)), 2) / (((1 / (n1 - 1)) * np.power((s1 * s1 / n1), 2)) + ((1 / (n2 - 1)) * np.power((s2 * s2 / n2), 2)))\n",
    "two_tailed_test_prob_tail = alpha / 2\n",
    "t_crit = round(stats.t.ppf(two_tailed_test_prob_tail, dff), 3)\n",
    "print(\"\"\"\n",
    "The calculated t value {} is then compared to the critical t value from the t distribution table {} with degrees of freedom:\n",
    "df = ((s1^2 / n1) + (s2^2 / n2))^2 / (((1 / (n1 − 1)) * (s1^2 / n1)^2) + ((1 / (n2 − 1)) * (s2^2 / n2)^2)) {}\n",
    "and chosen confidence level {}. If the calculated t value > critical t value, then we reject the null hypothesis.\n",
    "\"\"\".format(t_via_form, t_crit, d_of_f, alpha))\n",
    "d_of_f\n",
    "t_via_form == t_via_lib  # YAAAAS ~ True alhamdulillah X')\n",
    "print(\"The t-statistic value of -9.2256676192423 is much smaller than the negative t-critical value of -1.998.Hence, we reject Ho, in turn accepting Ha, that there is a significant difference in coffee prices between the two cities.\")"
   ]
  },
  {
   "cell_type": "markdown",
   "metadata": {},
   "source": [
    "## Should you finish earlier/want to practice at home, you could\n",
    "\n",
    "* Go back to the previous practicals and run some statistical tests\n",
    "\n",
    "* The formula for sample standard deviation is $s = \\sqrt{\\frac{\\sum_{i=1}^{n}(x_i-\\overline{x})^2}{n-1}}$\n",
    "  Think about how you can demonstrate through simulation why $n-1$ (in the denominator) is appropriate; i.e., why not $n-2$, $n-3$ etc? For your information, this is called the Bessel's Correction.\n",
    "\n",
    "{nEIn dAnkE}"
   ]
  }
 ],
 "metadata": {
  "kernelspec": {
   "display_name": "Python 3",
   "language": "python",
   "name": "python3"
  },
  "language_info": {
   "codemirror_mode": {
    "name": "ipython",
    "version": 3
   },
   "file_extension": ".py",
   "mimetype": "text/x-python",
   "name": "python",
   "nbconvert_exporter": "python",
   "pygments_lexer": "ipython3",
   "version": "3.8.2"
  }
 },
 "nbformat": 4,
 "nbformat_minor": 4
}
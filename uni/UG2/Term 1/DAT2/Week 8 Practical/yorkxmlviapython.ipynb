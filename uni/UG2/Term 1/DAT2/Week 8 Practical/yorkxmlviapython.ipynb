{
 "cells": [
  {
   "cell_type": "code",
   "execution_count": 1,
   "metadata": {},
   "outputs": [],
   "source": [
    "import xml.etree.ElementTree as xml"
   ]
  },
  {
   "cell_type": "code",
   "execution_count": 2,
   "metadata": {},
   "outputs": [],
   "source": [
    "root = xml.Element(\"York_University\")\n",
    "child_object_i = xml.Element(\"department\")\n",
    "child_object_ii = xml.Element(\"department\")\n",
    "# we gonn have two child object of that uni\n",
    "root.append(child_object_i)\n",
    "root.append(child_object_ii)"
   ]
  },
  {
   "cell_type": "code",
   "execution_count": 3,
   "metadata": {},
   "outputs": [],
   "source": [
    "loc_i = xml.SubElement(child_object_i, \"Location\")\n",
    "loc_i.text = \"East Campus\"\n",
    "\n",
    "attendance_i = xml.SubElement(child_object_i, \"num_of_students\")\n",
    "attendance_i.text = \"2000\"\n",
    "\n",
    "# setting the attribute name and value\n",
    "child_object_i.set(\"name\", \"CS\")"
   ]
  },
  {
   "cell_type": "code",
   "execution_count": 4,
   "metadata": {},
   "outputs": [],
   "source": [
    "loc_ii = xml.SubElement(child_object_ii, \"Location\")\n",
    "loc_ii.text = \"West Campus\"\n",
    "\n",
    "attendance_ii = xml.SubElement(child_object_ii, \"num_of_students\")\n",
    "attendance_ii.text = \"1000\"\n",
    "\n",
    "child_object_ii.set(\"name\", \"PE\")"
   ]
  },
  {
   "cell_type": "code",
   "execution_count": 5,
   "metadata": {},
   "outputs": [],
   "source": [
    "tree = xml.ElementTree(root)\n",
    "\n",
    "tree.write(\"yorkxmlviapy.xml\")"
   ]
  },
  {
   "cell_type": "code",
   "execution_count": null,
   "metadata": {},
   "outputs": [],
   "source": []
  }
 ],
 "metadata": {
  "kernelspec": {
   "display_name": "Python 3",
   "language": "python",
   "name": "python3"
  },
  "language_info": {
   "codemirror_mode": {
    "name": "ipython",
    "version": 3
   },
   "file_extension": ".py",
   "mimetype": "text/x-python",
   "name": "python",
   "nbconvert_exporter": "python",
   "pygments_lexer": "ipython3",
   "version": "3.8.2"
  }
 },
 "nbformat": 4,
 "nbformat_minor": 4
}

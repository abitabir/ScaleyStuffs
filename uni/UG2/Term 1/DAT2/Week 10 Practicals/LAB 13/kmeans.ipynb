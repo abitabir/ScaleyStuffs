{
 "cells": [
  {
   "cell_type": "code",
   "execution_count": 2,
   "metadata": {},
   "outputs": [],
   "source": [
    "import numpy as np\n",
    "from sklearn.datasets import make_blobs\n",
    "from sklearn.cluster import KMeans"
   ]
  },
  {
   "cell_type": "code",
   "execution_count": 3,
   "metadata": {},
   "outputs": [],
   "source": [
    "# Next, we need data. We will work with some random coordinates (let us go with 50),\n",
    "# with k=2. The initial cluster means will be [(10,15), (4,7)]:\n",
    "number_of_coordinates = 50  # number of coordinates we want blob to spawn\n",
    "initial_cluster_means = [(10, 15), (4, 7)]  # we set to\n",
    "# could do it randomly e.g\n",
    "# import random\n",
    "# number_of_coordinates = len(coordinates)\n",
    "# number_of_clusters = 3\n",
    "# initial_cluster_means = []\n",
    "# for i in range(number_of_clusters):\n",
    "#     random_index = random.randint(0, number_of_coordinates - 1)\n",
    "#     initial_cluster_means.append(coordinates[random_index])\n",
    "# initial_cluster_means\n",
    "\n",
    "number_of_clusters_k = len(initial_cluster_means)"
   ]
  },
  {
   "cell_type": "code",
   "execution_count": 6,
   "metadata": {},
   "outputs": [],
   "source": [
    "# gererating the data\n",
    "dataset = make_blobs(n_samples=number_of_coordinates, centers=initial_cluster_means, n_features=2, cluster_std=2)"
   ]
  },
  {
   "cell_type": "code",
   "execution_count": 7,
   "metadata": {},
   "outputs": [
    {
     "name": "stdout",
     "output_type": "stream",
     "text": [
      "[[12.01703079 12.82641871]\n",
      " [ 5.95278126  7.75396854]\n",
      " [11.65658054 14.38073268]\n",
      " [ 5.80447719  7.34994485]\n",
      " [ 8.24872517 12.32193869]\n",
      " [ 5.44984912  3.93549692]\n",
      " [ 9.1701121  17.51585142]\n",
      " [12.27124331 18.60784041]\n",
      " [ 5.18599811  8.07039133]\n",
      " [10.81995474 16.27506249]\n",
      " [ 8.40566281 16.37572752]\n",
      " [ 1.86869338  5.3656182 ]\n",
      " [11.6136388  15.90047922]\n",
      " [ 5.32009226  8.90124539]\n",
      " [ 7.78917566 10.35882258]\n",
      " [ 4.08195163  5.76509702]\n",
      " [ 9.33410601 18.05020495]\n",
      " [12.5068733  16.15978712]\n",
      " [ 6.63723006  8.84993854]\n",
      " [ 1.69019254  8.60775298]\n",
      " [ 4.90697997  7.62371235]\n",
      " [10.38648688 15.62743121]\n",
      " [ 3.58376009  3.89767125]\n",
      " [10.88052212 14.62509596]\n",
      " [ 6.49523608 17.65968576]\n",
      " [ 1.90444854  7.86848791]\n",
      " [12.49807095 13.79292259]\n",
      " [ 3.71740974  9.72154739]\n",
      " [ 3.76201267  6.04969748]\n",
      " [ 3.67346504  7.01228369]\n",
      " [ 1.79821785  5.25596721]\n",
      " [ 9.61734671 14.32749181]\n",
      " [11.79328131 14.24170164]\n",
      " [11.35856418 11.95464706]\n",
      " [ 6.36004083  7.56184976]\n",
      " [ 4.75798627  6.35187615]\n",
      " [ 4.11332346  3.83138611]\n",
      " [ 4.55821555  3.54848758]\n",
      " [11.09315337 15.03284525]\n",
      " [11.30710439 16.30929088]\n",
      " [ 6.3312217   9.51532197]\n",
      " [ 3.93347428  7.20738257]\n",
      " [ 7.80317168 13.21945362]\n",
      " [10.23896085 15.82341945]\n",
      " [ 2.75091261  5.98027555]\n",
      " [ 5.83926534 14.31360404]\n",
      " [10.0167157  13.64405575]\n",
      " [ 0.32916419  8.65604982]\n",
      " [ 9.54982157 15.51097244]\n",
      " [12.52491378 15.25477098]]\n"
     ]
    }
   ],
   "source": [
    "# displaying the data - 50 randomly generated coordinates\n",
    "random_data = dataset[0]\n",
    "print(random_data)"
   ]
  },
  {
   "cell_type": "code",
   "execution_count": 9,
   "metadata": {},
   "outputs": [],
   "source": [
    "# creating kmeans object using variables predefined in preceding cells\n",
    "k = KMeans(n_clusters=number_of_clusters_k)"
   ]
  },
  {
   "cell_type": "code",
   "execution_count": 12,
   "metadata": {},
   "outputs": [
    {
     "name": "stdout",
     "output_type": "stream",
     "text": [
      "[0 1 0 1 0 1 0 0 1 0 0 1 0 1 1 1 0 0 1 1 1 0 1 0 0 1 0 1 1 1 1 0 0 0 1 1 1\n",
      " 1 0 0 1 1 0 0 1 0 0 1 0 0]\n"
     ]
    }
   ],
   "source": [
    "# We feed the k means object the dataset of 50 random coordinates and the desired output,\n",
    "# and it builds a predictive model such that it groups the coordinates into distinct clusters\n",
    "clustered_data = k.fit_predict(random_data)  # fitting the kmeans object to the dataset\n",
    "print(clustered_data)  # without print gives weird unpythonic array XOP\n",
    "# 0 and 1 are the clusters"
   ]
  },
  {
   "cell_type": "code",
   "execution_count": 16,
   "metadata": {},
   "outputs": [
    {
     "data": {
      "text/plain": [
       "<matplotlib.collections.PathCollection at 0x1d8594d8>"
      ]
     },
     "execution_count": 16,
     "metadata": {},
     "output_type": "execute_result"
    },
    {
     "data": {
      "image/png": "[encoded data removed]",
      "text/plain": [
       "<Figure size 432x288 with 1 Axes>"
      ]
     },
     "metadata": {
      "needs_background": "light"
     },
     "output_type": "display_data"
    }
   ],
   "source": [
    "# to plot the results\n",
    "import matplotlib.pyplot as plt\n",
    "plt.scatter(random_data[:, 0], random_data[:, 1], c=clustered_data, s=50, cmap=\"viridis\")\n"
   ]
  },
  {
   "cell_type": "code",
   "execution_count": null,
   "metadata": {},
   "outputs": [],
   "source": []
  }
 ],
 "metadata": {
  "kernelspec": {
   "display_name": "Python 3",
   "language": "python",
   "name": "python3"
  },
  "language_info": {
   "codemirror_mode": {
    "name": "ipython",
    "version": 3
   },
   "file_extension": ".py",
   "mimetype": "text/x-python",
   "name": "python",
   "nbconvert_exporter": "python",
   "pygments_lexer": "ipython3",
   "version": "3.8.2"
  }
 },
 "nbformat": 4,
 "nbformat_minor": 1
}
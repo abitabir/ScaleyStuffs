{
 "cells": [
  {
   "cell_type": "code",
   "execution_count": 15,
   "metadata": {},
   "outputs": [
    {
     "data": {
      "text/plain": [
       "{'student': [{'id': 1234, 'name': 'JS', 'age': 23},\n",
       "  {'id': 2233, 'name': 'PK', 'age': 20},\n",
       "  {'id': 2468, 'name': 'MN', 'age': 19}],\n",
       " 'lecturer': [{'lno': 101, 'name': 'SG', 'room': 106},\n",
       "  {'lno': 103, 'name': 'KP', 'room': 218},\n",
       "  {'lno': 106, 'name': 'KS', 'room': 156}],\n",
       " 'department': {'id': 'CS101',\n",
       "  'name': 'Computer Science',\n",
       "  'location': 'East Campus'},\n",
       " 'module': {'module1': 'INT1', 'module2': 'DAT2', 'module3': 'HCI2'},\n",
       " 'rank': 20,\n",
       " 'russel group': True}"
      ]
     },
     "execution_count": 15,
     "metadata": {},
     "output_type": "execute_result"
    }
   ],
   "source": [
    "import json\n",
    "with open(\"uni.json\") as jsonfile:  # using with allows us to not need to close the file after use\n",
    "    data = json.load(jsonfile)  # converting json to pythonic dico\n",
    "data  # we see a python dictionary returned - our json document has been converted into a python dico!!! =0    "
   ]
  },
  {
   "cell_type": "code",
   "execution_count": 16,
   "metadata": {},
   "outputs": [
    {
     "data": {
      "text/plain": [
       "[{'lno': 101, 'name': 'SG', 'room': 106},\n",
       " {'lno': 103, 'name': 'KP', 'room': 218},\n",
       " {'lno': 106, 'name': 'KS', 'room': 156}]"
      ]
     },
     "execution_count": 16,
     "metadata": {},
     "output_type": "execute_result"
    }
   ],
   "source": [
    "# accessing the data like we do a dico\n",
    "data[\"lecturer\"]"
   ]
  },
  {
   "cell_type": "code",
   "execution_count": 17,
   "metadata": {},
   "outputs": [
    {
     "data": {
      "text/plain": [
       "{'lno': 101, 'name': 'SG', 'room': 106}"
      ]
     },
     "execution_count": 17,
     "metadata": {},
     "output_type": "execute_result"
    }
   ],
   "source": [
    "data[\"lecturer\"][0]"
   ]
  },
  {
   "cell_type": "code",
   "execution_count": 18,
   "metadata": {},
   "outputs": [
    {
     "data": {
      "text/plain": [
       "218"
      ]
     },
     "execution_count": 18,
     "metadata": {},
     "output_type": "execute_result"
    }
   ],
   "source": [
    "data[\"lecturer\"][1][\"room\"]"
   ]
  },
  {
   "cell_type": "code",
   "execution_count": 19,
   "metadata": {},
   "outputs": [
    {
     "name": "stdout",
     "output_type": "stream",
     "text": [
      "JS\n",
      "PK\n",
      "MN\n"
     ]
    }
   ],
   "source": [
    "for student in data[\"student\"]:\n",
    "    print(student[\"name\"])"
   ]
  },
  {
   "cell_type": "code",
   "execution_count": 20,
   "metadata": {},
   "outputs": [
    {
     "data": {
      "text/plain": [
       "19"
      ]
     },
     "execution_count": 20,
     "metadata": {},
     "output_type": "execute_result"
    }
   ],
   "source": [
    "data[\"rank\"]  # before, gives 20\n",
    "# updating value for key \"rank\" to 19\n",
    "data[\"rank\"] = 19\n",
    "# has it been altered?\n",
    "data[\"rank\"]  # returns 19 yaaay"
   ]
  },
  {
   "cell_type": "code",
   "execution_count": 21,
   "metadata": {},
   "outputs": [
    {
     "data": {
      "text/plain": [
       "[{'id': 1234, 'name': 'JS'},\n",
       " {'id': 2233, 'name': 'PK'},\n",
       " {'id': 2468, 'name': 'MN'}]"
      ]
     },
     "execution_count": 21,
     "metadata": {},
     "output_type": "execute_result"
    }
   ],
   "source": [
    "# deleting age for each student\n",
    "for aged_student in data[\"student\"]:\n",
    "    del aged_student[\"age\"]\n",
    "    \n",
    "ageless_students = data[\"student\"]\n",
    "ageless_students  # XP change has occured XO"
   ]
  },
  {
   "cell_type": "code",
   "execution_count": 22,
   "metadata": {},
   "outputs": [],
   "source": [
    "# writing the now changed dictionary to a json file to store\n",
    "with open(\"uni_ageless.json\", \"w\") as changedfile:\n",
    "    json.dump(data, changedfile)"
   ]
  },
  {
   "cell_type": "code",
   "execution_count": null,
   "metadata": {},
   "outputs": [],
   "source": []
  },
  {
   "cell_type": "code",
   "execution_count": null,
   "metadata": {},
   "outputs": [],
   "source": []
  }
 ],
 "metadata": {
  "kernelspec": {
   "display_name": "Python 3",
   "language": "python",
   "name": "python3"
  },
  "language_info": {
   "codemirror_mode": {
    "name": "ipython",
    "version": 3
   },
   "file_extension": ".py",
   "mimetype": "text/x-python",
   "name": "python",
   "nbconvert_exporter": "python",
   "pygments_lexer": "ipython3",
   "version": "3.8.2"
  }
 },
 "nbformat": 4,
 "nbformat_minor": 1
}
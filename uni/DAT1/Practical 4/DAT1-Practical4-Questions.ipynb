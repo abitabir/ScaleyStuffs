{
 "cells": [
  {
   "cell_type": "markdown",
   "metadata": {},
   "source": [
    "# DATA 1 Practical 4\n",
    "                                                                                                    Simos Gerasimou\n",
    "\n",
    "\n",
    "## A Data Journey Through The Titanic\n",
    "\n",
    "On April 15, 1912, during her maiden voyage from Southampton to New York, the widely considered “unsinkable” RMS Titanic sank after colliding with an iceberg [Wikipedia](https://en.wikipedia.org/wiki/RMS_Titanic). As it was considered “unsinkable”, the Titanic did not carry enough lifeboats for everyone onboard, resulting in the death of 1502 out of 2224 passengers and crew.\n",
    "\n",
    "**DataVision** has been commissioned by Her Majesty The Queen to investigate the conditions in which people survived and whether this was because of luck or whether some groups were more likely to survive than others. If discrimination due to gender or socio-economic class is identified, the Queen intends to use this information to change the cruise policies accordinly. \n",
    "\n",
    "#### Your tasks are to explore this dataset and generade some actionable knowledge. \n",
    "\n",
    "\n",
    "#### This Jupyter Notebook will be presented to  the House of Commons  who have limited knowledge about data science. So, your findings should be complemented by a suitable justification explaining what you observe and, when applicable, what does this observation  mean and, possibly, why it occurs.\n",
    "\n",
    "* For each question (task) a description is provided accompanied (most of the time) by two cells: one for writing the Python code and another for providing the justification. Feel free to add more cells if you feel they are needed, but keep the cells corresponding to the same question close by.\n",
    "\n",
    "#### Note: You are advised to use pandas and matplotlib throughout this practical. If you haven't already done so, complete the exercises on Pandas tutorial to become familiar with the library.\n",
    "\n",
    "**Pandas API Reference**: https://pandas.pydata.org/pandas-docs/stable/reference/index.html\n",
    "**Matplotlib API Reference**: https://matplotlib.org/3.1.1/api/index.html\n",
    "\n",
    "***"
   ]
  },
  {
   "cell_type": "markdown",
   "metadata": {},
   "source": [
    "### Part 1: Reading dataset\n",
    "\n",
    "The Titanic dataset is available on the following link:\n",
    "* [Titanic dataset](https://drive.google.com/file/d/1lUSFcLr6CMvxqUZKiNmtsTGhtSUs4DTV/view?usp=sharing)\n",
    "\n",
    "\n",
    "**T1) Load the Titanic dataset using Pandas**\n",
    "\n",
    "**Note**: You have to download the dataset on your local machine and then load it onto the Jupyter Notebook"
   ]
  },
  {
   "cell_type": "code",
   "execution_count": null,
   "metadata": {},
   "outputs": [],
   "source": [
    "import pandas as pd \n",
    "import seaborn as sns\n",
    "\n",
    "# Write your answer here\n",
    "file = \"titanic.csv\""
   ]
  },
  {
   "cell_type": "markdown",
   "metadata": {},
   "source": [
    "***\n",
    "\n",
    "### Part 2: Cleaning the dataset\n",
    "\n",
    "**T2) Print (i) the first 15 and (ii) the last 10 records of the dataframe**"
   ]
  },
  {
   "cell_type": "code",
   "execution_count": null,
   "metadata": {},
   "outputs": [],
   "source": [
    "# Write your answer here\n",
    "# The first 10 records"
   ]
  },
  {
   "cell_type": "code",
   "execution_count": null,
   "metadata": {},
   "outputs": [],
   "source": [
    "# Write your answer here\n",
    "# The last 10 records"
   ]
  },
  {
   "cell_type": "markdown",
   "metadata": {},
   "source": [
    "**T3) Get general info about the dataset**"
   ]
  },
  {
   "cell_type": "code",
   "execution_count": null,
   "metadata": {},
   "outputs": [],
   "source": [
    "# Write your answer here\n"
   ]
  },
  {
   "cell_type": "markdown",
   "metadata": {},
   "source": [
    "**T4) Explore the dataset and try to understand the meaning of each variable (column). Identify which variables are categorical and which are numerical.**\n",
    "\n",
    "**Note**: Inferring the meaning of variables 'Pclass', 'SibSp', 'Parch' could be challenging; think of what is missing from the dataset and what types of people were travelling on the Titanic. If you find it more difficult, the answer is at the end of this notebook"
   ]
  },
  {
   "cell_type": "code",
   "execution_count": null,
   "metadata": {},
   "outputs": [],
   "source": [
    "# Answer:\n",
    "# - PassengerId     \n",
    "# - Survived        \n",
    "# - Pclass          \n",
    "# - Name         \n",
    "# - Sex          \n",
    "# - Age        \n",
    "# - SibSp      \n",
    "# - Parch      \n",
    "# - Ticket  \n",
    "# - Fare    \n",
    "# - Cabin   \n",
    "# - Embarked  "
   ]
  },
  {
   "cell_type": "markdown",
   "metadata": {},
   "source": [
    "**T5) Get the shape of the dataframe**"
   ]
  },
  {
   "cell_type": "code",
   "execution_count": null,
   "metadata": {},
   "outputs": [],
   "source": [
    "# Write your answer here\n"
   ]
  },
  {
   "cell_type": "markdown",
   "metadata": {},
   "source": [
    "**T6) Get the name of the columns for the dataframe**\n"
   ]
  },
  {
   "cell_type": "code",
   "execution_count": null,
   "metadata": {},
   "outputs": [],
   "source": [
    "# Write your answer here"
   ]
  },
  {
   "cell_type": "markdown",
   "metadata": {},
   "source": [
    "**T7) Do you think the columns (variables) need to be more readable; especially, those that you might have found difficult to understand in T4**"
   ]
  },
  {
   "cell_type": "code",
   "execution_count": null,
   "metadata": {},
   "outputs": [],
   "source": [
    "# Write your answer here\n"
   ]
  },
  {
   "cell_type": "markdown",
   "metadata": {},
   "source": [
    "**T8) Are there any duplicated records exist?**\n",
    "\n",
    "**Note**: A record is duplicated if all its entries are identical with another record"
   ]
  },
  {
   "cell_type": "code",
   "execution_count": null,
   "metadata": {},
   "outputs": [],
   "source": [
    "# Write your answer here\n"
   ]
  },
  {
   "cell_type": "markdown",
   "metadata": {},
   "source": [
    "**T9) Copy the dataset so that you manipulate the copied dataset and leave the original unaffected**\n",
    "\n",
    "Note: Check the pandas documentation for help on how to copy the dataframe"
   ]
  },
  {
   "cell_type": "code",
   "execution_count": null,
   "metadata": {},
   "outputs": [],
   "source": [
    "# Write your answer here\n"
   ]
  },
  {
   "cell_type": "markdown",
   "metadata": {},
   "source": [
    "**T10) Is there any missing data? Is this a messy or a clean dataset?**"
   ]
  },
  {
   "cell_type": "code",
   "execution_count": null,
   "metadata": {},
   "outputs": [],
   "source": [
    "# Write your answer here\n"
   ]
  },
  {
   "cell_type": "markdown",
   "metadata": {},
   "source": [
    "**T11) What should we do with the variable with the highest number of missing data. Consider the amount of missing data compared to the total number of available data.**"
   ]
  },
  {
   "cell_type": "code",
   "execution_count": null,
   "metadata": {},
   "outputs": [],
   "source": [
    "# Write your answer here\n"
   ]
  },
  {
   "cell_type": "markdown",
   "metadata": {},
   "source": [
    "**T12) Impute the categorical variable (just one) with the mode value**\n",
    "\n",
    "* Tip: check the fillna function in Pandas\n",
    "* Tip: categorical variables (columns) include data which may be divided into groups (e.g., gender)"
   ]
  },
  {
   "cell_type": "code",
   "execution_count": null,
   "metadata": {},
   "outputs": [],
   "source": [
    "# Write your answer here\n"
   ]
  },
  {
   "cell_type": "markdown",
   "metadata": {},
   "source": [
    "**T13) Plot the histogram of the numeric variable with missing data so as to determine the best value to fill in the missing data**"
   ]
  },
  {
   "cell_type": "code",
   "execution_count": null,
   "metadata": {},
   "outputs": [],
   "source": [
    "# Write your answer here\n"
   ]
  },
  {
   "cell_type": "markdown",
   "metadata": {},
   "source": [
    "**T14) Impute the numeric variable (just one) with an appropriate value**\n",
    "\n",
    "* Tip: what value does it make sense to impute for this variable?\n"
   ]
  },
  {
   "cell_type": "code",
   "execution_count": null,
   "metadata": {},
   "outputs": [],
   "source": [
    "# Write your answer here\n"
   ]
  },
  {
   "cell_type": "markdown",
   "metadata": {},
   "source": [
    "**T15) Get some descriptive statistics for the dataset**\n",
    "\n",
    "* Tip: Use Pandas"
   ]
  },
  {
   "cell_type": "code",
   "execution_count": null,
   "metadata": {},
   "outputs": [],
   "source": [
    "# Write your answer here\n"
   ]
  },
  {
   "cell_type": "markdown",
   "metadata": {},
   "source": [
    "**T16) Plot a density graph that shows the age distribution of passengers who survived and did not survive**\n",
    "\n",
    "* Tip: Look at histogram plots with the KDE option"
   ]
  },
  {
   "cell_type": "code",
   "execution_count": null,
   "metadata": {},
   "outputs": [],
   "source": [
    "# Write your answer here\n"
   ]
  },
  {
   "cell_type": "markdown",
   "metadata": {},
   "source": [
    "**T17) For each passenger, find out how many family members she/he has in total and store this information in the dataframe**"
   ]
  },
  {
   "cell_type": "code",
   "execution_count": null,
   "metadata": {},
   "outputs": [],
   "source": [
    "# Write your answer here\n"
   ]
  },
  {
   "cell_type": "markdown",
   "metadata": {},
   "source": [
    "**T18): Find out who has the most family members on board**"
   ]
  },
  {
   "cell_type": "code",
   "execution_count": null,
   "metadata": {},
   "outputs": [],
   "source": [
    "# Write your answer here\n"
   ]
  },
  {
   "cell_type": "markdown",
   "metadata": {},
   "source": [
    "**T19) Given that Titanic stopped in three ports (C = Cherbourg, Q = Queenstown, S = Southampton) before departing from the UK, can we identify any patterns regarding the ports at which passengers embarked on the Titanic? Plot a bar plot or pie chart to illustrate this**"
   ]
  },
  {
   "cell_type": "code",
   "execution_count": null,
   "metadata": {},
   "outputs": [],
   "source": [
    "# Write your answer here\n"
   ]
  },
  {
   "cell_type": "markdown",
   "metadata": {},
   "source": [
    "**T20) Did passengers of higher socioeconomic class have a higher rate of survival? Draw a bar plot to visualise this and calculate the percentage of passengers survived from each class**\n",
    "\n",
    "* Tip: Which variable signigies a difference in socioeconomic class among passengers?"
   ]
  },
  {
   "cell_type": "code",
   "execution_count": null,
   "metadata": {},
   "outputs": [],
   "source": [
    "# Write your answer here\n"
   ]
  },
  {
   "cell_type": "markdown",
   "metadata": {},
   "source": [
    "**T21) Following from T20, can you display the same information as a table using the groupby operator of Pandas with the ticket class as the index?**\n",
    "\n",
    "* Tip: Look at https://jakevdp.github.io/PythonDataScienceHandbook/03.08-aggregation-and-grouping.html\n",
    "* Tip: https://pandas.pydata.org/pandas-docs/stable/reference/api/pandas.DataFrame.groupby.html        "
   ]
  },
  {
   "cell_type": "code",
   "execution_count": null,
   "metadata": {},
   "outputs": [],
   "source": [
    "# Write your answer here\n"
   ]
  },
  {
   "cell_type": "markdown",
   "metadata": {},
   "source": [
    "**T22) Given the interesting insights from T20 and T21, it seems interesting to see whether there is any pattern with regards to the ticket class and where passengers embarked the ship. Generate a table to display this using the crosstabs operator of Pandas with the ticket class as the index and embarkement point as the other axis**\n",
    "\n",
    "* Tip: https://pandas.pydata.org/pandas-docs/stable/reference/api/pandas.crosstab.html\n",
    "\n",
    "**Note:** This is called a **contingency table** and summarises data for two (or more) categorical variables"
   ]
  },
  {
   "cell_type": "code",
   "execution_count": null,
   "metadata": {},
   "outputs": [],
   "source": [
    "# Write your answer here\n"
   ]
  },
  {
   "cell_type": "markdown",
   "metadata": {},
   "source": [
    "**T23) Following from T22, generate a similar contingency table but group further the horizontal axis (ticket class) with information whether/how many passengers have survived or not**\n",
    "\n",
    "* Tip: https://pandas.pydata.org/pandas-docs/stable/reference/api/pandas.crosstab.html\n"
   ]
  },
  {
   "cell_type": "code",
   "execution_count": null,
   "metadata": {},
   "outputs": [],
   "source": [
    "# Write your answer here\n"
   ]
  },
  {
   "cell_type": "markdown",
   "metadata": {},
   "source": [
    "**T24) How was the ticket fare distributed per class? Generate a boxplot and investigate whether there are any interesting insights**"
   ]
  },
  {
   "cell_type": "code",
   "execution_count": null,
   "metadata": {},
   "outputs": [],
   "source": [
    "# Write your answer here\n"
   ]
  },
  {
   "cell_type": "markdown",
   "metadata": {},
   "source": [
    "**T25) Have you identified this fare value which is so far away from the typical fare values for first class tickets? Can you identify the ticket holder(s) and whether they survived?**"
   ]
  },
  {
   "cell_type": "code",
   "execution_count": null,
   "metadata": {},
   "outputs": [],
   "source": [
    "# Write your answer here\n"
   ]
  },
  {
   "cell_type": "markdown",
   "metadata": {},
   "source": [
    "**T26) Following from T24, can you display the same information as a table using the groupby operator of Pandas with the ticket class as the index?**\n",
    "\n",
    "Tip: Look at https://jakevdp.github.io/PythonDataScienceHandbook/03.08-aggregation-and-grouping.html\n",
    "Tip: https://pandas.pydata.org/pandas-docs/stable/reference/api/pandas.DataFrame.groupby.html**"
   ]
  },
  {
   "cell_type": "code",
   "execution_count": null,
   "metadata": {},
   "outputs": [],
   "source": [
    "# Write your answer here\n"
   ]
  },
  {
   "cell_type": "markdown",
   "metadata": {},
   "source": [
    "**T27) Implement the Pearson colleration metric to investigate whether there is any correlation between 'Fare' and 'Survived'. Do the same for the Spearman colleration metric. Once you finish the implementation you can check their correctness using the built-in functions of Scipy.stats**\n",
    "\n",
    "**What is your interpretation for the correlation between \"Fare\" and \"Survived\"?**\n",
    "\n",
    "* Tip: See https://docs.scipy.org/doc/scipy-0.14.0/reference/generated/scipy.stats.pearsonr.html\n",
    "* Tip: See https://docs.scipy.org/doc/scipy-0.14.0/reference/generated/scipy.stats.spearmanr.html"
   ]
  },
  {
   "cell_type": "code",
   "execution_count": null,
   "metadata": {},
   "outputs": [],
   "source": [
    "# Write your answer here\n"
   ]
  },
  {
   "cell_type": "markdown",
   "metadata": {},
   "source": [
    "### Brain Teaser\n",
    "**Generate a new column 'Title' that includes the title of each passenger and has only the following entries:**\n",
    "* Master, Miss, Mr, Mss \n",
    "\n",
    "where\n",
    "* Miss includes also Mlle and Ms\n",
    "* Mme includes also Mrs\n",
    "* all the remaining titles become Rare"
   ]
  },
  {
   "cell_type": "code",
   "execution_count": null,
   "metadata": {},
   "outputs": [],
   "source": [
    "# Write your answer here\n"
   ]
  },
  {
   "cell_type": "markdown",
   "metadata": {},
   "source": [
    "**Generate a contingency table to show how the title of a passenger (x axis) is related to the male/female who survived/or not (y axis)**"
   ]
  },
  {
   "cell_type": "code",
   "execution_count": null,
   "metadata": {},
   "outputs": [],
   "source": [
    "# Write your answer here\n"
   ]
  },
  {
   "cell_type": "markdown",
   "metadata": {},
   "source": [
    "### Should you finish earlier/want to practice at home, you could\n",
    "* Generate plots and groupings for fare, genres, age etc\n",
    "* Any other analysis that you might could generate some useful insight.\n",
    "* Try to visualise, group and use crosstabs for the datasets from Practicals 1-3"
   ]
  },
  {
   "cell_type": "code",
   "execution_count": null,
   "metadata": {},
   "outputs": [],
   "source": [
    "# Answers to T4\n",
    "# - Pclass     Ticket class\t     \n",
    "# - SibSp      # of siblings/spouses aboard the Titanic\n",
    "# - Parch      # of parents / children aboard the Titanic"
   ]
  }
 ],
 "metadata": {
  "kernelspec": {
   "display_name": "Python 3",
   "language": "python",
   "name": "python3"
  },
  "language_info": {
   "codemirror_mode": {
    "name": "ipython",
    "version": 3
   },
   "file_extension": ".py",
   "mimetype": "text/x-python",
   "name": "python",
   "nbconvert_exporter": "python",
   "pygments_lexer": "ipython3",
   "version": "3.7.6"
  }
 },
 "nbformat": 4,
 "nbformat_minor": 2
}

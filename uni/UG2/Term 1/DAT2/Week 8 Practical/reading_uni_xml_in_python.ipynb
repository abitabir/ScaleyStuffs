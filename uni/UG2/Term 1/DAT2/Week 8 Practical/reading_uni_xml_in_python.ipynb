{
 "cells": [
  {
   "cell_type": "code",
   "execution_count": 1,
   "metadata": {},
   "outputs": [],
   "source": [
    "import xml.etree.ElementTree as xml\n",
    "tree = xml.ElementTree(file=\"yorkxmlviapy.xml\")"
   ]
  },
  {
   "cell_type": "code",
   "execution_count": 2,
   "metadata": {},
   "outputs": [
    {
     "name": "stdout",
     "output_type": "stream",
     "text": [
      "York_University\n"
     ]
    }
   ],
   "source": [
    "root = tree.getroot()\n",
    "roottag = root.tag\n",
    "print(roottag)"
   ]
  },
  {
   "cell_type": "code",
   "execution_count": 4,
   "metadata": {},
   "outputs": [
    {
     "name": "stdout",
     "output_type": "stream",
     "text": [
      "{'name': 'CS'}\n",
      "{'name': 'PE'}\n"
     ]
    }
   ],
   "source": [
    "for child in root:\n",
    "    print(child.attrib)"
   ]
  },
  {
   "cell_type": "code",
   "execution_count": 5,
   "metadata": {},
   "outputs": [
    {
     "name": "stdout",
     "output_type": "stream",
     "text": [
      "CS\n",
      "PE\n"
     ]
    }
   ],
   "source": [
    "for child in root.findall(\"department\"):\n",
    "    dico = child.attrib\n",
    "    print(dico.get(\"name\"))"
   ]
  },
  {
   "cell_type": "code",
   "execution_count": 8,
   "metadata": {},
   "outputs": [
    {
     "name": "stdout",
     "output_type": "stream",
     "text": [
      "Location:  East Campus\n",
      "num_of_students:  2000\n",
      "Location:  West Campus\n",
      "num_of_students:  1000\n"
     ]
    }
   ],
   "source": [
    "for child in root.findall(\"department\"):\n",
    "    for grandchild in child:\n",
    "        print(grandchild.tag + \": \", grandchild.text)\n",
    "        \n",
    "# eyyy my method was better than the model answers XDDD alhamdulillah"
   ]
  },
  {
   "cell_type": "code",
   "execution_count": 10,
   "metadata": {},
   "outputs": [
    {
     "name": "stdout",
     "output_type": "stream",
     "text": [
      "York_University \n",
      "    \n",
      "department \n",
      "        \n",
      "Location East Campus\n",
      "num_of_students 2000\n",
      "department \n",
      "        \n",
      "Location West Campus\n",
      "num_of_students 1000\n"
     ]
    }
   ],
   "source": [
    "for element_node in root.iter():\n",
    "    print(element_node.tag, element_node.text)\n",
    "# prints lots of white space instead of None here unlike the question specified though"
   ]
  },
  {
   "cell_type": "code",
   "execution_count": null,
   "metadata": {},
   "outputs": [],
   "source": []
  }
 ],
 "metadata": {
  "kernelspec": {
   "display_name": "Python 3",
   "language": "python",
   "name": "python3"
  },
  "language_info": {
   "codemirror_mode": {
    "name": "ipython",
    "version": 3
   },
   "file_extension": ".py",
   "mimetype": "text/x-python",
   "name": "python",
   "nbconvert_exporter": "python",
   "pygments_lexer": "ipython3",
   "version": "3.8.2"
  }
 },
 "nbformat": 4,
 "nbformat_minor": 4
}

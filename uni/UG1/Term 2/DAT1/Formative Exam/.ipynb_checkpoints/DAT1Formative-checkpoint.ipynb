{
 "cells": [
  {
   "cell_type": "markdown",
   "metadata": {},
   "source": [
    "# DATA 1 Formative Exam\n",
    "                                                                                                    Simos Gerasimou\n",
    "\n",
    "\n",
    "### Time Allowed:\n",
    "TWO hours\n",
    "\n",
    "### Allocation of Marks:\n",
    "The exam consists of four (4) questions and each question is worth 25 marks.\n",
    "\n",
    "### Instructions:\n",
    "Candidates should answer all questions using Jupyter Notebooks running Python 3. Failing to do so will result in a mark of 0%. All questions are independent and can be answered in any order. Specific questions have strict limits on the length of your answers; text exceeding the limit will not be marked.\n",
    "\n",
    "You should log into the computers, booted under Windows, using your student number (e.g., 123456789) and as password your username with DAT1 appended at the end (e.g. abc1234DAT1). In the ClosedExamination directory on the H: drive, you will find a Jupyter Notebook file named “DAT1Formative.ipynb” and the datasets necessary for this exam. You must save the Jupyter Notebook file named with your student number (e.g., 123456789.ipynb) in the ClosedExamination directory on the H: drive. Do not save your code anywhere else other than this directory.\n",
    "\n"
   ]
  },
  {
   "cell_type": "markdown",
   "metadata": {
    "deletable": false,
    "editable": false,
    "run_control": {
     "frozen": true
    }
   },
   "source": [
    "## Announcements\n",
    "\n",
    "### 1) You can ask questions and provide feedback about DAT1 at https://uniofyork.padlet.org/simos_gerasimou/dat1q"
   ]
  },
  {
   "cell_type": "markdown",
   "metadata": {
    "deletable": false,
    "editable": false,
    "run_control": {
     "frozen": true
    }
   },
   "source": [
    "### Question 1: Data Analysis (25 marks)\n",
    "\n",
    "YorkBus, as the name suggests, is a bus company operating in Noth Yorkshire. Given the increasing fuel prices and the uncertainty in income due to the CoronaVirus, the company is interested in analysing, among others, the expenses it would incur if all services continue running normally. To do this analysis, YorkBus asked DataVision to help. \n",
    "\n",
    "On you local drive, you have a dataset named \"yorkBus.csv\". You should load this dataset and answer the following data questions using Python 3, Pandas and Matplotlib.\n"
   ]
  },
  {
   "cell_type": "code",
   "execution_count": 1,
   "metadata": {},
   "outputs": [],
   "source": [
    "import pandas as pd\n",
    "import seaborn as sns\n",
    "import matplotlib.pyplot as plt\n",
    "import numpy as np\n",
    "import scipy.stats as stats"
   ]
  },
  {
   "cell_type": "code",
   "execution_count": 2,
   "metadata": {},
   "outputs": [
    {
     "data": {
      "text/html": [
       "<div>\n",
       "<style scoped>\n",
       "    .dataframe tbody tr th:only-of-type {\n",
       "        vertical-align: middle;\n",
       "    }\n",
       "\n",
       "    .dataframe tbody tr th {\n",
       "        vertical-align: top;\n",
       "    }\n",
       "\n",
       "    .dataframe thead th {\n",
       "        text-align: right;\n",
       "    }\n",
       "</style>\n",
       "<table border=\"1\" class=\"dataframe\">\n",
       "  <thead>\n",
       "    <tr style=\"text-align: right;\">\n",
       "      <th></th>\n",
       "      <th>Period</th>\n",
       "      <th>Cost</th>\n",
       "      <th>Miles</th>\n",
       "    </tr>\n",
       "  </thead>\n",
       "  <tbody>\n",
       "    <tr>\n",
       "      <th>0</th>\n",
       "      <td>1</td>\n",
       "      <td>21390</td>\n",
       "      <td>314700</td>\n",
       "    </tr>\n",
       "    <tr>\n",
       "      <th>1</th>\n",
       "      <td>2</td>\n",
       "      <td>21260</td>\n",
       "      <td>316000</td>\n",
       "    </tr>\n",
       "    <tr>\n",
       "      <th>2</th>\n",
       "      <td>3</td>\n",
       "      <td>21530</td>\n",
       "      <td>319700</td>\n",
       "    </tr>\n",
       "    <tr>\n",
       "      <th>3</th>\n",
       "      <td>4</td>\n",
       "      <td>21530</td>\n",
       "      <td>317300</td>\n",
       "    </tr>\n",
       "    <tr>\n",
       "      <th>4</th>\n",
       "      <td>5</td>\n",
       "      <td>21540</td>\n",
       "      <td>329200</td>\n",
       "    </tr>\n",
       "  </tbody>\n",
       "</table>\n",
       "</div>"
      ],
      "text/plain": [
       "   Period   Cost   Miles\n",
       "0       1  21390  314700\n",
       "1       2  21260  316000\n",
       "2       3  21530  319700\n",
       "3       4  21530  317300\n",
       "4       5  21540  329200"
      ]
     },
     "execution_count": 2,
     "metadata": {},
     "output_type": "execute_result"
    }
   ],
   "source": [
    "york_bus_df = pd.read_csv(\"yorkBus.csv\")\n",
    "york_bus_df.head()"
   ]
  },
  {
   "cell_type": "markdown",
   "metadata": {},
   "source": [
    "**(i) [2 marks]** Which is the independent and which is the dependent variable?¶"
   ]
  },
  {
   "cell_type": "code",
   "execution_count": 3,
   "metadata": {},
   "outputs": [],
   "source": [
    "# independent: miles\n",
    "# dependent: cost"
   ]
  },
  {
   "cell_type": "markdown",
   "metadata": {},
   "source": [
    "**(ii) [4 marks]** Calculate the Pearson correlation coefficient. You must show your calculations, i.e., calculate the result analytically, but you may use the appropriate scipy or numpy method to check your result."
   ]
  },
  {
   "cell_type": "code",
   "execution_count": 19,
   "metadata": {},
   "outputs": [
    {
     "data": {
      "text/plain": [
       "0.9728495502470614"
      ]
     },
     "execution_count": 19,
     "metadata": {},
     "output_type": "execute_result"
    }
   ],
   "source": [
    "a_s = york_bus_df[\"Miles\"]\n",
    "b_s = york_bus_df[\"Cost\"]\n",
    "a_mean = np.mean(york_bus_df[\"Miles\"])\n",
    "b_mean = np.mean(york_bus_df[\"Cost\"])\n",
    "a = np.array([i - a_mean for i in a_s])\n",
    "b = np.array([i - b_mean for i in b_s])\n",
    "r = sum(a*b) / (np.sqrt( sum(np.power(a, 2)) ) * np.sqrt( sum(np.power(b, 2)) ))\n",
    "r"
   ]
  },
  {
   "cell_type": "code",
   "execution_count": 20,
   "metadata": {},
   "outputs": [
    {
     "data": {
      "text/plain": [
       "0.9728495502470615"
      ]
     },
     "execution_count": 20,
     "metadata": {},
     "output_type": "execute_result"
    }
   ],
   "source": [
    "r_accurate = stats.pearsonr(a_s, b_s)[0]\n",
    "r_accurate\n",
    "# alhamdulillah"
   ]
  },
  {
   "cell_type": "markdown",
   "metadata": {},
   "source": [
    "**(iii) [2 marks]**\n",
    "What do you think of the correlation between these two variables? What do you expect the linear regression model to be?"
   ]
  },
  {
   "cell_type": "code",
   "execution_count": 21,
   "metadata": {},
   "outputs": [],
   "source": [
    "# strong positive correlation, so linear regression model will be good choice"
   ]
  },
  {
   "cell_type": "markdown",
   "metadata": {},
   "source": [
    "**(iv) [3 marks]**\n",
    "Using Python and scikit-learn, train a simple linear regression model for this data"
   ]
  },
  {
   "cell_type": "code",
   "execution_count": 22,
   "metadata": {},
   "outputs": [
    {
     "data": {
      "text/plain": [
       "LinearRegression()"
      ]
     },
     "execution_count": 22,
     "metadata": {},
     "output_type": "execute_result"
    }
   ],
   "source": [
    "from sklearn import linear_model\n",
    "york_bus_array_x = pd.DataFrame(a_s)\n",
    "york_bus_array_y = b_s\n",
    "\n",
    "york_bus_lr = linear_model.LinearRegression()\n",
    "york_bus_lr.fit(york_bus_array_x, york_bus_array_y)"
   ]
  },
  {
   "cell_type": "markdown",
   "metadata": {},
   "source": [
    "**(v) [3 marks]**\n",
    "Report the regression and intercept coefficients of this linear regression model. Report also the final form of the linear regression equation"
   ]
  },
  {
   "cell_type": "code",
   "execution_count": 29,
   "metadata": {},
   "outputs": [
    {
     "name": "stdout",
     "output_type": "stream",
     "text": [
      "linear regression model formula:\n",
      "cost = 0.04467*miles + 6496.32773\n"
     ]
    }
   ],
   "source": [
    "#Write your answer here\n",
    "alpha = york_bus_lr.coef_.flatten()[0]\n",
    "beta = york_bus_lr.intercept_.flatten()[0]\n",
    "print(\"linear regression model formula:\\ncost = \" + str(round(alpha, 5)) + \"*miles + \" + str(round(beta, 5)))"
   ]
  },
  {
   "cell_type": "markdown",
   "metadata": {},
   "source": [
    "**(vi) [4 marks]**\n",
    "Calculate the goodness of fit  𝑅2 . You must show your calculations, i.e., calculate the result analytically, but you may use the appropriate sklearn method to check your result."
   ]
  },
  {
   "cell_type": "code",
   "execution_count": 30,
   "metadata": {},
   "outputs": [
    {
     "data": {
      "text/plain": [
       "0.9464362474159097"
      ]
     },
     "execution_count": 30,
     "metadata": {},
     "output_type": "execute_result"
    }
   ],
   "source": [
    "#Write your answer here\n",
    "r2 = np.power(r, 2)\n",
    "r2"
   ]
  },
  {
   "cell_type": "code",
   "execution_count": 37,
   "metadata": {},
   "outputs": [
    {
     "data": {
      "text/plain": [
       "0.9464362474159097"
      ]
     },
     "execution_count": 37,
     "metadata": {},
     "output_type": "execute_result"
    }
   ],
   "source": [
    "from sklearn.metrics import r2_score\n",
    "\n",
    "york_bus_lr_predictions = york_bus_lr.predict(york_bus_array_x)\n",
    "r2_score(b_s, york_bus_lr_predictions)"
   ]
  },
  {
   "cell_type": "markdown",
   "metadata": {},
   "source": [
    "**(vii) [5 marks]**\n",
    "Plot a scatter plot and the linear regression model. Does the plot confirm the results obtained in the previous questions? "
   ]
  },
  {
   "cell_type": "code",
   "execution_count": 48,
   "metadata": {},
   "outputs": [
    {
     "data": {
      "image/png": "[encoded data removed]",
      "text/plain": [
       "<Figure size 900x900 with 1 Axes>"
      ]
     },
     "metadata": {
      "needs_background": "light"
     },
     "output_type": "display_data"
    }
   ],
   "source": [
    "plt.subplots(figsize=(9, 9), dpi=100)\n",
    "ax = sns.scatterplot(x=a_s, y=b_s, color=\"purple\", alpha=0.75, label=\"actual data plottings\")\n",
    "ax.set_xlabel(\"miles\")\n",
    "ax.set_ylabel(\"cost\", rotation=0)  # hehe, changing the defaults, hmmm\n",
    "\n",
    "ax = sns.lineplot(x=a_s, y=york_bus_lr_predictions, color=\"pink\", label=\"line of best fit according to linear regression model\")  # variation to inputtings, hum\n",
    "# colors first bus themed as well, gimme props plez XP"
   ]
  },
  {
   "cell_type": "markdown",
   "metadata": {},
   "source": [
    "**(viii) [2 marks]**\n",
    "Calculate the approximate cost of a bus that has travelled 375000 miles over a single period"
   ]
  },
  {
   "cell_type": "code",
   "execution_count": 54,
   "metadata": {},
   "outputs": [
    {
     "data": {
      "text/plain": [
       "23248.68719428638"
      ]
     },
     "execution_count": 54,
     "metadata": {},
     "output_type": "execute_result"
    }
   ],
   "source": [
    "predicting_cost_from_miles = 375000\n",
    "prediction_cost_from_miles = york_bus_lr.predict([[predicting_cost_from_miles]]).flatten()[0]\n",
    "prediction_cost_from_miles"
   ]
  },
  {
   "cell_type": "markdown",
   "metadata": {},
   "source": [
    "---"
   ]
  },
  {
   "cell_type": "markdown",
   "metadata": {
    "deletable": false,
    "editable": false,
    "run_control": {
     "frozen": true
    }
   },
   "source": [
    "### Question 2: Data Processing (25 marks)\n",
    "\n",
    "Netflix is a media-services provider and production company. The company's primary business is its subscription-based streaming service which offers online streaming of a library of films and television programs, including those produced in-house (Wikipedia).\n",
    "\n",
    "DataVision has been recruited to analyse the data about tv shows and movies available on Netflix.\n",
    "\n",
    "\n",
    "On you local drive, you have a dataset named \"netflix.csv\". You should load this dataset and answer the following data questions using Python 3, Pandas and Matplotlib."
   ]
  },
  {
   "cell_type": "markdown",
   "metadata": {
    "deletable": false,
    "editable": false,
    "run_control": {
     "frozen": true
    }
   },
   "source": [
    "**(i) [2 marks]**\n",
    "What is the shape of the dataset?"
   ]
  },
  {
   "cell_type": "code",
   "execution_count": 57,
   "metadata": {},
   "outputs": [
    {
     "data": {
      "text/plain": [
       "(6234, 12)"
      ]
     },
     "execution_count": 57,
     "metadata": {},
     "output_type": "execute_result"
    }
   ],
   "source": [
    "netflix_df = pd.read_csv(\"netflix.csv\")\n",
    "netflix_df.shape"
   ]
  },
  {
   "cell_type": "markdown",
   "metadata": {
    "deletable": false,
    "editable": false,
    "run_control": {
     "frozen": true
    }
   },
   "source": [
    "**(ii) [3 marks]**\n",
    "What does each column mean and which is its datatype?"
   ]
  },
  {
   "cell_type": "code",
   "execution_count": 58,
   "metadata": {},
   "outputs": [
    {
     "name": "stdout",
     "output_type": "stream",
     "text": [
      "<class 'pandas.core.frame.DataFrame'>\n",
      "RangeIndex: 6234 entries, 0 to 6233\n",
      "Data columns (total 12 columns):\n",
      " #   Column        Non-Null Count  Dtype \n",
      "---  ------        --------------  ----- \n",
      " 0   show_id       6234 non-null   int64 \n",
      " 1   type          6234 non-null   object\n",
      " 2   title         6234 non-null   object\n",
      " 3   director      4265 non-null   object\n",
      " 4   cast          5664 non-null   object\n",
      " 5   country       5758 non-null   object\n",
      " 6   date_added    6223 non-null   object\n",
      " 7   release_year  6234 non-null   int64 \n",
      " 8   rating        6224 non-null   object\n",
      " 9   duration      6234 non-null   object\n",
      " 10  listed_in     6234 non-null   object\n",
      " 11  description   6234 non-null   object\n",
      "dtypes: int64(2), object(10)\n",
      "memory usage: 341.0+ KB\n"
     ]
    }
   ],
   "source": [
    "#Write your answer here\n",
    "netflix_df.info()\n",
    "\n",
    "# show_id (integer): unique show ID\n",
    "# type (categorical): show (content) type (TV show or movie)\n",
    "# title (string): show title\n",
    "# director (string): show director\n",
    "# cast (string): list of actors in the show\n",
    "# country (string): list of countries where the show was produced\n",
    "# data_added (Date): date added on Netflix\n",
    "# release_year (integer): release year of the show\n",
    "# rating (categorical): TV rating of the show (TV parental guidelines)\n",
    "# duration (string): total show duration in minutes (or number of seasons)\n",
    "# listed_in (categorical): genres of the show\n",
    "# description (string): brief sumarry of the show"
   ]
  },
  {
   "cell_type": "markdown",
   "metadata": {
    "deletable": false,
    "editable": false,
    "run_control": {
     "frozen": true
    }
   },
   "source": [
    "**(iii) [2 marks]**\n",
    "Is there any missing data? Show the number of missing data per column."
   ]
  },
  {
   "cell_type": "code",
   "execution_count": 71,
   "metadata": {},
   "outputs": [
    {
     "data": {
      "text/html": [
       "<div>\n",
       "<style scoped>\n",
       "    .dataframe tbody tr th:only-of-type {\n",
       "        vertical-align: middle;\n",
       "    }\n",
       "\n",
       "    .dataframe tbody tr th {\n",
       "        vertical-align: top;\n",
       "    }\n",
       "\n",
       "    .dataframe thead th {\n",
       "        text-align: right;\n",
       "    }\n",
       "</style>\n",
       "<table border=\"1\" class=\"dataframe\">\n",
       "  <thead>\n",
       "    <tr style=\"text-align: right;\">\n",
       "      <th></th>\n",
       "      <th>Missing</th>\n",
       "      <th>Percentage</th>\n",
       "    </tr>\n",
       "  </thead>\n",
       "  <tbody>\n",
       "    <tr>\n",
       "      <th>director</th>\n",
       "      <td>1969</td>\n",
       "      <td>0.315849</td>\n",
       "    </tr>\n",
       "    <tr>\n",
       "      <th>cast</th>\n",
       "      <td>570</td>\n",
       "      <td>0.091434</td>\n",
       "    </tr>\n",
       "    <tr>\n",
       "      <th>country</th>\n",
       "      <td>476</td>\n",
       "      <td>0.076355</td>\n",
       "    </tr>\n",
       "    <tr>\n",
       "      <th>date_added</th>\n",
       "      <td>11</td>\n",
       "      <td>0.001765</td>\n",
       "    </tr>\n",
       "    <tr>\n",
       "      <th>rating</th>\n",
       "      <td>10</td>\n",
       "      <td>0.001604</td>\n",
       "    </tr>\n",
       "    <tr>\n",
       "      <th>description</th>\n",
       "      <td>0</td>\n",
       "      <td>0.000000</td>\n",
       "    </tr>\n",
       "    <tr>\n",
       "      <th>listed_in</th>\n",
       "      <td>0</td>\n",
       "      <td>0.000000</td>\n",
       "    </tr>\n",
       "    <tr>\n",
       "      <th>duration</th>\n",
       "      <td>0</td>\n",
       "      <td>0.000000</td>\n",
       "    </tr>\n",
       "    <tr>\n",
       "      <th>release_year</th>\n",
       "      <td>0</td>\n",
       "      <td>0.000000</td>\n",
       "    </tr>\n",
       "    <tr>\n",
       "      <th>title</th>\n",
       "      <td>0</td>\n",
       "      <td>0.000000</td>\n",
       "    </tr>\n",
       "    <tr>\n",
       "      <th>type</th>\n",
       "      <td>0</td>\n",
       "      <td>0.000000</td>\n",
       "    </tr>\n",
       "    <tr>\n",
       "      <th>show_id</th>\n",
       "      <td>0</td>\n",
       "      <td>0.000000</td>\n",
       "    </tr>\n",
       "  </tbody>\n",
       "</table>\n",
       "</div>"
      ],
      "text/plain": [
       "              Missing  Percentage\n",
       "director         1969    0.315849\n",
       "cast              570    0.091434\n",
       "country           476    0.076355\n",
       "date_added         11    0.001765\n",
       "rating             10    0.001604\n",
       "description         0    0.000000\n",
       "listed_in           0    0.000000\n",
       "duration            0    0.000000\n",
       "release_year        0    0.000000\n",
       "title               0    0.000000\n",
       "type                0    0.000000\n",
       "show_id             0    0.000000"
      ]
     },
     "execution_count": 71,
     "metadata": {},
     "output_type": "execute_result"
    }
   ],
   "source": [
    "missing_data_summary = netflix_df.isna().sum().sort_values(ascending=False)\n",
    "missing_data_summary\n",
    "\n",
    "missing_data_percentages = (netflix_df.isna().sum() / netflix_df.isna().count()).sort_values(ascending=False)\n",
    "missing_data_percentages\n",
    "\n",
    "missing_data = pd.concat([missing_data_summary, missing_data_percentages], axis=1, keys=[\"Missing\", \"Percentage\"])\n",
    "missing_data"
   ]
  },
  {
   "cell_type": "markdown",
   "metadata": {
    "deletable": false,
    "editable": false,
    "run_control": {
     "frozen": true
    }
   },
   "source": [
    "**(iv) [3 marks]**\n",
    "DataVision's policy is to remove any column of which more than 5% of the data is missing. Remove the appropriate columns. "
   ]
  },
  {
   "cell_type": "code",
   "execution_count": 88,
   "metadata": {},
   "outputs": [
    {
     "data": {
      "text/plain": [
       "Index(['show_id', 'type', 'title', 'date_added', 'release_year', 'rating',\n",
       "       'duration', 'listed_in', 'description'],\n",
       "      dtype='object')"
      ]
     },
     "execution_count": 88,
     "metadata": {},
     "output_type": "execute_result"
    }
   ],
   "source": [
    "netflix_df_clean = netflix_df.copy()\n",
    "\n",
    "for col in netflix_df_clean.columns:\n",
    "    if missing_data.at[col, \"Percentage\"] > 0.05:\n",
    "        netflix_df_clean.drop(columns=col, inplace=True)\n",
    "        \n",
    "netflix_df_clean.columns"
   ]
  },
  {
   "cell_type": "markdown",
   "metadata": {},
   "source": [
    "**(v) [4 marks]**\n",
    "For the remaining columns with missing data, apply the most appropriate imputation method to eliminate the missing data"
   ]
  },
  {
   "cell_type": "code",
   "execution_count": 101,
   "metadata": {},
   "outputs": [],
   "source": [
    "netflix_df_clean[\"rating\"].fillna(0, inplace=True)\n",
    "\n",
    "netflix_df_clean[\"date_added\"].fillna(netflix_df_clean[\"date_added\"].mode()[0], inplace=True)"
   ]
  },
  {
   "cell_type": "markdown",
   "metadata": {},
   "source": [
    "**(vi) [3 marks]**\n",
    "What is the ratio between the different types of content available on Netflix? Plot a bar chart to illustrate this."
   ]
  },
  {
   "cell_type": "code",
   "execution_count": 104,
   "metadata": {},
   "outputs": [
    {
     "name": "stderr",
     "output_type": "stream",
     "text": [
      "c:\\projects\\scaleystuffs\\venv\\lib\\site-packages\\seaborn\\_decorators.py:36: FutureWarning: Pass the following variable as a keyword arg: x. From version 0.12, the only valid positional argument will be `data`, and passing other arguments without an explicit keyword will result in an error or misinterpretation.\n",
      "  warnings.warn(\n"
     ]
    },
    {
     "data": {
      "text/plain": [
       "Text(0, 0.5, 'number of watchers')"
      ]
     },
     "execution_count": 104,
     "metadata": {},
     "output_type": "execute_result"
    },
    {
     "data": {
      "image/png": "[encoded data removed]",
      "text/plain": [
       "<Figure size 800x800 with 1 Axes>"
      ]
     },
     "metadata": {
      "needs_background": "light"
     },
     "output_type": "display_data"
    }
   ],
   "source": [
    "plt.subplots(figsize=(8, 8), dpi=100)\n",
    "ax = sns.countplot(netflix_df_clean[\"type\"])\n",
    "ax.set_xlabel(\"content type\", fontsize=15)\n",
    "ax.set_ylabel(\"number of watchers\", fontsize=15)"
   ]
  },
  {
   "cell_type": "markdown",
   "metadata": {},
   "source": [
    "**(vii) [4 marks]**\n",
    "Plot a density graph that shows the distribution of content added per year. What do you infer from this plot?"
   ]
  },
  {
   "cell_type": "code",
   "execution_count": 107,
   "metadata": {},
   "outputs": [
    {
     "name": "stderr",
     "output_type": "stream",
     "text": [
      "c:\\projects\\scaleystuffs\\venv\\lib\\site-packages\\seaborn\\distributions.py:2557: FutureWarning: `distplot` is a deprecated function and will be removed in a future version. Please adapt your code to use either `displot` (a figure-level function with similar flexibility) or `histplot` (an axes-level function for histograms).\n",
      "  warnings.warn(msg, FutureWarning)\n"
     ]
    },
    {
     "name": "stdout",
     "output_type": "stream",
     "text": [
      "the distribution is skewed to the left, implying the majority of content on Netflix has been released in the last 15 years.\n"
     ]
    },
    {
     "data": {
      "image/png": "[encoded data removed]",
      "text/plain": [
       "<Figure size 800x800 with 1 Axes>"
      ]
     },
     "metadata": {
      "needs_background": "light"
     },
     "output_type": "display_data"
    }
   ],
   "source": [
    "plt.subplots(figsize=(8, 8), dpi=100)\n",
    "ax = sns.distplot(netflix_df_clean[\"release_year\"])\n",
    "plt.title(\"Netflix Content Release {By Year}\")\n",
    "ax.set_xlabel(\"Release Year\")\n",
    "ax.set_ylabel(\"pdf(Year)\")\n",
    "print(\"the distribution is skewed to the left, implying the majority of content on Netflix has been released in the last 15 years.\")"
   ]
  },
  {
   "cell_type": "markdown",
   "metadata": {},
   "source": [
    "**(viii) [4 marks]**\n",
    "Find the 10 oldest tv shows on Netflix."
   ]
  },
  {
   "cell_type": "code",
   "execution_count": 119,
   "metadata": {},
   "outputs": [
    {
     "data": {
      "text/html": [
       "<div>\n",
       "<style scoped>\n",
       "    .dataframe tbody tr th:only-of-type {\n",
       "        vertical-align: middle;\n",
       "    }\n",
       "\n",
       "    .dataframe tbody tr th {\n",
       "        vertical-align: top;\n",
       "    }\n",
       "\n",
       "    .dataframe thead th {\n",
       "        text-align: right;\n",
       "    }\n",
       "</style>\n",
       "<table border=\"1\" class=\"dataframe\">\n",
       "  <thead>\n",
       "    <tr style=\"text-align: right;\">\n",
       "      <th></th>\n",
       "      <th>show_id</th>\n",
       "      <th>type</th>\n",
       "      <th>title</th>\n",
       "      <th>date_added</th>\n",
       "      <th>release_year</th>\n",
       "      <th>rating</th>\n",
       "      <th>duration</th>\n",
       "      <th>listed_in</th>\n",
       "      <th>description</th>\n",
       "    </tr>\n",
       "  </thead>\n",
       "  <tbody>\n",
       "    <tr>\n",
       "      <th>4292</th>\n",
       "      <td>81030762</td>\n",
       "      <td>TV Show</td>\n",
       "      <td>Pioneers: First Women Filmmakers*</td>\n",
       "      <td>December 30, 2018</td>\n",
       "      <td>1925</td>\n",
       "      <td>TV-PG</td>\n",
       "      <td>1 Season</td>\n",
       "      <td>TV Shows</td>\n",
       "      <td>This collection restores films from women who ...</td>\n",
       "    </tr>\n",
       "    <tr>\n",
       "      <th>4079</th>\n",
       "      <td>80161851</td>\n",
       "      <td>TV Show</td>\n",
       "      <td>Pioneers of African-American Cinema</td>\n",
       "      <td>February 1, 2017</td>\n",
       "      <td>1946</td>\n",
       "      <td>TV-14</td>\n",
       "      <td>1 Season</td>\n",
       "      <td>TV Shows</td>\n",
       "      <td>This newly preserved collection features more ...</td>\n",
       "    </tr>\n",
       "    <tr>\n",
       "      <th>5981</th>\n",
       "      <td>70172488</td>\n",
       "      <td>TV Show</td>\n",
       "      <td>The Twilight Zone (Original Series)</td>\n",
       "      <td>July 1, 2017</td>\n",
       "      <td>1963</td>\n",
       "      <td>TV-PG</td>\n",
       "      <td>4 Seasons</td>\n",
       "      <td>Classic &amp; Cult TV, TV Sci-Fi &amp; Fantasy</td>\n",
       "      <td>Hosted by creator Rod Serling, this groundbrea...</td>\n",
       "    </tr>\n",
       "    <tr>\n",
       "      <th>5980</th>\n",
       "      <td>70155574</td>\n",
       "      <td>TV Show</td>\n",
       "      <td>The Andy Griffith Show</td>\n",
       "      <td>July 1, 2017</td>\n",
       "      <td>1967</td>\n",
       "      <td>TV-G</td>\n",
       "      <td>8 Seasons</td>\n",
       "      <td>Classic &amp; Cult TV, TV Comedies</td>\n",
       "      <td>Homespun humor and easygoing Sheriff Andy Tayl...</td>\n",
       "    </tr>\n",
       "    <tr>\n",
       "      <th>5704</th>\n",
       "      <td>70136140</td>\n",
       "      <td>TV Show</td>\n",
       "      <td>Star Trek</td>\n",
       "      <td>October 1, 2017</td>\n",
       "      <td>1968</td>\n",
       "      <td>TV-PG</td>\n",
       "      <td>3 Seasons</td>\n",
       "      <td>Classic &amp; Cult TV, TV Action &amp; Adventure, TV S...</td>\n",
       "      <td>Led by unflappable Capt. Kirk, the crew of the...</td>\n",
       "    </tr>\n",
       "    <tr>\n",
       "      <th>614</th>\n",
       "      <td>80236357</td>\n",
       "      <td>TV Show</td>\n",
       "      <td>Monty Python's Fliegender Zirkus</td>\n",
       "      <td>October 2, 2018</td>\n",
       "      <td>1972</td>\n",
       "      <td>TV-14</td>\n",
       "      <td>1 Season</td>\n",
       "      <td>International TV Shows, TV Comedies</td>\n",
       "      <td>The Pythons elevate the absurd to new heights ...</td>\n",
       "    </tr>\n",
       "    <tr>\n",
       "      <th>5669</th>\n",
       "      <td>70213238</td>\n",
       "      <td>TV Show</td>\n",
       "      <td>Monty Python's Flying Circus</td>\n",
       "      <td>October 2, 2018</td>\n",
       "      <td>1974</td>\n",
       "      <td>NR</td>\n",
       "      <td>4 Seasons</td>\n",
       "      <td>British TV Shows, Classic &amp; Cult TV, Internati...</td>\n",
       "      <td>The Monty Python players make their mark with ...</td>\n",
       "    </tr>\n",
       "    <tr>\n",
       "      <th>5830</th>\n",
       "      <td>80244567</td>\n",
       "      <td>TV Show</td>\n",
       "      <td>Dad's Army</td>\n",
       "      <td>March 31, 2018</td>\n",
       "      <td>1977</td>\n",
       "      <td>TV-PG</td>\n",
       "      <td>10 Seasons</td>\n",
       "      <td>British TV Shows, Classic &amp; Cult TV, TV Comedies</td>\n",
       "      <td>This beloved sitcom follows the unlikely heroe...</td>\n",
       "    </tr>\n",
       "    <tr>\n",
       "      <th>4273</th>\n",
       "      <td>70205634</td>\n",
       "      <td>TV Show</td>\n",
       "      <td>El Chavo</td>\n",
       "      <td>December 31, 2017</td>\n",
       "      <td>1979</td>\n",
       "      <td>TV-PG</td>\n",
       "      <td>1 Season</td>\n",
       "      <td>Classic &amp; Cult TV, Kids' TV, Spanish-Language ...</td>\n",
       "      <td>El Chavo is a poor, nameless orphan who lives ...</td>\n",
       "    </tr>\n",
       "    <tr>\n",
       "      <th>4369</th>\n",
       "      <td>80153226</td>\n",
       "      <td>TV Show</td>\n",
       "      <td>Ninja Hattori</td>\n",
       "      <td>December 23, 2018</td>\n",
       "      <td>1981</td>\n",
       "      <td>TV-Y7</td>\n",
       "      <td>1 Season</td>\n",
       "      <td>Anime Series, Kids' TV</td>\n",
       "      <td>Elementary school student Kenichi Mitsuba's ho...</td>\n",
       "    </tr>\n",
       "  </tbody>\n",
       "</table>\n",
       "</div>"
      ],
      "text/plain": [
       "       show_id     type                                title  \\\n",
       "4292  81030762  TV Show    Pioneers: First Women Filmmakers*   \n",
       "4079  80161851  TV Show  Pioneers of African-American Cinema   \n",
       "5981  70172488  TV Show  The Twilight Zone (Original Series)   \n",
       "5980  70155574  TV Show               The Andy Griffith Show   \n",
       "5704  70136140  TV Show                            Star Trek   \n",
       "614   80236357  TV Show     Monty Python's Fliegender Zirkus   \n",
       "5669  70213238  TV Show         Monty Python's Flying Circus   \n",
       "5830  80244567  TV Show                           Dad's Army   \n",
       "4273  70205634  TV Show                             El Chavo   \n",
       "4369  80153226  TV Show                        Ninja Hattori   \n",
       "\n",
       "             date_added  release_year rating    duration  \\\n",
       "4292  December 30, 2018          1925  TV-PG    1 Season   \n",
       "4079   February 1, 2017          1946  TV-14    1 Season   \n",
       "5981       July 1, 2017          1963  TV-PG   4 Seasons   \n",
       "5980       July 1, 2017          1967   TV-G   8 Seasons   \n",
       "5704    October 1, 2017          1968  TV-PG   3 Seasons   \n",
       "614     October 2, 2018          1972  TV-14    1 Season   \n",
       "5669    October 2, 2018          1974     NR   4 Seasons   \n",
       "5830     March 31, 2018          1977  TV-PG  10 Seasons   \n",
       "4273  December 31, 2017          1979  TV-PG    1 Season   \n",
       "4369  December 23, 2018          1981  TV-Y7    1 Season   \n",
       "\n",
       "                                              listed_in  \\\n",
       "4292                                           TV Shows   \n",
       "4079                                           TV Shows   \n",
       "5981             Classic & Cult TV, TV Sci-Fi & Fantasy   \n",
       "5980                     Classic & Cult TV, TV Comedies   \n",
       "5704  Classic & Cult TV, TV Action & Adventure, TV S...   \n",
       "614                 International TV Shows, TV Comedies   \n",
       "5669  British TV Shows, Classic & Cult TV, Internati...   \n",
       "5830   British TV Shows, Classic & Cult TV, TV Comedies   \n",
       "4273  Classic & Cult TV, Kids' TV, Spanish-Language ...   \n",
       "4369                             Anime Series, Kids' TV   \n",
       "\n",
       "                                            description  \n",
       "4292  This collection restores films from women who ...  \n",
       "4079  This newly preserved collection features more ...  \n",
       "5981  Hosted by creator Rod Serling, this groundbrea...  \n",
       "5980  Homespun humor and easygoing Sheriff Andy Tayl...  \n",
       "5704  Led by unflappable Capt. Kirk, the crew of the...  \n",
       "614   The Pythons elevate the absurd to new heights ...  \n",
       "5669  The Monty Python players make their mark with ...  \n",
       "5830  This beloved sitcom follows the unlikely heroe...  \n",
       "4273  El Chavo is a poor, nameless orphan who lives ...  \n",
       "4369  Elementary school student Kenichi Mitsuba's ho...  "
      ]
     },
     "execution_count": 119,
     "metadata": {},
     "output_type": "execute_result"
    }
   ],
   "source": [
    "# netflix_df_clean[\"release_year\"].sort_values(ascending=True).head(10)\n",
    "nf_df_oldest_first = netflix_df_clean.sort_values(\"release_year\", ascending=True)\n",
    "nf_df_oldest_first[nf_df_oldest_first[\"type\"] == \"TV Show\"].head(10)\n",
    "# or nf_df_oldest_first[nf_df_oldest_first[\"type\"] == \"TV Show\"][:10]"
   ]
  },
  {
   "cell_type": "markdown",
   "metadata": {
    "deletable": false,
    "editable": false,
    "run_control": {
     "frozen": true
    }
   },
   "source": [
    "---"
   ]
  },
  {
   "cell_type": "markdown",
   "metadata": {},
   "source": [
    "### Question 3: Inferential Analysis (25 marks)"
   ]
  },
  {
   "cell_type": "markdown",
   "metadata": {},
   "source": [
    "**Part A** \n",
    "\n",
    "York City Knights, York's professional rugby league club, wants to assess whether a new diet the team has been using helped rugby players to increase their muscle size. DataVision has collected data for 20 rugby players before and after using the diet.\n",
    "\n",
    "On you local drive, you have a dataset named \"rugby.csv\". You should load this dataset and answer the following data questions using Python 3, Pandas and Matplotlib.\n"
   ]
  },
  {
   "cell_type": "code",
   "execution_count": 152,
   "metadata": {},
   "outputs": [
    {
     "data": {
      "text/html": [
       "<div>\n",
       "<style scoped>\n",
       "    .dataframe tbody tr th:only-of-type {\n",
       "        vertical-align: middle;\n",
       "    }\n",
       "\n",
       "    .dataframe tbody tr th {\n",
       "        vertical-align: top;\n",
       "    }\n",
       "\n",
       "    .dataframe thead th {\n",
       "        text-align: right;\n",
       "    }\n",
       "</style>\n",
       "<table border=\"1\" class=\"dataframe\">\n",
       "  <thead>\n",
       "    <tr style=\"text-align: right;\">\n",
       "      <th></th>\n",
       "      <th>Pre</th>\n",
       "      <th>Post</th>\n",
       "    </tr>\n",
       "    <tr>\n",
       "      <th>ID</th>\n",
       "      <th></th>\n",
       "      <th></th>\n",
       "    </tr>\n",
       "  </thead>\n",
       "  <tbody>\n",
       "    <tr>\n",
       "      <th>1</th>\n",
       "      <td>18</td>\n",
       "      <td>22</td>\n",
       "    </tr>\n",
       "    <tr>\n",
       "      <th>2</th>\n",
       "      <td>21</td>\n",
       "      <td>25</td>\n",
       "    </tr>\n",
       "    <tr>\n",
       "      <th>3</th>\n",
       "      <td>16</td>\n",
       "      <td>17</td>\n",
       "    </tr>\n",
       "    <tr>\n",
       "      <th>4</th>\n",
       "      <td>22</td>\n",
       "      <td>24</td>\n",
       "    </tr>\n",
       "    <tr>\n",
       "      <th>5</th>\n",
       "      <td>19</td>\n",
       "      <td>16</td>\n",
       "    </tr>\n",
       "    <tr>\n",
       "      <th>6</th>\n",
       "      <td>24</td>\n",
       "      <td>29</td>\n",
       "    </tr>\n",
       "    <tr>\n",
       "      <th>7</th>\n",
       "      <td>17</td>\n",
       "      <td>20</td>\n",
       "    </tr>\n",
       "    <tr>\n",
       "      <th>8</th>\n",
       "      <td>21</td>\n",
       "      <td>23</td>\n",
       "    </tr>\n",
       "    <tr>\n",
       "      <th>9</th>\n",
       "      <td>23</td>\n",
       "      <td>19</td>\n",
       "    </tr>\n",
       "    <tr>\n",
       "      <th>10</th>\n",
       "      <td>18</td>\n",
       "      <td>20</td>\n",
       "    </tr>\n",
       "    <tr>\n",
       "      <th>11</th>\n",
       "      <td>14</td>\n",
       "      <td>15</td>\n",
       "    </tr>\n",
       "    <tr>\n",
       "      <th>12</th>\n",
       "      <td>16</td>\n",
       "      <td>15</td>\n",
       "    </tr>\n",
       "    <tr>\n",
       "      <th>13</th>\n",
       "      <td>16</td>\n",
       "      <td>18</td>\n",
       "    </tr>\n",
       "    <tr>\n",
       "      <th>14</th>\n",
       "      <td>19</td>\n",
       "      <td>26</td>\n",
       "    </tr>\n",
       "    <tr>\n",
       "      <th>15</th>\n",
       "      <td>18</td>\n",
       "      <td>18</td>\n",
       "    </tr>\n",
       "    <tr>\n",
       "      <th>16</th>\n",
       "      <td>20</td>\n",
       "      <td>24</td>\n",
       "    </tr>\n",
       "    <tr>\n",
       "      <th>17</th>\n",
       "      <td>12</td>\n",
       "      <td>18</td>\n",
       "    </tr>\n",
       "    <tr>\n",
       "      <th>18</th>\n",
       "      <td>22</td>\n",
       "      <td>25</td>\n",
       "    </tr>\n",
       "    <tr>\n",
       "      <th>19</th>\n",
       "      <td>15</td>\n",
       "      <td>19</td>\n",
       "    </tr>\n",
       "    <tr>\n",
       "      <th>20</th>\n",
       "      <td>17</td>\n",
       "      <td>16</td>\n",
       "    </tr>\n",
       "  </tbody>\n",
       "</table>\n",
       "</div>"
      ],
      "text/plain": [
       "    Pre  Post\n",
       "ID           \n",
       "1    18    22\n",
       "2    21    25\n",
       "3    16    17\n",
       "4    22    24\n",
       "5    19    16\n",
       "6    24    29\n",
       "7    17    20\n",
       "8    21    23\n",
       "9    23    19\n",
       "10   18    20\n",
       "11   14    15\n",
       "12   16    15\n",
       "13   16    18\n",
       "14   19    26\n",
       "15   18    18\n",
       "16   20    24\n",
       "17   12    18\n",
       "18   22    25\n",
       "19   15    19\n",
       "20   17    16"
      ]
     },
     "execution_count": 152,
     "metadata": {},
     "output_type": "execute_result"
    }
   ],
   "source": [
    "rugby_df = pd.read_csv(\"rugby.csv\")\n",
    "rugby_df.set_index(rugby_df[\"ID\"], inplace=True, drop=True)\n",
    "rugby_df.drop(columns=[\"ID\"], inplace=True)\n",
    "# rugby_df.reset_index(inplace=False)  # will return to how it was after parsing csv file in\n",
    "rugby_df"
   ]
  },
  {
   "cell_type": "markdown",
   "metadata": {},
   "source": [
    "**(i) [3 marks]**\n",
    "State the Null and Alternative hypotheses, reporting the variables that will be used for evaluating the hypotheses"
   ]
  },
  {
   "cell_type": "code",
   "execution_count": 158,
   "metadata": {},
   "outputs": [],
   "source": [
    "# Ho: μ_post == μ_pre\n",
    "# Ha: μ_post > μ_pre  # well, if we were looking for a change either way, not increase as specified, would be μ_post != μ_pre\n",
    "# where μ_post is muscle size before new diet\n",
    "# and μ_pre is muscle size after new diet"
   ]
  },
  {
   "cell_type": "markdown",
   "metadata": {},
   "source": [
    "**(ii) [2 marks]**\n",
    "Calculate the degrees of freedom"
   ]
  },
  {
   "cell_type": "code",
   "execution_count": 159,
   "metadata": {},
   "outputs": [
    {
     "data": {
      "text/plain": [
       "19"
      ]
     },
     "execution_count": 159,
     "metadata": {},
     "output_type": "execute_result"
    }
   ],
   "source": [
    "d_of_f = rugby_df.shape[0] - 1\n",
    "d_of_f"
   ]
  },
  {
   "cell_type": "markdown",
   "metadata": {},
   "source": [
    "**(iii) [3 marks]**\n",
    "Find the critical value for a two-tailed test with significance level α=0.05"
   ]
  },
  {
   "cell_type": "code",
   "execution_count": 169,
   "metadata": {},
   "outputs": [
    {
     "data": {
      "text/plain": [
       "3.0724582991474434"
      ]
     },
     "execution_count": 169,
     "metadata": {},
     "output_type": "execute_result"
    }
   ],
   "source": [
    "# huh, so it is a two tailed test. guess the wording in the case study was inaccurate XOS {or maybe me...? T.T}\n",
    "\n",
    "alpha = 0.05\n",
    "negative_side_critical_value = stats.t.ppf(alpha / 2, d_of_f)\n",
    "positive_side_critical_value = stats.t.ppf(1 - (alpha / 2), d_of_f)\n",
    "# positive_side_critical_value = -negative_side_critical_value  # or/\n",
    "# cuz negative and positive sides have the same values"
   ]
  },
  {
   "cell_type": "markdown",
   "metadata": {},
   "source": [
    "**(iv) [4 marks]**\n",
    "Perform the appropriate t test to evaluate the hypotheses for significance level 𝛼=0.05 . You must show your calculations, i.e., calculate the result analytically, but you may use the appropriate scipy method to check your results."
   ]
  },
  {
   "cell_type": "code",
   "execution_count": 173,
   "metadata": {},
   "outputs": [
    {
     "data": {
      "text/plain": [
       "-3.2312526655803127"
      ]
     },
     "execution_count": 173,
     "metadata": {},
     "output_type": "execute_result"
    }
   ],
   "source": [
    "# analytically\n",
    "# two samples t test https://www.statology.org/paired-samples-t-test/\n",
    "pre = rugby_df[\"Pre\"]\n",
    "post = rugby_df[\"Post\"]\n",
    "rugby_df[\"Difference\"] = pre - post\n",
    "diff = rugby_df[\"Difference\"]\n",
    "s_diff = np.std(diff, ddof=1)\n",
    "Tx_diff = np.mean(diff)\n",
    "t_value_analytically = Tx_diff / ( s_diff / np.sqrt(len(pre)) )\n",
    "t_value_analytically"
   ]
  },
  {
   "cell_type": "code",
   "execution_count": 176,
   "metadata": {},
   "outputs": [
    {
     "data": {
      "text/plain": [
       "-3.231252665580312"
      ]
     },
     "execution_count": 176,
     "metadata": {},
     "output_type": "execute_result"
    }
   ],
   "source": [
    "# programatically\n",
    "t_value_programatically = stats.ttest_rel(pre, post)[0]\n",
    "t_value_programatically"
   ]
  },
  {
   "cell_type": "code",
   "execution_count": 177,
   "metadata": {},
   "outputs": [],
   "source": [
    "# conclusion:\n",
    "# we can reject Ho, because abs(t_value) > abs(t_critical_value) ~ and so t value lies in critical region"
   ]
  },
  {
   "cell_type": "markdown",
   "metadata": {},
   "source": [
    "**Part B**\n",
    "\n",
    "FoxWood Inc. makes Apple Pencils for iPad and is interested in increasing the strength of their product. It is thought that strength is a function of metal concentration in the core of the pencil. An investigation is carried out to compare four levels of metal concentration: 5%, 10%, 15% and 20%. For each concentration level, six samples are collected and are measured based on their strength.\n",
    "\n",
    "On you local drive, you have a dataset named \"pencil.csv\". You should load this dataset and answer the following data questions using Python 3, Pandas and Matplotlib."
   ]
  },
  {
   "cell_type": "code",
   "execution_count": 182,
   "metadata": {},
   "outputs": [
    {
     "data": {
      "text/html": [
       "<div>\n",
       "<style scoped>\n",
       "    .dataframe tbody tr th:only-of-type {\n",
       "        vertical-align: middle;\n",
       "    }\n",
       "\n",
       "    .dataframe tbody tr th {\n",
       "        vertical-align: top;\n",
       "    }\n",
       "\n",
       "    .dataframe thead th {\n",
       "        text-align: right;\n",
       "    }\n",
       "</style>\n",
       "<table border=\"1\" class=\"dataframe\">\n",
       "  <thead>\n",
       "    <tr style=\"text-align: right;\">\n",
       "      <th></th>\n",
       "      <th>Sample 1</th>\n",
       "      <th>Sample 2</th>\n",
       "      <th>Sample 3</th>\n",
       "      <th>Sample 4</th>\n",
       "      <th>Sample 5</th>\n",
       "      <th>Sample 6</th>\n",
       "    </tr>\n",
       "    <tr>\n",
       "      <th>Level</th>\n",
       "      <th></th>\n",
       "      <th></th>\n",
       "      <th></th>\n",
       "      <th></th>\n",
       "      <th></th>\n",
       "      <th></th>\n",
       "    </tr>\n",
       "  </thead>\n",
       "  <tbody>\n",
       "    <tr>\n",
       "      <th>0.05</th>\n",
       "      <td>7</td>\n",
       "      <td>8</td>\n",
       "      <td>15</td>\n",
       "      <td>11</td>\n",
       "      <td>9</td>\n",
       "      <td>10</td>\n",
       "    </tr>\n",
       "    <tr>\n",
       "      <th>0.10</th>\n",
       "      <td>12</td>\n",
       "      <td>17</td>\n",
       "      <td>13</td>\n",
       "      <td>18</td>\n",
       "      <td>19</td>\n",
       "      <td>15</td>\n",
       "    </tr>\n",
       "    <tr>\n",
       "      <th>0.15</th>\n",
       "      <td>14</td>\n",
       "      <td>18</td>\n",
       "      <td>19</td>\n",
       "      <td>17</td>\n",
       "      <td>16</td>\n",
       "      <td>18</td>\n",
       "    </tr>\n",
       "    <tr>\n",
       "      <th>0.20</th>\n",
       "      <td>19</td>\n",
       "      <td>25</td>\n",
       "      <td>22</td>\n",
       "      <td>23</td>\n",
       "      <td>18</td>\n",
       "      <td>20</td>\n",
       "    </tr>\n",
       "  </tbody>\n",
       "</table>\n",
       "</div>"
      ],
      "text/plain": [
       "       Sample 1  Sample 2  Sample 3  Sample 4  Sample 5  Sample 6\n",
       "Level                                                            \n",
       "0.05          7         8        15        11         9        10\n",
       "0.10         12        17        13        18        19        15\n",
       "0.15         14        18        19        17        16        18\n",
       "0.20         19        25        22        23        18        20"
      ]
     },
     "execution_count": 182,
     "metadata": {},
     "output_type": "execute_result"
    }
   ],
   "source": [
    "pencil_df = pd.read_csv(\"pencil.csv\")\n",
    "pencil_df.set_index(\"Level\", inplace=True, drop=True)\n",
    "pencil_df"
   ]
  },
  {
   "cell_type": "markdown",
   "metadata": {},
   "source": [
    "**(v) [5 marks]**\n",
    "Plot a boxplot for the different levels of metal concentration"
   ]
  },
  {
   "cell_type": "code",
   "execution_count": 196,
   "metadata": {},
   "outputs": [
    {
     "name": "stdout",
     "output_type": "stream",
     "text": [
      "0.05\n",
      "0.1\n",
      "0.15\n",
      "0.2\n"
     ]
    },
    {
     "data": {
      "image/png": "[encoded data removed]",
      "text/plain": [
       "<Figure size 900x900 with 1 Axes>"
      ]
     },
     "metadata": {
      "needs_background": "light"
     },
     "output_type": "display_data"
    }
   ],
   "source": [
    "apple_boxplotting_friendly_data = pencil_df.transpose()\n",
    "plt.subplots(figsize=(9, 9), dpi=100)\n",
    "ax = sns.boxplot(data=apple_boxplotting_friendly_data)\n",
    "\n",
    "ax.set_xlabel(\"level of metal concentration\", fontsize=15)\n",
    "ax.set_ylabel(\"strength value\", fontsize=15)"
   ]
  },
  {
   "cell_type": "markdown",
   "metadata": {},
   "source": [
    "**(vi) [3 marks]**\n",
    "State the Null and Alternative hypotheses that will enable the company to check whether there is any difference in strength depending on the levels of metal concrentation"
   ]
  },
  {
   "cell_type": "code",
   "execution_count": 195,
   "metadata": {},
   "outputs": [],
   "source": [
    "# Ho: x_0.05 == x_0.10 == x_0.15 == x_0.20  # there is no statistically significant difference in pencil strength between different levels of metal concentration\n",
    "# Ha: ∃i, j ∈ {0.05, 0.10, 0.15, 0.20} ∙ (i != j) ∧ (x_i != x_j)  # there exists at least one statistically significant difference in pencil strength between different levels of metal concentration"
   ]
  },
  {
   "cell_type": "markdown",
   "metadata": {},
   "source": [
    "**(vii) [5 marks]**\n",
    "Perform the appropriate test to evaluate the hypotheses for significance level 𝛼=0.05 . You must show your calculations, i.e., calculate the result analytically, but you may use the appropriate scipy method to check your results."
   ]
  },
  {
   "cell_type": "code",
   "execution_count": 220,
   "metadata": {},
   "outputs": [
    {
     "data": {
      "text/plain": [
       "19.605206999573305"
      ]
     },
     "execution_count": 220,
     "metadata": {},
     "output_type": "execute_result"
    }
   ],
   "source": [
    "# one way anova\n",
    "\n",
    "# formulas:\n",
    "# f = (variance_due_to_group_differences) / (variance_due_to_random_chance)  # variance_due_to_random_chance_among_individuals_within_single_groups\n",
    "# = (variance_between_groups) / (variance_within_groups)\n",
    "# = MSbetween / MSwithin\n",
    "# = mean_of_sum_of_squares_between_groups / mean_of_sum_of_squares_within_groups\n",
    "# MSbetween = SSbetween / dfbetween\n",
    "# MSwithin = SSwithin / dfwithin\n",
    "# dfbetween = degrees_of_freedom_between = k - 1 = number_of_groups - 1\n",
    "# dfwithin = degrees_of_freedom_within = nt - k = number_of_participants_across_all_groups - number_of_groups\n",
    "# SSbetween = ∑((∑x)^2 / n) - ((∑∑x)^2/nt)\n",
    "# SSwithin = ∑∑(x^2) - ∑((∑x)^2/n)\n",
    "\n",
    "# lists that shall contain the different groups': sample size, sum of means, sample means, \n",
    "n = []\n",
    "sigma_x = []  # ∑x\n",
    "x_bar = []  # x̄\n",
    "sigma_x_power2_div_n = []  # (∑x)² / n\n",
    "sigma_xpower2_ = []  # ∑(x²)\n",
    "\n",
    "\n",
    "# within groups calculations\n",
    "for metal_conc_col in pencil_df.index:\n",
    "    metal_conc_series = pencil_df.loc[metal_conc_col]\n",
    "    n.append(metal_conc_series.size)\n",
    "    sigma_x.append(sum(metal_conc_series))\n",
    "    x_bar.append(np.mean(metal_conc_series))\n",
    "    sigma_x_power2_div_n.append(np.power(sum(metal_conc_series), 2) / len(metal_conc_series))\n",
    "    sigma_xpower2_.append(sum([np.power(j, 2) for j in metal_conc_series]))\n",
    "    \n",
    "# between groups calculations\n",
    "nt = sum(n)  # n total sample size\n",
    "sigma_sigma_x = sum(sigma_x)  # ∑∑x\n",
    "sigma_sigma_x_2_div_nt = np.power(sigma_sigma_x, 2) / nt  # (∑∑x)^2/nt\n",
    "sigma_sigma_x_power2_div_n_ = sum(sigma_x_power2_div_n)  # ∑((∑x)^2 / n)\n",
    "sigma_sigma_xpower2__ = sum(sigma_xpower2_)  # ∑∑(x^2)\n",
    "\n",
    "df_between = pencil_df.shape[0] - 1  # degrees of freedom\n",
    "df_within = nt - pencil_df.shape[0]  # degrees of freedom\n",
    "\n",
    "SSbetween = sigma_sigma_x_power2_div_n_ - sigma_sigma_x_2_div_nt\n",
    "SSwithin = sigma_sigma_xpower2__ - sigma_sigma_x_power2_div_n_\n",
    "\n",
    "MSbetween = SSbetween / df_between\n",
    "MSwithin = SSwithin / df_within\n",
    "\n",
    "f_value_via_formulas = MSbetween / MSwithin\n",
    "f_value_via_formulas"
   ]
  },
  {
   "cell_type": "code",
   "execution_count": 251,
   "metadata": {},
   "outputs": [
    {
     "data": {
      "text/plain": [
       "F_onewayResult(statistic=19.605206999573184, pvalue=3.5925782584743027e-06)"
      ]
     },
     "execution_count": 251,
     "metadata": {},
     "output_type": "execute_result"
    }
   ],
   "source": [
    "# # PROGRAMATTICALLY\n",
    "\n",
    "pencil_0005 = pencil_df.loc[pencil_df.index[0]]  # or pencil_df.loc[float(0.05)]\n",
    "pencil_0010 = pencil_df.loc[pencil_df.index[1]]\n",
    "pencil_0015 = pencil_df.loc[pencil_df.index[2]]\n",
    "pencil_0020 = pencil_df.loc[pencil_df.index[3]]\n",
    "\n",
    "stats.f_oneway(pencil_0005, pencil_0010, pencil_0015, pencil_0020)\n",
    "# alhamdulillah got same"
   ]
  },
  {
   "cell_type": "code",
   "execution_count": null,
   "metadata": {},
   "outputs": [],
   "source": [
    "# we can reject Ho, because calculated f value is greater than the f critical value, as in, "
   ]
  },
  {
   "cell_type": "markdown",
   "metadata": {
    "deletable": false,
    "editable": false,
    "run_control": {
     "frozen": true
    }
   },
   "source": [
    "### Question 4: Data Science Process (25 marks)\n",
    "\n",
    "DataVision has recently been acquired by Alphabet Inc. This acquisition led to expanding the technical teams of DataVision and having several job openings for data scientist and software engineering positions. Given its expertise in data science, DataVision considers to develop a Virtual Assistant that helps its human resources team in making a more cohesive and consistent analysis of job applications.\n",
    "\n",
    "**(i) [20 marks]** \n",
    "Using **no more than two sentences** for each data science lifecycle step, describe how you would implement this project to support the development of the Virtual Assistant of DataVision. You can use examples, fictional data or plots to explain your arguments.\n",
    "\n",
    "**(ii) [5 marks]** Considering the sensitive information associated with developing such a Virtual Assistant, provide details of **two** ethical challenges that must be addressed and are also aligned with the guidelines for ethical data science or trustworthy AI. Use no more than **two** sentences per ethical challenge.\n",
    "\n"
   ]
  },
  {
   "cell_type": "markdown",
   "metadata": {},
   "source": [
    "### Write your answer here. IDK. wth is this question really, sighhh\n",
    "\n",
    "####### copyings\n",
    "##### Note: these are some indicative answers. \n",
    "\n",
    "### Part i: Data Science Lifecycle\n",
    "\n",
    "#### Identify Question: \n",
    "* The main question is how to determine which job applications are most likely to become valuable assets for DataVision\n",
    "* A primary consideration is to detetermine the set of tasks and key areas that could increase the efficiency of the human resources (HR) if undertaken by a Virtual Assistant\n",
    "* This information would help to establish what knowledge is required so that the Virtual Assistant can rank several job applications and enable to determine which types of raw data should be collected\n",
    "* All these tasks can be achieved by conducting interviews with the HR team\n",
    "* Success measures involve reducing the time and effort required for processing job applications\n",
    "* All this information and questions form a specification for developing the data science project and producing a Virtual Assistant for the HR team\n",
    "\n",
    "\n",
    "#### Collect Raw Data\n",
    "* Having established the set of data needed for the Virtual Assistant, in this step we need to collect this data from existing job applications! \n",
    "* To achieve this, we need to identify the data sources (e.g., databases) in which existing data is stored and establish several characteristics about the data sources (e.g., how accurate they are) \n",
    "* These ddata sources might not belong only to DataVision but also to other companies owned by Alphabet Inc that have data scientists in their team\n",
    "* Also, we need to develop (ideally automated) procedures to retrieve this data from the data sources in a robust and reliable manner \n",
    "* Examples of data that can be collected include: education (degrees), previous experience, programming languages known, portfolio of data science/software engineering projects etc. An interesting data item to be collected if the job application has a deadline is the time that the application has been submitted. This could provide useful insight regarding the ability of an applicant to meet strict deadlines.\n",
    "\n",
    "\n",
    "#### Process Data\n",
    "* We (typically) need to put data into appropriately formatted dataframes and give each column a consistent name (e.g., ID, Name, Previous Experience, Email)\n",
    "* If data have come from different data sources (e.g., data bases) there might be a need to homogenise the data. This might include transforming data types in the same format, clean columns that have consistently reduntant information (e.g., the \"minutes\" from the duration column in the Netflix dataset can be removed) or merging columns that have the same information\n",
    "* We also need to clean further the collected data by removing columns that are not needed and could lead to generating a biased Virtual Assistant. Such columns include (Name, Email, Gender etc). \n",
    "* We can further apply a strategy to impute missing values or detele columns (variables) in which more than 5% or 10% data is missing. \n",
    "\n",
    "\n",
    "#### Explore Data\n",
    "* Compute descriptive statistics (measures of central tendency and dispersion) and determine a set of effective visualisation artifacts for the collected data. Using this information, identify patterns in data and explore what can be learnt from these patterns. For instance, this might include the average age of applicants or the standard deviation of years of experience the applicants have had before making an application to the company. All these information should be correlated with the outcome of each job application, whether it has been successful or not.\n",
    "* Using again descriptive statistics and boxplots, we can inspect the data visually identify various characteristics of our applicants. For instance, the average length stayed at a company might indicate whether the applicant shows loyalty to the company and goes only to jobs he likes doing or whether the applicant gets bored easily and jumps from one job to another. \n",
    "* Another factor that could be investigated are demographics data which could indicate whether the company's job marketing campaigns have managed to attract the best talent for a particular job advertisement. \n",
    "\n",
    "\n",
    "#### Model/Analyse Data\n",
    "* Determine the best type of machine models for a given task. For instance, this might include developing a classification algorithm that uses as inputs a meaningful subset of the collected data (e.g., experience, education, previous jobs, age) and determines whether the applicant should be shortlisted.\n",
    "* Another type of machine learning model is to provide a suggestion using a linear regression model for an indicative salary for the job applicant given again a meaningful subset of the collected data (e.g., experience, education, previous jobs, age)\n",
    "* A third type of machine learning model is clustering which can be used to identify the team in which a job applicant might be assigned to. This information can be used to establish whether the applicant has something unique to bring to the team (e.g., experience in Deep Neural Networks that is currently lacking from that team within DataVision).\n",
    "* In all cases, the data given to the machine learning models have the decisions made by the HR team (ground truth) against which the models will be trained. The outcomes of the models should be counterchecked by the HR team to avoid discrimination. If the results are inconsistent then our machine learning models need further calibration or more training.\n",
    "\n",
    "\n",
    "#### Communicate/Visualise Data\n",
    "* First, the developed Virtual Assistant should be shown to the HR team to determine whether it can indeed support the task it has been developed for. This can be done by analysing the outcomes from job applications first in a human-machine mode (running in parallel with the manual job application filtering process carried out by the HR team). Doing this will enable to validate the Virtual Assistant while in operation.\n",
    "* Once the Virtual Assistant is deployed, the predictions made should be communicated clearly to the HR team with easily understandable visualisation artifacts indicating whether an applicant has been shortlisted or not. Equally important, and if possible, the reasons for the outcome of this decision should be enumarated (see explainability in AI)\n",
    "\n",
    "\n",
    "### Part ii: Ethics\n",
    "\n",
    "#### Potential Discrimination/Bias in Shortlisting¶\n",
    "* Data collection, analysis and modelling process should be done very carefully to avoid any underlying bias in the existing workforce. As said earlier, the data might be collected not only from DataVision but also from other companies affiliated with Alphabet Inc and have to do with data science/software engineering. If the data collected are biased (see the Assistant developed by Amazon), then the machine learning models will also be biased. \n",
    "\n",
    "#### Privacy and Data Governance\n",
    "* It is important to collect, store and maintain the collected data securely but also to preserve the privacy of the individuals reflected on this data. If the data would be used to train machine learning models, their consent to do this should be given before doing so, giving them also the option to opt out if they do not want their data to be used in this manner. At the same time, however, deciding to opt out should not have a negative outcome on the employee.\n",
    "\n",
    "#### Trustworthiness of the Virtual Assistant\n",
    "* Since one of the Virtual Assistant's task is to shortlist prospective employees, the rational for a positive or negative answer should be explainable. In other words, the decision made should be transparent so that HR team members can comprehend with the Asistant has made this decision (enabling to trace the decision to the reasons led to it). Also, data scientists should be able to use this transparency and traceability to identify bugs (e.g., discrimination) in the developed machine learning models. \n",
    "\n",
    "---"
   ]
  },
  {
   "cell_type": "markdown",
   "metadata": {
    "deletable": false,
    "editable": false,
    "run_control": {
     "frozen": true
    }
   },
   "source": [
    "---"
   ]
  }
 ],
 "metadata": {
  "kernelspec": {
   "display_name": "Python 3",
   "language": "python",
   "name": "python3"
  },
  "language_info": {
   "codemirror_mode": {
    "name": "ipython",
    "version": 3
   },
   "file_extension": ".py",
   "mimetype": "text/x-python",
   "name": "python",
   "nbconvert_exporter": "python",
   "pygments_lexer": "ipython3",
   "version": "3.8.2"
  }
 },
 "nbformat": 4,
 "nbformat_minor": 4
}

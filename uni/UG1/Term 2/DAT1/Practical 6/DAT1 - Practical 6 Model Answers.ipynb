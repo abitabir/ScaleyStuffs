{
 "cells": [
  {
   "cell_type": "markdown",
   "metadata": {},
   "source": [
    "# DATA 1 Practical 6 - Model Answers\n",
    "                                                                                                    Simos Gerasimou\n",
    "\n",
    "\n",
    "## From Inferences to Predictions and Back. Where Should We Stop?\n",
    "\n",
    "**Pandas API Reference**: https://pandas.pydata.org/pandas-docs/stable/reference/index.html\n",
    "\n",
    "**Matplotlib API Reference**: https://matplotlib.org/3.1.1/api/index.html\n",
    "\n",
    "**Seaborn API Reference**: https://seaborn.pydata.org/api.html\n",
    "\n",
    "**Scipy Stats API Reference**: https://docs.scipy.org/doc/scipy/reference/stats.html\n",
    "\n",
    "**t table Reference**:  http://www.ttable.org\n",
    "\n",
    "**F table Reference**  https://www.stat.purdue.edu/~jtroisi/STAT350Spring2015/tables/FTable.pdf\n",
    "\n",
    "**Chi-Square table Reference** https://people.smp.uq.edu.au/YoniNazarathy/stat_models_B_course_spring_07/distributions/chisqtab.pdf\n"
   ]
  },
  {
   "cell_type": "code",
   "execution_count": 3,
   "metadata": {},
   "outputs": [],
   "source": [
    "#Preamble: Add main Python libraries\n",
    "import pandas as pd \n",
    "import seaborn as sns\n",
    "import matplotlib.pyplot as plt\n",
    "import numpy as np\n",
    "import scipy.stats as stats"
   ]
  },
  {
   "cell_type": "markdown",
   "metadata": {},
   "source": [
    "***\n",
    "\n",
    "## Inferential Statistics Primer\n",
    "\n",
    "#### To get started with today's practical, you can go to Lectures 11 and 12 and try to replicate the inferential statistics we saw during the lectures, i.e., independent and paired t test, ANOVA and Chi-Square. This will enable you to understand better how these tests operate under the hood. "
   ]
  },
  {
   "cell_type": "markdown",
   "metadata": {},
   "source": [
    "***"
   ]
  },
  {
   "cell_type": "markdown",
   "metadata": {},
   "source": [
    "### Part A: Yorkshire City Council\n",
    "\n",
    "DataVision has been commissioned by the York City Council to analyse a set of data regarding citizens of Yorkshire and extract actionable knowledge. \n",
    "\n",
    "The dataset for Yorkhire citizens is available on the following link:\n",
    "* [Yorkshire dataset](https://drive.google.com/file/d/12UiWQOx8qOiAOBrKirnlU6TG6lv2lfHu/view?usp=sharing)\n",
    "\n",
    "\n",
    "**TA1) Load the Yorkshire dataset using Pandas**\n",
    "\n",
    "**Note**: You have to download the dataset on your local machine and then load it onto the Jupyter Notebook"
   ]
  },
  {
   "cell_type": "code",
   "execution_count": 4,
   "metadata": {},
   "outputs": [],
   "source": [
    "#Answer\n",
    "df = pd.read_csv(\"yorkshire.csv\")\n",
    "# df.drop([\"Unnamed: 0\"], axis=1, inplace=True)\n",
    "# df.to_csv(\"yorkshire.csv\", index=False)"
   ]
  },
  {
   "cell_type": "markdown",
   "metadata": {},
   "source": [
    "**TA2) Print the first 15 records of the dataframe**"
   ]
  },
  {
   "cell_type": "code",
   "execution_count": 5,
   "metadata": {},
   "outputs": [
    {
     "data": {
      "text/html": [
       "<div>\n",
       "<style scoped>\n",
       "    .dataframe tbody tr th:only-of-type {\n",
       "        vertical-align: middle;\n",
       "    }\n",
       "\n",
       "    .dataframe tbody tr th {\n",
       "        vertical-align: top;\n",
       "    }\n",
       "\n",
       "    .dataframe thead th {\n",
       "        text-align: right;\n",
       "    }\n",
       "</style>\n",
       "<table border=\"1\" class=\"dataframe\">\n",
       "  <thead>\n",
       "    <tr style=\"text-align: right;\">\n",
       "      <th></th>\n",
       "      <th>id</th>\n",
       "      <th>age</th>\n",
       "      <th>gender</th>\n",
       "      <th>region</th>\n",
       "      <th>income</th>\n",
       "      <th>married</th>\n",
       "      <th>children</th>\n",
       "      <th>car</th>\n",
       "      <th>mortgage</th>\n",
       "    </tr>\n",
       "  </thead>\n",
       "  <tbody>\n",
       "    <tr>\n",
       "      <th>0</th>\n",
       "      <td>ID12101</td>\n",
       "      <td>48</td>\n",
       "      <td>FEMALE</td>\n",
       "      <td>INNER_CITY</td>\n",
       "      <td>17546.000000</td>\n",
       "      <td>NO</td>\n",
       "      <td>1</td>\n",
       "      <td>NO</td>\n",
       "      <td>NO</td>\n",
       "    </tr>\n",
       "    <tr>\n",
       "      <th>1</th>\n",
       "      <td>ID12102</td>\n",
       "      <td>40</td>\n",
       "      <td>MALE</td>\n",
       "      <td>TOWN</td>\n",
       "      <td>30085.100000</td>\n",
       "      <td>YES</td>\n",
       "      <td>3</td>\n",
       "      <td>YES</td>\n",
       "      <td>YES</td>\n",
       "    </tr>\n",
       "    <tr>\n",
       "      <th>2</th>\n",
       "      <td>ID12103</td>\n",
       "      <td>51</td>\n",
       "      <td>FEMALE</td>\n",
       "      <td>INNER_CITY</td>\n",
       "      <td>16575.400000</td>\n",
       "      <td>YES</td>\n",
       "      <td>0</td>\n",
       "      <td>YES</td>\n",
       "      <td>NO</td>\n",
       "    </tr>\n",
       "    <tr>\n",
       "      <th>3</th>\n",
       "      <td>ID12104</td>\n",
       "      <td>23</td>\n",
       "      <td>FEMALE</td>\n",
       "      <td>TOWN</td>\n",
       "      <td>20375.400000</td>\n",
       "      <td>YES</td>\n",
       "      <td>3</td>\n",
       "      <td>NO</td>\n",
       "      <td>NO</td>\n",
       "    </tr>\n",
       "    <tr>\n",
       "      <th>4</th>\n",
       "      <td>ID12105</td>\n",
       "      <td>57</td>\n",
       "      <td>FEMALE</td>\n",
       "      <td>RURAL</td>\n",
       "      <td>15944.690366</td>\n",
       "      <td>YES</td>\n",
       "      <td>0</td>\n",
       "      <td>NO</td>\n",
       "      <td>NO</td>\n",
       "    </tr>\n",
       "    <tr>\n",
       "      <th>5</th>\n",
       "      <td>ID12106</td>\n",
       "      <td>57</td>\n",
       "      <td>FEMALE</td>\n",
       "      <td>TOWN</td>\n",
       "      <td>37869.600000</td>\n",
       "      <td>YES</td>\n",
       "      <td>2</td>\n",
       "      <td>NO</td>\n",
       "      <td>NO</td>\n",
       "    </tr>\n",
       "    <tr>\n",
       "      <th>6</th>\n",
       "      <td>ID12107</td>\n",
       "      <td>22</td>\n",
       "      <td>MALE</td>\n",
       "      <td>RURAL</td>\n",
       "      <td>8877.070000</td>\n",
       "      <td>NO</td>\n",
       "      <td>0</td>\n",
       "      <td>NO</td>\n",
       "      <td>NO</td>\n",
       "    </tr>\n",
       "    <tr>\n",
       "      <th>7</th>\n",
       "      <td>ID12108</td>\n",
       "      <td>58</td>\n",
       "      <td>MALE</td>\n",
       "      <td>TOWN</td>\n",
       "      <td>24946.600000</td>\n",
       "      <td>YES</td>\n",
       "      <td>0</td>\n",
       "      <td>YES</td>\n",
       "      <td>NO</td>\n",
       "    </tr>\n",
       "    <tr>\n",
       "      <th>8</th>\n",
       "      <td>ID12109</td>\n",
       "      <td>37</td>\n",
       "      <td>FEMALE</td>\n",
       "      <td>SUBURBAN</td>\n",
       "      <td>25304.300000</td>\n",
       "      <td>YES</td>\n",
       "      <td>2</td>\n",
       "      <td>YES</td>\n",
       "      <td>NO</td>\n",
       "    </tr>\n",
       "    <tr>\n",
       "      <th>9</th>\n",
       "      <td>ID12110</td>\n",
       "      <td>54</td>\n",
       "      <td>MALE</td>\n",
       "      <td>TOWN</td>\n",
       "      <td>24212.100000</td>\n",
       "      <td>YES</td>\n",
       "      <td>2</td>\n",
       "      <td>YES</td>\n",
       "      <td>NO</td>\n",
       "    </tr>\n",
       "    <tr>\n",
       "      <th>10</th>\n",
       "      <td>ID12111</td>\n",
       "      <td>66</td>\n",
       "      <td>FEMALE</td>\n",
       "      <td>TOWN</td>\n",
       "      <td>59803.900000</td>\n",
       "      <td>YES</td>\n",
       "      <td>0</td>\n",
       "      <td>NO</td>\n",
       "      <td>NO</td>\n",
       "    </tr>\n",
       "    <tr>\n",
       "      <th>11</th>\n",
       "      <td>ID12112</td>\n",
       "      <td>52</td>\n",
       "      <td>FEMALE</td>\n",
       "      <td>INNER_CITY</td>\n",
       "      <td>26658.800000</td>\n",
       "      <td>NO</td>\n",
       "      <td>0</td>\n",
       "      <td>YES</td>\n",
       "      <td>YES</td>\n",
       "    </tr>\n",
       "    <tr>\n",
       "      <th>12</th>\n",
       "      <td>ID12113</td>\n",
       "      <td>44</td>\n",
       "      <td>FEMALE</td>\n",
       "      <td>TOWN</td>\n",
       "      <td>15735.800000</td>\n",
       "      <td>YES</td>\n",
       "      <td>1</td>\n",
       "      <td>NO</td>\n",
       "      <td>YES</td>\n",
       "    </tr>\n",
       "    <tr>\n",
       "      <th>13</th>\n",
       "      <td>ID12114</td>\n",
       "      <td>66</td>\n",
       "      <td>FEMALE</td>\n",
       "      <td>TOWN</td>\n",
       "      <td>55204.700000</td>\n",
       "      <td>YES</td>\n",
       "      <td>1</td>\n",
       "      <td>YES</td>\n",
       "      <td>YES</td>\n",
       "    </tr>\n",
       "    <tr>\n",
       "      <th>14</th>\n",
       "      <td>ID12115</td>\n",
       "      <td>36</td>\n",
       "      <td>MALE</td>\n",
       "      <td>RURAL</td>\n",
       "      <td>19474.600000</td>\n",
       "      <td>YES</td>\n",
       "      <td>0</td>\n",
       "      <td>NO</td>\n",
       "      <td>YES</td>\n",
       "    </tr>\n",
       "  </tbody>\n",
       "</table>\n",
       "</div>"
      ],
      "text/plain": [
       "         id  age  gender      region        income married  children  car  \\\n",
       "0   ID12101   48  FEMALE  INNER_CITY  17546.000000      NO         1   NO   \n",
       "1   ID12102   40    MALE        TOWN  30085.100000     YES         3  YES   \n",
       "2   ID12103   51  FEMALE  INNER_CITY  16575.400000     YES         0  YES   \n",
       "3   ID12104   23  FEMALE        TOWN  20375.400000     YES         3   NO   \n",
       "4   ID12105   57  FEMALE       RURAL  15944.690366     YES         0   NO   \n",
       "5   ID12106   57  FEMALE        TOWN  37869.600000     YES         2   NO   \n",
       "6   ID12107   22    MALE       RURAL   8877.070000      NO         0   NO   \n",
       "7   ID12108   58    MALE        TOWN  24946.600000     YES         0  YES   \n",
       "8   ID12109   37  FEMALE    SUBURBAN  25304.300000     YES         2  YES   \n",
       "9   ID12110   54    MALE        TOWN  24212.100000     YES         2  YES   \n",
       "10  ID12111   66  FEMALE        TOWN  59803.900000     YES         0   NO   \n",
       "11  ID12112   52  FEMALE  INNER_CITY  26658.800000      NO         0  YES   \n",
       "12  ID12113   44  FEMALE        TOWN  15735.800000     YES         1   NO   \n",
       "13  ID12114   66  FEMALE        TOWN  55204.700000     YES         1  YES   \n",
       "14  ID12115   36    MALE       RURAL  19474.600000     YES         0   NO   \n",
       "\n",
       "   mortgage  \n",
       "0        NO  \n",
       "1       YES  \n",
       "2        NO  \n",
       "3        NO  \n",
       "4        NO  \n",
       "5        NO  \n",
       "6        NO  \n",
       "7        NO  \n",
       "8        NO  \n",
       "9        NO  \n",
       "10       NO  \n",
       "11      YES  \n",
       "12      YES  \n",
       "13      YES  \n",
       "14      YES  "
      ]
     },
     "execution_count": 5,
     "metadata": {},
     "output_type": "execute_result"
    }
   ],
   "source": [
    "#Answer\n",
    "df.head(15)"
   ]
  },
  {
   "cell_type": "markdown",
   "metadata": {},
   "source": [
    "**TA3) Get general info about the dataset**"
   ]
  },
  {
   "cell_type": "code",
   "execution_count": 6,
   "metadata": {},
   "outputs": [
    {
     "name": "stdout",
     "output_type": "stream",
     "text": [
      "<class 'pandas.core.frame.DataFrame'>\n",
      "RangeIndex: 330 entries, 0 to 329\n",
      "Data columns (total 9 columns):\n",
      " #   Column    Non-Null Count  Dtype  \n",
      "---  ------    --------------  -----  \n",
      " 0   id        330 non-null    object \n",
      " 1   age       330 non-null    int64  \n",
      " 2   gender    330 non-null    object \n",
      " 3   region    330 non-null    object \n",
      " 4   income    330 non-null    float64\n",
      " 5   married   330 non-null    object \n",
      " 6   children  330 non-null    int64  \n",
      " 7   car       330 non-null    object \n",
      " 8   mortgage  330 non-null    object \n",
      "dtypes: float64(1), int64(2), object(6)\n",
      "memory usage: 15.5+ KB\n"
     ]
    }
   ],
   "source": [
    "#Answer\n",
    "df.info()"
   ]
  },
  {
   "cell_type": "markdown",
   "metadata": {},
   "source": [
    "**TA4) Explore the dataset and try to understand the meaning of each variable (column). Identify which variables are categorical and which are numerical.**"
   ]
  },
  {
   "cell_type": "code",
   "execution_count": 7,
   "metadata": {},
   "outputs": [],
   "source": [
    "#Answer\n",
    "#id:        citizen ID\n",
    "#age:       citizen age\n",
    "#gender:    citizen gender (male/female)\n",
    "#region:    inner city/suburban/town/rural\n",
    "#income:    amount of income per year\n",
    "#married:   yes/no (single)\n",
    "#children:  number of children\n",
    "#car:       yes/no (does the citizen have a car)\n",
    "#mortgage:  yes/no (does the citizen have a mortgage)"
   ]
  },
  {
   "cell_type": "markdown",
   "metadata": {},
   "source": [
    "**TA5) Get the shape of the dataframe**"
   ]
  },
  {
   "cell_type": "code",
   "execution_count": 8,
   "metadata": {},
   "outputs": [
    {
     "data": {
      "text/plain": [
       "(330, 9)"
      ]
     },
     "execution_count": 8,
     "metadata": {},
     "output_type": "execute_result"
    }
   ],
   "source": [
    "#Answer\n",
    "df.shape"
   ]
  },
  {
   "cell_type": "markdown",
   "metadata": {},
   "source": [
    "**TA6) Get the columns name of the dataframe. If you think any column renaming is needed, please do it.**"
   ]
  },
  {
   "cell_type": "code",
   "execution_count": 9,
   "metadata": {},
   "outputs": [
    {
     "data": {
      "text/plain": [
       "Index(['id', 'age', 'gender', 'region', 'income', 'married', 'children', 'car',\n",
       "       'mortgage'],\n",
       "      dtype='object')"
      ]
     },
     "execution_count": 9,
     "metadata": {},
     "output_type": "execute_result"
    }
   ],
   "source": [
    "#Answer\n",
    "df.columns"
   ]
  },
  {
   "cell_type": "markdown",
   "metadata": {},
   "source": [
    "**TA7) Check whether there are any duplicated records?**  \n",
    "\n",
    "Note: A record is duplicated if all its entries are identical with another record"
   ]
  },
  {
   "cell_type": "code",
   "execution_count": 10,
   "metadata": {},
   "outputs": [
    {
     "data": {
      "text/plain": [
       "0"
      ]
     },
     "execution_count": 10,
     "metadata": {},
     "output_type": "execute_result"
    }
   ],
   "source": [
    "#Answer\n",
    "df.duplicated().sum()"
   ]
  },
  {
   "cell_type": "markdown",
   "metadata": {},
   "source": [
    "**TA8) Is there any missing data?**"
   ]
  },
  {
   "cell_type": "code",
   "execution_count": 11,
   "metadata": {},
   "outputs": [
    {
     "data": {
      "text/html": [
       "<div>\n",
       "<style scoped>\n",
       "    .dataframe tbody tr th:only-of-type {\n",
       "        vertical-align: middle;\n",
       "    }\n",
       "\n",
       "    .dataframe tbody tr th {\n",
       "        vertical-align: top;\n",
       "    }\n",
       "\n",
       "    .dataframe thead th {\n",
       "        text-align: right;\n",
       "    }\n",
       "</style>\n",
       "<table border=\"1\" class=\"dataframe\">\n",
       "  <thead>\n",
       "    <tr style=\"text-align: right;\">\n",
       "      <th></th>\n",
       "      <th>Missing</th>\n",
       "      <th>Percentage</th>\n",
       "    </tr>\n",
       "  </thead>\n",
       "  <tbody>\n",
       "    <tr>\n",
       "      <th>mortgage</th>\n",
       "      <td>0</td>\n",
       "      <td>0.0</td>\n",
       "    </tr>\n",
       "    <tr>\n",
       "      <th>car</th>\n",
       "      <td>0</td>\n",
       "      <td>0.0</td>\n",
       "    </tr>\n",
       "    <tr>\n",
       "      <th>children</th>\n",
       "      <td>0</td>\n",
       "      <td>0.0</td>\n",
       "    </tr>\n",
       "    <tr>\n",
       "      <th>married</th>\n",
       "      <td>0</td>\n",
       "      <td>0.0</td>\n",
       "    </tr>\n",
       "    <tr>\n",
       "      <th>income</th>\n",
       "      <td>0</td>\n",
       "      <td>0.0</td>\n",
       "    </tr>\n",
       "    <tr>\n",
       "      <th>region</th>\n",
       "      <td>0</td>\n",
       "      <td>0.0</td>\n",
       "    </tr>\n",
       "    <tr>\n",
       "      <th>gender</th>\n",
       "      <td>0</td>\n",
       "      <td>0.0</td>\n",
       "    </tr>\n",
       "    <tr>\n",
       "      <th>age</th>\n",
       "      <td>0</td>\n",
       "      <td>0.0</td>\n",
       "    </tr>\n",
       "    <tr>\n",
       "      <th>id</th>\n",
       "      <td>0</td>\n",
       "      <td>0.0</td>\n",
       "    </tr>\n",
       "  </tbody>\n",
       "</table>\n",
       "</div>"
      ],
      "text/plain": [
       "          Missing  Percentage\n",
       "mortgage        0         0.0\n",
       "car             0         0.0\n",
       "children        0         0.0\n",
       "married         0         0.0\n",
       "income          0         0.0\n",
       "region          0         0.0\n",
       "gender          0         0.0\n",
       "age             0         0.0\n",
       "id              0         0.0"
      ]
     },
     "execution_count": 11,
     "metadata": {},
     "output_type": "execute_result"
    }
   ],
   "source": [
    "#Answer\n",
    "# Get the missing data and sort it in ascending order\n",
    "missingDataSummary    = df.isna().sum().sort_values(ascending=False)\n",
    "# Calculate the percentage of missing data\n",
    "missingDataPercentage = (df.isnull().sum()/df.isnull().count()).sort_values(ascending=False)\n",
    "# Concatenate the two Series\n",
    "missingData = pd.concat([missingDataSummary, missingDataPercentage], axis=1, keys=['Missing', 'Percentage'])\n",
    "missingData"
   ]
  },
  {
   "cell_type": "markdown",
   "metadata": {},
   "source": [
    "**TA9) Plot the histogram and density curve of income.**"
   ]
  },
  {
   "cell_type": "code",
   "execution_count": 12,
   "metadata": {},
   "outputs": [
    {
     "name": "stderr",
     "output_type": "stream",
     "text": [
      "c:\\projects\\scaleystuffs\\venv\\lib\\site-packages\\seaborn\\distributions.py:2557: FutureWarning: `distplot` is a deprecated function and will be removed in a future version. Please adapt your code to use either `displot` (a figure-level function with similar flexibility) or `histplot` (an axes-level function for histograms).\n",
      "  warnings.warn(msg, FutureWarning)\n"
     ]
    },
    {
     "data": {
      "image/png": "[encoded data removed]",
      "text/plain": [
       "<Figure size 700x600 with 1 Axes>"
      ]
     },
     "metadata": {
      "needs_background": "light"
     },
     "output_type": "display_data"
    }
   ],
   "source": [
    "#Answer\n",
    "plt.subplots(figsize=(7,6), dpi=100)\n",
    "ax = sns.distplot(df[\"income\"], color=\"blue\", label=\"Income\", hist=True, kde_kws={\"shade\": True})\n",
    "plt.title('Yorkshire citizens incomce')\n",
    "ax.set_xlabel('Income (£)',fontsize=15) # set x label\n",
    "ax.set_ylabel('pdf(x)',fontsize=15,rotation=90) # set y label\n",
    "plt.legend();"
   ]
  },
  {
   "cell_type": "markdown",
   "metadata": {},
   "source": [
    "**TA10) The Council is interested in assessing whether there is any discrimination in annual income between genders**"
   ]
  },
  {
   "cell_type": "markdown",
   "metadata": {},
   "source": [
    "**(i) State the Null and Alternative hypotheses**"
   ]
  },
  {
   "cell_type": "code",
   "execution_count": 13,
   "metadata": {},
   "outputs": [],
   "source": [
    "#Answer\n",
    "# x_m: annual income of male citizens\n",
    "# x_f: annual income of female citizens\n",
    "#H0: x_m = x_f\n",
    "#H1: x_m != x_f"
   ]
  },
  {
   "cell_type": "markdown",
   "metadata": {},
   "source": [
    "**(ii) Calculate the degrees of freedom**"
   ]
  },
  {
   "cell_type": "code",
   "execution_count": 14,
   "metadata": {},
   "outputs": [
    {
     "name": "stdout",
     "output_type": "stream",
     "text": [
      "DoF: 328\n"
     ]
    }
   ],
   "source": [
    "#Answer\n",
    "dfM = df[df['gender']==\"MALE\"]\n",
    "dfF = df[df['gender']==\"FEMALE\"]\n",
    "dof = len(dfM) + len(dfF) - 2\n",
    "print (\"DoF:\", dof)"
   ]
  },
  {
   "cell_type": "markdown",
   "metadata": {},
   "source": [
    "**(iii) Find the critical value for a two-tailed test with significance level α=0.05**\n",
    "\n",
    "Hint: t table [http://www.ttable.org](http://www.ttable.org)\n",
    "\n",
    "Hint: Confirm that the value is correct using the appropriate statistical test method from [scipy.stats.t](https://docs.scipy.org/doc/scipy/reference/generated/scipy.stats.t.html)\n"
   ]
  },
  {
   "cell_type": "code",
   "execution_count": 15,
   "metadata": {},
   "outputs": [
    {
     "name": "stdout",
     "output_type": "stream",
     "text": [
      "Negative side critical value: -1.9672228266462515\n",
      "Positive side critical value: 1.967222826646251\n"
     ]
    }
   ],
   "source": [
    "#Answer\n",
    "alpha = 0.05\n",
    "negativeCriticalValue = stats.t.ppf(alpha/2, dof)\n",
    "positiveCriticalValue = stats.t.ppf(1-alpha/2, dof)\n",
    "print(\"Negative side critical value:\", negativeCriticalValue)\n",
    "print(\"Positive side critical value:\", positiveCriticalValue)"
   ]
  },
  {
   "cell_type": "markdown",
   "metadata": {},
   "source": [
    "**(iv) Perform the appropriate t test to evaluate the hypotheses for significance level  𝛼=0.05 . You must show your calculations, i.e., calculate the result analytically, but you may use the appropriate scipy.stats method to check your results.**"
   ]
  },
  {
   "cell_type": "code",
   "execution_count": 16,
   "metadata": {},
   "outputs": [
    {
     "name": "stdout",
     "output_type": "stream",
     "text": [
      "t stat: 0.3527875829434242\n",
      "t stat2: 0.3527875829434242\n",
      "pValue (two-tailed; reported by scipy.ttest_ind): 0.7244742902363241\n",
      "We cannot reject H0 because: abs(t stat)<t critical, i.e., abs(0.353)<(1.967)\n"
     ]
    }
   ],
   "source": [
    "#Answer\n",
    "incomeM = np.mean(dfM[\"income\"])\n",
    "incomeF = np.mean(dfF[\"income\"])\n",
    "stdIncM = np.std(dfM[\"income\"],ddof=1)\n",
    "stdIncF = np.std(dfF[\"income\"], ddof=1)\n",
    "\n",
    "sp  =( ((len(dfM[\"income\"])-1) * np.power(stdIncM,2)) + ((len(dfF[\"income\"])-1) * np.power(stdIncF,2)) ) / (len(dfM[\"income\"]) + len(dfF[\"income\"]) - 2)\n",
    "# print(\"SP:\", sp)\n",
    "\n",
    "tStat = (incomeM - incomeF) / np.sqrt( (sp/len(dfM[\"income\"])) + (sp/len(dfF[\"income\"])) )\n",
    "print(\"t stat:\", tStat)\n",
    "\n",
    "tStat2, pValue = stats.ttest_ind(dfM[\"income\"], dfF[\"income\"])\n",
    "print (\"t stat2:\", tStat2)\n",
    "print (\"pValue (two-tailed; reported by scipy.ttest_ind):\" , pValue)\n",
    "\n",
    "#Checking H0: #We cannot reject H0, no evidence of discrimination\n",
    "print (\"We cannot reject H0 because: \\\n",
    "abs(t stat)<t critical, i.e., abs({:.3f})<({:.3f})\".format(tStat, positiveCriticalValue))"
   ]
  },
  {
   "cell_type": "code",
   "execution_count": 17,
   "metadata": {},
   "outputs": [
    {
     "data": {
      "image/png": "[encoded data removed]",
      "text/plain": [
       "<Figure size 700x600 with 1 Axes>"
      ]
     },
     "metadata": {
      "needs_background": "light"
     },
     "output_type": "display_data"
    }
   ],
   "source": [
    "#Additional Visualisation\n",
    "xAxis = np.linspace(stats.t.ppf(0.01, dof), stats.t.ppf(0.99, dof), 1000)\n",
    "yAxis = stats.t.pdf(xAxis, dof)\n",
    "\n",
    "fig,ax = plt.subplots(figsize=(7,6), dpi=100)\n",
    "ax = sns.lineplot(y=yAxis, x=xAxis, linestyle='-', color=\"black\", label=\"A\", lw=2)\n",
    "plt.title('Yorkshire citizens incomce')\n",
    "ax.set_xlabel('t',fontsize=15) # set x label\n",
    "ax.set_ylabel('pdf(t)',fontsize=15, rotation=90) # set y label\n",
    "\n",
    "#t value\n",
    "ax.axvline(x=tStat, ymin=0.05, ymax=0.2, color='g',alpha=0.5, ls='-', lw=2) # vertical line\n",
    "ax.text(tStat-0.1, 0.02,\"t value\\n={:.3f}\".format(tStat), fontsize=16, ha=\"right\")\n",
    "\n",
    "#negative-side critical region\n",
    "ax.axvline(x=negativeCriticalValue, ymin=0.05, ymax=0.85, color='r',alpha=0.5, ls='-', lw=2)\n",
    "ax.text(negativeCriticalValue-0.5, 0.36,r\"$t_{crit}=$\"+\"{:.3f}\\nReject $H_0$\".format(negativeCriticalValue), fontsize=16)\n",
    "px = np.arange(np.min(xAxis), negativeCriticalValue, 0.01)\n",
    "ax.fill_between(px, stats.t.pdf(px, dof), alpha=0.5, color='r')\n",
    "\n",
    "#positive-side critical region\n",
    "ax.axvline(x=positiveCriticalValue, ymin=0.05, ymax=0.85, color='r',alpha=0.5, ls='-', lw=2)\n",
    "ax.text(positiveCriticalValue-0.6, 0.36,r\"$t_{crit}=$\"+\"{:.3f}\\nReject $H_0$\".format(positiveCriticalValue), fontsize=16, ha=\"left\")\n",
    "px = np.arange(positiveCriticalValue, np.max(xAxis), 0.01)\n",
    "ax.fill_between(px, stats.t.pdf(px, dof), alpha=0.5, color='r')\n",
    "\n",
    "#negative side arrow\n",
    "ax.annotate(\"total critical region:α=5%\\neach side: α/2=2.5%\".format(3), xy=(-2.2, 0.012), xytext=(0, 0.12), size=14,  va=\"bottom\", ha=\"center\",\n",
    "            arrowprops=dict(facecolor='black', lw=3.5, ls='--', ec='None'))\n",
    "\n",
    "#positive side arrow\n",
    "ax.annotate(\"\", xy=(2.2, 0.015), xytext=(1.2, 0.12), size=14,  va=\"bottom\", ha=\"center\",\n",
    "            arrowprops=dict(facecolor='black', lw=3.5, ls='--', ec='None'))\n",
    "\n",
    "\n",
    "# ax.legend(loc=\"lower center\")\n",
    "ax.legend().remove()"
   ]
  },
  {
   "cell_type": "code",
   "execution_count": 18,
   "metadata": {},
   "outputs": [
    {
     "data": {
      "image/png": "[encoded data removed]",
      "text/plain": [
       "<Figure size 700x600 with 1 Axes>"
      ]
     },
     "metadata": {
      "needs_background": "light"
     },
     "output_type": "display_data"
    }
   ],
   "source": [
    "#Additional visualisation\n",
    "xAxis = np.linspace(stats.t.ppf(0.01, dof), stats.t.ppf(0.99, dof), 1000)\n",
    "yAxis = stats.t.pdf(xAxis, dof)\n",
    "\n",
    "fig,ax = plt.subplots(figsize=(7,6), dpi=100)\n",
    "ax = sns.lineplot(y=yAxis, x=xAxis, linestyle='-', color=\"black\", label=\"A\", lw=2)\n",
    "plt.title('Yorkshire citizens incomce')\n",
    "ax.set_xlabel('t',fontsize=15) # set x label\n",
    "ax.set_ylabel('pdf(t)',fontsize=15, rotation=90) # set y label\n",
    "\n",
    "#negative-side p value\n",
    "ax.axvline(x=-tStat, ymin=0.05, ymax=0.9, color='b',alpha=0.5, ls='-', lw=2)\n",
    "# ax.text(-tStat-0.5, 0.36,r\"$t_{crit}=$\"+\"{:.3f}\\nReject $H_0$\".format(-tStat), fontsize=16)\n",
    "px = np.arange(np.min(xAxis), -tStat, 0.01)\n",
    "ax.fill_between(px, stats.t.pdf(px, dof), alpha=0.3, color='b')\n",
    "\n",
    "#positive-side p value\n",
    "ax.axvline(x=tStat, ymin=0.05, ymax=0.9, color='b',alpha=0.5, ls='-', lw=2)\n",
    "# ax.text(tStat-0.6, 0.36,r\"$t_{crit}=$\"+\"{:.3f}\\nReject $H_0$\".format(tStat), fontsize=16, ha=\"left\")\n",
    "px = np.arange(tStat, np.max(xAxis), 0.01)\n",
    "ax.fill_between(px, stats.t.pdf(px, dof), alpha=0.3, color='b')\n",
    "\n",
    "#negative-side critical region\n",
    "ax.axvline(x=negativeCriticalValue, ymin=0.05, ymax=0.85, color='r',alpha=0.5, ls='-', lw=2)\n",
    "ax.text(negativeCriticalValue-0.5, 0.36,r\"$t_{crit}=$\"+\"{:.3f}\\nReject $H_0$\".format(negativeCriticalValue), fontsize=16)\n",
    "px = np.arange(np.min(xAxis), negativeCriticalValue, 0.01)\n",
    "ax.fill_between(px, stats.t.pdf(px, dof), alpha=0.5, color='r')\n",
    "\n",
    "#positive-side critical region\n",
    "ax.axvline(x=positiveCriticalValue, ymin=0.05, ymax=0.85, color='r',alpha=0.5, ls='-', lw=2)\n",
    "ax.text(positiveCriticalValue-0.6, 0.36,r\"$t_{crit}=$\"+\"{:.3f}\\nReject $H_0$\".format(positiveCriticalValue), fontsize=16, ha=\"left\")\n",
    "px = np.arange(positiveCriticalValue, np.max(xAxis), 0.01)\n",
    "ax.fill_between(px, stats.t.pdf(px, dof), alpha=0.5, color='r')\n",
    "\n",
    "#negative side arrow\n",
    "ax.annotate(\"t=-0.353\", xy=(-0.36, 0.001), xytext=(-1.2, 0.05), size=14,  va=\"bottom\", ha=\"center\",\n",
    "            arrowprops=dict(facecolor='black', lw=3.5, ls='--', ec='None'))\n",
    "\n",
    "#positive side arrow\n",
    "ax.annotate(\"t=0.353\", xy=(0.36, 0.001), xytext=(1.2, 0.05), size=14,  va=\"bottom\", ha=\"center\",\n",
    "            arrowprops=dict(facecolor='black', lw=3.5, ls='--', ec='None'))\n",
    "\n",
    "\n",
    "# ax.legend(loc=\"lower center\")\n",
    "ax.legend().remove()"
   ]
  },
  {
   "cell_type": "markdown",
   "metadata": {},
   "source": [
    "**TA11) The Council is interested in assessing whether there is any discrimination in annual income between married and single citizens, and specifically whether married citizens are being paid more**"
   ]
  },
  {
   "cell_type": "markdown",
   "metadata": {},
   "source": [
    "**(i) State the Null and Alternative hypotheses**"
   ]
  },
  {
   "cell_type": "code",
   "execution_count": 19,
   "metadata": {},
   "outputs": [],
   "source": [
    "#Answer\n",
    "#H0: x_m <= x_s\n",
    "#H1: x_m > x_s"
   ]
  },
  {
   "cell_type": "markdown",
   "metadata": {},
   "source": [
    "**(ii) Calculate the degrees of freedom**"
   ]
  },
  {
   "cell_type": "code",
   "execution_count": 20,
   "metadata": {},
   "outputs": [
    {
     "name": "stdout",
     "output_type": "stream",
     "text": [
      "DoF: 328\n",
      "Married: 214\n",
      "Single: 116\n"
     ]
    }
   ],
   "source": [
    "#Answer\n",
    "dfMar = df[df['married']==\"YES\"]\n",
    "dfSin = df[df['married']==\"NO\"]\n",
    "dof = len(dfMar) + len(dfSin) - 2\n",
    "print (\"DoF:\", dof)\n",
    "print(\"Married:\", len(dfMar))\n",
    "print(\"Single:\", len(dfSin))"
   ]
  },
  {
   "cell_type": "markdown",
   "metadata": {},
   "source": [
    "**(iii) Find the critical value for a test with significance level α=0.05**\n",
    "\n",
    "Hint: t table http://www.ttable.org\n",
    "\n",
    "Hint: Confirm that the value is correct using the appropriate statistical test method from scipy.stats.t"
   ]
  },
  {
   "cell_type": "code",
   "execution_count": 21,
   "metadata": {},
   "outputs": [
    {
     "data": {
      "text/plain": [
       "1.6495124933663257"
      ]
     },
     "execution_count": 21,
     "metadata": {},
     "output_type": "execute_result"
    }
   ],
   "source": [
    "#Answer\n",
    "stats.t.ppf(0.95, dof)"
   ]
  },
  {
   "cell_type": "markdown",
   "metadata": {},
   "source": [
    "**(iv) Perform the appropriate t test to evaluate the hypotheses for significance level 𝛼=0.05 . You must show your calculations, i.e., calculate the result analytically, but you may use the appropriate scipy.stats method to check your results.**"
   ]
  },
  {
   "cell_type": "code",
   "execution_count": 22,
   "metadata": {},
   "outputs": [
    {
     "name": "stdout",
     "output_type": "stream",
     "text": [
      "SP: 158561804.21151838\n",
      "t stat: 0.25591405256592475\n"
     ]
    },
    {
     "data": {
      "text/plain": [
       "Ttest_indResult(statistic=0.2559140525659247, pvalue=0.7981776220871312)"
      ]
     },
     "execution_count": 22,
     "metadata": {},
     "output_type": "execute_result"
    }
   ],
   "source": [
    "#Answer\n",
    "incomeMar = np.mean(dfMar[\"income\"])\n",
    "incomeSin = np.mean(dfSin[\"income\"])\n",
    "stdIncMar = np.std(dfMar[\"income\"],ddof=1)\n",
    "stdIncSin = np.std(dfSin[\"income\"], ddof=1)\n",
    "\n",
    "sp  =( ((len(dfMar[\"income\"])-1) * np.power(stdIncMar,2)) + ((len(dfSin[\"income\"])-1) * np.power(stdIncSin,2)) ) / (len(dfMar[\"income\"]) + len(dfSin[\"income\"]) - 2)\n",
    "print(\"SP:\", sp)\n",
    "t = (incomeMar - incomeSin) / np.sqrt( (sp/len(dfMar[\"income\"])) + (sp/len(dfSin[\"income\"])) )\n",
    "print(\"t stat:\", t)\n",
    "\n",
    "stats.ttest_ind(dfMar[\"income\"], dfSin[\"income\"])\n",
    "#We cannot reject H0, no evidence of discrimination"
   ]
  },
  {
   "cell_type": "markdown",
   "metadata": {},
   "source": [
    "**(v) Plot the two distributions of income for married and single citizens**"
   ]
  },
  {
   "cell_type": "code",
   "execution_count": 23,
   "metadata": {},
   "outputs": [
    {
     "name": "stderr",
     "output_type": "stream",
     "text": [
      "c:\\projects\\scaleystuffs\\venv\\lib\\site-packages\\seaborn\\distributions.py:2557: FutureWarning: `distplot` is a deprecated function and will be removed in a future version. Please adapt your code to use either `displot` (a figure-level function with similar flexibility) or `histplot` (an axes-level function for histograms).\n",
      "  warnings.warn(msg, FutureWarning)\n",
      "c:\\projects\\scaleystuffs\\venv\\lib\\site-packages\\seaborn\\distributions.py:2557: FutureWarning: `distplot` is a deprecated function and will be removed in a future version. Please adapt your code to use either `displot` (a figure-level function with similar flexibility) or `histplot` (an axes-level function for histograms).\n",
      "  warnings.warn(msg, FutureWarning)\n"
     ]
    },
    {
     "data": {
      "image/png": "[encoded data removed]",
      "text/plain": [
       "<Figure size 700x600 with 1 Axes>"
      ]
     },
     "metadata": {
      "needs_background": "light"
     },
     "output_type": "display_data"
    }
   ],
   "source": [
    "#Answer\n",
    "plt.subplots(figsize=(7,6), dpi=100)\n",
    "ax = sns.distplot(dfMar[\"income\"], color=\"blue\", label=\"Married\", hist=True, kde_kws={\"shade\": True})\n",
    "ax = sns.distplot(dfSin[\"income\"], color=\"pink\", label=\"Single\", hist=True, kde_kws={\"shade\": True})\n",
    "plt.title('Yorkshire citizens incomce')\n",
    "ax.set_xlabel('Income',fontsize=15) # set x label\n",
    "ax.set_ylabel('pdf(x)',fontsize=15,rotation=90) # set y label\n",
    "plt.legend();"
   ]
  },
  {
   "cell_type": "markdown",
   "metadata": {},
   "source": [
    "**TA12) The Council is also interested in assessing whether there is any statistically significant difference in income depending on the region citizens live. They want to give equal opportunities to all Yorkies irrespective of where they live.**"
   ]
  },
  {
   "cell_type": "markdown",
   "metadata": {},
   "source": [
    "**(i) State the Null and Alternative hypotheses that will enable the Council to check whether there is any discrimination in income depending on location**"
   ]
  },
  {
   "cell_type": "markdown",
   "metadata": {},
   "source": [
    "#### Write your answer here\n",
    "\n",
    "$H_0: \\overline{X}_{inner} = \\overline{X}_{town} = \\overline{X}_{sub} = \\overline{X}_{rural}$\n",
    "\n",
    "$H_1: \\exists i,j \\in \\{inner, town, sub, rural\\} \\bullet (i \\neq j) \\land (\\overline{X}_{i} \\neq \\overline{X}_{j})$\n"
   ]
  },
  {
   "cell_type": "markdown",
   "metadata": {},
   "source": [
    "**(ii) Calculate the degrees of freedom**"
   ]
  },
  {
   "cell_type": "code",
   "execution_count": 24,
   "metadata": {},
   "outputs": [],
   "source": [
    "#Answer\n",
    "df_M = 3     #4-1 \n",
    "df_R = 326   #330-4 "
   ]
  },
  {
   "cell_type": "markdown",
   "metadata": {},
   "source": [
    "**(iii) Find the critical value for a test with significance level α=0.05**\n",
    "\n",
    "Hint: What type of test do we need to do in this scenario?\n"
   ]
  },
  {
   "cell_type": "code",
   "execution_count": 25,
   "metadata": {},
   "outputs": [
    {
     "data": {
      "text/plain": [
       "0.11716586535347082"
      ]
     },
     "execution_count": 25,
     "metadata": {},
     "output_type": "execute_result"
    }
   ],
   "source": [
    "#Answer\n",
    "stats.f.ppf(0.05, df_M, df_R)"
   ]
  },
  {
   "cell_type": "markdown",
   "metadata": {},
   "source": [
    "**(iv) Perform the appropriate test to evaluate the hypotheses for significance level 𝛼=0.05 . You must show your calculations, i.e., calculate the result analytically, but you may use the appropriate scipy.stats method to check your results.**"
   ]
  },
  {
   "cell_type": "code",
   "execution_count": 26,
   "metadata": {},
   "outputs": [
    {
     "name": "stdout",
     "output_type": "stream",
     "text": [
      "0.2836816383941944 \n",
      " F_onewayResult(statistic=0.28368163839419575, pvalue=0.837176416513448)\n"
     ]
    }
   ],
   "source": [
    "#Answer\n",
    "#Analytically\n",
    "dfInner  = df[df[\"region\"]==\"INNER_CITY\"][\"income\"]\n",
    "dfTown   = df[df[\"region\"]==\"TOWN\"][\"income\"]\n",
    "dfRURAL  = df[df[\"region\"]==\"RURAL\"][\"income\"]\n",
    "dfSub    = df[df[\"region\"]==\"SUBURBAN\"][\"income\"]\n",
    "\n",
    "X_N = np.mean(np.mean(df[\"income\"]))\n",
    "X_G = [np.mean(dfInner), np.mean(dfTown), np.mean(dfRURAL), np.mean(dfSub)]\n",
    "\n",
    "SS_M = 0; SS_R = 0; SS_T=0\n",
    "\n",
    "SS_M += len(dfInner) * np.power(np.mean(dfInner) - X_N,2)\n",
    "SS_M += len(dfTown) * np.power(np.mean(dfTown) - X_N,2)\n",
    "SS_M += len(dfRURAL) * np.power(np.mean(dfRURAL) - X_N,2)\n",
    "SS_M += len(dfSub) * np.power(np.mean(dfSub) - X_N,2)\n",
    "\n",
    "SS_R += (len(dfInner)-1) * np.var(dfInner, ddof=1)\n",
    "SS_R += (len(dfTown)-1) * np.var(dfTown, ddof=1)\n",
    "SS_R += (len(dfRURAL)-1) * np.var(dfRURAL, ddof=1)\n",
    "SS_R += (len(dfSub)-1) * np.var(dfSub, ddof=1)\n",
    "    \n",
    "SS_T = (len(df[\"income\"]) -1) * np.var(df[\"income\"], ddof=1)\n",
    "\n",
    "# print(SS_T, SS_R, SS_M)                                          \n",
    "                                          \n",
    "F1 = (SS_M/(4-1))/\\\n",
    "    (SS_R/(np.count_nonzero(df['income'])-4))\n",
    "\n",
    "# #Using Scipy library\n",
    "F2 = stats.f_oneway(dfInner, dfTown, dfRURAL, dfSub)\n",
    "\n",
    "print(F1,\"\\n\", F2)\n",
    "#We cannot reject H0"
   ]
  },
  {
   "cell_type": "markdown",
   "metadata": {},
   "source": [
    "**(v) Plot a boxplot showing the income per region**"
   ]
  },
  {
   "cell_type": "code",
   "execution_count": 27,
   "metadata": {},
   "outputs": [
    {
     "data": {
      "text/plain": [
       "<AxesSubplot:>"
      ]
     },
     "execution_count": 27,
     "metadata": {},
     "output_type": "execute_result"
    },
    {
     "data": {
      "image/png": "[encoded data removed]",
      "text/plain": [
       "<Figure size 700x600 with 1 Axes>"
      ]
     },
     "metadata": {
      "needs_background": "light"
     },
     "output_type": "display_data"
    }
   ],
   "source": [
    "#Write your answer here\n",
    "regions = pd.DataFrame(data={\"inner\":dfInner, \"town\":dfTown, \"rural\":dfRURAL, \"sub\":dfSub})\n",
    "plt.subplots(figsize=(7,6), dpi=100)\n",
    "sns.boxplot(data=regions)"
   ]
  },
  {
   "cell_type": "markdown",
   "metadata": {},
   "source": [
    "**TA13) The Council is also interested in assessing whether there is any statistically significant difference in income depending on the age of citizens. The Council considers the following age groups [17-29], [30,41], [42,53], [54,67)** "
   ]
  },
  {
   "cell_type": "markdown",
   "metadata": {},
   "source": [
    "**(i) State the Null and Alternative hypotheses that will enable the Council to check whether there is any discrimination in income depending on these age groups**"
   ]
  },
  {
   "cell_type": "markdown",
   "metadata": {},
   "source": [
    "#### Write your answer here\n",
    "\n",
    "$H_0: \\overline{X}_{G1} = \\overline{X}_{G2} = \\overline{X}_{G3} = \\overline{X}_{G4}$\n",
    "\n",
    "$H_1: \\exists i,j \\in \\{G1, G2, G3, G4\\} \\bullet (i \\neq j) \\land (\\overline{X}_{i} \\neq \\overline{X}_{j})$\n"
   ]
  },
  {
   "cell_type": "markdown",
   "metadata": {},
   "source": [
    "**(ii) Calculate the degrees of freedom**"
   ]
  },
  {
   "cell_type": "code",
   "execution_count": 28,
   "metadata": {},
   "outputs": [],
   "source": [
    "#Answer\n",
    "df_M = 3     #4-1 \n",
    "df_R = 326   #330-4 "
   ]
  },
  {
   "cell_type": "markdown",
   "metadata": {},
   "source": [
    "**(iv) Perform the appropriate test to evaluate the hypotheses for significance level 𝛼=0.05. You may use the appropriate scipy.stats method.**"
   ]
  },
  {
   "cell_type": "code",
   "execution_count": 29,
   "metadata": {},
   "outputs": [
    {
     "data": {
      "text/plain": [
       "F_onewayResult(statistic=60.50403159244408, pvalue=4.030330123627726e-31)"
      ]
     },
     "execution_count": 29,
     "metadata": {},
     "output_type": "execute_result"
    }
   ],
   "source": [
    "#Answer\n",
    "dfG1  = df[df[\"age\"]<30][\"income\"]\n",
    "dfG2   = df[(df[\"age\"]>=30) & (df[\"age\"]<42)][\"income\"]\n",
    "dfG3  = df[(df[\"age\"]>=42) & (df[\"age\"]<54)][\"income\"]\n",
    "dfG4    = df[(df[\"age\"]>=54)][\"income\"]\n",
    "stats.f_oneway(dfG1, dfG2, dfG3, dfG4)\n",
    "#H0 is rejected"
   ]
  },
  {
   "cell_type": "markdown",
   "metadata": {},
   "source": [
    "**(v) Plot the distributions for the four age groups**"
   ]
  },
  {
   "cell_type": "code",
   "execution_count": 30,
   "metadata": {},
   "outputs": [
    {
     "name": "stderr",
     "output_type": "stream",
     "text": [
      "c:\\projects\\scaleystuffs\\venv\\lib\\site-packages\\seaborn\\distributions.py:2557: FutureWarning: `distplot` is a deprecated function and will be removed in a future version. Please adapt your code to use either `displot` (a figure-level function with similar flexibility) or `histplot` (an axes-level function for histograms).\n",
      "  warnings.warn(msg, FutureWarning)\n",
      "c:\\projects\\scaleystuffs\\venv\\lib\\site-packages\\seaborn\\distributions.py:2557: FutureWarning: `distplot` is a deprecated function and will be removed in a future version. Please adapt your code to use either `displot` (a figure-level function with similar flexibility) or `histplot` (an axes-level function for histograms).\n",
      "  warnings.warn(msg, FutureWarning)\n",
      "c:\\projects\\scaleystuffs\\venv\\lib\\site-packages\\seaborn\\distributions.py:2557: FutureWarning: `distplot` is a deprecated function and will be removed in a future version. Please adapt your code to use either `displot` (a figure-level function with similar flexibility) or `histplot` (an axes-level function for histograms).\n",
      "  warnings.warn(msg, FutureWarning)\n",
      "c:\\projects\\scaleystuffs\\venv\\lib\\site-packages\\seaborn\\distributions.py:2557: FutureWarning: `distplot` is a deprecated function and will be removed in a future version. Please adapt your code to use either `displot` (a figure-level function with similar flexibility) or `histplot` (an axes-level function for histograms).\n",
      "  warnings.warn(msg, FutureWarning)\n"
     ]
    },
    {
     "data": {
      "image/png": "[encoded data removed]",
      "text/plain": [
       "<Figure size 700x600 with 1 Axes>"
      ]
     },
     "metadata": {
      "needs_background": "light"
     },
     "output_type": "display_data"
    }
   ],
   "source": [
    "#Answer\n",
    "plt.subplots(figsize=(7,6), dpi=100)\n",
    "ax = sns.distplot(dfG1, color=\"blue\", label=\"30\", hist=True, kde_kws={\"shade\": True})\n",
    "ax = sns.distplot(dfG2, color=\"pink\", label=\"42\", hist=True, kde_kws={\"shade\": True})\n",
    "ax = sns.distplot(dfG3, color=\"orange\", label=\"54\", hist=True, kde_kws={\"shade\": True})\n",
    "ax = sns.distplot(dfG4, color=\"green\", label=\"67\", hist=True, kde_kws={\"shade\": True})\n",
    "plt.title('Yorkshire citizens incomce')\n",
    "ax.set_xlabel('Income',fontsize=15) # set x label\n",
    "ax.set_ylabel('pdf(x)',fontsize=15,rotation=90) # set y label\n",
    "plt.legend();"
   ]
  },
  {
   "cell_type": "markdown",
   "metadata": {},
   "source": [
    "**(vi) Perform a post hoc analysis using the Bonferroni correction to identify the pairs which exhibit statistically significant difference**"
   ]
  },
  {
   "cell_type": "code",
   "execution_count": 31,
   "metadata": {},
   "outputs": [
    {
     "name": "stdout",
     "output_type": "stream",
     "text": [
      "Adjusted p crit : 0.0042\n",
      "ComptG12: 0.0000\n",
      "ComptG13: 0.0000\n",
      "ComptG14: 0.0000\n",
      "ComptG23: 0.0187\n",
      "ComptG24: 0.0000\n",
      "ComptG34: 0.0000\n"
     ]
    }
   ],
   "source": [
    "#Answer\n",
    "bonf = 0.05/6\n",
    "tG12 = stats.ttest_ind(dfG1, dfG2)\n",
    "tG13 = stats.ttest_ind(dfG1, dfG3)\n",
    "tG14 = stats.ttest_ind(dfG1, dfG4)\n",
    "tG23 = stats.ttest_ind(dfG2, dfG3)\n",
    "tG24 = stats.ttest_ind(dfG2, dfG4)\n",
    "tG34 = stats.ttest_ind(dfG3, dfG4)\n",
    "\n",
    "print(\"Adjusted p crit : {:.4f}\".format(bonf/2))\n",
    "print(\"ComptG12: {:.4f}\".format(tG12[1]))\n",
    "print(\"ComptG13: {:.4f}\".format(tG13[1]))\n",
    "print(\"ComptG14: {:.4f}\".format(tG14[1]))\n",
    "print(\"ComptG23: {:.4f}\".format(tG23[1]))\n",
    "print(\"ComptG24: {:.4f}\".format(tG24[1]))\n",
    "print(\"ComptG34: {:.4f}\".format(tG34[1]))\n",
    "#All have differences except groups 2 and 3 (30-41, 42-53)"
   ]
  },
  {
   "cell_type": "markdown",
   "metadata": {},
   "source": [
    "**(vii) Plot a boxplot showing the income per age group**"
   ]
  },
  {
   "cell_type": "code",
   "execution_count": 32,
   "metadata": {},
   "outputs": [
    {
     "data": {
      "text/plain": [
       "<AxesSubplot:>"
      ]
     },
     "execution_count": 32,
     "metadata": {},
     "output_type": "execute_result"
    },
    {
     "data": {
      "image/png": "[encoded data removed]",
      "text/plain": [
       "<Figure size 700x600 with 1 Axes>"
      ]
     },
     "metadata": {
      "needs_background": "light"
     },
     "output_type": "display_data"
    }
   ],
   "source": [
    "#Answer\n",
    "ages = pd.DataFrame(data={\"G1\":dfG1, \"G2\":dfG2, \"G3\":dfG3, \"G4\":dfG4})\n",
    "plt.subplots(figsize=(7,6), dpi=100)\n",
    "sns.boxplot(data=ages)"
   ]
  },
  {
   "cell_type": "markdown",
   "metadata": {},
   "source": [
    "**TA14) Implement the Pearson colleration metric to investigate whether there is any correlation between 'Age' (no groups) and 'Income'. Once you finish the implementation you can check their correctness using the built-in functions of Scipy.stats**\n",
    "\n",
    "What is your interpretation for the correlation between \"Age\" and \"Income\"?\n",
    "\n",
    "* Tip: See https://docs.scipy.org/doc/scipy-0.14.0/reference/generated/scipy.stats.pearsonr.html\n"
   ]
  },
  {
   "cell_type": "code",
   "execution_count": 33,
   "metadata": {},
   "outputs": [
    {
     "name": "stdout",
     "output_type": "stream",
     "text": [
      "Correlation2: 0.6237592016595748\n",
      "Correlation2: (0.6237592016595748, 5.604857947487841e-37)\n"
     ]
    }
   ],
   "source": [
    "#Answer\n",
    "\n",
    "#Analytically\n",
    "ageDiff      = np.sum( (df[\"age\"] - np.mean(df[\"age\"])) * (df[\"income\"] - np.mean(df[\"income\"])) )\n",
    "ageIncomeCov = ageDiff / (df.shape[0]-1)\n",
    "ageIncomeCor = ageIncomeCov / (np.std(df[\"age\"], ddof=1) * np.std(df[\"income\"], ddof=1))\n",
    "print(\"Correlation2:\", ageIncomeCor)\n",
    "\n",
    "#Using stats library\n",
    "print(\"Correlation2:\", stats.pearsonr(df[\"age\"], df[\"income\"]))"
   ]
  },
  {
   "cell_type": "markdown",
   "metadata": {},
   "source": [
    "**TA15) Create a new column in the dataframe called \"age group\" that splits the ages into groups of size 15**\n",
    "\n",
    "Hint: Look at the Pandas method cut(data, bins, labels)"
   ]
  },
  {
   "cell_type": "code",
   "execution_count": 34,
   "metadata": {},
   "outputs": [],
   "source": [
    "#Answer\n",
    "df[\"ageGroup\"]= pd.cut(df[\"age\"], range(0, 81, 15) , right=False)"
   ]
  },
  {
   "cell_type": "markdown",
   "metadata": {},
   "source": [
    "**TA16) Generate a contingency table to show how the age group (x axis) is related to the region (y axis)**\n",
    "\n",
    "* Hint: https://pandas.pydata.org/pandas-docs/stable/reference/api/pandas.crosstab.html\n",
    "\n",
    "**Note**: A contingency table summarises data for two (or more) categorical variables"
   ]
  },
  {
   "cell_type": "code",
   "execution_count": 35,
   "metadata": {},
   "outputs": [
    {
     "data": {
      "text/html": [
       "<div>\n",
       "<style scoped>\n",
       "    .dataframe tbody tr th:only-of-type {\n",
       "        vertical-align: middle;\n",
       "    }\n",
       "\n",
       "    .dataframe tbody tr th {\n",
       "        vertical-align: top;\n",
       "    }\n",
       "\n",
       "    .dataframe thead th {\n",
       "        text-align: right;\n",
       "    }\n",
       "</style>\n",
       "<table border=\"1\" class=\"dataframe\">\n",
       "  <thead>\n",
       "    <tr style=\"text-align: right;\">\n",
       "      <th>region</th>\n",
       "      <th>INNER_CITY</th>\n",
       "      <th>RURAL</th>\n",
       "      <th>SUBURBAN</th>\n",
       "      <th>TOWN</th>\n",
       "      <th>All</th>\n",
       "    </tr>\n",
       "    <tr>\n",
       "      <th>ageGroup</th>\n",
       "      <th></th>\n",
       "      <th></th>\n",
       "      <th></th>\n",
       "      <th></th>\n",
       "      <th></th>\n",
       "    </tr>\n",
       "  </thead>\n",
       "  <tbody>\n",
       "    <tr>\n",
       "      <th>[15, 30)</th>\n",
       "      <td>48</td>\n",
       "      <td>13</td>\n",
       "      <td>4</td>\n",
       "      <td>18</td>\n",
       "      <td>83</td>\n",
       "    </tr>\n",
       "    <tr>\n",
       "      <th>[30, 45)</th>\n",
       "      <td>44</td>\n",
       "      <td>10</td>\n",
       "      <td>7</td>\n",
       "      <td>41</td>\n",
       "      <td>102</td>\n",
       "    </tr>\n",
       "    <tr>\n",
       "      <th>[45, 60)</th>\n",
       "      <td>36</td>\n",
       "      <td>20</td>\n",
       "      <td>10</td>\n",
       "      <td>24</td>\n",
       "      <td>90</td>\n",
       "    </tr>\n",
       "    <tr>\n",
       "      <th>[60, 75)</th>\n",
       "      <td>27</td>\n",
       "      <td>11</td>\n",
       "      <td>4</td>\n",
       "      <td>13</td>\n",
       "      <td>55</td>\n",
       "    </tr>\n",
       "    <tr>\n",
       "      <th>All</th>\n",
       "      <td>155</td>\n",
       "      <td>54</td>\n",
       "      <td>25</td>\n",
       "      <td>96</td>\n",
       "      <td>330</td>\n",
       "    </tr>\n",
       "  </tbody>\n",
       "</table>\n",
       "</div>"
      ],
      "text/plain": [
       "region    INNER_CITY  RURAL  SUBURBAN  TOWN  All\n",
       "ageGroup                                        \n",
       "[15, 30)          48     13         4    18   83\n",
       "[30, 45)          44     10         7    41  102\n",
       "[45, 60)          36     20        10    24   90\n",
       "[60, 75)          27     11         4    13   55\n",
       "All              155     54        25    96  330"
      ]
     },
     "execution_count": 35,
     "metadata": {},
     "output_type": "execute_result"
    }
   ],
   "source": [
    "#Write your answer here\n",
    "pd.crosstab(df['ageGroup'], df['region'], margins=all)"
   ]
  },
  {
   "cell_type": "markdown",
   "metadata": {},
   "source": [
    "**TA17) What would be the hypotheses if the Council wants to assess whether the age group and region variables are independent? Report these hypotheses**"
   ]
  },
  {
   "cell_type": "code",
   "execution_count": 36,
   "metadata": {},
   "outputs": [],
   "source": [
    "#Answer\n",
    "#H0: Age group and region are independent\n",
    "#H1: Age group and region are not independent"
   ]
  },
  {
   "cell_type": "markdown",
   "metadata": {},
   "source": [
    "**TA18) Implement the Chi Square to investigate whether there is any dependency between region and age group. Once you finish the implementation you can check their correctness using the built-in functions of Scipy.stats**\n",
    "\n",
    "* Hint: You may need to use the data from TA16\n",
    "\n",
    "* Hint: https://docs.scipy.org/doc/scipy/reference/generated/scipy.stats.chi2_contingency.html"
   ]
  },
  {
   "cell_type": "code",
   "execution_count": 37,
   "metadata": {},
   "outputs": [
    {
     "name": "stdout",
     "output_type": "stream",
     "text": [
      "17.451443551632916 0.35698153776001246 16\n"
     ]
    },
    {
     "data": {
      "text/html": [
       "<div>\n",
       "<style scoped>\n",
       "    .dataframe tbody tr th:only-of-type {\n",
       "        vertical-align: middle;\n",
       "    }\n",
       "\n",
       "    .dataframe tbody tr th {\n",
       "        vertical-align: top;\n",
       "    }\n",
       "\n",
       "    .dataframe thead th {\n",
       "        text-align: right;\n",
       "    }\n",
       "</style>\n",
       "<table border=\"1\" class=\"dataframe\">\n",
       "  <thead>\n",
       "    <tr style=\"text-align: right;\">\n",
       "      <th>region</th>\n",
       "      <th>INNER_CITY</th>\n",
       "      <th>RURAL</th>\n",
       "      <th>SUBURBAN</th>\n",
       "      <th>TOWN</th>\n",
       "      <th>All</th>\n",
       "    </tr>\n",
       "    <tr>\n",
       "      <th>ageGroup</th>\n",
       "      <th></th>\n",
       "      <th></th>\n",
       "      <th></th>\n",
       "      <th></th>\n",
       "      <th></th>\n",
       "    </tr>\n",
       "  </thead>\n",
       "  <tbody>\n",
       "    <tr>\n",
       "      <th>[15, 30)</th>\n",
       "      <td>48</td>\n",
       "      <td>13</td>\n",
       "      <td>4</td>\n",
       "      <td>18</td>\n",
       "      <td>83</td>\n",
       "    </tr>\n",
       "    <tr>\n",
       "      <th>[30, 45)</th>\n",
       "      <td>44</td>\n",
       "      <td>10</td>\n",
       "      <td>7</td>\n",
       "      <td>41</td>\n",
       "      <td>102</td>\n",
       "    </tr>\n",
       "    <tr>\n",
       "      <th>[45, 60)</th>\n",
       "      <td>36</td>\n",
       "      <td>20</td>\n",
       "      <td>10</td>\n",
       "      <td>24</td>\n",
       "      <td>90</td>\n",
       "    </tr>\n",
       "    <tr>\n",
       "      <th>[60, 75)</th>\n",
       "      <td>27</td>\n",
       "      <td>11</td>\n",
       "      <td>4</td>\n",
       "      <td>13</td>\n",
       "      <td>55</td>\n",
       "    </tr>\n",
       "    <tr>\n",
       "      <th>All</th>\n",
       "      <td>155</td>\n",
       "      <td>54</td>\n",
       "      <td>25</td>\n",
       "      <td>96</td>\n",
       "      <td>330</td>\n",
       "    </tr>\n",
       "  </tbody>\n",
       "</table>\n",
       "</div>"
      ],
      "text/plain": [
       "region    INNER_CITY  RURAL  SUBURBAN  TOWN  All\n",
       "ageGroup                                        \n",
       "[15, 30)          48     13         4    18   83\n",
       "[30, 45)          44     10         7    41  102\n",
       "[45, 60)          36     20        10    24   90\n",
       "[60, 75)          27     11         4    13   55\n",
       "All              155     54        25    96  330"
      ]
     },
     "execution_count": 37,
     "metadata": {},
     "output_type": "execute_result"
    }
   ],
   "source": [
    "#Answer\n",
    "contingencyTable = pd.crosstab(df['ageGroup'], df['region'], margins=all)\n",
    "chi_sq_Stat, p_value, deg_freedom, exp_freq =  stats.chi2_contingency(contingencyTable)\n",
    "print(chi_sq_Stat, p_value, deg_freedom)\n",
    "contingencyTable"
   ]
  },
  {
   "cell_type": "markdown",
   "metadata": {},
   "source": [
    "**TA19) Calculate the degrees of freedom for TA16/18**"
   ]
  },
  {
   "cell_type": "code",
   "execution_count": 38,
   "metadata": {},
   "outputs": [],
   "source": [
    "#Answer\n",
    "#DoF = (4-1)*(4-1) = 9"
   ]
  },
  {
   "cell_type": "markdown",
   "metadata": {},
   "source": [
    "**TA20) Using a significance level 𝛼=0.05, find the critical value for the hypothesis from TA17 and determine whether the Null hypothesis holds or not**"
   ]
  },
  {
   "cell_type": "code",
   "execution_count": 39,
   "metadata": {},
   "outputs": [],
   "source": [
    "#Answer\n",
    "#Critical value 16.92\n",
    "#H0 is rejected (marginally)"
   ]
  },
  {
   "cell_type": "markdown",
   "metadata": {},
   "source": [
    "**TA21) Plot a scatter plot for the ages VS income**"
   ]
  },
  {
   "cell_type": "code",
   "execution_count": 40,
   "metadata": {},
   "outputs": [
    {
     "data": {
      "text/plain": [
       "Text(0, 0.5, 'Income (£)')"
      ]
     },
     "execution_count": 40,
     "metadata": {},
     "output_type": "execute_result"
    },
    {
     "data": {
      "image/png": "[encoded data removed]",
      "text/plain": [
       "<Figure size 700x600 with 1 Axes>"
      ]
     },
     "metadata": {
      "needs_background": "light"
     },
     "output_type": "display_data"
    }
   ],
   "source": [
    "#Answer\n",
    "plt.subplots(figsize=(7,6), dpi=100)\n",
    "ax = sns.scatterplot(x=\"age\", y=\"income\", data=df, marker='o')\n",
    "ax.set_xlabel('Year ',fontsize=15) # set x label\n",
    "ax.set_ylabel('Income (£)',fontsize=15,rotation=90) # set y label"
   ]
  },
  {
   "cell_type": "markdown",
   "metadata": {},
   "source": [
    "**TA22) Train a linear regression model to determine the \"best line of fit\" for this data using only the Year as the input variable**\n",
    "\n",
    "* Hint: You might want to use the following library\n",
    "  \n",
    "  from sklearn import linear_model\n",
    "  \n",
    " * Hint: You might want to check https://scikit-learn.org/stable/modules/generated/sklearn.linear_model.LinearRegression.html"
   ]
  },
  {
   "cell_type": "code",
   "execution_count": 41,
   "metadata": {},
   "outputs": [
    {
     "data": {
      "text/plain": [
       "LinearRegression()"
      ]
     },
     "execution_count": 41,
     "metadata": {},
     "output_type": "execute_result"
    }
   ],
   "source": [
    "#Answer\n",
    "from sklearn import linear_model\n",
    "reg = linear_model.LinearRegression()\n",
    "reg.fit(df[\"age\"].to_numpy().reshape(-1,1), df[\"income\"])"
   ]
  },
  {
   "cell_type": "markdown",
   "metadata": {},
   "source": [
    "**TA23) Extract and report the coefficients (regression coefficient and intercept) of the trained linear regression model**\n",
    "\n",
    " * Hint: You might want to check https://scikit-learn.org/stable/modules/generated/sklearn.linear_model.LinearRegression.html"
   ]
  },
  {
   "cell_type": "code",
   "execution_count": 42,
   "metadata": {},
   "outputs": [
    {
     "name": "stdout",
     "output_type": "stream",
     "text": [
      "[539.11507264]\n",
      "3631.49023086526\n"
     ]
    }
   ],
   "source": [
    "#Answer\n",
    "print(reg.coef_)\n",
    "print(reg.intercept_)"
   ]
  },
  {
   "cell_type": "code",
   "execution_count": 43,
   "metadata": {},
   "outputs": [
    {
     "name": "stdout",
     "output_type": "stream",
     "text": [
      "3631.4902308652527 539.1150726420368\n"
     ]
    }
   ],
   "source": [
    "#Checking the closed-form formulae\n",
    "#beta  = pearsonr * stdY / stdX\n",
    "#alpha = meanY - beta * meanX\n",
    "beta  = stats.pearsonr(df[\"age\"], df[\"income\"])[0] * np.std(df[\"income\"],ddof=1)/np.std(df[\"age\"],ddof=1)\n",
    "alpha = np.mean(df[\"income\"]) - beta * np.mean(df[\"age\"])\n",
    "print(alpha, beta)"
   ]
  },
  {
   "cell_type": "code",
   "execution_count": 44,
   "metadata": {},
   "outputs": [
    {
     "name": "stdout",
     "output_type": "stream",
     "text": [
      "[0.6237592]\n",
      "0.6237592016595748\n"
     ]
    }
   ],
   "source": [
    "print(reg.coef_ * np.std(df[\"age\"], ddof=1) / np.std(df[\"income\"], ddof=1))\n",
    "print(stats.pearsonr(df[\"age\"], df[\"income\"])[0])"
   ]
  },
  {
   "cell_type": "markdown",
   "metadata": {},
   "source": [
    "**TA24) Using your age, make a prediction about your income in 10 years time (i.e., your age in 2030). Also, report the complete linear regression model**\n"
   ]
  },
  {
   "cell_type": "code",
   "execution_count": 45,
   "metadata": {},
   "outputs": [
    {
     "name": "stdout",
     "output_type": "stream",
     "text": [
      "[21422.28762805]\n"
     ]
    }
   ],
   "source": [
    "#Answer\n",
    "print(reg.predict([[33]]))"
   ]
  },
  {
   "cell_type": "markdown",
   "metadata": {},
   "source": [
    "**TA25) Plot the linear regression model alongside the scatter plot from TA21**\n",
    "\n",
    "* Hint: invoke the plotting functions (one for the scatter plot, one for the linear regression model) one after the other\n",
    "\n",
    "* Hint: To generate the linear regression model, you can use (i) high school maths or (ii) the predict() method of the LinearRegression library"
   ]
  },
  {
   "cell_type": "code",
   "execution_count": 46,
   "metadata": {},
   "outputs": [
    {
     "data": {
      "image/png": "[encoded data removed]",
      "text/plain": [
       "<Figure size 700x600 with 1 Axes>"
      ]
     },
     "metadata": {
      "needs_background": "light"
     },
     "output_type": "display_data"
    }
   ],
   "source": [
    "#Answer\n",
    "plt.subplots(figsize=(7,6), dpi=100)\n",
    "ax = sns.scatterplot(x=\"age\", y=\"income\", data=df, marker='o')\n",
    "ax.set_xlabel('Year ',fontsize=15) # set x label\n",
    "ax.set_ylabel('Income (£)',fontsize=15,rotation=90) # set y label\n",
    "\n",
    "min = 17\n",
    "max = 70\n",
    "model = reg.predict(np.arange(min,max).reshape(-1, 1))\n",
    "ax = sns.lineplot(y=model, x=np.arange(min,max), linestyle='-', color=\"r\", label=\"A\", alpha=0.7, lw=2)\n"
   ]
  },
  {
   "cell_type": "markdown",
   "metadata": {},
   "source": [
    "## Should you finish earlier/want to practice at home, you could\n",
    "\n",
    "* Go back to the previous practicals and run some statistical tests\n",
    "    * Do some statistical analysis on the Titanic (e.g., is there a relationship between the people survived and gender?)\n",
    "    * Do a linear regression on the Android Store (e.g., what might be the rating that a game of a specific nature might received)"
   ]
  },
  {
   "cell_type": "code",
   "execution_count": null,
   "metadata": {},
   "outputs": [],
   "source": []
  },
  {
   "cell_type": "code",
   "execution_count": null,
   "metadata": {},
   "outputs": [],
   "source": []
  }
 ],
 "metadata": {
  "kernelspec": {
   "display_name": "Python 3",
   "language": "python",
   "name": "python3"
  },
  "language_info": {
   "codemirror_mode": {
    "name": "ipython",
    "version": 3
   },
   "file_extension": ".py",
   "mimetype": "text/x-python",
   "name": "python",
   "nbconvert_exporter": "python",
   "pygments_lexer": "ipython3",
   "version": "3.8.2"
  }
 },
 "nbformat": 4,
 "nbformat_minor": 4
}

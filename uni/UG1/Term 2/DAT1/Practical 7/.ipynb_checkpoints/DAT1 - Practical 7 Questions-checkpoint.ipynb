{
 "cells": [
  {
   "cell_type": "markdown",
   "metadata": {},
   "source": [
    "# DATA 1 Practical 7 - Questions\n",
    "                                                                                                    Simos Gerasimou\n",
    "\n",
    "\n",
    "## \"...all models are wrong, but some are useful. However, the approximate nature of the model must always be borne in mind....\" (George Box) [Wikipedia](https://en.wikipedia.org/wiki/All_models_are_wrong)\n",
    "\n",
    "**Pandas API Reference**: https://pandas.pydata.org/pandas-docs/stable/reference/index.html\n",
    "\n",
    "**Matplotlib API Reference**: https://matplotlib.org/3.1.1/api/index.html\n",
    "\n",
    "**Seaborn API Reference**: https://seaborn.pydata.org/api.html\n",
    "\n",
    "**Scipy Stats API Reference**: https://docs.scipy.org/doc/scipy/reference/stats.html\n",
    "\n",
    "**t table Reference**:  http://www.ttable.org\n",
    "\n",
    "**F table Reference**  https://www.stat.purdue.edu/~jtroisi/STAT350Spring2015/tables/FTable.pdf\n",
    "\n",
    "**Chi-Square table Reference** https://people.smp.uq.edu.au/YoniNazarathy/stat_models_B_course_spring_07/distributions/chisqtab.pdf\n"
   ]
  },
  {
   "cell_type": "markdown",
   "metadata": {
    "deletable": false,
    "editable": false,
    "run_control": {
     "frozen": true
    }
   },
   "source": [
    "## Announcements\n",
    "\n",
    "### 1) Next Monday, we have an invited talk (on Webex) by Data Scientists from Rolls Royce!\n",
    "\n",
    "### 2) Next Thursday, we have the formative test. Check your timetable for your group and exact time.\n",
    "\n",
    "### 3) You can ask questions and provide feedback about DAT1 at https://uniofyork.padlet.org/simos_gerasimou/dat1q"
   ]
  },
  {
   "cell_type": "code",
   "execution_count": 4,
   "metadata": {},
   "outputs": [],
   "source": [
    "#Preamble: Add main Python libraries\n",
    "import pandas as pd \n",
    "import seaborn as sns\n",
    "import matplotlib.pyplot as plt\n",
    "import numpy as np\n",
    "import scipy.stats as stats\n",
    "import scipy"
   ]
  },
  {
   "cell_type": "markdown",
   "metadata": {
    "deletable": false,
    "editable": false,
    "run_control": {
     "frozen": true
    }
   },
   "source": [
    "## Linear Regression Part A'\n",
    "\n",
    "### If not already completed, go back to Practical #6 and do tasks TA21-TA25 \n",
    "---"
   ]
  },
  {
   "cell_type": "markdown",
   "metadata": {},
   "source": [
    "## Linear Regression Part B'\n",
    "\n",
    "A dietetics and nutrition instructor wants to analyse how well educated are sports science students about the usefuleness of calcium and its recommended daily intake. Also, the instructor wants to examine if knowledge about calcium can be used to predict calcium intake of the students. To answer these questions, the instructor collected data from 20 students about their calcium knowledge and calcium intake per day."
   ]
  },
  {
   "cell_type": "markdown",
   "metadata": {},
   "source": [
    "#### TB1) Load the Nutrition dataset using Pandas\n",
    "\n",
    "* [Nutrition dataset](https://drive.google.com/file/d/1JR6WNrcSPq4WYNC8UhpSrShf7zUptLdN/view?usp=sharing)\n",
    "\n",
    "**Note**: You have to download the dataset on your local machine and then load it onto the Jupyter Notebook\n",
    "\n",
    "**Note 2**: If you want to examine the dataset, you can look at Tasks 1-10 in Practicals 4 and 6."
   ]
  },
  {
   "cell_type": "code",
   "execution_count": 5,
   "metadata": {},
   "outputs": [
    {
     "data": {
      "text/html": [
       "<div>\n",
       "<style scoped>\n",
       "    .dataframe tbody tr th:only-of-type {\n",
       "        vertical-align: middle;\n",
       "    }\n",
       "\n",
       "    .dataframe tbody tr th {\n",
       "        vertical-align: top;\n",
       "    }\n",
       "\n",
       "    .dataframe thead th {\n",
       "        text-align: right;\n",
       "    }\n",
       "</style>\n",
       "<table border=\"1\" class=\"dataframe\">\n",
       "  <thead>\n",
       "    <tr style=\"text-align: right;\">\n",
       "      <th></th>\n",
       "      <th>KnowledgeScore</th>\n",
       "      <th>CalciumIntake</th>\n",
       "    </tr>\n",
       "  </thead>\n",
       "  <tbody>\n",
       "    <tr>\n",
       "      <th>0</th>\n",
       "      <td>10</td>\n",
       "      <td>450</td>\n",
       "    </tr>\n",
       "    <tr>\n",
       "      <th>1</th>\n",
       "      <td>42</td>\n",
       "      <td>1050</td>\n",
       "    </tr>\n",
       "    <tr>\n",
       "      <th>2</th>\n",
       "      <td>38</td>\n",
       "      <td>900</td>\n",
       "    </tr>\n",
       "    <tr>\n",
       "      <th>3</th>\n",
       "      <td>15</td>\n",
       "      <td>525</td>\n",
       "    </tr>\n",
       "    <tr>\n",
       "      <th>4</th>\n",
       "      <td>22</td>\n",
       "      <td>710</td>\n",
       "    </tr>\n",
       "    <tr>\n",
       "      <th>5</th>\n",
       "      <td>32</td>\n",
       "      <td>854</td>\n",
       "    </tr>\n",
       "    <tr>\n",
       "      <th>6</th>\n",
       "      <td>40</td>\n",
       "      <td>800</td>\n",
       "    </tr>\n",
       "    <tr>\n",
       "      <th>7</th>\n",
       "      <td>14</td>\n",
       "      <td>493</td>\n",
       "    </tr>\n",
       "    <tr>\n",
       "      <th>8</th>\n",
       "      <td>26</td>\n",
       "      <td>730</td>\n",
       "    </tr>\n",
       "    <tr>\n",
       "      <th>9</th>\n",
       "      <td>32</td>\n",
       "      <td>894</td>\n",
       "    </tr>\n",
       "    <tr>\n",
       "      <th>10</th>\n",
       "      <td>38</td>\n",
       "      <td>940</td>\n",
       "    </tr>\n",
       "    <tr>\n",
       "      <th>11</th>\n",
       "      <td>25</td>\n",
       "      <td>733</td>\n",
       "    </tr>\n",
       "    <tr>\n",
       "      <th>12</th>\n",
       "      <td>48</td>\n",
       "      <td>985</td>\n",
       "    </tr>\n",
       "    <tr>\n",
       "      <th>13</th>\n",
       "      <td>28</td>\n",
       "      <td>763</td>\n",
       "    </tr>\n",
       "    <tr>\n",
       "      <th>14</th>\n",
       "      <td>22</td>\n",
       "      <td>583</td>\n",
       "    </tr>\n",
       "    <tr>\n",
       "      <th>15</th>\n",
       "      <td>45</td>\n",
       "      <td>850</td>\n",
       "    </tr>\n",
       "    <tr>\n",
       "      <th>16</th>\n",
       "      <td>18</td>\n",
       "      <td>798</td>\n",
       "    </tr>\n",
       "    <tr>\n",
       "      <th>17</th>\n",
       "      <td>24</td>\n",
       "      <td>754</td>\n",
       "    </tr>\n",
       "    <tr>\n",
       "      <th>18</th>\n",
       "      <td>30</td>\n",
       "      <td>805</td>\n",
       "    </tr>\n",
       "    <tr>\n",
       "      <th>19</th>\n",
       "      <td>43</td>\n",
       "      <td>1085</td>\n",
       "    </tr>\n",
       "  </tbody>\n",
       "</table>\n",
       "</div>"
      ],
      "text/plain": [
       "    KnowledgeScore  CalciumIntake\n",
       "0               10            450\n",
       "1               42           1050\n",
       "2               38            900\n",
       "3               15            525\n",
       "4               22            710\n",
       "5               32            854\n",
       "6               40            800\n",
       "7               14            493\n",
       "8               26            730\n",
       "9               32            894\n",
       "10              38            940\n",
       "11              25            733\n",
       "12              48            985\n",
       "13              28            763\n",
       "14              22            583\n",
       "15              45            850\n",
       "16              18            798\n",
       "17              24            754\n",
       "18              30            805\n",
       "19              43           1085"
      ]
     },
     "execution_count": 5,
     "metadata": {},
     "output_type": "execute_result"
    }
   ],
   "source": [
    "#Write your answer here\n",
    "nutrition_dataframe = pd.read_csv(\"nutrition.csv\")\n",
    "nutrition_dataframe"
   ]
  },
  {
   "cell_type": "markdown",
   "metadata": {
    "deletable": false,
    "editable": false,
    "run_control": {
     "frozen": true
    }
   },
   "source": [
    "#### TB2) Which is the independent and which is the dependent variable?"
   ]
  },
  {
   "cell_type": "code",
   "execution_count": 6,
   "metadata": {},
   "outputs": [],
   "source": [
    "# independent variable: calcium intake\n",
    "# dependent variable: knowledge score\n",
    "# edit: I got it the wrong way round"
   ]
  },
  {
   "cell_type": "markdown",
   "metadata": {},
   "source": [
    "#### TB3) Plot a scatter plot having the independent variable on the X axis. Do you see any relationship between the variables? "
   ]
  },
  {
   "cell_type": "code",
   "execution_count": 7,
   "metadata": {},
   "outputs": [
    {
     "data": {
      "text/plain": [
       "Text(0, 0.5, 'Calcium Intake')"
      ]
     },
     "execution_count": 7,
     "metadata": {},
     "output_type": "execute_result"
    },
    {
     "data": {
      "image/png": "[encoded data removed]",
      "text/plain": [
       "<Figure size 800x800 with 1 Axes>"
      ]
     },
     "metadata": {
      "needs_background": "light"
     },
     "output_type": "display_data"
    }
   ],
   "source": [
    "#Write your answer here\n",
    "plt.subplots(figsize=(8, 8), dpi=100)\n",
    "ax = sns.scatterplot(x=\"KnowledgeScore\", y=\"CalciumIntake\", data=nutrition_dataframe, marker=\"o\")\n",
    "ax.set_xlabel(\"Knowledge Score\")\n",
    "ax.set_ylabel(\"Calcium Intake\")"
   ]
  },
  {
   "cell_type": "markdown",
   "metadata": {},
   "source": [
    "#### TB4) Calculate the Pearson correlation coefficient.  You must show your calculations, i.e., calculate the result analytically, but you may use the appropriate scipy.stats.pearsonr or np.corrcoef method to check your result. "
   ]
  },
  {
   "cell_type": "code",
   "execution_count": 8,
   "metadata": {},
   "outputs": [
    {
     "data": {
      "text/plain": [
       "0.8822551379904902"
      ]
     },
     "execution_count": 8,
     "metadata": {},
     "output_type": "execute_result"
    }
   ],
   "source": [
    "# analytically\n",
    "# r = n (∑xy) – ∑x ∑y / √ [n* (∑x2 – (∑x)2)] * [n* (∑y2 – (∑y)2)]\n",
    "\n",
    "# r = Pearson Coefficient\n",
    "n = len(nutrition_dataframe[\"KnowledgeScore\"])  # n = number of the pairs of the stock\n",
    "sum_x_y_products = sum([nutrition_dataframe.iloc[i][0]*nutrition_dataframe.iloc[i][1] for i in range(int(nutrition_dataframe.size / len(nutrition_dataframe.axes[1])))])  # ∑xy = sum of products of the paired stocks\n",
    "sum_x = nutrition_dataframe.sum()[0]  # ∑x = sum of the x scores\n",
    "sum_y = nutrition_dataframe.sum()[1]  # ∑y= sum of the y scores\n",
    "sum_x_squared = sum([nutrition_dataframe.iloc[i][0]*nutrition_dataframe.iloc[i][0] for i in range(int(nutrition_dataframe.size / len(nutrition_dataframe.axes[1])))])   # ∑x^2 = sum of the squared x scores\n",
    "sum_y_squared = sum([nutrition_dataframe.iloc[i][1]*nutrition_dataframe.iloc[i][1] for i in range(int(nutrition_dataframe.size / len(nutrition_dataframe.axes[1])))])  # ∑y^2 = sum of the squared y scores\n",
    "\n",
    "r_numerator = n*sum_x_y_products - sum_x*sum_y\n",
    "r_denominator = np.sqrt( (n*sum_x_squared - sum_x*sum_x) * (n*sum_y_squared - sum_y*sum_y) )\n",
    "r_analytically = r_numerator / r_denominator\n",
    "r_analytically"
   ]
  },
  {
   "cell_type": "code",
   "execution_count": 9,
   "metadata": {},
   "outputs": [],
   "source": [
    "r_programatically_1 = stats.pearsonr(nutrition_dataframe[\"KnowledgeScore\"], nutrition_dataframe[\"CalciumIntake\"])[0]  # x var, then y passed into parameters"
   ]
  },
  {
   "cell_type": "code",
   "execution_count": 10,
   "metadata": {},
   "outputs": [],
   "source": [
    "r_programatically_2 = np.corrcoef(nutrition_dataframe[\"KnowledgeScore\"], nutrition_dataframe[\"CalciumIntake\"])[0][1]"
   ]
  },
  {
   "cell_type": "markdown",
   "metadata": {
    "deletable": false,
    "editable": false,
    "run_control": {
     "frozen": true
    }
   },
   "source": [
    "#### TB5) What do you think of the correlation between these two variables? What do you expect the linear regression model to be?"
   ]
  },
  {
   "cell_type": "code",
   "execution_count": 11,
   "metadata": {},
   "outputs": [
    {
     "data": {
      "text/plain": [
       "KnowledgeScore      592\n",
       "CalciumIntake     15702\n",
       "dtype: int64"
      ]
     },
     "execution_count": 11,
     "metadata": {},
     "output_type": "execute_result"
    }
   ],
   "source": [
    "#Write your answer here\n",
    "# strong positive correlation between the two variables\n",
    "nutrition_dataframe.sum()"
   ]
  },
  {
   "cell_type": "markdown",
   "metadata": {},
   "source": [
    "#### TB6) Train a simple linear regression model to determine the \"best line of fit\" for this data\n",
    "\n",
    "* Hint: You might want to use the following library\n",
    "  \n",
    "  from sklearn import linear_model\n",
    "  \n",
    " * Hint: You might want to check https://scikit-learn.org/stable/modules/generated/sklearn.linear_model.LinearRegression.html\n",
    " \n",
    " * Hint: Look at the array type expected by the fit method: 'Array of shape (n_samples, n_features)'"
   ]
  },
  {
   "cell_type": "code",
   "execution_count": 12,
   "metadata": {},
   "outputs": [
    {
     "data": {
      "text/plain": [
       "LinearRegression()"
      ]
     },
     "execution_count": 12,
     "metadata": {},
     "output_type": "execute_result"
    }
   ],
   "source": [
    "#Write your answer here\n",
    "from sklearn import linear_model\n",
    "\n",
    "\n",
    "nutrition_array_x = pd.DataFrame(nutrition_dataframe['KnowledgeScore'])  # we'd do if not more than one independent variable existed\n",
    "# nutrition_array_if_multiple_x = np.array(nutrition_dataframe['KnowledgeScore']).reshape(-1,1)  # we'd do if more than one independent variable existed\n",
    "# nutrition_array_x = nutrition_dataframe['KnowledgeScore'].to_numpy().reshape(-1,1)  # does the same as line before\n",
    "# nutrition_array_x = [[x] for x in nutrition_dataframe['KnowledgeScore']]  # ditto\n",
    "# some changes in formattings have to be carried out if we have more than one independent variable) to transform the\n",
    "# independent variable data into the 2d array format expected by the linear regression model\n",
    "\n",
    "nutrition_array_y = nutrition_dataframe.drop('KnowledgeScore', axis='columns')  # dw, inplace=False is default\n",
    "# key error if axes not set to columns\n",
    "\n",
    "nutrition_linear_reg = linear_model.LinearRegression()\n",
    "nutrition_linear_reg.fit(nutrition_array_x, nutrition_array_y)"
   ]
  },
  {
   "cell_type": "markdown",
   "metadata": {},
   "source": [
    "#### TB7) Report the regression and intercept coefficients of this linear regression model. Report also the final formula of the linear regression model.\n",
    "\n",
    "* Hint: You might want to check https://scikit-learn.org/stable/modules/generated/sklearn.linear_model.LinearRegression.html"
   ]
  },
  {
   "cell_type": "code",
   "execution_count": 13,
   "metadata": {},
   "outputs": [
    {
     "name": "stdout",
     "output_type": "stream",
     "text": [
      "α: 13.897200274819637\n",
      "β: 373.74287186533877\n",
      "y = 13.8972x + 373.74287\n",
      "where x is knowledge score, and y is calorie intake\n"
     ]
    }
   ],
   "source": [
    "# formula of (simple) linear regression is:\n",
    "# y = αx + β\n",
    "beta = nutrition_linear_reg.intercept_[0]  # y intercept\n",
    "aloha = nutrition_linear_reg.coef_[0][0]  # gradient\n",
    "print(\"α:\", aloha)\n",
    "print(\"β:\", beta)\n",
    "print(\"y =\", str(round(aloha, 5)) + \"x +\", round(beta, 5))\n",
    "# print(\"where y is knowledge score, and x is calorie intake\")\n",
    "# ok turns out I didn't read the scenario correctly and have been doing x and y the wrong way round\n",
    "# okaaay edited most of my mistaken answers to this scenario's section, alhamdulilah\n",
    "print(\"where x is knowledge score, and y is calorie intake\")"
   ]
  },
  {
   "cell_type": "markdown",
   "metadata": {},
   "source": [
    "#### TB8) Calculate the regression and intercept coefficients analytically (using the algebraic formulae) and confirm that they are equal to those reported in task TB7"
   ]
  },
  {
   "cell_type": "code",
   "execution_count": 14,
   "metadata": {},
   "outputs": [
    {
     "name": "stdout",
     "output_type": "stream",
     "text": [
      "CI = 373.74287*KS + 13.8972\n"
     ]
    }
   ],
   "source": [
    "# for y = ax + b\n",
    "# using linear regression formulae from https://www.vedantu.com/formula/linear-regression-formula\n",
    "b_top = n*sum_x_y_products - sum_x*sum_y\n",
    "b_bottom = n*sum_x_squared - sum_x*sum_x\n",
    "b = b_top / b_bottom  # or, using alternative manipulated formula:  b = r_analytically * np.std(nutrition_dataframe[\"CalciumIntake\"], ddof=1) / np.std(nutrition_dataframe[\"KnowledgeScore\"], ddof=1)\n",
    "b =  r_analytically * np.std(nutrition_dataframe[\"CalciumIntake\"], ddof=1) / np.std(nutrition_dataframe[\"KnowledgeScore\"], ddof=1)\n",
    "a = (sum_y - b*sum_x) / n  # or a = np.mean(nutrition_dataframe[\"CalciumIntake\"]) - beta * np.mean(nutrition_dataframe[\"KnowledgeScore\"])\n",
    "print(\"CI = \" + str(round(a, 5)) + \"*KS + \" + str(round(b, 5)))\n",
    "# yaaaaaaaaaaaas we got 'em, alhamdulillah!!!"
   ]
  },
  {
   "cell_type": "markdown",
   "metadata": {},
   "source": [
    "\n",
    "#### TB9) Calculate the goodness of fit $R^2$. You must show your calculations, i.e., calculate the result analytically, but you may use the appropriate sklearn.metrics method to check your result.\n",
    "\n",
    "* Hint: You might want to check https://scikit-learn.org/stable/modules/classes.html#module-sklearn.metrics\n",
    "* Hint: To derive the $R^2$ score you need to make predictions (see lecture slides for the formulae). You may use the same dataset (used for training) for making predictions."
   ]
  },
  {
   "cell_type": "code",
   "execution_count": 15,
   "metadata": {},
   "outputs": [],
   "source": [
    "# R² measures the proportion of the total variation in Y explained by the regression model. It is called the Coefficient\n",
    "# of Determination (Muliple Coefficient of Determination, in the case of multiple regression)"
   ]
  },
  {
   "cell_type": "code",
   "execution_count": 16,
   "metadata": {},
   "outputs": [],
   "source": [
    "import sklearn\n",
    "nutrition_predict = nutrition_linear_reg.predict(nutrition_array_x)\n",
    "r_squared_via_sklearn = sklearn.metrics.r2_score(nutrition_dataframe[\"CalciumIntake\"], nutrition_predict)\n"
   ]
  },
  {
   "cell_type": "code",
   "execution_count": 17,
   "metadata": {},
   "outputs": [
    {
     "data": {
      "text/plain": [
       "0.7783741285106188"
      ]
     },
     "execution_count": 17,
     "metadata": {},
     "output_type": "execute_result"
    }
   ],
   "source": [
    "# r_squared_via_formula = explained_sum_of_squares / total_sum of squares\n",
    "r_squared_via_formula = np.power(r_analytically, 2)\n",
    "r_squared_via_formula"
   ]
  },
  {
   "cell_type": "markdown",
   "metadata": {},
   "source": [
    "#### TB10) Plot the linear regression model alongside the scatter plot from TB3\n",
    "\n",
    "* Hint: invoke the plotting functions (one for the scatter plot, one for the linear regression model) one after the other\n",
    "\n",
    "* Hint: To generate the linear regression model, you can use (i) high school maths or (ii) the predict() method of the LinearRegression library"
   ]
  },
  {
   "cell_type": "code",
   "execution_count": 18,
   "metadata": {},
   "outputs": [
    {
     "data": {
      "image/png": "[encoded data removed]",
      "text/plain": [
       "<Figure size 1000x1000 with 1 Axes>"
      ]
     },
     "metadata": {
      "needs_background": "light"
     },
     "output_type": "display_data"
    }
   ],
   "source": [
    "plt.subplots(figsize=(10, 10), dpi=100)\n",
    "ax = sns.scatterplot(x=\"KnowledgeScore\", y=\"CalciumIntake\", data=nutrition_dataframe, marker=\"o\")\n",
    "ax.set_xlabel(\"Knowledge Score\")\n",
    "ax.set_ylabel(\"Calcium Intake\")\n",
    "min_val_x = np.min(nutrition_array_x[\"KnowledgeScore\"])\n",
    "max_val_x = np.max(nutrition_array_x[\"KnowledgeScore\"])\n",
    "\n",
    "nutrition_predict = nutrition_linear_reg.predict(np.arange(min_val_x, max_val_x).reshape(-1, 1))\n",
    "ax = sns.lineplot(y=nutrition_predict.flatten(), x=np.arange(min_val_x, max_val_x), linestyle=\"-\", color=\"r\", label=\"lobf\", alpha=0.7, lw=2)"
   ]
  },
  {
   "cell_type": "markdown",
   "metadata": {},
   "source": [
    "#### TB11) Calculate the approximate calcium intake of a student with knowledge of calcium score equal to 30 (out of 50)."
   ]
  },
  {
   "cell_type": "code",
   "execution_count": 19,
   "metadata": {},
   "outputs": [
    {
     "data": {
      "text/plain": [
       "790.74"
      ]
     },
     "execution_count": 19,
     "metadata": {},
     "output_type": "execute_result"
    }
   ],
   "source": [
    "#Write your answer here\n",
    "\n",
    "# CI = 373.74287*KS + 13.8972\n",
    "# when KS = 30\n",
    "KS = 30\n",
    "CI = 373.74287*KS + 13.8972  # CI = 373.74287*30 + 13.8972\n",
    "CI\n",
    "373.74 + 13.90 * 30"
   ]
  },
  {
   "cell_type": "markdown",
   "metadata": {
    "deletable": false,
    "editable": false,
    "run_control": {
     "frozen": true
    }
   },
   "source": [
    "***"
   ]
  },
  {
   "cell_type": "markdown",
   "metadata": {},
   "source": [
    "## Linear Regression Part C'\n",
    "\n",
    "York Music Company decided to advertise 200 different cds and analyse the sales of the cds the week after they were advertised (in thousands) against the amount spent on advertising (thousands of pounds). The company is interested in establishing whether advertising amount prior to releasing a cd can be used to predict its sales.\n"
   ]
  },
  {
   "cell_type": "markdown",
   "metadata": {},
   "source": [
    "#### TC1) Load the York Music dataset using Pandas\n",
    "[York Music dataset](https://drive.google.com/file/d/1EX26Vqg2KfsnYknz7x0MNdOjATkyJYGk/view?usp=sharing)\n",
    "\n",
    "* **Note**: You have to download the dataset on your local machine and then load it onto the Jupyter Notebook\n",
    "\n",
    "* **Note 2**: If you want to examine the dataset, you can look at Tasks 1-10 in Practicals 4 and 6"
   ]
  },
  {
   "cell_type": "code",
   "execution_count": 20,
   "metadata": {},
   "outputs": [
    {
     "data": {
      "text/html": [
       "<div>\n",
       "<style scoped>\n",
       "    .dataframe tbody tr th:only-of-type {\n",
       "        vertical-align: middle;\n",
       "    }\n",
       "\n",
       "    .dataframe tbody tr th {\n",
       "        vertical-align: top;\n",
       "    }\n",
       "\n",
       "    .dataframe thead th {\n",
       "        text-align: right;\n",
       "    }\n",
       "</style>\n",
       "<table border=\"1\" class=\"dataframe\">\n",
       "  <thead>\n",
       "    <tr style=\"text-align: right;\">\n",
       "      <th></th>\n",
       "      <th>Adverts</th>\n",
       "      <th>Sales</th>\n",
       "    </tr>\n",
       "  </thead>\n",
       "  <tbody>\n",
       "    <tr>\n",
       "      <th>0</th>\n",
       "      <td>10.26</td>\n",
       "      <td>330</td>\n",
       "    </tr>\n",
       "    <tr>\n",
       "      <th>1</th>\n",
       "      <td>985.69</td>\n",
       "      <td>120</td>\n",
       "    </tr>\n",
       "    <tr>\n",
       "      <th>2</th>\n",
       "      <td>1445.56</td>\n",
       "      <td>360</td>\n",
       "    </tr>\n",
       "    <tr>\n",
       "      <th>3</th>\n",
       "      <td>1188.19</td>\n",
       "      <td>270</td>\n",
       "    </tr>\n",
       "    <tr>\n",
       "      <th>4</th>\n",
       "      <td>574.51</td>\n",
       "      <td>220</td>\n",
       "    </tr>\n",
       "    <tr>\n",
       "      <th>...</th>\n",
       "      <td>...</td>\n",
       "      <td>...</td>\n",
       "    </tr>\n",
       "    <tr>\n",
       "      <th>195</th>\n",
       "      <td>910.85</td>\n",
       "      <td>190</td>\n",
       "    </tr>\n",
       "    <tr>\n",
       "      <th>196</th>\n",
       "      <td>888.57</td>\n",
       "      <td>240</td>\n",
       "    </tr>\n",
       "    <tr>\n",
       "      <th>197</th>\n",
       "      <td>800.62</td>\n",
       "      <td>250</td>\n",
       "    </tr>\n",
       "    <tr>\n",
       "      <th>198</th>\n",
       "      <td>1500.00</td>\n",
       "      <td>230</td>\n",
       "    </tr>\n",
       "    <tr>\n",
       "      <th>199</th>\n",
       "      <td>785.69</td>\n",
       "      <td>110</td>\n",
       "    </tr>\n",
       "  </tbody>\n",
       "</table>\n",
       "<p>200 rows × 2 columns</p>\n",
       "</div>"
      ],
      "text/plain": [
       "     Adverts  Sales\n",
       "0      10.26    330\n",
       "1     985.69    120\n",
       "2    1445.56    360\n",
       "3    1188.19    270\n",
       "4     574.51    220\n",
       "..       ...    ...\n",
       "195   910.85    190\n",
       "196   888.57    240\n",
       "197   800.62    250\n",
       "198  1500.00    230\n",
       "199   785.69    110\n",
       "\n",
       "[200 rows x 2 columns]"
      ]
     },
     "execution_count": 20,
     "metadata": {},
     "output_type": "execute_result"
    }
   ],
   "source": [
    "york_music = pd.read_csv(\"yorkmusic.csv\")\n",
    "york_music"
   ]
  },
  {
   "cell_type": "markdown",
   "metadata": {},
   "source": [
    "#### TC2) Which is the independent and which is the dependent variable?"
   ]
  },
  {
   "cell_type": "code",
   "execution_count": 21,
   "metadata": {},
   "outputs": [],
   "source": [
    "#Write your answer here\n",
    "# adverts - independent\n",
    "# sales - dependent"
   ]
  },
  {
   "cell_type": "markdown",
   "metadata": {},
   "source": [
    "#### TC3) Plot a scatter plot having the independent variable on the X axis. Do you see any relationship between the variables?"
   ]
  },
  {
   "cell_type": "code",
   "execution_count": 22,
   "metadata": {},
   "outputs": [
    {
     "data": {
      "text/plain": [
       "Text(0, 0.5, 'Monies Made')"
      ]
     },
     "execution_count": 22,
     "metadata": {},
     "output_type": "execute_result"
    },
    {
     "data": {
      "image/png": "[encoded data removed]",
      "text/plain": [
       "<Figure size 700x700 with 1 Axes>"
      ]
     },
     "metadata": {
      "needs_background": "light"
     },
     "output_type": "display_data"
    }
   ],
   "source": [
    "#Write your answer here\n",
    "plt.subplots(figsize=(7, 7), dpi=100)\n",
    "ax = sns.scatterplot(x=\"Adverts\", y=\"Sales\", data=york_music)\n",
    "ax.set_xlabel(\"Ads\")\n",
    "ax.set_ylabel(\"Monies Made\")"
   ]
  },
  {
   "cell_type": "markdown",
   "metadata": {},
   "source": [
    "#### TC4) Calculate the Pearson correlation coefficient. You must show your calculations, i.e., calculate the result analytically, but you may use the appropriate scipy.stats.pearsonr or np.corrcoef method to check your result."
   ]
  },
  {
   "cell_type": "code",
   "execution_count": 23,
   "metadata": {},
   "outputs": [
    {
     "data": {
      "text/plain": [
       "0.5784878386843529"
      ]
     },
     "execution_count": 23,
     "metadata": {},
     "output_type": "execute_result"
    }
   ],
   "source": [
    "# analytically\n",
    "# r = n (∑xy) – ∑x ∑y / √ [n* (∑x2 – (∑x)2)] * [n* (∑y2 – (∑y)2)]\n",
    "\n",
    "# r = Pearson Coefficient\n",
    "n = len(york_music[\"Adverts\"])  # n = number of the pairs of the stock\n",
    "sum_x_y_products = sum([york_music.iloc[i][0]*york_music.iloc[i][1] for i in range(int(york_music.size / len(york_music.axes[1])))])  # ∑xy = sum of products of the paired stocks\n",
    "sum_x = york_music.sum()[0]  # ∑x = sum of the x scores\n",
    "sum_y = york_music.sum()[1]  # ∑y= sum of the y scores\n",
    "sum_x_squared = sum([york_music.iloc[i][0]*york_music.iloc[i][0] for i in range(int(york_music.size / len(york_music.axes[1])))])   # ∑x^2 = sum of the squared x scores\n",
    "sum_y_squared = sum([york_music.iloc[i][1]*york_music.iloc[i][1] for i in range(int(york_music.size / len(york_music.axes[1])))])  # ∑y^2 = sum of the squared y scores\n",
    "\n",
    "r_numerator = n*sum_x_y_products - sum_x*sum_y\n",
    "r_denominator = np.sqrt( (n*sum_x_squared - sum_x*sum_x) * (n*sum_y_squared - sum_y*sum_y) )\n",
    "r_analytically = r_numerator / r_denominator\n",
    "r_analytically\n",
    "\n",
    "# copyings, once a standard, is nice alhamdulillah"
   ]
  },
  {
   "cell_type": "code",
   "execution_count": 24,
   "metadata": {},
   "outputs": [
    {
     "data": {
      "text/plain": [
       "array([[1.        , 0.57848784],\n",
       "       [0.57848784, 1.        ]])"
      ]
     },
     "execution_count": 24,
     "metadata": {},
     "output_type": "execute_result"
    }
   ],
   "source": [
    "np.corrcoef(york_music[\"Adverts\"], york_music[\"Sales\"])"
   ]
  },
  {
   "cell_type": "markdown",
   "metadata": {},
   "source": [
    "#### TC5) What do you think of the correlation between these two variables? What do you expect the linear regression model to be?"
   ]
  },
  {
   "cell_type": "code",
   "execution_count": 25,
   "metadata": {},
   "outputs": [],
   "source": [
    "# not strong, but mediumly positive correlation {not -1 negative nor 0 no}"
   ]
  },
  {
   "cell_type": "markdown",
   "metadata": {},
   "source": [
    "#### TC6) Train a simple linear regression model to determine the \"best line of fit\" for this data\n",
    "* Hint: You might want to use the following library\n",
    "\n",
    "from sklearn import linear_model\n",
    "\n",
    "* Hint: You might want to check https://scikit-learn.org/stable/modules/generated/sklearn.linear_model.LinearRegression.html\n",
    "\n",
    "* Hint: Look at the array type expected by the fit method: 'Array of shape (n_samples, n_features)'"
   ]
  },
  {
   "cell_type": "code",
   "execution_count": 26,
   "metadata": {},
   "outputs": [
    {
     "data": {
      "text/plain": [
       "LinearRegression()"
      ]
     },
     "execution_count": 26,
     "metadata": {},
     "output_type": "execute_result"
    }
   ],
   "source": [
    "from sklearn import linear_model\n",
    "music_df_x = pd.DataFrame(york_music[\"Adverts\"])\n",
    "music_df_y = york_music.drop(\"Adverts\", axis=1)\n",
    "music_lr = linear_model.LinearRegression()\n",
    "music_lr.fit(music_df_x, music_df_y)"
   ]
  },
  {
   "cell_type": "markdown",
   "metadata": {},
   "source": [
    "#### TC7) Report the regression and intercept coefficients of this linear regression model. Report also the final formula of the linear regression model.\n",
    "\n",
    "* Hint: You might want to check https://scikit-learn.org/stable/modules/generated/sklearn.linear_model.LinearRegression.html\n"
   ]
  },
  {
   "cell_type": "code",
   "execution_count": 27,
   "metadata": {},
   "outputs": [
    {
     "name": "stdout",
     "output_type": "stream",
     "text": [
      "gradient: 0.09612448386897215\n",
      "y intercept: 134.13990113618257\n"
     ]
    }
   ],
   "source": [
    "#Write your answer here\n",
    "alpha = music_lr.coef_.flatten()[0]\n",
    "print(\"gradient:\", alpha)\n",
    "beta = music_lr.intercept_[0]\n",
    "print(\"y intercept:\", beta)"
   ]
  },
  {
   "cell_type": "markdown",
   "metadata": {},
   "source": [
    "#### TC8) Calculate the regression and intercept coefficients analytically (using the algebraic formulae) and confirm that they are equal to those reported in task TC7"
   ]
  },
  {
   "cell_type": "code",
   "execution_count": 28,
   "metadata": {},
   "outputs": [],
   "source": [
    "# so much pointless rote work, I think I am better without doing it this tome for sure, I get it enough, alhamdulillah..."
   ]
  },
  {
   "cell_type": "markdown",
   "metadata": {},
   "source": [
    "#### TC9) Calculate the goodness of fit $R^2$. You must show your calculations, i.e., calculate the result analytically, but you may use the appropriate sklearn.metrics method to check your result.\n",
    "\n",
    "* Hint: You might want to check https://scikit-learn.org/stable/modules/classes.html#module-sklearn.metrics\n",
    "* Hint: To derive the $R^2$ score you need to make predictions (see lecture slides for the formulae). You may use the same dataset (used for training) for making predictions."
   ]
  },
  {
   "cell_type": "code",
   "execution_count": 29,
   "metadata": {},
   "outputs": [
    {
     "data": {
      "text/plain": [
       "0.334648179505694"
      ]
     },
     "execution_count": 29,
     "metadata": {},
     "output_type": "execute_result"
    }
   ],
   "source": [
    "# different formulae can exist, but also shortcuts, I put enough effort in for r already XP\n",
    "\n",
    "r_squared = np.power(r_analytically, 2)\n",
    "r_squared"
   ]
  },
  {
   "cell_type": "code",
   "execution_count": 30,
   "metadata": {},
   "outputs": [
    {
     "data": {
      "text/plain": [
       "0.3346481795056929"
      ]
     },
     "execution_count": 30,
     "metadata": {},
     "output_type": "execute_result"
    }
   ],
   "source": [
    "from sklearn.metrics import r2_score\n",
    "music_predict = music_lr.predict(music_df_x)  # alternative parameters:\n",
    "# pd.DataFrame(nutritionDF[\"KnowledgeScore\"]))\n",
    "# np.arange(min,max).reshape(-1,1))\n",
    "\n",
    "r2_sklearn = r2_score(york_music[\"Sales\"], music_predict)\n",
    "\n",
    "r2_sklearn"
   ]
  },
  {
   "cell_type": "markdown",
   "metadata": {},
   "source": [
    "#### TC10) Plot the linear regression model alongside the scatter plot from TC3\n",
    "\n",
    "* Hint: invoke the plotting functions (one for the scatter plot, one for the linear regression model) one after the other\n",
    "\n",
    "* Hint: To generate the linear regression model, you can use (i) high school maths or (ii) the predict() method of the LinearRegression library"
   ]
  },
  {
   "cell_type": "code",
   "execution_count": 31,
   "metadata": {},
   "outputs": [
    {
     "data": {
      "image/png": "[encoded data removed]",
      "text/plain": [
       "<Figure size 700x700 with 1 Axes>"
      ]
     },
     "metadata": {
      "needs_background": "light"
     },
     "output_type": "display_data"
    }
   ],
   "source": [
    "#Write your answer here\n",
    "\n",
    "plt.subplots(figsize=(7,7), dpi=100)\n",
    "ax = sns.scatterplot(x=\"Adverts\", y=\"Sales\", data=york_music, marker='o')\n",
    "ax.set_xlabel('Adverts ', fontsize=15) # set x label\n",
    "ax.set_ylabel('Sales', fontsize=15, rotation=90) # set y label\n",
    "min_x = np.min(york_music[\"Adverts\"])\n",
    "max_x = np.max(york_music[\"Adverts\"])\n",
    "music_predict = music_lr.predict(np.arange(min_x, max_x).reshape(-1,1))\n",
    "ax = sns.lineplot(y=music_predict.flatten(), x=np.arange(min_x, max_x), linestyle='-', color='grey')"
   ]
  },
  {
   "cell_type": "markdown",
   "metadata": {},
   "source": [
    "#### TC11) Calculate the Mean Absolute Error, Mean Squared Error and Root Mean Squared Error of this linear regression model. You must show your calculations, i.e., calculate the result analytically, but you may use the appropriate sklearn.metrics method to check your result.\n",
    "\n",
    "* Hint: You might want to check https://scikit-learn.org/stable/modules/classes.html#module-sklearn.metrics"
   ]
  },
  {
   "cell_type": "code",
   "execution_count": 32,
   "metadata": {},
   "outputs": [],
   "source": [
    "def predicting_y(x):\n",
    "    return alpha * x + beta"
   ]
  },
  {
   "cell_type": "code",
   "execution_count": 33,
   "metadata": {},
   "outputs": [
    {
     "data": {
      "text/plain": [
       "50.86855059309085"
      ]
     },
     "execution_count": 33,
     "metadata": {},
     "output_type": "execute_result"
    }
   ],
   "source": [
    "# mean absolute error: via https://www.statisticshowto.com/absolute-error/\n",
    "# absolute error is the amount of error in your measurement\n",
    "# E = Xexperimental – Xtrue = |Xi – X|\n",
    "# mean absolute error is the average of all absolute errors\n",
    "# mae_ana = sum((np.absolute(predicting_y(row[0]) - row[1])) for row_index, row in york_music.iterrows()) / number_of_errors\n",
    "number_of_errors = 0\n",
    "mae_ana_summing = [np.absolute(music_lr.predict([[row[0]]]).flatten()[0] - row[1]) for row_index, row in york_music.iterrows()]  # formattings cuz expects 2d array\n",
    "for eee in mae_ana_summing:\n",
    "    if eee > 0:\n",
    "        number_of_errors += 1  # basically number_of_training_data_set\n",
    "mae_ana = sum(mae_ana_summing) / number_of_errors\n",
    "# ehhh, I've tried, kinda tired, let us move on T.T\n",
    "# np.absolute(music_lr.predict([[785.69]]).flatten()[0] - 785.69)\n",
    "# in testing, this gives same as (576.0260531328047)\n",
    "# 785.69  - 209.6639468671953\n",
    "# soooooo idk cri\n",
    "# HOLD ON - the programattic variants were the ones that were wrong, alhamdulillah XOS\n",
    "mae_ana"
   ]
  },
  {
   "cell_type": "code",
   "execution_count": 34,
   "metadata": {},
   "outputs": [
    {
     "data": {
      "text/plain": [
       "65.66064355735628"
      ]
     },
     "execution_count": 34,
     "metadata": {},
     "output_type": "execute_result"
    }
   ],
   "source": [
    "# mean square error is another model evaluation error, which is influenced most by large outliers\n",
    "# the square root of this is another means of model evaluation - rmse\n",
    "# the need for this is as the mse unit order is higher than the error unit as the error is squared\n",
    "# alternatively, rmse has the same unit order\n",
    "\n",
    "mse_ana = sum([np.power(music_lr.predict([[row[0]]]).flatten()[0] - row[1], 2) for row_index, row in york_music.iterrows()]) / (york_music.size / 2)  # formattings cuz expects 2d array\n",
    "# no need for absolute symbol, cuz powering by even numbers automatically make them positive\n",
    "rmse_ana = np.sqrt(mse_ana)\n",
    "rmse_ana"
   ]
  },
  {
   "cell_type": "code",
   "execution_count": 35,
   "metadata": {},
   "outputs": [
    {
     "name": "stdout",
     "output_type": "stream",
     "text": [
      "MAE: 50.869\n",
      "MSE: 4311.320\n",
      "RMSE: 65.661\n"
     ]
    },
    {
     "data": {
      "text/html": [
       "<div>\n",
       "<style scoped>\n",
       "    .dataframe tbody tr th:only-of-type {\n",
       "        vertical-align: middle;\n",
       "    }\n",
       "\n",
       "    .dataframe tbody tr th {\n",
       "        vertical-align: top;\n",
       "    }\n",
       "\n",
       "    .dataframe thead th {\n",
       "        text-align: right;\n",
       "    }\n",
       "</style>\n",
       "<table border=\"1\" class=\"dataframe\">\n",
       "  <thead>\n",
       "    <tr style=\"text-align: right;\">\n",
       "      <th></th>\n",
       "      <th>Adverts</th>\n",
       "      <th>Sales</th>\n",
       "    </tr>\n",
       "  </thead>\n",
       "  <tbody>\n",
       "    <tr>\n",
       "      <th>0</th>\n",
       "      <td>10.26</td>\n",
       "      <td>330</td>\n",
       "    </tr>\n",
       "    <tr>\n",
       "      <th>1</th>\n",
       "      <td>985.69</td>\n",
       "      <td>120</td>\n",
       "    </tr>\n",
       "    <tr>\n",
       "      <th>2</th>\n",
       "      <td>1445.56</td>\n",
       "      <td>360</td>\n",
       "    </tr>\n",
       "    <tr>\n",
       "      <th>3</th>\n",
       "      <td>1188.19</td>\n",
       "      <td>270</td>\n",
       "    </tr>\n",
       "    <tr>\n",
       "      <th>4</th>\n",
       "      <td>574.51</td>\n",
       "      <td>220</td>\n",
       "    </tr>\n",
       "    <tr>\n",
       "      <th>...</th>\n",
       "      <td>...</td>\n",
       "      <td>...</td>\n",
       "    </tr>\n",
       "    <tr>\n",
       "      <th>195</th>\n",
       "      <td>910.85</td>\n",
       "      <td>190</td>\n",
       "    </tr>\n",
       "    <tr>\n",
       "      <th>196</th>\n",
       "      <td>888.57</td>\n",
       "      <td>240</td>\n",
       "    </tr>\n",
       "    <tr>\n",
       "      <th>197</th>\n",
       "      <td>800.62</td>\n",
       "      <td>250</td>\n",
       "    </tr>\n",
       "    <tr>\n",
       "      <th>198</th>\n",
       "      <td>1500.00</td>\n",
       "      <td>230</td>\n",
       "    </tr>\n",
       "    <tr>\n",
       "      <th>199</th>\n",
       "      <td>785.69</td>\n",
       "      <td>110</td>\n",
       "    </tr>\n",
       "  </tbody>\n",
       "</table>\n",
       "<p>200 rows × 2 columns</p>\n",
       "</div>"
      ],
      "text/plain": [
       "     Adverts  Sales\n",
       "0      10.26    330\n",
       "1     985.69    120\n",
       "2    1445.56    360\n",
       "3    1188.19    270\n",
       "4     574.51    220\n",
       "..       ...    ...\n",
       "195   910.85    190\n",
       "196   888.57    240\n",
       "197   800.62    250\n",
       "198  1500.00    230\n",
       "199   785.69    110\n",
       "\n",
       "[200 rows x 2 columns]"
      ]
     },
     "execution_count": 35,
     "metadata": {},
     "output_type": "execute_result"
    }
   ],
   "source": [
    "from sklearn.metrics import mean_absolute_error as mae\n",
    "from sklearn.metrics import mean_squared_error as mse\n",
    "\n",
    "music_predict = music_lr.predict(music_df_x)\n",
    "\n",
    "mae_pro = mae(music_predict, music_df_y)\n",
    "mse_pro = mse(music_predict, music_df_y)\n",
    "rmse_pro = np.sqrt(mse_pro)\n",
    "\n",
    "print (\"MAE: {:.3f}\".format(mae_pro) )\n",
    "print (\"MSE: {:.3f}\".format(mse_pro) )\n",
    "print (\"RMSE: {:.3f}\".format(rmse_pro))\n",
    "york_music"
   ]
  },
  {
   "cell_type": "code",
   "execution_count": 36,
   "metadata": {},
   "outputs": [
    {
     "data": {
      "text/plain": [
       "576.0260531328047"
      ]
     },
     "execution_count": 36,
     "metadata": {},
     "output_type": "execute_result"
    }
   ],
   "source": [
    "785.69  - 209.6639468671953\n"
   ]
  },
  {
   "cell_type": "markdown",
   "metadata": {},
   "source": [
    "***"
   ]
  },
  {
   "cell_type": "markdown",
   "metadata": {},
   "source": [
    "## Linear Regression Part D'\n",
    "\n",
    "John Doe is interested in buying a car and wants to find one that would have an acceptable fuel consumption (in terms of miles per galon). In order to decide, he collected data from AutoTrader and other car websites and wants to analyse this data and produce regression models that will help him to make better predictions. "
   ]
  },
  {
   "cell_type": "markdown",
   "metadata": {},
   "source": [
    "#### TD1) Load the Cars dataset using Pandas\n",
    "\n",
    "* [Cars dataset](https://drive.google.com/file/d/16P8O_-Ases5o0SSoDdMrTOr9JDgWrK09/view?usp=sharing)\n",
    "\n",
    "**Note**: You have to download the dataset on your local machine and then load it onto the Jupyter Notebook\n",
    "\n",
    "**Note 2**: If you want to examine the dataset, you can look at Tasks 1-10 in Practicals 4 and 6."
   ]
  },
  {
   "cell_type": "code",
   "execution_count": 37,
   "metadata": {},
   "outputs": [
    {
     "data": {
      "text/html": [
       "<div>\n",
       "<style scoped>\n",
       "    .dataframe tbody tr th:only-of-type {\n",
       "        vertical-align: middle;\n",
       "    }\n",
       "\n",
       "    .dataframe tbody tr th {\n",
       "        vertical-align: top;\n",
       "    }\n",
       "\n",
       "    .dataframe thead th {\n",
       "        text-align: right;\n",
       "    }\n",
       "</style>\n",
       "<table border=\"1\" class=\"dataframe\">\n",
       "  <thead>\n",
       "    <tr style=\"text-align: right;\">\n",
       "      <th></th>\n",
       "      <th>model</th>\n",
       "      <th>mpg</th>\n",
       "      <th>cyl</th>\n",
       "      <th>disp</th>\n",
       "      <th>hp</th>\n",
       "      <th>drat</th>\n",
       "      <th>wt</th>\n",
       "      <th>qsec</th>\n",
       "      <th>vs</th>\n",
       "      <th>am</th>\n",
       "      <th>gear</th>\n",
       "      <th>carb</th>\n",
       "    </tr>\n",
       "  </thead>\n",
       "  <tbody>\n",
       "    <tr>\n",
       "      <th>0</th>\n",
       "      <td>Mazda RX4</td>\n",
       "      <td>21.0</td>\n",
       "      <td>6</td>\n",
       "      <td>160.0</td>\n",
       "      <td>110</td>\n",
       "      <td>3.90</td>\n",
       "      <td>2.620</td>\n",
       "      <td>16.46</td>\n",
       "      <td>0</td>\n",
       "      <td>1</td>\n",
       "      <td>4</td>\n",
       "      <td>4</td>\n",
       "    </tr>\n",
       "    <tr>\n",
       "      <th>1</th>\n",
       "      <td>Mazda RX4 Wag</td>\n",
       "      <td>21.0</td>\n",
       "      <td>6</td>\n",
       "      <td>160.0</td>\n",
       "      <td>110</td>\n",
       "      <td>3.90</td>\n",
       "      <td>2.875</td>\n",
       "      <td>17.02</td>\n",
       "      <td>0</td>\n",
       "      <td>1</td>\n",
       "      <td>4</td>\n",
       "      <td>4</td>\n",
       "    </tr>\n",
       "    <tr>\n",
       "      <th>2</th>\n",
       "      <td>Datsun 710</td>\n",
       "      <td>22.8</td>\n",
       "      <td>4</td>\n",
       "      <td>108.0</td>\n",
       "      <td>93</td>\n",
       "      <td>3.85</td>\n",
       "      <td>2.320</td>\n",
       "      <td>18.61</td>\n",
       "      <td>1</td>\n",
       "      <td>1</td>\n",
       "      <td>4</td>\n",
       "      <td>1</td>\n",
       "    </tr>\n",
       "    <tr>\n",
       "      <th>3</th>\n",
       "      <td>Hornet 4 Drive</td>\n",
       "      <td>21.4</td>\n",
       "      <td>6</td>\n",
       "      <td>258.0</td>\n",
       "      <td>110</td>\n",
       "      <td>3.08</td>\n",
       "      <td>3.215</td>\n",
       "      <td>19.44</td>\n",
       "      <td>1</td>\n",
       "      <td>0</td>\n",
       "      <td>3</td>\n",
       "      <td>1</td>\n",
       "    </tr>\n",
       "    <tr>\n",
       "      <th>4</th>\n",
       "      <td>Hornet Sportabout</td>\n",
       "      <td>18.7</td>\n",
       "      <td>8</td>\n",
       "      <td>360.0</td>\n",
       "      <td>175</td>\n",
       "      <td>3.15</td>\n",
       "      <td>3.440</td>\n",
       "      <td>17.02</td>\n",
       "      <td>0</td>\n",
       "      <td>0</td>\n",
       "      <td>3</td>\n",
       "      <td>2</td>\n",
       "    </tr>\n",
       "    <tr>\n",
       "      <th>5</th>\n",
       "      <td>Valiant</td>\n",
       "      <td>18.1</td>\n",
       "      <td>6</td>\n",
       "      <td>225.0</td>\n",
       "      <td>105</td>\n",
       "      <td>2.76</td>\n",
       "      <td>3.460</td>\n",
       "      <td>20.22</td>\n",
       "      <td>1</td>\n",
       "      <td>0</td>\n",
       "      <td>3</td>\n",
       "      <td>1</td>\n",
       "    </tr>\n",
       "    <tr>\n",
       "      <th>6</th>\n",
       "      <td>Duster 360</td>\n",
       "      <td>14.3</td>\n",
       "      <td>8</td>\n",
       "      <td>360.0</td>\n",
       "      <td>245</td>\n",
       "      <td>3.21</td>\n",
       "      <td>3.570</td>\n",
       "      <td>15.84</td>\n",
       "      <td>0</td>\n",
       "      <td>0</td>\n",
       "      <td>3</td>\n",
       "      <td>4</td>\n",
       "    </tr>\n",
       "    <tr>\n",
       "      <th>7</th>\n",
       "      <td>Merc 240D</td>\n",
       "      <td>24.4</td>\n",
       "      <td>4</td>\n",
       "      <td>146.7</td>\n",
       "      <td>62</td>\n",
       "      <td>3.69</td>\n",
       "      <td>3.190</td>\n",
       "      <td>20.00</td>\n",
       "      <td>1</td>\n",
       "      <td>0</td>\n",
       "      <td>4</td>\n",
       "      <td>2</td>\n",
       "    </tr>\n",
       "    <tr>\n",
       "      <th>8</th>\n",
       "      <td>Merc 230</td>\n",
       "      <td>22.8</td>\n",
       "      <td>4</td>\n",
       "      <td>140.8</td>\n",
       "      <td>95</td>\n",
       "      <td>3.92</td>\n",
       "      <td>3.150</td>\n",
       "      <td>22.90</td>\n",
       "      <td>1</td>\n",
       "      <td>0</td>\n",
       "      <td>4</td>\n",
       "      <td>2</td>\n",
       "    </tr>\n",
       "    <tr>\n",
       "      <th>9</th>\n",
       "      <td>Merc 280</td>\n",
       "      <td>19.2</td>\n",
       "      <td>6</td>\n",
       "      <td>167.6</td>\n",
       "      <td>123</td>\n",
       "      <td>3.92</td>\n",
       "      <td>3.440</td>\n",
       "      <td>18.30</td>\n",
       "      <td>1</td>\n",
       "      <td>0</td>\n",
       "      <td>4</td>\n",
       "      <td>4</td>\n",
       "    </tr>\n",
       "    <tr>\n",
       "      <th>10</th>\n",
       "      <td>Merc 280C</td>\n",
       "      <td>17.8</td>\n",
       "      <td>6</td>\n",
       "      <td>167.6</td>\n",
       "      <td>123</td>\n",
       "      <td>3.92</td>\n",
       "      <td>3.440</td>\n",
       "      <td>18.90</td>\n",
       "      <td>1</td>\n",
       "      <td>0</td>\n",
       "      <td>4</td>\n",
       "      <td>4</td>\n",
       "    </tr>\n",
       "    <tr>\n",
       "      <th>11</th>\n",
       "      <td>Merc 450SE</td>\n",
       "      <td>16.4</td>\n",
       "      <td>8</td>\n",
       "      <td>275.8</td>\n",
       "      <td>180</td>\n",
       "      <td>3.07</td>\n",
       "      <td>4.070</td>\n",
       "      <td>17.40</td>\n",
       "      <td>0</td>\n",
       "      <td>0</td>\n",
       "      <td>3</td>\n",
       "      <td>3</td>\n",
       "    </tr>\n",
       "    <tr>\n",
       "      <th>12</th>\n",
       "      <td>Merc 450SL</td>\n",
       "      <td>17.3</td>\n",
       "      <td>8</td>\n",
       "      <td>275.8</td>\n",
       "      <td>180</td>\n",
       "      <td>3.07</td>\n",
       "      <td>3.730</td>\n",
       "      <td>17.60</td>\n",
       "      <td>0</td>\n",
       "      <td>0</td>\n",
       "      <td>3</td>\n",
       "      <td>3</td>\n",
       "    </tr>\n",
       "    <tr>\n",
       "      <th>13</th>\n",
       "      <td>Merc 450SLC</td>\n",
       "      <td>15.2</td>\n",
       "      <td>8</td>\n",
       "      <td>275.8</td>\n",
       "      <td>180</td>\n",
       "      <td>3.07</td>\n",
       "      <td>3.780</td>\n",
       "      <td>18.00</td>\n",
       "      <td>0</td>\n",
       "      <td>0</td>\n",
       "      <td>3</td>\n",
       "      <td>3</td>\n",
       "    </tr>\n",
       "    <tr>\n",
       "      <th>14</th>\n",
       "      <td>Cadillac Fleetwood</td>\n",
       "      <td>10.4</td>\n",
       "      <td>8</td>\n",
       "      <td>472.0</td>\n",
       "      <td>205</td>\n",
       "      <td>2.93</td>\n",
       "      <td>5.250</td>\n",
       "      <td>17.98</td>\n",
       "      <td>0</td>\n",
       "      <td>0</td>\n",
       "      <td>3</td>\n",
       "      <td>4</td>\n",
       "    </tr>\n",
       "    <tr>\n",
       "      <th>15</th>\n",
       "      <td>Lincoln Continental</td>\n",
       "      <td>10.4</td>\n",
       "      <td>8</td>\n",
       "      <td>460.0</td>\n",
       "      <td>215</td>\n",
       "      <td>3.00</td>\n",
       "      <td>5.424</td>\n",
       "      <td>17.82</td>\n",
       "      <td>0</td>\n",
       "      <td>0</td>\n",
       "      <td>3</td>\n",
       "      <td>4</td>\n",
       "    </tr>\n",
       "    <tr>\n",
       "      <th>16</th>\n",
       "      <td>Chrysler Imperial</td>\n",
       "      <td>14.7</td>\n",
       "      <td>8</td>\n",
       "      <td>440.0</td>\n",
       "      <td>230</td>\n",
       "      <td>3.23</td>\n",
       "      <td>5.345</td>\n",
       "      <td>17.42</td>\n",
       "      <td>0</td>\n",
       "      <td>0</td>\n",
       "      <td>3</td>\n",
       "      <td>4</td>\n",
       "    </tr>\n",
       "    <tr>\n",
       "      <th>17</th>\n",
       "      <td>Fiat 128</td>\n",
       "      <td>32.4</td>\n",
       "      <td>4</td>\n",
       "      <td>78.7</td>\n",
       "      <td>66</td>\n",
       "      <td>4.08</td>\n",
       "      <td>2.200</td>\n",
       "      <td>19.47</td>\n",
       "      <td>1</td>\n",
       "      <td>1</td>\n",
       "      <td>4</td>\n",
       "      <td>1</td>\n",
       "    </tr>\n",
       "    <tr>\n",
       "      <th>18</th>\n",
       "      <td>Honda Civic</td>\n",
       "      <td>30.4</td>\n",
       "      <td>4</td>\n",
       "      <td>75.7</td>\n",
       "      <td>52</td>\n",
       "      <td>4.93</td>\n",
       "      <td>1.615</td>\n",
       "      <td>18.52</td>\n",
       "      <td>1</td>\n",
       "      <td>1</td>\n",
       "      <td>4</td>\n",
       "      <td>2</td>\n",
       "    </tr>\n",
       "    <tr>\n",
       "      <th>19</th>\n",
       "      <td>Toyota Corolla</td>\n",
       "      <td>33.9</td>\n",
       "      <td>4</td>\n",
       "      <td>71.1</td>\n",
       "      <td>65</td>\n",
       "      <td>4.22</td>\n",
       "      <td>1.835</td>\n",
       "      <td>19.90</td>\n",
       "      <td>1</td>\n",
       "      <td>1</td>\n",
       "      <td>4</td>\n",
       "      <td>1</td>\n",
       "    </tr>\n",
       "    <tr>\n",
       "      <th>20</th>\n",
       "      <td>Toyota Corona</td>\n",
       "      <td>21.5</td>\n",
       "      <td>4</td>\n",
       "      <td>120.1</td>\n",
       "      <td>97</td>\n",
       "      <td>3.70</td>\n",
       "      <td>2.465</td>\n",
       "      <td>20.01</td>\n",
       "      <td>1</td>\n",
       "      <td>0</td>\n",
       "      <td>3</td>\n",
       "      <td>1</td>\n",
       "    </tr>\n",
       "    <tr>\n",
       "      <th>21</th>\n",
       "      <td>Dodge Challenger</td>\n",
       "      <td>15.5</td>\n",
       "      <td>8</td>\n",
       "      <td>318.0</td>\n",
       "      <td>150</td>\n",
       "      <td>2.76</td>\n",
       "      <td>3.520</td>\n",
       "      <td>16.87</td>\n",
       "      <td>0</td>\n",
       "      <td>0</td>\n",
       "      <td>3</td>\n",
       "      <td>2</td>\n",
       "    </tr>\n",
       "    <tr>\n",
       "      <th>22</th>\n",
       "      <td>AMC Javelin</td>\n",
       "      <td>15.2</td>\n",
       "      <td>8</td>\n",
       "      <td>304.0</td>\n",
       "      <td>150</td>\n",
       "      <td>3.15</td>\n",
       "      <td>3.435</td>\n",
       "      <td>17.30</td>\n",
       "      <td>0</td>\n",
       "      <td>0</td>\n",
       "      <td>3</td>\n",
       "      <td>2</td>\n",
       "    </tr>\n",
       "    <tr>\n",
       "      <th>23</th>\n",
       "      <td>Camaro Z28</td>\n",
       "      <td>13.3</td>\n",
       "      <td>8</td>\n",
       "      <td>350.0</td>\n",
       "      <td>245</td>\n",
       "      <td>3.73</td>\n",
       "      <td>3.840</td>\n",
       "      <td>15.41</td>\n",
       "      <td>0</td>\n",
       "      <td>0</td>\n",
       "      <td>3</td>\n",
       "      <td>4</td>\n",
       "    </tr>\n",
       "    <tr>\n",
       "      <th>24</th>\n",
       "      <td>Pontiac Firebird</td>\n",
       "      <td>19.2</td>\n",
       "      <td>8</td>\n",
       "      <td>400.0</td>\n",
       "      <td>175</td>\n",
       "      <td>3.08</td>\n",
       "      <td>3.845</td>\n",
       "      <td>17.05</td>\n",
       "      <td>0</td>\n",
       "      <td>0</td>\n",
       "      <td>3</td>\n",
       "      <td>2</td>\n",
       "    </tr>\n",
       "    <tr>\n",
       "      <th>25</th>\n",
       "      <td>Fiat X1-9</td>\n",
       "      <td>27.3</td>\n",
       "      <td>4</td>\n",
       "      <td>79.0</td>\n",
       "      <td>66</td>\n",
       "      <td>4.08</td>\n",
       "      <td>1.935</td>\n",
       "      <td>18.90</td>\n",
       "      <td>1</td>\n",
       "      <td>1</td>\n",
       "      <td>4</td>\n",
       "      <td>1</td>\n",
       "    </tr>\n",
       "    <tr>\n",
       "      <th>26</th>\n",
       "      <td>Porsche 914-2</td>\n",
       "      <td>26.0</td>\n",
       "      <td>4</td>\n",
       "      <td>120.3</td>\n",
       "      <td>91</td>\n",
       "      <td>4.43</td>\n",
       "      <td>2.140</td>\n",
       "      <td>16.70</td>\n",
       "      <td>0</td>\n",
       "      <td>1</td>\n",
       "      <td>5</td>\n",
       "      <td>2</td>\n",
       "    </tr>\n",
       "    <tr>\n",
       "      <th>27</th>\n",
       "      <td>Lotus Europa</td>\n",
       "      <td>30.4</td>\n",
       "      <td>4</td>\n",
       "      <td>95.1</td>\n",
       "      <td>113</td>\n",
       "      <td>3.77</td>\n",
       "      <td>1.513</td>\n",
       "      <td>16.90</td>\n",
       "      <td>1</td>\n",
       "      <td>1</td>\n",
       "      <td>5</td>\n",
       "      <td>2</td>\n",
       "    </tr>\n",
       "    <tr>\n",
       "      <th>28</th>\n",
       "      <td>Ford Pantera L</td>\n",
       "      <td>15.8</td>\n",
       "      <td>8</td>\n",
       "      <td>351.0</td>\n",
       "      <td>264</td>\n",
       "      <td>4.22</td>\n",
       "      <td>3.170</td>\n",
       "      <td>14.50</td>\n",
       "      <td>0</td>\n",
       "      <td>1</td>\n",
       "      <td>5</td>\n",
       "      <td>4</td>\n",
       "    </tr>\n",
       "    <tr>\n",
       "      <th>29</th>\n",
       "      <td>Ferrari Dino</td>\n",
       "      <td>19.7</td>\n",
       "      <td>6</td>\n",
       "      <td>145.0</td>\n",
       "      <td>175</td>\n",
       "      <td>3.62</td>\n",
       "      <td>2.770</td>\n",
       "      <td>15.50</td>\n",
       "      <td>0</td>\n",
       "      <td>1</td>\n",
       "      <td>5</td>\n",
       "      <td>6</td>\n",
       "    </tr>\n",
       "    <tr>\n",
       "      <th>30</th>\n",
       "      <td>Maserati Bora</td>\n",
       "      <td>15.0</td>\n",
       "      <td>8</td>\n",
       "      <td>301.0</td>\n",
       "      <td>335</td>\n",
       "      <td>3.54</td>\n",
       "      <td>3.570</td>\n",
       "      <td>14.60</td>\n",
       "      <td>0</td>\n",
       "      <td>1</td>\n",
       "      <td>5</td>\n",
       "      <td>8</td>\n",
       "    </tr>\n",
       "    <tr>\n",
       "      <th>31</th>\n",
       "      <td>Volvo 142E</td>\n",
       "      <td>21.4</td>\n",
       "      <td>4</td>\n",
       "      <td>121.0</td>\n",
       "      <td>109</td>\n",
       "      <td>4.11</td>\n",
       "      <td>2.780</td>\n",
       "      <td>18.60</td>\n",
       "      <td>1</td>\n",
       "      <td>1</td>\n",
       "      <td>4</td>\n",
       "      <td>2</td>\n",
       "    </tr>\n",
       "  </tbody>\n",
       "</table>\n",
       "</div>"
      ],
      "text/plain": [
       "                  model   mpg  cyl   disp   hp  drat     wt   qsec  vs  am  \\\n",
       "0             Mazda RX4  21.0    6  160.0  110  3.90  2.620  16.46   0   1   \n",
       "1         Mazda RX4 Wag  21.0    6  160.0  110  3.90  2.875  17.02   0   1   \n",
       "2            Datsun 710  22.8    4  108.0   93  3.85  2.320  18.61   1   1   \n",
       "3        Hornet 4 Drive  21.4    6  258.0  110  3.08  3.215  19.44   1   0   \n",
       "4     Hornet Sportabout  18.7    8  360.0  175  3.15  3.440  17.02   0   0   \n",
       "5               Valiant  18.1    6  225.0  105  2.76  3.460  20.22   1   0   \n",
       "6            Duster 360  14.3    8  360.0  245  3.21  3.570  15.84   0   0   \n",
       "7             Merc 240D  24.4    4  146.7   62  3.69  3.190  20.00   1   0   \n",
       "8              Merc 230  22.8    4  140.8   95  3.92  3.150  22.90   1   0   \n",
       "9              Merc 280  19.2    6  167.6  123  3.92  3.440  18.30   1   0   \n",
       "10            Merc 280C  17.8    6  167.6  123  3.92  3.440  18.90   1   0   \n",
       "11           Merc 450SE  16.4    8  275.8  180  3.07  4.070  17.40   0   0   \n",
       "12           Merc 450SL  17.3    8  275.8  180  3.07  3.730  17.60   0   0   \n",
       "13          Merc 450SLC  15.2    8  275.8  180  3.07  3.780  18.00   0   0   \n",
       "14   Cadillac Fleetwood  10.4    8  472.0  205  2.93  5.250  17.98   0   0   \n",
       "15  Lincoln Continental  10.4    8  460.0  215  3.00  5.424  17.82   0   0   \n",
       "16    Chrysler Imperial  14.7    8  440.0  230  3.23  5.345  17.42   0   0   \n",
       "17             Fiat 128  32.4    4   78.7   66  4.08  2.200  19.47   1   1   \n",
       "18          Honda Civic  30.4    4   75.7   52  4.93  1.615  18.52   1   1   \n",
       "19       Toyota Corolla  33.9    4   71.1   65  4.22  1.835  19.90   1   1   \n",
       "20        Toyota Corona  21.5    4  120.1   97  3.70  2.465  20.01   1   0   \n",
       "21     Dodge Challenger  15.5    8  318.0  150  2.76  3.520  16.87   0   0   \n",
       "22          AMC Javelin  15.2    8  304.0  150  3.15  3.435  17.30   0   0   \n",
       "23           Camaro Z28  13.3    8  350.0  245  3.73  3.840  15.41   0   0   \n",
       "24     Pontiac Firebird  19.2    8  400.0  175  3.08  3.845  17.05   0   0   \n",
       "25            Fiat X1-9  27.3    4   79.0   66  4.08  1.935  18.90   1   1   \n",
       "26        Porsche 914-2  26.0    4  120.3   91  4.43  2.140  16.70   0   1   \n",
       "27         Lotus Europa  30.4    4   95.1  113  3.77  1.513  16.90   1   1   \n",
       "28       Ford Pantera L  15.8    8  351.0  264  4.22  3.170  14.50   0   1   \n",
       "29         Ferrari Dino  19.7    6  145.0  175  3.62  2.770  15.50   0   1   \n",
       "30        Maserati Bora  15.0    8  301.0  335  3.54  3.570  14.60   0   1   \n",
       "31           Volvo 142E  21.4    4  121.0  109  4.11  2.780  18.60   1   1   \n",
       "\n",
       "    gear  carb  \n",
       "0      4     4  \n",
       "1      4     4  \n",
       "2      4     1  \n",
       "3      3     1  \n",
       "4      3     2  \n",
       "5      3     1  \n",
       "6      3     4  \n",
       "7      4     2  \n",
       "8      4     2  \n",
       "9      4     4  \n",
       "10     4     4  \n",
       "11     3     3  \n",
       "12     3     3  \n",
       "13     3     3  \n",
       "14     3     4  \n",
       "15     3     4  \n",
       "16     3     4  \n",
       "17     4     1  \n",
       "18     4     2  \n",
       "19     4     1  \n",
       "20     3     1  \n",
       "21     3     2  \n",
       "22     3     2  \n",
       "23     3     4  \n",
       "24     3     2  \n",
       "25     4     1  \n",
       "26     5     2  \n",
       "27     5     2  \n",
       "28     5     4  \n",
       "29     5     6  \n",
       "30     5     8  \n",
       "31     4     2  "
      ]
     },
     "execution_count": 37,
     "metadata": {},
     "output_type": "execute_result"
    }
   ],
   "source": [
    "#Write your answer here\n",
    "cars_df = pd.read_csv(\"cars.csv\")\n",
    "cars_df"
   ]
  },
  {
   "cell_type": "markdown",
   "metadata": {},
   "source": [
    "#### TD2) Try to understand what the variables mean. If this is unclear, go to the end of this document. Also, which are the independent variables and which is the dependent variable?¶"
   ]
  },
  {
   "cell_type": "code",
   "execution_count": 38,
   "metadata": {},
   "outputs": [],
   "source": [
    "#Write your answer here\n",
    "#### uhhh, no idea\n",
    "#### copies\n",
    "### Cars dataset variables\n",
    "# * **mpg**:   Miles/(US) gallon\n",
    "# * **cyl**:   Number of cylinders\n",
    "# * **disp**:  Displacement (cu.in.), the measure of the cylinder volum\n",
    "# * **hp**:    Gross horsepower\n",
    "# * **drat**:  Rear axle ratio\n",
    "# * **wt**:    Weight (lb/1000)\n",
    "# * **qsec**:  1/4 mile time\n",
    "# * **vs**:    V/S\n",
    "# * **am**:    Transmission (0 = automatic, 1 = manual)\n",
    "# * **gear**:  Number of forward gears\n",
    "# * **carb**:  Number of carburetors"
   ]
  },
  {
   "cell_type": "markdown",
   "metadata": {},
   "source": [
    "#### TD3) Plot a scatter plot having the weight (wt) on the X axis and miles per gallon on the Y axis. Do you see any relationship between the variables? "
   ]
  },
  {
   "cell_type": "code",
   "execution_count": 39,
   "metadata": {},
   "outputs": [
    {
     "data": {
      "text/plain": [
       "Text(0, 0.5, 'Miles per Gallon')"
      ]
     },
     "execution_count": 39,
     "metadata": {},
     "output_type": "execute_result"
    },
    {
     "data": {
      "image/png": "[encoded data removed]",
      "text/plain": [
       "<Figure size 800x800 with 1 Axes>"
      ]
     },
     "metadata": {
      "needs_background": "light"
     },
     "output_type": "display_data"
    }
   ],
   "source": [
    "plt.subplots(figsize=(8, 8), dpi=100)\n",
    "ax = sns.scatterplot(x=\"wt\", y=\"mpg\", data=cars_df, marker=\"o\")\n",
    "ax.set_xlabel(\"Weight\")\n",
    "ax.set_ylabel(\"Miles per Gallon\")\n",
    "\n",
    "# I see a negative correlation"
   ]
  },
  {
   "cell_type": "markdown",
   "metadata": {},
   "source": [
    "#### TD4) Train a simple linear regression model to determine the \"best line of fit\" between weight and miles per gallon\n",
    "\n",
    "* Hint: If unsure, look at TB6 and TC6"
   ]
  },
  {
   "cell_type": "code",
   "execution_count": 40,
   "metadata": {},
   "outputs": [
    {
     "data": {
      "text/plain": [
       "LinearRegression()"
      ]
     },
     "execution_count": 40,
     "metadata": {},
     "output_type": "execute_result"
    }
   ],
   "source": [
    "#Write your answer here\n",
    "from sklearn import linear_model\n",
    "\n",
    "cars_df_x = pd.DataFrame(cars_df[\"wt\"])\n",
    "cars_df_y = cars_df[\"mpg\"]\n",
    "\n",
    "cars_lr = linear_model.LinearRegression()\n",
    "cars_lr.fit(cars_df_x, cars_df_y)"
   ]
  },
  {
   "cell_type": "markdown",
   "metadata": {},
   "source": [
    "#### TD5) Report the regression and intercept coefficients of this linear regression model. Report also the final form of the linear regression model.\n",
    "\n",
    "* Hint: You might want to check https://scikit-learn.org/stable/modules/generated/sklearn.linear_model.LinearRegression.html"
   ]
  },
  {
   "cell_type": "code",
   "execution_count": 41,
   "metadata": {},
   "outputs": [
    {
     "name": "stdout",
     "output_type": "stream",
     "text": [
      "y = -5.34447x + 37.28513\n",
      "where y is miles per gallon, and x is weight of car\n"
     ]
    }
   ],
   "source": [
    "#Write your answer here\n",
    "alpha = cars_lr.coef_.flatten()[0]\n",
    "beta = cars_lr.intercept_.flatten()[0]\n",
    "# no other values in the np arrays\n",
    "lobf = \"y = \" + str(round(alpha, 5)) + \"x + \" + str(round(beta, 5))\n",
    "print(lobf)\n",
    "print(\"where y is miles per gallon, and x is weight of car\")"
   ]
  },
  {
   "cell_type": "markdown",
   "metadata": {},
   "source": [
    "#### TD6) Plot the linear regression model alongside the scatter plot from TD3\n",
    "\n",
    "* Hint: invoke the plotting functions (one for the scatter plot, one for the linear regression model) one after the other\n",
    "\n",
    "* Hint: To generate the linear regression model, you can use (i) high school maths or (ii) the predict() method of the LinearRegression library"
   ]
  },
  {
   "cell_type": "code",
   "execution_count": 73,
   "metadata": {},
   "outputs": [
    {
     "data": {
      "image/png": "[encoded data removed]",
      "text/plain": [
       "<Figure size 490x490 with 1 Axes>"
      ]
     },
     "metadata": {
      "needs_background": "light"
     },
     "output_type": "display_data"
    }
   ],
   "source": [
    "#Write your answer here\n",
    "plt.subplots(figsize=(7, 7), dpi=70)\n",
    "ax = sns.scatterplot(x=\"wt\", y=\"mpg\", data=cars_df)\n",
    "ax.set_xlabel(\"Weight\")\n",
    "ax.set_ylabel(\"Miles Per Gallon\")\n",
    "\n",
    "min_wt = np.min(cars_df[\"wt\"])\n",
    "max_wt = np.max(cars_df[\"wt\"])\n",
    "# any values for weight beyond these values would be inaccurately extrapolating\n",
    "\n",
    "xs = np.arange(min_wt, max_wt)\n",
    "cars_predictions_from_xs = cars_lr.predict(xs.reshape(-1, 1)).flatten()\n",
    "# arange: values between, with step 1 {I think... I should check but cbb rn XOP and I am sure I have once before hand. If I have recollected it correctly is another matter altogether tho XP}\n",
    "# reshape to make the formula whose parameters being passed into happy - into 2d array\n",
    "# then flattening it back into our nice 1d array\n",
    "\n",
    "ax = sns.lineplot(x=xs, y=cars_predictions_from_xs, linestyle=\"-\", color=\"brown\", label=\"Line of Best Fit\", alpha=0.75)\n",
    "# alpha determines the opacity, greater thus lower"
   ]
  },
  {
   "cell_type": "markdown",
   "metadata": {},
   "source": [
    "\n",
    "#### TD7) Calculate  𝑅2 , Mean Absolute Error, Mean Squared Error and Root Mean Squared Error of this NEW linear regression model. You may use the appropriate sklearn.metrics methods (no need to implement them again if you have already done it in TC11)\n",
    "\n",
    "* Hint: You might want to check https://scikit-learn.org/stable/modules/classes.html#module-sklearn.metrics"
   ]
  },
  {
   "cell_type": "code",
   "execution_count": 50,
   "metadata": {},
   "outputs": [
    {
     "name": "stdout",
     "output_type": "stream",
     "text": [
      "r2: 0.7528327936582646 \tmae: 2.340641858325169 \tmse: 8.697560548229477 \trmse: 2.949162685955028\n"
     ]
    }
   ],
   "source": [
    "#Write your answer here\n",
    "from sklearn.metrics import mean_absolute_error as mae\n",
    "from sklearn.metrics import mean_squared_error as mse\n",
    "from sklearn.metrics import r2_score\n",
    "cars_predict = cars_lr.predict(cars_df_x)\n",
    "r2_cars = r2_score(cars_df[\"mpg\"], cars_predict)\n",
    "mae_cars = mae(cars_predict, cars_df_y)\n",
    "mse_cars = mse(cars_predict, cars_df_y)\n",
    "rmse_cars = np.sqrt(mse_cars)\n",
    "print(\"r2:\", r2_cars, \"\\tmae:\", mae_cars, \"\\tmse:\", mse_cars, \"\\trmse:\", rmse_cars)"
   ]
  },
  {
   "cell_type": "markdown",
   "metadata": {},
   "source": [
    "#### TD8) Try to break the prediction model by adding an influential (extreme) data item. Would this data item be like? Append this data item to your original dataframe, train and plot a new regression model."
   ]
  },
  {
   "cell_type": "code",
   "execution_count": 49,
   "metadata": {},
   "outputs": [
    {
     "data": {
      "text/plain": [
       "LinearRegression()"
      ]
     },
     "execution_count": 49,
     "metadata": {},
     "output_type": "execute_result"
    }
   ],
   "source": [
    "super_car = pd.DataFrame({\"mpg\": 70, \"wt\": 8}, index=[\"super\"])\n",
    "cars_df_subset_plus_outlier = cars_df[[\"mpg\", \"wt\"]].append(super_car)\n",
    "\n",
    "cars_df_subset_plus_outlier_x = pd.DataFrame(cars_df_subset_plus_outlier[\"wt\"])\n",
    "\n",
    "# retraining the model\n",
    "cars_lr_plus_outlier = linear_model.LinearRegression()\n",
    "cars_lr_plus_outlier.fit(pd.DataFrame(cars_df_subset_plus_outlier_x[\"wt\"]), cars_df_subset_plus_outlier[\"mpg\"])"
   ]
  },
  {
   "cell_type": "markdown",
   "metadata": {},
   "source": [
    "#### TD9) Calculate $R^2$, Mean Absolute Error, Mean Squared Error and Root Mean Squared Error of this NEW linear regression model. You may use the appropriate sklearn.metrics methods (no need to implement them again if you have already done it in TC11). What is the difference with the results in TD7?\n",
    "\n",
    "* Hint: You might want to check https://scikit-learn.org/stable/modules/classes.html#module-sklearn.metrics"
   ]
  },
  {
   "cell_type": "code",
   "execution_count": 51,
   "metadata": {},
   "outputs": [
    {
     "name": "stdout",
     "output_type": "stream",
     "text": [
      "r2: 0.02889855979037015 \tmae: 6.9519610897012765 \tmse: 104.21712628011036 \trmse: 10.208678968412631\n"
     ]
    }
   ],
   "source": [
    "from sklearn.metrics import mean_absolute_error as mae\n",
    "from sklearn.metrics import mean_squared_error as mse\n",
    "from sklearn.metrics import r2_score\n",
    "cars_with_outlier_predict = cars_lr_plus_outlier.predict(cars_df_subset_plus_outlier_x)\n",
    "r2_cars_with_outlier = r2_score(cars_df_subset_plus_outlier[\"mpg\"], cars_with_outlier_predict)\n",
    "mae_cars_with_outlier = mae(cars_with_outlier_predict, cars_df_subset_plus_outlier[\"mpg\"])\n",
    "mse_cars_with_outlier = mse(cars_with_outlier_predict, cars_df_subset_plus_outlier[\"mpg\"])\n",
    "rmse_cars_with_outlier = np.sqrt(mse_cars_with_outlier)\n",
    "print(\"r2:\", r2_cars_with_outlier, \"\\tmae:\", mae_cars_with_outlier, \"\\tmse:\", mse_cars_with_outlier, \"\\trmse:\", rmse_cars_with_outlier)\n",
    "# all increased but r2"
   ]
  },
  {
   "cell_type": "markdown",
   "metadata": {},
   "source": [
    "#### TD10) Calculate the Pearson's r correlation for weight and mpg. You may use the appropriate stats.pearsonr methods (no need to implement them again if you have already done it). What can you infer?"
   ]
  },
  {
   "cell_type": "code",
   "execution_count": 53,
   "metadata": {},
   "outputs": [
    {
     "data": {
      "text/plain": [
       "(-0.867659376517228, 1.2939587013504816e-10)"
      ]
     },
     "execution_count": 53,
     "metadata": {},
     "output_type": "execute_result"
    }
   ],
   "source": [
    "#Write your answer here\n",
    "r_weight_and_mpg = stats.pearsonr(cars_df[\"mpg\"], cars_df[\"wt\"])\n",
    "r_weight_and_mpg"
   ]
  },
  {
   "cell_type": "markdown",
   "metadata": {},
   "source": [
    "#### TD11) Looking at the boxplot in TD6, it might be possible to fit a better model through polynomial regression. Try to fit a polynomial of degree 2.\n",
    "\n",
    "* Hint: You might want to check https://scikit-learn.org/stable/modules/generated/sklearn.preprocessing.PolynomialFeatures.html|"
   ]
  },
  {
   "cell_type": "code",
   "execution_count": 80,
   "metadata": {},
   "outputs": [],
   "source": [
    "from sklearn.preprocessing import PolynomialFeatures\n",
    "poly_features_of_degree_2 = PolynomialFeatures(degree=2)\n",
    "\n",
    "# transforming existing features to higher degree features\n",
    "poly_2_training_x = poly_features_of_degree_2.fit_transform(cars_df[\"wt\"].to_numpy().reshape(-1,1))\n",
    "\n",
    "# fitting the transformed features to Linear Regression\n",
    "polynomial_model_of_degree_2 = linear_model.LinearRegression()\n",
    "polynomial_model_of_degree_2.fit(poly_2_training_x, cars_df[\"mpg\"])\n",
    "\n",
    "# predictions using training set data\n",
    "poly_2_predicting_trained_y = polynomial_model_of_degree_2.predict(poly_2_training_x)\n",
    "\n",
    "# predictions using testing data set\n",
    "poly_2_predicting_testing_y = polynomial_model_of_degree_2.predict(poly_features_of_degree_2.fit_transform(cars_df[\"wt\"].to_numpy().reshape(-1,1)))\n"
   ]
  },
  {
   "cell_type": "code",
   "execution_count": 81,
   "metadata": {},
   "outputs": [
    {
     "name": "stdout",
     "output_type": "stream",
     "text": [
      "r2: 0.8190613581384094 \tmae: 2.090085382813947 \tmse: 6.367045274322306 \trmse: 2.5233004724610795\n"
     ]
    }
   ],
   "source": [
    "from sklearn.metrics import mean_absolute_error as mae\n",
    "from sklearn.metrics import mean_squared_error as mse\n",
    "from sklearn.metrics import r2_score\n",
    "cars_polynomially_predict = polynomial_model_of_degree_2.predict(poly_2_training_x)\n",
    "r2_polynomially = r2_score(cars_df[\"mpg\"], cars_polynomially_predict)\n",
    "mae_polynomially = mae(cars_polynomially_predict, cars_df[\"mpg\"])\n",
    "mse_polynomially = mse(cars_polynomially_predict, cars_df[\"mpg\"])\n",
    "rmse_polynomially = np.sqrt(mse_polynomially)\n",
    "print(\"r2:\", r2_polynomially, \"\\tmae:\", mae_polynomially, \"\\tmse:\", mse_polynomially, \"\\trmse:\", rmse_polynomially)"
   ]
  },
  {
   "cell_type": "markdown",
   "metadata": {},
   "source": [
    "#### TD12) Print the new intercept and regression coefficients of the new regression model"
   ]
  },
  {
   "cell_type": "code",
   "execution_count": 82,
   "metadata": {},
   "outputs": [
    {
     "name": "stdout",
     "output_type": "stream",
     "text": [
      "coefficent: [  0.         -13.38033708   1.17108689]\n",
      "intercept: 49.930810949451846\n"
     ]
    }
   ],
   "source": [
    "#Write your answer here\n",
    "print(\"coefficent:\", polynomial_model_of_degree_2.coef_)\n",
    "print(\"intercept:\", polynomial_model_of_degree_2.intercept_)"
   ]
  },
  {
   "cell_type": "markdown",
   "metadata": {},
   "source": [
    "#### TD13) Plot the polynomial regression model alongside the scatter plot"
   ]
  },
  {
   "cell_type": "code",
   "execution_count": 84,
   "metadata": {},
   "outputs": [
    {
     "data": {
      "image/png": "[encoded data removed]",
      "text/plain": [
       "<Figure size 800x800 with 1 Axes>"
      ]
     },
     "metadata": {
      "needs_background": "light"
     },
     "output_type": "display_data"
    }
   ],
   "source": [
    "plt.subplots(figsize=(8, 8), dpi=100)\n",
    "ax = sns.scatterplot(x=\"wt\", y=\"mpg\", data=cars_df, linestyle=\"-\", color=\"r\", label=\"training data\", alpha=0.5, lw=3)\n",
    "ax.set_xlabel(\"wt\")\n",
    "ax.set_ylabel(\"mpg\")\n",
    "\n",
    "ax = sns.lineplot(x=cars_df_x[\"wt\"], y=poly_2_predicting_trained_y, linestyle=\"-\", color=\"brown\", label=\"Line of Best Fit\", alpha=0.75)\n"
   ]
  },
  {
   "cell_type": "markdown",
   "metadata": {},
   "source": [
    "#### TD14) Following from TD11, try to fit a polynomial of degree 10."
   ]
  },
  {
   "cell_type": "code",
   "execution_count": 86,
   "metadata": {},
   "outputs": [],
   "source": [
    "from sklearn.preprocessing import PolynomialFeatures\n",
    "poly_features_of_degree_10 = PolynomialFeatures(degree=10)\n",
    "\n",
    "# transforming existing features to higher degree features\n",
    "poly_10_training_x = poly_features_of_degree_10.fit_transform(cars_df[\"wt\"].to_numpy().reshape(-1,1))\n",
    "\n",
    "# fitting the transformed features to Linear Regression\n",
    "polynomial_model_of_degree_10 = linear_model.LinearRegression()\n",
    "polynomial_model_of_degree_10.fit(poly_10_training_x, cars_df[\"mpg\"])\n",
    "\n",
    "# predictions using training set data\n",
    "poly_10_predicting_trained_y = polynomial_model_of_degree_10.predict(poly_10_training_x)\n",
    "\n",
    "# predictions using testing data set\n",
    "poly_10_predicting_testing_y = polynomial_model_of_degree_10.predict(poly_features_of_degree_10.fit_transform(cars_df[\"wt\"].to_numpy().reshape(-1,1)))"
   ]
  },
  {
   "cell_type": "code",
   "execution_count": 87,
   "metadata": {},
   "outputs": [
    {
     "name": "stdout",
     "output_type": "stream",
     "text": [
      "r2: 0.870210660603398 \tmae: 1.558020816992905 \tmse: 4.567153768594579 \trmse: 2.137090023512014\n"
     ]
    }
   ],
   "source": [
    "from sklearn.metrics import mean_absolute_error as mae\n",
    "from sklearn.metrics import mean_squared_error as mse\n",
    "from sklearn.metrics import r2_score\n",
    "cars_polynomially_predict = polynomial_model_of_degree_10.predict(poly_10_training_x)\n",
    "r2_polynomially = r2_score(cars_df[\"mpg\"], cars_polynomially_predict)\n",
    "mae_polynomially = mae(cars_polynomially_predict, cars_df[\"mpg\"])\n",
    "mse_polynomially = mse(cars_polynomially_predict, cars_df[\"mpg\"])\n",
    "rmse_polynomially = np.sqrt(mse_polynomially)\n",
    "print(\"r2:\", r2_polynomially, \"\\tmae:\", mae_polynomially, \"\\tmse:\", mse_polynomially, \"\\trmse:\", rmse_polynomially)"
   ]
  },
  {
   "cell_type": "code",
   "execution_count": 88,
   "metadata": {},
   "outputs": [
    {
     "name": "stdout",
     "output_type": "stream",
     "text": [
      "coefficent: [ 0.00000000e+00  6.45813672e+04 -1.20086146e+05  1.26931940e+05\n",
      " -8.46598517e+04  3.73155220e+04 -1.10334760e+04  2.16590412e+03\n",
      " -2.70730552e+02  1.94974166e+01 -6.15515447e-01]\n",
      "intercept: -14921.124414148926\n"
     ]
    }
   ],
   "source": [
    "print(\"coefficent:\", polynomial_model_of_degree_10.coef_)\n",
    "print(\"intercept:\", polynomial_model_of_degree_10.intercept_)"
   ]
  },
  {
   "cell_type": "code",
   "execution_count": 90,
   "metadata": {},
   "outputs": [
    {
     "data": {
      "image/png": "[encoded data removed]",
      "text/plain": [
       "<Figure size 800x800 with 1 Axes>"
      ]
     },
     "metadata": {
      "needs_background": "light"
     },
     "output_type": "display_data"
    }
   ],
   "source": [
    "plt.subplots(figsize=(8, 8), dpi=100)\n",
    "ax = sns.scatterplot(x=\"wt\", y=\"mpg\", data=cars_df, linestyle=\"-\", color=\"r\", label=\"training data\", alpha=0.5, lw=3)\n",
    "ax.set_xlabel(\"wt\")\n",
    "ax.set_ylabel(\"mpg\")\n",
    "\n",
    "ax = sns.lineplot(x=cars_df_x[\"wt\"], y=poly_10_predicting_trained_y, linestyle=\"-\", color=\"brown\", label=\"Line of Best Fit\", alpha=0.75)\n",
    "\n",
    "# lol ok even more like a scrawl than the one before"
   ]
  },
  {
   "cell_type": "markdown",
   "metadata": {},
   "source": [
    "#### TD15) Calculate the Pearson correlation coefficient for a several other variables to check how they are collerated with the mpg  variable. You may use the  scipy.stats.pearsonr or np.corrcoef method (since you have already calculated the correlation analytically in TC4).\n",
    "\n",
    "* Hint: Think what variables might increase or decrease fuel consumption (e.g., horsepower, displacement)"
   ]
  },
  {
   "cell_type": "code",
   "execution_count": 92,
   "metadata": {},
   "outputs": [
    {
     "name": "stdout",
     "output_type": "stream",
     "text": [
      "pearson's correlation: (-0.7761683718265864, 1.787835254121068e-07)\n",
      "pearson's correlation: (-0.867659376517228, 1.2939587013504816e-10)\n",
      "pearson's correlation: (0.6587478873447592, 4.145827441075314e-05)\n"
     ]
    }
   ],
   "source": [
    "print(\"pearson's correlation:\", stats.pearsonr(cars_df[\"mpg\"], cars_df[\"hp\"]))\n",
    "print(\"pearson's correlation:\", stats.pearsonr(cars_df[\"mpg\"], cars_df[\"wt\"]))\n",
    "print(\"pearson's correlation:\", stats.pearsonr(cars_df[\"wt\"], cars_df[\"hp\"]))\n",
    "# we see werklich fairly strong correlations"
   ]
  },
  {
   "cell_type": "markdown",
   "metadata": {},
   "source": [
    "#### TD16) Select two variables that are most strongly (positively or negatively) correlated with mpg and train a multiple linear regression model\n",
    "\n",
    "* Hint: The commands are exactly the same (with more dimensions in the independent variables) as in TB6, TC6 and TD4."
   ]
  },
  {
   "cell_type": "code",
   "execution_count": 93,
   "metadata": {},
   "outputs": [
    {
     "data": {
      "text/plain": [
       "LinearRegression()"
      ]
     },
     "execution_count": 93,
     "metadata": {},
     "output_type": "execute_result"
    }
   ],
   "source": [
    "#Write your answer here\n",
    "cars_multilr_df_x = pd.DataFrame(cars_df[['wt', 'hp']])\n",
    "cars_multilr_df_y = cars_df[\"mpg\"]\n",
    "cars_multi_lr = linear_model.LinearRegression()\n",
    "cars_multi_lr.fit(cars_multilr_df_x, cars_multilr_df_y)"
   ]
  },
  {
   "cell_type": "code",
   "execution_count": 96,
   "metadata": {},
   "outputs": [
    {
     "data": {
      "text/plain": [
       "<AxesSubplot:>"
      ]
     },
     "execution_count": 96,
     "metadata": {},
     "output_type": "execute_result"
    },
    {
     "data": {
      "image/png": "[encoded data removed]",
      "text/plain": [
       "<Figure size 700x600 with 2 Axes>"
      ]
     },
     "metadata": {
      "needs_background": "light"
     },
     "output_type": "display_data"
    }
   ],
   "source": [
    "# bonously plotting the pairwise correlation between variables\n",
    "\n",
    "plt.subplots(figsize=(7,6), dpi=100)\n",
    "correlation_matrix = cars_df.corr().round(2)\n",
    "sns.heatmap(data=correlation_matrix, annot=True)\n",
    "# huuuuhh cool"
   ]
  },
  {
   "cell_type": "markdown",
   "metadata": {},
   "source": [
    "#### TD17) Calculate  𝑅2 , Mean Absolute Error, Mean Squared Error and Root Mean Squared Error of this multiple linear regression model. You may use the appropriate sklearn.metrics methods (no need to implement them again if you have already done it in TC11)."
   ]
  },
  {
   "cell_type": "code",
   "execution_count": 94,
   "metadata": {},
   "outputs": [
    {
     "name": "stdout",
     "output_type": "stream",
     "text": [
      "r2: 0.8267854518827914 \tmae: 1.901483753292055 \tmse: 6.095242335670815 \trmse: 2.4688544581790994\n"
     ]
    }
   ],
   "source": [
    "from sklearn.metrics import mean_absolute_error as mae\n",
    "from sklearn.metrics import mean_squared_error as mse\n",
    "from sklearn.metrics import r2_score\n",
    "cars_multi_lr_predict = cars_multi_lr.predict(cars_multilr_df_x)\n",
    "r2_multi_lr = r2_score(cars_multilr_df_y, cars_multi_lr_predict)\n",
    "mae_multi_lr = mae(cars_multi_lr_predict, cars_multilr_df_y)\n",
    "mse_multi_lr = mse(cars_multi_lr_predict, cars_multilr_df_y)\n",
    "rmse_multi_lr = np.sqrt(mse_multi_lr)\n",
    "print(\"r2:\", r2_multi_lr, \"\\tmae:\", mae_multi_lr, \"\\tmse:\", mse_multi_lr, \"\\trmse:\", rmse_multi_lr)"
   ]
  },
  {
   "cell_type": "markdown",
   "metadata": {},
   "source": [
    "### Cars dataset variables\n",
    "* **mpg**:   Miles/(US) gallon\n",
    "* **cyl**:   Number of cylinders\n",
    "* **disp**:  Displacement (cu.in.), the measure of the cylinder volum\n",
    "* **hp**:    Gross horsepower\n",
    "* **drat**:  Rear axle ratio\n",
    "* **wt**:    Weight (lb/1000)\n",
    "* **qsec**:  1/4 mile time\n",
    "* **vs**:    V/S\n",
    "* **am**:    Transmission (0 = automatic, 1 = manual)\n",
    "* **gear**:  Number of forward gears\n",
    "* **carb**:  Number of carburetors"
   ]
  }
 ],
 "metadata": {
  "kernelspec": {
   "display_name": "Python 3",
   "language": "python",
   "name": "python3"
  },
  "language_info": {
   "codemirror_mode": {
    "name": "ipython",
    "version": 3
   },
   "file_extension": ".py",
   "mimetype": "text/x-python",
   "name": "python",
   "nbconvert_exporter": "python",
   "pygments_lexer": "ipython3",
   "version": "3.8.2"
  }
 },
 "nbformat": 4,
 "nbformat_minor": 4
}

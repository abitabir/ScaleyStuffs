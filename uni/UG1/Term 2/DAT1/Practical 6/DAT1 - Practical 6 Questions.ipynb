{
 "cells": [
  {
   "cell_type": "markdown",
   "metadata": {},
   "source": [
    "# DATA 1 Practical 6 - Questions\n",
    "                                                                                                    Simos Gerasimou\n",
    "\n",
    "\n",
    "## From Inferences to Predictions and Back. Where Should We Stop?\n",
    "\n",
    "**Pandas API Reference**: https://pandas.pydata.org/pandas-docs/stable/reference/index.html\n",
    "\n",
    "**Matplotlib API Reference**: https://matplotlib.org/3.1.1/api/index.html\n",
    "\n",
    "**Seaborn API Reference**: https://seaborn.pydata.org/api.html\n",
    "\n",
    "**Scipy Stats API Reference**: https://docs.scipy.org/doc/scipy/reference/stats.html\n",
    "\n",
    "**t table Reference**:  http://www.ttable.org\n",
    "\n",
    "**F table Reference**  https://www.stat.purdue.edu/~jtroisi/STAT350Spring2015/tables/FTable.pdf\n",
    "\n",
    "**Chi-Square table Reference** https://people.smp.uq.edu.au/YoniNazarathy/stat_models_B_course_spring_07/distributions/chisqtab.pdf\n"
   ]
  },
  {
   "cell_type": "code",
   "execution_count": 2,
   "metadata": {},
   "outputs": [],
   "source": [
    "#Preamble: Add main Python libraries\n",
    "import pandas as pd \n",
    "import seaborn as sns\n",
    "import matplotlib.pyplot as plt\n",
    "import numpy as np\n",
    "import scipy.stats as stats"
   ]
  },
  {
   "cell_type": "markdown",
   "metadata": {},
   "source": [
    "***\n",
    "\n",
    "## Inferential Statistics Practical Primer\n",
    "\n",
    "#### To get started with today's practical, you can go to Lectures 11 and 12 and try to replicate the inferential statistics we saw during the lectures, i.e., independent and paired t test, ANOVA and Chi-Square. This will enable you to understand better how these tests operate under the hood. "
   ]
  },
  {
   "cell_type": "markdown",
   "metadata": {},
   "source": [
    "***"
   ]
  },
  {
   "cell_type": "markdown",
   "metadata": {},
   "source": [
    "### Part A: Yorkshire City Council\n",
    "\n",
    "DataVision has been commissioned by the York City Council to analyse a set of data regarding citizens of Yorkshire and extract actionable knowledge. \n",
    "\n",
    "The dataset for Yorkhire citizens is available on the following link:\n",
    "* [Yorkshire dataset](https://drive.google.com/file/d/12UiWQOx8qOiAOBrKirnlU6TG6lv2lfHu/view?usp=sharing)\n",
    "\n",
    "\n",
    "**TA1) Load the Yorkshire dataset using Pandas**\n",
    "\n",
    "**Note**: You have to download the dataset on your local machine and then load it onto the Jupyter Notebook"
   ]
  },
  {
   "cell_type": "code",
   "execution_count": 3,
   "metadata": {
    "scrolled": true
   },
   "outputs": [
    {
     "name": "stdout",
     "output_type": "stream",
     "text": [
      "<class 'pandas.core.frame.DataFrame'>\n",
      "RangeIndex: 330 entries, 0 to 329\n",
      "Data columns (total 9 columns):\n",
      " #   Column    Non-Null Count  Dtype  \n",
      "---  ------    --------------  -----  \n",
      " 0   id        330 non-null    object \n",
      " 1   age       330 non-null    int64  \n",
      " 2   gender    330 non-null    object \n",
      " 3   region    330 non-null    object \n",
      " 4   income    330 non-null    float64\n",
      " 5   married   330 non-null    object \n",
      " 6   children  330 non-null    int64  \n",
      " 7   car       330 non-null    object \n",
      " 8   mortgage  330 non-null    object \n",
      "dtypes: float64(1), int64(2), object(6)\n",
      "memory usage: 15.5+ KB\n"
     ]
    }
   ],
   "source": [
    "#Write your answer here\n",
    "dataframe = pd.read_csv(\"yorkshire.csv\")\n",
    "# dataframe.drop(index, axis=1, inplace=True)  # what do you call the index column...\n",
    "dataframe.info()"
   ]
  },
  {
   "cell_type": "markdown",
   "metadata": {},
   "source": [
    "**TA2) Print the first 15 records of the dataframe**"
   ]
  },
  {
   "cell_type": "code",
   "execution_count": 4,
   "metadata": {},
   "outputs": [
    {
     "data": {
      "text/html": [
       "<div>\n",
       "<style scoped>\n",
       "    .dataframe tbody tr th:only-of-type {\n",
       "        vertical-align: middle;\n",
       "    }\n",
       "\n",
       "    .dataframe tbody tr th {\n",
       "        vertical-align: top;\n",
       "    }\n",
       "\n",
       "    .dataframe thead th {\n",
       "        text-align: right;\n",
       "    }\n",
       "</style>\n",
       "<table border=\"1\" class=\"dataframe\">\n",
       "  <thead>\n",
       "    <tr style=\"text-align: right;\">\n",
       "      <th></th>\n",
       "      <th>id</th>\n",
       "      <th>age</th>\n",
       "      <th>gender</th>\n",
       "      <th>region</th>\n",
       "      <th>income</th>\n",
       "      <th>married</th>\n",
       "      <th>children</th>\n",
       "      <th>car</th>\n",
       "      <th>mortgage</th>\n",
       "    </tr>\n",
       "  </thead>\n",
       "  <tbody>\n",
       "    <tr>\n",
       "      <th>0</th>\n",
       "      <td>ID12101</td>\n",
       "      <td>48</td>\n",
       "      <td>FEMALE</td>\n",
       "      <td>INNER_CITY</td>\n",
       "      <td>17546.000000</td>\n",
       "      <td>NO</td>\n",
       "      <td>1</td>\n",
       "      <td>NO</td>\n",
       "      <td>NO</td>\n",
       "    </tr>\n",
       "    <tr>\n",
       "      <th>1</th>\n",
       "      <td>ID12102</td>\n",
       "      <td>40</td>\n",
       "      <td>MALE</td>\n",
       "      <td>TOWN</td>\n",
       "      <td>30085.100000</td>\n",
       "      <td>YES</td>\n",
       "      <td>3</td>\n",
       "      <td>YES</td>\n",
       "      <td>YES</td>\n",
       "    </tr>\n",
       "    <tr>\n",
       "      <th>2</th>\n",
       "      <td>ID12103</td>\n",
       "      <td>51</td>\n",
       "      <td>FEMALE</td>\n",
       "      <td>INNER_CITY</td>\n",
       "      <td>16575.400000</td>\n",
       "      <td>YES</td>\n",
       "      <td>0</td>\n",
       "      <td>YES</td>\n",
       "      <td>NO</td>\n",
       "    </tr>\n",
       "    <tr>\n",
       "      <th>3</th>\n",
       "      <td>ID12104</td>\n",
       "      <td>23</td>\n",
       "      <td>FEMALE</td>\n",
       "      <td>TOWN</td>\n",
       "      <td>20375.400000</td>\n",
       "      <td>YES</td>\n",
       "      <td>3</td>\n",
       "      <td>NO</td>\n",
       "      <td>NO</td>\n",
       "    </tr>\n",
       "    <tr>\n",
       "      <th>4</th>\n",
       "      <td>ID12105</td>\n",
       "      <td>57</td>\n",
       "      <td>FEMALE</td>\n",
       "      <td>RURAL</td>\n",
       "      <td>15944.690366</td>\n",
       "      <td>YES</td>\n",
       "      <td>0</td>\n",
       "      <td>NO</td>\n",
       "      <td>NO</td>\n",
       "    </tr>\n",
       "    <tr>\n",
       "      <th>5</th>\n",
       "      <td>ID12106</td>\n",
       "      <td>57</td>\n",
       "      <td>FEMALE</td>\n",
       "      <td>TOWN</td>\n",
       "      <td>37869.600000</td>\n",
       "      <td>YES</td>\n",
       "      <td>2</td>\n",
       "      <td>NO</td>\n",
       "      <td>NO</td>\n",
       "    </tr>\n",
       "    <tr>\n",
       "      <th>6</th>\n",
       "      <td>ID12107</td>\n",
       "      <td>22</td>\n",
       "      <td>MALE</td>\n",
       "      <td>RURAL</td>\n",
       "      <td>8877.070000</td>\n",
       "      <td>NO</td>\n",
       "      <td>0</td>\n",
       "      <td>NO</td>\n",
       "      <td>NO</td>\n",
       "    </tr>\n",
       "    <tr>\n",
       "      <th>7</th>\n",
       "      <td>ID12108</td>\n",
       "      <td>58</td>\n",
       "      <td>MALE</td>\n",
       "      <td>TOWN</td>\n",
       "      <td>24946.600000</td>\n",
       "      <td>YES</td>\n",
       "      <td>0</td>\n",
       "      <td>YES</td>\n",
       "      <td>NO</td>\n",
       "    </tr>\n",
       "    <tr>\n",
       "      <th>8</th>\n",
       "      <td>ID12109</td>\n",
       "      <td>37</td>\n",
       "      <td>FEMALE</td>\n",
       "      <td>SUBURBAN</td>\n",
       "      <td>25304.300000</td>\n",
       "      <td>YES</td>\n",
       "      <td>2</td>\n",
       "      <td>YES</td>\n",
       "      <td>NO</td>\n",
       "    </tr>\n",
       "    <tr>\n",
       "      <th>9</th>\n",
       "      <td>ID12110</td>\n",
       "      <td>54</td>\n",
       "      <td>MALE</td>\n",
       "      <td>TOWN</td>\n",
       "      <td>24212.100000</td>\n",
       "      <td>YES</td>\n",
       "      <td>2</td>\n",
       "      <td>YES</td>\n",
       "      <td>NO</td>\n",
       "    </tr>\n",
       "    <tr>\n",
       "      <th>10</th>\n",
       "      <td>ID12111</td>\n",
       "      <td>66</td>\n",
       "      <td>FEMALE</td>\n",
       "      <td>TOWN</td>\n",
       "      <td>59803.900000</td>\n",
       "      <td>YES</td>\n",
       "      <td>0</td>\n",
       "      <td>NO</td>\n",
       "      <td>NO</td>\n",
       "    </tr>\n",
       "    <tr>\n",
       "      <th>11</th>\n",
       "      <td>ID12112</td>\n",
       "      <td>52</td>\n",
       "      <td>FEMALE</td>\n",
       "      <td>INNER_CITY</td>\n",
       "      <td>26658.800000</td>\n",
       "      <td>NO</td>\n",
       "      <td>0</td>\n",
       "      <td>YES</td>\n",
       "      <td>YES</td>\n",
       "    </tr>\n",
       "    <tr>\n",
       "      <th>12</th>\n",
       "      <td>ID12113</td>\n",
       "      <td>44</td>\n",
       "      <td>FEMALE</td>\n",
       "      <td>TOWN</td>\n",
       "      <td>15735.800000</td>\n",
       "      <td>YES</td>\n",
       "      <td>1</td>\n",
       "      <td>NO</td>\n",
       "      <td>YES</td>\n",
       "    </tr>\n",
       "    <tr>\n",
       "      <th>13</th>\n",
       "      <td>ID12114</td>\n",
       "      <td>66</td>\n",
       "      <td>FEMALE</td>\n",
       "      <td>TOWN</td>\n",
       "      <td>55204.700000</td>\n",
       "      <td>YES</td>\n",
       "      <td>1</td>\n",
       "      <td>YES</td>\n",
       "      <td>YES</td>\n",
       "    </tr>\n",
       "    <tr>\n",
       "      <th>14</th>\n",
       "      <td>ID12115</td>\n",
       "      <td>36</td>\n",
       "      <td>MALE</td>\n",
       "      <td>RURAL</td>\n",
       "      <td>19474.600000</td>\n",
       "      <td>YES</td>\n",
       "      <td>0</td>\n",
       "      <td>NO</td>\n",
       "      <td>YES</td>\n",
       "    </tr>\n",
       "  </tbody>\n",
       "</table>\n",
       "</div>"
      ],
      "text/plain": [
       "         id  age  gender      region        income married  children  car  \\\n",
       "0   ID12101   48  FEMALE  INNER_CITY  17546.000000      NO         1   NO   \n",
       "1   ID12102   40    MALE        TOWN  30085.100000     YES         3  YES   \n",
       "2   ID12103   51  FEMALE  INNER_CITY  16575.400000     YES         0  YES   \n",
       "3   ID12104   23  FEMALE        TOWN  20375.400000     YES         3   NO   \n",
       "4   ID12105   57  FEMALE       RURAL  15944.690366     YES         0   NO   \n",
       "5   ID12106   57  FEMALE        TOWN  37869.600000     YES         2   NO   \n",
       "6   ID12107   22    MALE       RURAL   8877.070000      NO         0   NO   \n",
       "7   ID12108   58    MALE        TOWN  24946.600000     YES         0  YES   \n",
       "8   ID12109   37  FEMALE    SUBURBAN  25304.300000     YES         2  YES   \n",
       "9   ID12110   54    MALE        TOWN  24212.100000     YES         2  YES   \n",
       "10  ID12111   66  FEMALE        TOWN  59803.900000     YES         0   NO   \n",
       "11  ID12112   52  FEMALE  INNER_CITY  26658.800000      NO         0  YES   \n",
       "12  ID12113   44  FEMALE        TOWN  15735.800000     YES         1   NO   \n",
       "13  ID12114   66  FEMALE        TOWN  55204.700000     YES         1  YES   \n",
       "14  ID12115   36    MALE       RURAL  19474.600000     YES         0   NO   \n",
       "\n",
       "   mortgage  \n",
       "0        NO  \n",
       "1       YES  \n",
       "2        NO  \n",
       "3        NO  \n",
       "4        NO  \n",
       "5        NO  \n",
       "6        NO  \n",
       "7        NO  \n",
       "8        NO  \n",
       "9        NO  \n",
       "10       NO  \n",
       "11      YES  \n",
       "12      YES  \n",
       "13      YES  \n",
       "14      YES  "
      ]
     },
     "execution_count": 4,
     "metadata": {},
     "output_type": "execute_result"
    }
   ],
   "source": [
    "#Write your answer here\n",
    "dataframe.head(15)"
   ]
  },
  {
   "cell_type": "markdown",
   "metadata": {},
   "source": [
    "**TA3) Get general info about the dataset**"
   ]
  },
  {
   "cell_type": "code",
   "execution_count": 5,
   "metadata": {},
   "outputs": [
    {
     "name": "stdout",
     "output_type": "stream",
     "text": [
      "<class 'pandas.core.frame.DataFrame'>\n",
      "RangeIndex: 330 entries, 0 to 329\n",
      "Data columns (total 9 columns):\n",
      " #   Column    Non-Null Count  Dtype  \n",
      "---  ------    --------------  -----  \n",
      " 0   id        330 non-null    object \n",
      " 1   age       330 non-null    int64  \n",
      " 2   gender    330 non-null    object \n",
      " 3   region    330 non-null    object \n",
      " 4   income    330 non-null    float64\n",
      " 5   married   330 non-null    object \n",
      " 6   children  330 non-null    int64  \n",
      " 7   car       330 non-null    object \n",
      " 8   mortgage  330 non-null    object \n",
      "dtypes: float64(1), int64(2), object(6)\n",
      "memory usage: 15.5+ KB\n"
     ]
    }
   ],
   "source": [
    "#Write your answer here\n",
    "dataframe.info()"
   ]
  },
  {
   "cell_type": "markdown",
   "metadata": {},
   "source": [
    "**TA4) Explore the dataset and try to understand the meaning of each variable (column). Identify which variables are categorical and which are numerical.**"
   ]
  },
  {
   "cell_type": "code",
   "execution_count": 6,
   "metadata": {},
   "outputs": [],
   "source": [
    "#Answer\n",
    "#id:        citizen ID\n",
    "#age:       citizen age\n",
    "#gender:    citizen gender (male/female)\n",
    "#region:    inner city/suburban/town/rural\n",
    "#income:    amount of income per year\n",
    "#married:   yes/no (single)\n",
    "#children:  number of children\n",
    "#car:       yes/no (does the citizen have a car)\n",
    "#mortgage:  yes/no (does the citizen have a mortgage)"
   ]
  },
  {
   "cell_type": "markdown",
   "metadata": {},
   "source": [
    "**TA5) Get the shape of the dataframe**"
   ]
  },
  {
   "cell_type": "code",
   "execution_count": 7,
   "metadata": {},
   "outputs": [
    {
     "data": {
      "text/plain": [
       "(330, 9)"
      ]
     },
     "execution_count": 7,
     "metadata": {},
     "output_type": "execute_result"
    }
   ],
   "source": [
    "#Write your answer here\n",
    "dataframe.shape\n"
   ]
  },
  {
   "cell_type": "markdown",
   "metadata": {},
   "source": [
    "**TA6) Get the columns name of the dataframe. If you think any column renaming is needed, please do it.**"
   ]
  },
  {
   "cell_type": "code",
   "execution_count": 8,
   "metadata": {},
   "outputs": [
    {
     "data": {
      "text/plain": [
       "Index(['id', 'age', 'gender', 'region', 'income', 'married', 'children', 'car',\n",
       "       'mortgage'],\n",
       "      dtype='object')"
      ]
     },
     "execution_count": 8,
     "metadata": {},
     "output_type": "execute_result"
    }
   ],
   "source": [
    "#Write your answer here\n",
    "dataframe.columns"
   ]
  },
  {
   "cell_type": "markdown",
   "metadata": {},
   "source": [
    "**TA7) Check whether there are any duplicated records?**  \n",
    "\n",
    "Note: A record is duplicated if all its entries are identical with another record"
   ]
  },
  {
   "cell_type": "code",
   "execution_count": 9,
   "metadata": {},
   "outputs": [
    {
     "data": {
      "text/plain": [
       "0"
      ]
     },
     "execution_count": 9,
     "metadata": {},
     "output_type": "execute_result"
    }
   ],
   "source": [
    "#Write your answer here\n",
    "dataframe.duplicated().sum()"
   ]
  },
  {
   "cell_type": "markdown",
   "metadata": {},
   "source": [
    "**TA8) Is there any missing data?**"
   ]
  },
  {
   "cell_type": "code",
   "execution_count": 10,
   "metadata": {},
   "outputs": [
    {
     "data": {
      "text/html": [
       "<div>\n",
       "<style scoped>\n",
       "    .dataframe tbody tr th:only-of-type {\n",
       "        vertical-align: middle;\n",
       "    }\n",
       "\n",
       "    .dataframe tbody tr th {\n",
       "        vertical-align: top;\n",
       "    }\n",
       "\n",
       "    .dataframe thead th {\n",
       "        text-align: right;\n",
       "    }\n",
       "</style>\n",
       "<table border=\"1\" class=\"dataframe\">\n",
       "  <thead>\n",
       "    <tr style=\"text-align: right;\">\n",
       "      <th></th>\n",
       "      <th>missing</th>\n",
       "      <th>percentage</th>\n",
       "    </tr>\n",
       "  </thead>\n",
       "  <tbody>\n",
       "    <tr>\n",
       "      <th>mortgage</th>\n",
       "      <td>0</td>\n",
       "      <td>0.0</td>\n",
       "    </tr>\n",
       "    <tr>\n",
       "      <th>car</th>\n",
       "      <td>0</td>\n",
       "      <td>0.0</td>\n",
       "    </tr>\n",
       "    <tr>\n",
       "      <th>children</th>\n",
       "      <td>0</td>\n",
       "      <td>0.0</td>\n",
       "    </tr>\n",
       "    <tr>\n",
       "      <th>married</th>\n",
       "      <td>0</td>\n",
       "      <td>0.0</td>\n",
       "    </tr>\n",
       "    <tr>\n",
       "      <th>income</th>\n",
       "      <td>0</td>\n",
       "      <td>0.0</td>\n",
       "    </tr>\n",
       "    <tr>\n",
       "      <th>region</th>\n",
       "      <td>0</td>\n",
       "      <td>0.0</td>\n",
       "    </tr>\n",
       "    <tr>\n",
       "      <th>gender</th>\n",
       "      <td>0</td>\n",
       "      <td>0.0</td>\n",
       "    </tr>\n",
       "    <tr>\n",
       "      <th>age</th>\n",
       "      <td>0</td>\n",
       "      <td>0.0</td>\n",
       "    </tr>\n",
       "    <tr>\n",
       "      <th>id</th>\n",
       "      <td>0</td>\n",
       "      <td>0.0</td>\n",
       "    </tr>\n",
       "  </tbody>\n",
       "</table>\n",
       "</div>"
      ],
      "text/plain": [
       "          missing  percentage\n",
       "mortgage        0         0.0\n",
       "car             0         0.0\n",
       "children        0         0.0\n",
       "married         0         0.0\n",
       "income          0         0.0\n",
       "region          0         0.0\n",
       "gender          0         0.0\n",
       "age             0         0.0\n",
       "id              0         0.0"
      ]
     },
     "execution_count": 10,
     "metadata": {},
     "output_type": "execute_result"
    }
   ],
   "source": [
    "#Write your answer here\n",
    "missing_data_summary = dataframe.isnull().sum().sort_values(ascending=False)\n",
    "missing_data_percentage = (dataframe.isnull().sum()/dataframe.isnull().count()).sort_values(ascending=False)\n",
    "missing_data = pd.concat([missing_data_summary, missing_data_percentage], axis=1, keys=[\"missing\", \"percentage\"])\n",
    "missing_data\n",
    "# nice and clean, yay, alhamulillah X')"
   ]
  },
  {
   "cell_type": "markdown",
   "metadata": {},
   "source": [
    "**TA9) Plot the histogram and density curve of income.**"
   ]
  },
  {
   "cell_type": "code",
   "execution_count": 11,
   "metadata": {},
   "outputs": [
    {
     "name": "stderr",
     "output_type": "stream",
     "text": [
      "c:\\projects\\scaleystuffs\\venv\\lib\\site-packages\\seaborn\\distributions.py:2557: FutureWarning: `distplot` is a deprecated function and will be removed in a future version. Please adapt your code to use either `displot` (a figure-level function with similar flexibility) or `histplot` (an axes-level function for histograms).\n",
      "  warnings.warn(msg, FutureWarning)\n"
     ]
    },
    {
     "data": {
      "text/plain": [
       "<matplotlib.legend.Legend at 0x1c517460>"
      ]
     },
     "execution_count": 11,
     "metadata": {},
     "output_type": "execute_result"
    },
    {
     "data": {
      "image/png": "[encoded data removed]",
      "text/plain": [
       "<Figure size 700x600 with 1 Axes>"
      ]
     },
     "metadata": {
      "needs_background": "light"
     },
     "output_type": "display_data"
    }
   ],
   "source": [
    "#Write your answer here\n",
    "plt.subplots(figsize=(7, 6), dpi=100)\n",
    "ax = sns.distplot(dataframe[\"income\"], color=\"blue\", label=\"income\", hist=True)\n",
    "plt.title(\"Yorkshire Citizens' Incomes\")\n",
    "ax.set_xlabel('Income (£)', fontsize=15) # set x label\n",
    "ax.set_ylabel('pdf(x)', fontsize=15, rotation=90) # set y label\n",
    "plt.legend()"
   ]
  },
  {
   "cell_type": "markdown",
   "metadata": {},
   "source": [
    "**TA10) The Council is interested in assessing whether there is any discrimination in annual income between genders**"
   ]
  },
  {
   "cell_type": "markdown",
   "metadata": {},
   "source": [
    "**(i) State the Null and Alternative hypotheses**"
   ]
  },
  {
   "cell_type": "code",
   "execution_count": 12,
   "metadata": {},
   "outputs": [],
   "source": [
    "#Write your answer here\n",
    "# Ho: μ_m = μ_f\n",
    "# Ha: μ_m != μ_f\n",
    "# where μ_f is the population mean of female citizen's annual income\n",
    "# and μ_m is the population mean of male citizen's annual income"
   ]
  },
  {
   "cell_type": "markdown",
   "metadata": {},
   "source": [
    "**(ii) Calculate the degrees of freedom**"
   ]
  },
  {
   "cell_type": "code",
   "execution_count": 13,
   "metadata": {},
   "outputs": [
    {
     "data": {
      "text/plain": [
       "328"
      ]
     },
     "execution_count": 13,
     "metadata": {},
     "output_type": "execute_result"
    }
   ],
   "source": [
    "#Write your answer here\n",
    "dataframe_men = dataframe[dataframe[\"gender\"] == \"MALE\"]\n",
    "dataframe_women = dataframe[dataframe[\"gender\"] == \"FEMALE\"]\n",
    "d_of_f = len(dataframe_men) + len(dataframe_women) - 2\n",
    "d_of_f"
   ]
  },
  {
   "cell_type": "markdown",
   "metadata": {},
   "source": [
    "**(iii) Find the critical value for a two-tailed test with significance level α=0.05**\n",
    "\n",
    "Hint: t table [http://www.ttable.org](http://www.ttable.org)\n",
    "\n",
    "Hint: Confirm that the value is correct using the appropriate statistical test method from [scipy.stats.t](https://docs.scipy.org/doc/scipy/reference/generated/scipy.stats.t.html)\n"
   ]
  },
  {
   "cell_type": "code",
   "execution_count": 14,
   "metadata": {},
   "outputs": [
    {
     "data": {
      "text/plain": [
       "[-1.9672228266462515, 1.967222826646251]"
      ]
     },
     "execution_count": 14,
     "metadata": {},
     "output_type": "execute_result"
    }
   ],
   "source": [
    "#Write your answer here\n",
    "alpha = 0.05\n",
    "# both positive and negative because two tailed test\n",
    "negative_critical_value = stats.t.ppf(alpha / 2, d_of_f)\n",
    "positive_critical_value = stats.t.ppf(1 - (alpha / 2), d_of_f)  # or positive_critical_value = -negative_critical_value\n",
    "[negative_critical_value, positive_critical_value]"
   ]
  },
  {
   "cell_type": "markdown",
   "metadata": {},
   "source": [
    "**(iv) Perform the appropriate t test to evaluate the hypotheses for significance level  𝛼=0.05 . You must show your calculations, i.e., calculate the result analytically, but you may use the appropriate scipy.stats method to check your results.**"
   ]
  },
  {
   "cell_type": "code",
   "execution_count": 15,
   "metadata": {},
   "outputs": [
    {
     "name": "stdout",
     "output_type": "stream",
     "text": [
      "t value lies outside of the critical region (boundaried by the critical value(s)), so insufficient evidence to suggest that Ho should be rejected.\n"
     ]
    }
   ],
   "source": [
    "#Write your answer here\n",
    "\n",
    "# two tailedly performing an independent samples t test, woth equal variances assumed\n",
    "\n",
    "mu_f = np.mean(dataframe_women[\"income\"])\n",
    "mu_m = np.mean(dataframe_men[\"income\"])\n",
    "sigma_f = np.std(dataframe_women[\"income\"], ddof=1)\n",
    "sigma_m = np.std(dataframe_men[\"income\"], ddof=1)\n",
    "\n",
    "t_value, p_value = stats.ttest_ind(dataframe_women[\"income\"], dataframe_men[\"income\"])\n",
    "\n",
    "if t_value > negative_critical_value and t_value < positive_critical_value:\n",
    "    print(\"t value lies outside of the critical region (boundaried by the critical value(s)), so insufficient evidence to suggest that Ho should be rejected.\")\n",
    "else:\n",
    "    print(\"t value lies within the critical region, so sufficient evidence to reject Ho, and thus accept Ha.\")\n"
   ]
  },
  {
   "cell_type": "code",
   "execution_count": 16,
   "metadata": {},
   "outputs": [
    {
     "data": {
      "image/png": "[encoded data removed]",
      "text/plain": [
       "<Figure size 700x600 with 1 Axes>"
      ]
     },
     "metadata": {
      "needs_background": "light"
     },
     "output_type": "display_data"
    }
   ],
   "source": [
    "#Additional Visualisation 0m0\n",
    "x_axis = np.linspace(stats.t.ppf(0.01, d_of_f), stats.t.ppf(0.99, d_of_f), 1000)\n",
    "y_axis = stats.t.pdf(x_axis, d_of_f)\n",
    "\n",
    "fig, ax = plt.subplots(figsize=(7,6), dpi=100)\n",
    "ax = sns.lineplot(y=y_axis, x=x_axis, linestyle='-', color=\"black\", label=\"A\", lw=2)\n",
    "plt.title(\"Yorkshire Citizens' Incomes\")\n",
    "ax.set_xlabel('t', fontsize=15) # set x label\n",
    "ax.set_ylabel('pdf(t)', fontsize=15, rotation=90) # set y label\n",
    "\n",
    "# t value on graph\n",
    "ax.axvline(x=t_value, ymin=0.05, ymax=0.2, color='g', alpha=0.5, ls='-', lw=2) # vertical line\n",
    "ax.text(t_value - 0.1, 0.02,\"t value\\n={:.3f}\".format(t_value), fontsize=16, ha=\"right\")\n",
    "\n",
    "# negative-side critical region\n",
    "ax.axvline(x=negative_critical_value, ymin=0.05, ymax=0.85, color='r',alpha=0.5, ls='-', lw=2)\n",
    "ax.text(negative_critical_value-0.5, 0.36,r\"$t_{crit}=$\"+\"{:.3f}\\nReject $H_0$\".format(negative_critical_value), fontsize=16)\n",
    "px = np.arange(np.min(x_axis), negative_critical_value, 0.01)\n",
    "ax.fill_between(px, stats.t.pdf(px, d_of_f), alpha=0.5, color='r')\n",
    "\n",
    "#positive-side critical region\n",
    "ax.axvline(x=positive_critical_value, ymin=0.05, ymax=0.85, color='r', alpha=0.5, ls='-', lw=2)\n",
    "ax.text(positive_critical_value - 0.6, 0.36, r\"$t_{crit}=$\"+\"{:.3f}\\nReject $H_0$\".format(positive_critical_value), fontsize=16, ha=\"left\")\n",
    "px = np.arange(positive_critical_value, np.max(x_axis), 0.01)\n",
    "ax.fill_between(px, stats.t.pdf(px, d_of_f), alpha=0.5, color='r')\n",
    "\n",
    "#negative side arrow\n",
    "ax.annotate(\"total critical region:α=5%\\neach side: α/2=2.5%\".format(3), xy=(-2.2, 0.012), xytext=(0, 0.12), size=14,  va=\"bottom\", ha=\"center\",\n",
    "            arrowprops=dict(facecolor='black', lw=3.5, ls='--', ec='None'))\n",
    "\n",
    "#positive side arrow\n",
    "ax.annotate(\"\", xy=(2.2, 0.015), xytext=(1.2, 0.12), size=14,  va=\"bottom\", ha=\"center\",\n",
    "            arrowprops=dict(facecolor='black', lw=3.5, ls='--', ec='None'))\n",
    "\n",
    "\n",
    "# ax.legend(loc=\"lower center\")\n",
    "ax.legend().remove()"
   ]
  },
  {
   "cell_type": "code",
   "execution_count": 17,
   "metadata": {},
   "outputs": [
    {
     "data": {
      "image/png": "[encoded data removed]",
      "text/plain": [
       "<Figure size 700x600 with 1 Axes>"
      ]
     },
     "metadata": {
      "needs_background": "light"
     },
     "output_type": "display_data"
    }
   ],
   "source": [
    "# Additional visualisations ~ copyings really\n",
    "x_axis = np.linspace(stats.t.ppf(0.01, d_of_f), stats.t.ppf(0.99, d_of_f), 1000)\n",
    "y_axis = stats.t.pdf(x_axis, d_of_f)\n",
    "\n",
    "fig, ax = plt.subplots(figsize=(7,6), dpi=100)\n",
    "ax = sns.lineplot(y=y_axis, x=x_axis, linestyle='-', color=\"black\", label=\"A\", lw=2)\n",
    "plt.title(\"Yorkshire Citizens' Incomes\")\n",
    "ax.set_xlabel('t', fontsize=15) # set x label\n",
    "ax.set_ylabel('pdf(t)', fontsize=15, rotation=90) # set y label\n",
    "\n",
    "#negative-side p value\n",
    "ax.axvline(x=-t_value, ymin=0.05, ymax=0.9, color='b',alpha=0.5, ls='-', lw=2)\n",
    "ax.text(-t_value-0.5, 0.36,r\"$t_{crit}=$\"+\"{:.3f}\\nReject $H_0$\".format(-t_value), fontsize=16)\n",
    "px = np.arange(np.min(x_axis), -t_value, 0.01)  # all values with step 0.01\n",
    "ax.fill_between(px, stats.t.pdf(px, d_of_f), alpha=0.3, color='b')\n",
    "\n",
    "#positive-side p value\n",
    "ax.axvline(x=t_value, ymin=0.05, ymax=0.9, color='b', alpha=0.5, ls='-', lw=2)\n",
    "ax.text(t_value-0.6, 0.36,r\"$t_{crit}=$\"+\"{:.3f}\\nReject $H_0$\".format(t_value), fontsize=16, ha=\"left\")\n",
    "px = np.arange(t_value, np.max(x_axis), 0.01)\n",
    "ax.fill_between(px, stats.t.pdf(px, d_of_f), alpha=0.3, color='b')\n",
    "\n",
    "#negative-side critical region\n",
    "ax.axvline(x=negative_critical_value, ymin=0.05, ymax=0.85, color='r',alpha=0.5, ls='-', lw=2)\n",
    "ax.text(negative_critical_value-0.5, 0.36,r\"$t_{crit}=$\"+\"{:.3f}\\nReject $H_0$\".format(negative_critical_value), fontsize=16)\n",
    "px = np.arange(np.min(x_axis), negative_critical_value, 0.01)\n",
    "ax.fill_between(px, stats.t.pdf(px, d_of_f), alpha=0.5, color='r')\n",
    "\n",
    "#positive-side critical region\n",
    "ax.axvline(x=positive_critical_value, ymin=0.05, ymax=0.85, color='r',alpha=0.5, ls='-', lw=2)\n",
    "ax.text(positive_critical_value-0.6, 0.36,r\"$t_{crit}=$\"+\"{:.3f}\\nReject $H_0$\".format(positive_critical_value), fontsize=16, ha=\"left\")\n",
    "px = np.arange(positive_critical_value, np.max(x_axis), 0.01)\n",
    "ax.fill_between(px, stats.t.pdf(px, d_of_f), alpha=0.5, color='r')\n",
    "\n",
    "#negative side arrow\n",
    "ax.annotate(\"t=-0.353\", xy=(-0.36, 0.001), xytext=(-1.2, 0.05), size=14,  va=\"bottom\", ha=\"center\",\n",
    "            arrowprops=dict(facecolor='black', lw=3.5, ls='--', ec='None'))\n",
    "\n",
    "#positive side arrow\n",
    "ax.annotate(\"t=0.353\", xy=(0.36, 0.001), xytext=(1.2, 0.05), size=14,  va=\"bottom\", ha=\"center\",\n",
    "            arrowprops=dict(facecolor='black', lw=3.5, ls='--', ec='None'))\n",
    "\n",
    "\n",
    "# ax.legend(loc=\"lower center\")\n",
    "ax.legend().remove()"
   ]
  },
  {
   "cell_type": "markdown",
   "metadata": {},
   "source": [
    "**TA11) The Council is interested in assessing whether there is any discrimination in annual income between married and single citizens, and specifically whether married citizens are being paid more**"
   ]
  },
  {
   "cell_type": "markdown",
   "metadata": {},
   "source": [
    "**(i) State the Null and Alternative hypotheses**"
   ]
  },
  {
   "cell_type": "code",
   "execution_count": 18,
   "metadata": {},
   "outputs": [],
   "source": [
    "#Write your answer here\n",
    "# Ho: μm == μs\n",
    "# Ha: μm > μs"
   ]
  },
  {
   "cell_type": "markdown",
   "metadata": {},
   "source": [
    "**(ii) Calculate the degrees of freedom**"
   ]
  },
  {
   "cell_type": "code",
   "execution_count": 19,
   "metadata": {},
   "outputs": [],
   "source": [
    "#Write your answer here\n",
    "df_married = dataframe[dataframe[\"married\"] == \"YES\"]\n",
    "df_single = dataframe[dataframe[\"married\"] == \"NO\"]\n",
    "dof = len(df_married) + len(df_single) - 2"
   ]
  },
  {
   "cell_type": "markdown",
   "metadata": {},
   "source": [
    "**(iii) Find the critical value for a test with significance level α=0.05**\n",
    "\n",
    "Hint: t table http://www.ttable.org\n",
    "\n",
    "Hint: Confirm that the value is correct using the appropriate statistical test method from scipy.stats.t"
   ]
  },
  {
   "cell_type": "code",
   "execution_count": 20,
   "metadata": {},
   "outputs": [
    {
     "data": {
      "text/plain": [
       "1.6495124933663257"
      ]
     },
     "execution_count": 20,
     "metadata": {},
     "output_type": "execute_result"
    }
   ],
   "source": [
    "#Write your answer here\n",
    "critical_value = stats.t.ppf(1 - 0.05, dof)\n",
    "critical_value"
   ]
  },
  {
   "cell_type": "markdown",
   "metadata": {},
   "source": [
    "**(iv) Perform the appropriate t test to evaluate the hypotheses for significance level 𝛼=0.05 . You must show your calculations, i.e., calculate the result analytically, but you may use the appropriate scipy.stats method to check your results.**"
   ]
  },
  {
   "cell_type": "code",
   "execution_count": 21,
   "metadata": {},
   "outputs": [
    {
     "name": "stdout",
     "output_type": "stream",
     "text": [
      "approx accurate t value statistic calculated: 0.25591405256592475\n"
     ]
    }
   ],
   "source": [
    "#Write your answer here\n",
    "x1 = np.mean(df_married[\"income\"])  # income_married_mean\n",
    "x2 = np.mean(df_single[\"income\"])  # income_single_mean\n",
    "s1 = np.std(df_married[\"income\"], ddof=1)  # income_married_std\n",
    "s2 = np.std(df_single[\"income\"], ddof=1)  # income_single_std\n",
    "n1 = len(df_married[\"income\"])\n",
    "n2 = len(df_single[\"income\"])\n",
    "\n",
    "# assuming equal variances\n",
    "sp = np.sqrt((((n1 - 1)*s1*s1) + ((n2 - 1)*s2*s2)) / (n1 + n2 -2))  # pooled standard deviation\n",
    "t_value = (x1 - x2) / (sp * np.sqrt((1 / n1) + (1 / n2)))\n",
    "# ugh cri so fiddly and inaccurate T.T\n",
    "# huh apparently t value is the same as model answers, but pooled std is not OmO weird, hum\n",
    "\n",
    "if round(t_value, 5) == round(stats.ttest_ind(df_married[\"income\"], df_single[\"income\"])[0], 5):\n",
    "    print(\"approx accurate t value statistic calculated: \" + str(t_value))\n",
    "# t_value, stats.ttest_ind(df_married[\"income\"], df_single[\"income\"])[0]"
   ]
  },
  {
   "cell_type": "markdown",
   "metadata": {},
   "source": [
    "**(v) Plot the two distributions of income for married and single citizens**"
   ]
  },
  {
   "cell_type": "code",
   "execution_count": 22,
   "metadata": {},
   "outputs": [
    {
     "name": "stderr",
     "output_type": "stream",
     "text": [
      "c:\\projects\\scaleystuffs\\venv\\lib\\site-packages\\seaborn\\distributions.py:2557: FutureWarning: `distplot` is a deprecated function and will be removed in a future version. Please adapt your code to use either `displot` (a figure-level function with similar flexibility) or `histplot` (an axes-level function for histograms).\n",
      "  warnings.warn(msg, FutureWarning)\n",
      "c:\\projects\\scaleystuffs\\venv\\lib\\site-packages\\seaborn\\distributions.py:2557: FutureWarning: `distplot` is a deprecated function and will be removed in a future version. Please adapt your code to use either `displot` (a figure-level function with similar flexibility) or `histplot` (an axes-level function for histograms).\n",
      "  warnings.warn(msg, FutureWarning)\n"
     ]
    },
    {
     "data": {
      "text/plain": [
       "<matplotlib.legend.Legend at 0x1ee930a0>"
      ]
     },
     "execution_count": 22,
     "metadata": {},
     "output_type": "execute_result"
    },
    {
     "data": {
      "image/png": "[encoded data removed]",
      "text/plain": [
       "<Figure size 700x800 with 1 Axes>"
      ]
     },
     "metadata": {
      "needs_background": "light"
     },
     "output_type": "display_data"
    }
   ],
   "source": [
    "#Write your answer here\n",
    "plt.subplots(figsize=(7, 8), dpi=100)\n",
    "ax = sns.distplot(df_married[\"income\"], color=\"blue\", label=\"Married\", hist=True, kde_kws={\"shade\": True})\n",
    "ax = sns.distplot(df_single[\"income\"], color=\"red\", label=\"Single\", hist=True, kde_kws={\"shade\": True})\n",
    "plt.title = \"Yorkshire Citizens' Annual Incomes by Marital Status\"\n",
    "ax.set_xlabel('incomeeeeee', fontsize=15)\n",
    "ax.set_ylabel('pdf(x)', fontsize=15, rotation=90)\n",
    "plt.legend()"
   ]
  },
  {
   "cell_type": "markdown",
   "metadata": {},
   "source": [
    "**TA12) The Council is also interested in assessing whether there is any statistically significant difference in income \n",
    "depending on the region citizens live. They want to give equal opportunities to all Yorkies irrespective of where they live.**"
   ]
  },
  {
   "cell_type": "markdown",
   "metadata": {},
   "source": [
    "**(i) State the Null and Alternative hypotheses that will enable the Council to check whether there is any discrimination in income depending on location**"
   ]
  },
  {
   "cell_type": "code",
   "execution_count": 23,
   "metadata": {},
   "outputs": [],
   "source": [
    "#### Write your answer here\n",
    "# H₀: 𝑋𝑖𝑛𝑛𝑒𝑟 = 𝑋𝑡𝑜𝑤𝑛 = 𝑋𝑠𝑢𝑏 = 𝑋𝑟𝑢𝑟𝑎𝑙\n",
    "# H₁: ∃𝑖, 𝑗 ∈ {𝑖𝑛𝑛𝑒𝑟,𝑡𝑜𝑤𝑛,𝑠𝑢𝑏,𝑟𝑢𝑟𝑎𝑙} where (𝑖 ≠ 𝑗) ∧ (𝑋𝑖 ≠ 𝑋𝑗)  # at least one is significantly different to the others\n",
    "# where 𝑋 implies the sample mean for the respective subscripted area of the city\n"
   ]
  },
  {
   "cell_type": "markdown",
   "metadata": {},
   "source": [
    "**(ii) Calculate the degrees of freedom**"
   ]
  },
  {
   "cell_type": "code",
   "execution_count": 24,
   "metadata": {},
   "outputs": [
    {
     "ename": "NameError",
     "evalue": "name 'nt' is not defined",
     "output_type": "error",
     "traceback": [
      "\u001b[1;31m---------------------------------------------------------------------------\u001b[0m",
      "\u001b[1;31mNameError\u001b[0m                                 Traceback (most recent call last)",
      "\u001b[1;32m<ipython-input-24-6da11a4e4815>\u001b[0m in \u001b[0;36m<module>\u001b[1;34m\u001b[0m\n\u001b[0;32m      8\u001b[0m \u001b[1;33m\u001b[0m\u001b[0m\n\u001b[0;32m      9\u001b[0m \u001b[0mdf_between\u001b[0m \u001b[1;33m=\u001b[0m \u001b[0mlen\u001b[0m\u001b[1;33m(\u001b[0m\u001b[0mlocations\u001b[0m\u001b[1;33m)\u001b[0m \u001b[1;33m-\u001b[0m \u001b[1;36m1\u001b[0m  \u001b[1;31m# degrees of freedom\u001b[0m\u001b[1;33m\u001b[0m\u001b[1;33m\u001b[0m\u001b[0m\n\u001b[1;32m---> 10\u001b[1;33m \u001b[0mdf_within\u001b[0m \u001b[1;33m=\u001b[0m \u001b[0mnt\u001b[0m \u001b[1;33m-\u001b[0m \u001b[0mlen\u001b[0m\u001b[1;33m(\u001b[0m\u001b[0mlocations\u001b[0m\u001b[1;33m)\u001b[0m  \u001b[1;31m# degrees of freedom\u001b[0m\u001b[1;33m\u001b[0m\u001b[1;33m\u001b[0m\u001b[0m\n\u001b[0m",
      "\u001b[1;31mNameError\u001b[0m: name 'nt' is not defined"
     ]
    }
   ],
   "source": [
    "#Write your answer here\n",
    "df_inner = dataframe[dataframe[\"region\"] == \"INNER_CITY\"][\"income\"]\n",
    "df_town = dataframe[dataframe[\"region\"] == \"TOWN\"][\"income\"]\n",
    "df_rural = dataframe[dataframe[\"region\"] == \"RURAL\"][\"income\"]\n",
    "df_suburban = dataframe[dataframe[\"region\"] == \"SUBURBAN\"][\"income\"]\n",
    "\n",
    "locations = [df_inner, df_town, df_rural, df_suburban]\n",
    "\n",
    "df_between = len(locations) - 1  # degrees of freedom\n",
    "df_within = nt - len(locations)  # degrees of freedom"
   ]
  },
  {
   "cell_type": "markdown",
   "metadata": {},
   "source": [
    "**(iii) Find the critical value for a test with significance level α=0.05**\n",
    "\n",
    "Hint: What type of test do we need to do in this scenario?\n"
   ]
  },
  {
   "cell_type": "code",
   "execution_count": null,
   "metadata": {},
   "outputs": [],
   "source": [
    "alpha = 0.05\n",
    "f_critical_value = stats.f.ppf(alpha, df_between, df_within)"
   ]
  },
  {
   "cell_type": "markdown",
   "metadata": {},
   "source": [
    "**(iv) Perform the appropriate test to evaluate the hypotheses for significance level 𝛼=0.05 . You must show your calculations, i.e., calculate the result analytically, but you may use the appropriate scipy.stats method to check your results.**"
   ]
  },
  {
   "cell_type": "code",
   "execution_count": 25,
   "metadata": {},
   "outputs": [
    {
     "ename": "NameError",
     "evalue": "name 'df_within' is not defined",
     "output_type": "error",
     "traceback": [
      "\u001b[1;31m---------------------------------------------------------------------------\u001b[0m",
      "\u001b[1;31mNameError\u001b[0m                                 Traceback (most recent call last)",
      "\u001b[1;32m<ipython-input-25-2d726d3dc746>\u001b[0m in \u001b[0;36m<module>\u001b[1;34m\u001b[0m\n\u001b[0;32m     51\u001b[0m \u001b[1;33m\u001b[0m\u001b[0m\n\u001b[0;32m     52\u001b[0m \u001b[0mMSbetween\u001b[0m \u001b[1;33m=\u001b[0m \u001b[0mSSbetween\u001b[0m \u001b[1;33m/\u001b[0m \u001b[0mdf_between\u001b[0m\u001b[1;33m\u001b[0m\u001b[1;33m\u001b[0m\u001b[0m\n\u001b[1;32m---> 53\u001b[1;33m \u001b[0mMSwithin\u001b[0m \u001b[1;33m=\u001b[0m \u001b[0mSSwithin\u001b[0m \u001b[1;33m/\u001b[0m \u001b[0mdf_within\u001b[0m\u001b[1;33m\u001b[0m\u001b[1;33m\u001b[0m\u001b[0m\n\u001b[0m\u001b[0;32m     54\u001b[0m \u001b[1;33m\u001b[0m\u001b[0m\n\u001b[0;32m     55\u001b[0m \u001b[0mf_value_via_formulas\u001b[0m \u001b[1;33m=\u001b[0m \u001b[0mMSbetween\u001b[0m \u001b[1;33m/\u001b[0m \u001b[0mMSwithin\u001b[0m\u001b[1;33m\u001b[0m\u001b[1;33m\u001b[0m\u001b[0m\n",
      "\u001b[1;31mNameError\u001b[0m: name 'df_within' is not defined"
     ]
    }
   ],
   "source": [
    "# a one way ANOVA test is the most applicable test for this problem\n",
    "# large f value implies significant differences between groups, small f value implies little differences between groups\n",
    "\n",
    "# ANALYTICALLY\n",
    "# useful link: https://www.youtube.com/watch?v=ZQEmSzrmBJc - very step by step and easy to follow, such that arithmetic error chances reduced, yuppies yup, alhamdulillah\n",
    "# formulas:\n",
    "# f = (variance_due_to_group_differences) / (variance_due_to_random_chance)  # variance_due_to_random_chance_among_individuals_within_single_groups\n",
    "# = (variance_between_groups) / (variance_within_groups)\n",
    "# = MSbetween / MSwithin\n",
    "# = mean_of_sum_of_squares_between_groups / mean_of_sum_of_squares_within_groups\n",
    "# MSbetween = SSbetween / dfbetween\n",
    "# MSwithin = SSwithin / dfwithin\n",
    "# dfbetween = degrees_of_freedom_between = k - 1 = number_of_groups - 1\n",
    "# dfwithin = degrees_of_freedom_within = nt - k = number_of_participants_across_all_groups - number_of_groups\n",
    "# SSbetween = ∑((∑x)^2 / n) - ((∑∑x)^2/nt)\n",
    "# SSwithin = ∑∑(x^2) - ∑((∑x)^2/n)\n",
    "\n",
    "# lists that shall contain the different groups': sample size, sum of means, sample means, \n",
    "n = []\n",
    "sigma_x = []  # ∑x\n",
    "x_bar = []  # x̄\n",
    "sigma_x_power2_div_n = []  # (∑x)² / n\n",
    "sigma_xpower2_ = []  # ∑(x²)\n",
    "\n",
    "# locations = [df_inner, df_town, df_rural, df_suburban]\n",
    "\n",
    "# len(locations[0]) == len(df_inner)  # yas it works, hum\n",
    "# locations[0] == df_inner\n",
    "\n",
    "# within groups calculations\n",
    "for location in locations:\n",
    "    n.append(location.size)\n",
    "    sigma_x.append(sum(location))\n",
    "    x_bar.append(np.mean(location))\n",
    "    sigma_x_power2_div_n.append(np.power(sum(location), 2) / len(location))\n",
    "    sigma_xpower2_.append(sum([np.power(j, 2) for j in location]))\n",
    "    \n",
    "# between groups calculations\n",
    "nt = sum(n)  # n total sample size\n",
    "sigma_sigma_x = sum(sigma_x)  # ∑∑x\n",
    "sigma_sigma_x_2_div_nt = np.power(sigma_sigma_x, 2) / nt  # (∑∑x)^2/nt\n",
    "sigma_sigma_x_power2_div_n_ = sum(sigma_x_power2_div_n)  # ∑((∑x)^2 / n)\n",
    "sigma_sigma_xpower2__ = sum(sigma_xpower2_)  # ∑∑(x^2)\n",
    "\n",
    "# working way backwards\n",
    "# df_between = len(locations) - 1  # degrees of freedom\n",
    "# df_within = nt - len(locations)  # degrees of freedom\n",
    "\n",
    "SSbetween = sigma_sigma_x_power2_div_n_ - sigma_sigma_x_2_div_nt\n",
    "SSwithin = sigma_sigma_xpower2__ - sigma_sigma_x_power2_div_n_\n",
    "\n",
    "MSbetween = SSbetween / df_between\n",
    "MSwithin = SSwithin / df_within\n",
    "\n",
    "f_value_via_formulas = MSbetween / MSwithin\n",
    "\n",
    "# PROGRAMATTICALLY\n",
    "f_value_via_library = stats.f_oneway(df_inner, df_town, df_rural, df_suburban)\n",
    "\n",
    "if round(f_value_via_formulas, 6) == round(f_value_via_library[0], 6):  # I mean they don't have to be exact all the way down like pi, just enough same digits to a certain significant value greater than 5 I'd say\n",
    "        if f_value_via_library[1] > alpha:  # round(f_value_via_formulas, 6) < f_critical_value:  # this doesn't really get taken into account\n",
    "            print(\"insufficent evidence to suggest H₀ should be rejected, due to p value being greater than significance level\")\n",
    "# The F value in the ANOVA test also determines the P value; The P value is the probability of getting a result\n",
    "# at least as extreme as the one that was actually observed, given that the null hypothesis is true.\n",
    "# Reject the null when your p value is smaller than your alpha level 0.05. You should not reject the null if your\n",
    "# critical f value is smaller than your F Value, unless you also have a small p-value.\n",
    "# source: https://www.statisticshowto.com/probability-and-statistics/f-statistic-value-test/\n"
   ]
  },
  {
   "cell_type": "markdown",
   "metadata": {},
   "source": [
    "**(v) Plot a boxplot showing the income per region**"
   ]
  },
  {
   "cell_type": "code",
   "execution_count": 26,
   "metadata": {},
   "outputs": [
    {
     "data": {
      "text/plain": [
       "<AxesSubplot:>"
      ]
     },
     "execution_count": 26,
     "metadata": {},
     "output_type": "execute_result"
    },
    {
     "data": {
      "image/png": "[encoded data removed]",
      "text/plain": [
       "<Figure size 432x288 with 1 Axes>"
      ]
     },
     "metadata": {
      "needs_background": "light"
     },
     "output_type": "display_data"
    }
   ],
   "source": [
    "#Write your answer here\n",
    "regions = pd.DataFrame(data={\"inner\": df_inner, \"town\": df_town, \"rural\": df_rural, \"suburbs\": df_suburban})\n",
    "plt.subplots()\n",
    "sns.boxplot(data=regions)"
   ]
  },
  {
   "cell_type": "markdown",
   "metadata": {},
   "source": [
    "**TA13) The Council is also interested in assessing whether there is any statistically significant difference in income depending on the age of citizens. The Council considers the following age groups [17-29], [30,41], [42,53], [54,67)** "
   ]
  },
  {
   "cell_type": "markdown",
   "metadata": {},
   "source": [
    "**(i) State the Null and Alternative hypotheses that will enable the Council to check whether there is any discrimination in income depending on these age groups**"
   ]
  },
  {
   "cell_type": "code",
   "execution_count": 27,
   "metadata": {},
   "outputs": [
    {
     "data": {
      "text/html": [
       "<div>\n",
       "<style scoped>\n",
       "    .dataframe tbody tr th:only-of-type {\n",
       "        vertical-align: middle;\n",
       "    }\n",
       "\n",
       "    .dataframe tbody tr th {\n",
       "        vertical-align: top;\n",
       "    }\n",
       "\n",
       "    .dataframe thead th {\n",
       "        text-align: right;\n",
       "    }\n",
       "</style>\n",
       "<table border=\"1\" class=\"dataframe\">\n",
       "  <thead>\n",
       "    <tr style=\"text-align: right;\">\n",
       "      <th></th>\n",
       "      <th>id</th>\n",
       "      <th>age</th>\n",
       "      <th>gender</th>\n",
       "      <th>region</th>\n",
       "      <th>income</th>\n",
       "      <th>married</th>\n",
       "      <th>children</th>\n",
       "      <th>car</th>\n",
       "      <th>mortgage</th>\n",
       "    </tr>\n",
       "  </thead>\n",
       "  <tbody>\n",
       "    <tr>\n",
       "      <th>0</th>\n",
       "      <td>ID12101</td>\n",
       "      <td>48</td>\n",
       "      <td>FEMALE</td>\n",
       "      <td>INNER_CITY</td>\n",
       "      <td>17546.000000</td>\n",
       "      <td>NO</td>\n",
       "      <td>1</td>\n",
       "      <td>NO</td>\n",
       "      <td>NO</td>\n",
       "    </tr>\n",
       "    <tr>\n",
       "      <th>1</th>\n",
       "      <td>ID12102</td>\n",
       "      <td>40</td>\n",
       "      <td>MALE</td>\n",
       "      <td>TOWN</td>\n",
       "      <td>30085.100000</td>\n",
       "      <td>YES</td>\n",
       "      <td>3</td>\n",
       "      <td>YES</td>\n",
       "      <td>YES</td>\n",
       "    </tr>\n",
       "    <tr>\n",
       "      <th>2</th>\n",
       "      <td>ID12103</td>\n",
       "      <td>51</td>\n",
       "      <td>FEMALE</td>\n",
       "      <td>INNER_CITY</td>\n",
       "      <td>16575.400000</td>\n",
       "      <td>YES</td>\n",
       "      <td>0</td>\n",
       "      <td>YES</td>\n",
       "      <td>NO</td>\n",
       "    </tr>\n",
       "    <tr>\n",
       "      <th>3</th>\n",
       "      <td>ID12104</td>\n",
       "      <td>23</td>\n",
       "      <td>FEMALE</td>\n",
       "      <td>TOWN</td>\n",
       "      <td>20375.400000</td>\n",
       "      <td>YES</td>\n",
       "      <td>3</td>\n",
       "      <td>NO</td>\n",
       "      <td>NO</td>\n",
       "    </tr>\n",
       "    <tr>\n",
       "      <th>4</th>\n",
       "      <td>ID12105</td>\n",
       "      <td>57</td>\n",
       "      <td>FEMALE</td>\n",
       "      <td>RURAL</td>\n",
       "      <td>15944.690366</td>\n",
       "      <td>YES</td>\n",
       "      <td>0</td>\n",
       "      <td>NO</td>\n",
       "      <td>NO</td>\n",
       "    </tr>\n",
       "  </tbody>\n",
       "</table>\n",
       "</div>"
      ],
      "text/plain": [
       "        id  age  gender      region        income married  children  car  \\\n",
       "0  ID12101   48  FEMALE  INNER_CITY  17546.000000      NO         1   NO   \n",
       "1  ID12102   40    MALE        TOWN  30085.100000     YES         3  YES   \n",
       "2  ID12103   51  FEMALE  INNER_CITY  16575.400000     YES         0  YES   \n",
       "3  ID12104   23  FEMALE        TOWN  20375.400000     YES         3   NO   \n",
       "4  ID12105   57  FEMALE       RURAL  15944.690366     YES         0   NO   \n",
       "\n",
       "  mortgage  \n",
       "0       NO  \n",
       "1      YES  \n",
       "2       NO  \n",
       "3       NO  \n",
       "4       NO  "
      ]
     },
     "execution_count": 27,
     "metadata": {},
     "output_type": "execute_result"
    }
   ],
   "source": [
    "# Ho: X1 = X2 = X3 = X4  # where Xn is the sample mean of a group n\n",
    "# Ha: ∃i, j ∈ {1, 2, 3, 4} ∙ (i ≠ j) ∧ (Xi ≠ Xj)\n",
    "dataframe.head()"
   ]
  },
  {
   "cell_type": "markdown",
   "metadata": {},
   "source": [
    "**(ii) Calculate the degrees of freedom**"
   ]
  },
  {
   "cell_type": "code",
   "execution_count": 28,
   "metadata": {},
   "outputs": [],
   "source": [
    "#Write your answer here\n",
    "\n",
    "df_17_to_29 = dataframe[dataframe[\"age\"] < 30][\"income\"]\n",
    "df_30_to_41 = dataframe[(dataframe[\"age\"] >= 30) & (dataframe[\"age\"] < 42)][\"income\"]\n",
    "df_42_to_53 = dataframe[(dataframe[\"age\"] >= 42) & (dataframe[\"age\"] < 54)][\"income\"]\n",
    "df_54_to_67 = dataframe[dataframe[\"age\"] >= 54][\"income\"]\n",
    "\n",
    "age_groups = [df_17_to_29, df_30_to_41, df_42_to_53, df_54_to_67]\n",
    "\n",
    "d_of_f_between = len(age_groups) - 1  # degrees of freedom\n",
    "d_of_f_within = sum([len(i) for i in age_groups]) - len(age_groups)  # degrees of freedom"
   ]
  },
  {
   "cell_type": "markdown",
   "metadata": {},
   "source": [
    "**(iv) Perform the appropriate test to evaluate the hypotheses for significance level 𝛼=0.05. You may use the appropriate scipy.stats method.**"
   ]
  },
  {
   "cell_type": "code",
   "execution_count": 29,
   "metadata": {},
   "outputs": [
    {
     "name": "stdout",
     "output_type": "stream",
     "text": [
      "reject null hypothesis\n"
     ]
    }
   ],
   "source": [
    "#Write your answer here\n",
    "\n",
    "alpha = 0.05\n",
    "\n",
    "f = stats.f_oneway(df_17_to_29, df_30_to_41, df_42_to_53, df_54_to_67)\n",
    "\n",
    "# The F value should always be used along with the p value in deciding whether your results are significant\n",
    "# enough to reject the null hypothesis. If you get a large f value (one that is bigger than the F critical\n",
    "# value found in a table), it means something is significant, while a small p value means all your results\n",
    "# are significant. The F statistic just compares the joint effect of all the variables together. To put it\n",
    "# simply, reject the null hypothesis only if your alpha level is larger than your p value.\n",
    "\n",
    "if alpha > f[1]:\n",
    "    print(\"reject null hypothesis\")\n",
    "else:\n",
    "    print(\"continue accepting null hypothesis\")"
   ]
  },
  {
   "cell_type": "markdown",
   "metadata": {},
   "source": [
    "**(v) Plot the distributions for the four age groups**"
   ]
  },
  {
   "cell_type": "code",
   "execution_count": 30,
   "metadata": {},
   "outputs": [
    {
     "name": "stderr",
     "output_type": "stream",
     "text": [
      "c:\\projects\\scaleystuffs\\venv\\lib\\site-packages\\seaborn\\distributions.py:2557: FutureWarning: `distplot` is a deprecated function and will be removed in a future version. Please adapt your code to use either `displot` (a figure-level function with similar flexibility) or `histplot` (an axes-level function for histograms).\n",
      "  warnings.warn(msg, FutureWarning)\n",
      "c:\\projects\\scaleystuffs\\venv\\lib\\site-packages\\seaborn\\distributions.py:2557: FutureWarning: `distplot` is a deprecated function and will be removed in a future version. Please adapt your code to use either `displot` (a figure-level function with similar flexibility) or `histplot` (an axes-level function for histograms).\n",
      "  warnings.warn(msg, FutureWarning)\n",
      "c:\\projects\\scaleystuffs\\venv\\lib\\site-packages\\seaborn\\distributions.py:2557: FutureWarning: `distplot` is a deprecated function and will be removed in a future version. Please adapt your code to use either `displot` (a figure-level function with similar flexibility) or `histplot` (an axes-level function for histograms).\n",
      "  warnings.warn(msg, FutureWarning)\n",
      "c:\\projects\\scaleystuffs\\venv\\lib\\site-packages\\seaborn\\distributions.py:2557: FutureWarning: `distplot` is a deprecated function and will be removed in a future version. Please adapt your code to use either `displot` (a figure-level function with similar flexibility) or `histplot` (an axes-level function for histograms).\n",
      "  warnings.warn(msg, FutureWarning)\n"
     ]
    },
    {
     "ename": "TypeError",
     "evalue": "'str' object is not callable",
     "output_type": "error",
     "traceback": [
      "\u001b[1;31m---------------------------------------------------------------------------\u001b[0m",
      "\u001b[1;31mTypeError\u001b[0m                                 Traceback (most recent call last)",
      "\u001b[1;32m<ipython-input-30-8785b7a9ecee>\u001b[0m in \u001b[0;36m<module>\u001b[1;34m\u001b[0m\n\u001b[0;32m      6\u001b[0m \u001b[0max\u001b[0m \u001b[1;33m=\u001b[0m \u001b[0msns\u001b[0m\u001b[1;33m.\u001b[0m\u001b[0mdistplot\u001b[0m\u001b[1;33m(\u001b[0m\u001b[0mdf_54_to_67\u001b[0m\u001b[1;33m,\u001b[0m \u001b[0mcolor\u001b[0m\u001b[1;33m=\u001b[0m\u001b[1;34m\"pink\"\u001b[0m\u001b[1;33m,\u001b[0m \u001b[0mlabel\u001b[0m\u001b[1;33m=\u001b[0m\u001b[1;34m\"54 to 67\"\u001b[0m\u001b[1;33m,\u001b[0m \u001b[0mhist\u001b[0m\u001b[1;33m=\u001b[0m\u001b[1;32mTrue\u001b[0m\u001b[1;33m,\u001b[0m \u001b[0mkde_kws\u001b[0m\u001b[1;33m=\u001b[0m\u001b[1;33m{\u001b[0m\u001b[1;34m\"shade\"\u001b[0m\u001b[1;33m:\u001b[0m \u001b[1;32mTrue\u001b[0m\u001b[1;33m}\u001b[0m\u001b[1;33m)\u001b[0m\u001b[1;33m\u001b[0m\u001b[1;33m\u001b[0m\u001b[0m\n\u001b[0;32m      7\u001b[0m \u001b[1;33m\u001b[0m\u001b[0m\n\u001b[1;32m----> 8\u001b[1;33m \u001b[0mplt\u001b[0m\u001b[1;33m.\u001b[0m\u001b[0mtitle\u001b[0m\u001b[1;33m(\u001b[0m\u001b[1;34m'Yorkie Citizenry Incomes By Ages'\u001b[0m\u001b[1;33m)\u001b[0m\u001b[1;33m\u001b[0m\u001b[1;33m\u001b[0m\u001b[0m\n\u001b[0m\u001b[0;32m      9\u001b[0m \u001b[0max\u001b[0m\u001b[1;33m.\u001b[0m\u001b[0mset_xlabel\u001b[0m\u001b[1;33m(\u001b[0m\u001b[1;34m'Income'\u001b[0m\u001b[1;33m,\u001b[0m \u001b[0mfontsize\u001b[0m\u001b[1;33m=\u001b[0m\u001b[1;36m15\u001b[0m\u001b[1;33m)\u001b[0m\u001b[1;33m\u001b[0m\u001b[1;33m\u001b[0m\u001b[0m\n\u001b[0;32m     10\u001b[0m \u001b[0max\u001b[0m\u001b[1;33m.\u001b[0m\u001b[0mset_ylabel\u001b[0m\u001b[1;33m(\u001b[0m\u001b[1;34m'pdf(x)'\u001b[0m\u001b[1;33m,\u001b[0m \u001b[0mfontsize\u001b[0m\u001b[1;33m=\u001b[0m\u001b[1;36m15\u001b[0m\u001b[1;33m,\u001b[0m \u001b[0mrotation\u001b[0m\u001b[1;33m=\u001b[0m\u001b[1;36m90\u001b[0m\u001b[1;33m)\u001b[0m\u001b[1;33m\u001b[0m\u001b[1;33m\u001b[0m\u001b[0m\n",
      "\u001b[1;31mTypeError\u001b[0m: 'str' object is not callable"
     ]
    },
    {
     "data": {
      "image/png": "[encoded data removed]",
      "text/plain": [
       "<Figure size 1000x1000 with 1 Axes>"
      ]
     },
     "metadata": {
      "needs_background": "light"
     },
     "output_type": "display_data"
    }
   ],
   "source": [
    "#Write your answer here\n",
    "plt.subplots(figsize=(10, 10), dpi=100)\n",
    "ax = sns.distplot(df_17_to_29, color=\"red\", label=\"0 to 29\", hist=True, kde_kws={\"shade\": True})\n",
    "ax = sns.distplot(df_30_to_41, color=\"orange\", label=\"30 to 41\", hist=True, kde_kws={\"shade\": True})\n",
    "ax = sns.distplot(df_42_to_53, color=\"yellow\", label=\"42 to 53\", hist=True, kde_kws={\"shade\": True})\n",
    "ax = sns.distplot(df_54_to_67, color=\"pink\", label=\"54 to 67\", hist=True, kde_kws={\"shade\": True})\n",
    "\n",
    "plt.title('Yorkie Citizenry Incomes By Ages')\n",
    "ax.set_xlabel('Income', fontsize=15)\n",
    "ax.set_ylabel('pdf(x)', fontsize=15, rotation=90)\n",
    "plt.legend()"
   ]
  },
  {
   "cell_type": "markdown",
   "metadata": {},
   "source": [
    "**(vi) Perform a post hoc analysis using the Bonferroni correction to identify the pairs {of groups} which exhibit statistically significant difference**"
   ]
  },
  {
   "cell_type": "code",
   "execution_count": null,
   "metadata": {},
   "outputs": [],
   "source": [
    "# useful link: https://www.youtube.com/watch?v=rMuNniCTsOw\n",
    "# most researchers test a null hypothesis with alpha (at most) at 0.05 ~ that is most researchers accept a maximum\n",
    "# type I error rate of 5% for any particular analysis\n",
    "# type one error: erroneously rejecting null hypothesis in a statisical analysis on a sample of the population,\n",
    "# when in fact the the null hypothesis is true for that population\n",
    "# the bonferroni correction is an adjustment applied to p values that is 'supposed to be applied' when two or more\n",
    "# statistical analyses have been performed on the same sample of data {it is deliberated}\n",
    "# familywise error rate is known to be larger than the per analysis error rate\n",
    "# the more statistical analyses are carried out, the greater the familywise error rate\n",
    "# αvFW = 1 - (1 - αvPC)^c  # where c is the number of comparisons performed and αvFW is the specified per contrast\n",
    "# errror rate (i.e. alpha, usually set to 0.05)\n",
    "# in order to compensate for this increased family wise error rate, the approach of the Bonferroni correction is used\n",
    "# this is done by dividing the per analysis alpha rate by the number of statistical analyses performed (alpha)\n",
    "# any observed p values (obtained from the statistical analyses) less than the corrected α  (i.e p) value is decalred to be\n",
    "# staistically significant\n",
    "# but all too often when you do the correction, you end up with little to no statistically significant results that\n",
    "# you can talk about\n",
    "# (alternatively could test by muliplying observed p values with number of statisitcal analyses performed {reduced\n",
    "# to 0.999 if multiplications result in probabilities greater than 1}, and any corrected/muliplied p values less than \n",
    "# adjusted alpha (i.e corrected p) are declared to be statistically significant - exactly the same result cuz same\n",
    "# process but reserved, this process is more used in statistical programs)\n",
    "\n",
    "# alternative source: https://www.statisticssolutions.com/bonferroni-correction/\n",
    "# Bonferroni correction is a conservative test that, although protects from Type I Error, is vulnerable to Type II errors\n",
    "# (failing to reject the null hypothesis when you should in fact reject the null hypothesis)\n",
    "# To get the Bonferroni corrected/adjusted p value, divide the original α-value by the number of analyses on the dependent variable\n",
    "# αcritical= 1 – (1 – αaltered)^k, where k = the number of comparisons on the same dependent variable\n"
   ]
  },
  {
   "cell_type": "code",
   "execution_count": null,
   "metadata": {},
   "outputs": [],
   "source": [
    "# so carrying out multiple t-tests as opposed to the ANOVA we used earlier {better to use ANOVA though, cuz repeating\n",
    "# statistical tests not good practice}\n",
    "\n",
    "# age_groups = [df_17_to_29, df_30_to_41, df_42_to_53, df_54_to_67]\n",
    "t_test_group_1_and_group_2 = stats.ttest_ind(df_17_to_29, df_30_to_41)\n",
    "t_test_group_1_and_group_3 = stats.ttest_ind(df_17_to_29, df_42_to_53)\n",
    "t_test_group_1_and_group_4 = stats.ttest_ind(df_17_to_29, df_54_to_67)\n",
    "t_test_group_2_and_group_3 = stats.ttest_ind(df_30_to_41, df_42_to_53)\n",
    "t_test_group_2_and_group_4 = stats.ttest_ind(df_30_to_41, df_54_to_67)\n",
    "t_test_group_3_and_group_4 = stats.ttest_ind(df_42_to_53, df_54_to_67)\n",
    "\n",
    "alpha = 0.05\n",
    "number_of_tests = 6\n",
    "bonferronily_corrected_alpha = alpha / number_of_tests\n",
    "\n",
    "if t_test_group_1_and_group_2[1] < bonferronily_corrected_alpha:\n",
    "    print(\"the difference between group 1 and group 2 is statistically significant\")\n",
    "else:\n",
    "    print(\"the difference between group 1 and group 2 is not statistically significant\")\n",
    "if t_test_group_1_and_group_3[1] < bonferronily_corrected_alpha:\n",
    "    print(\"the difference between group 1 and group 3 is statistically significant\")\n",
    "else:\n",
    "    print(\"the difference between group 1 and group 3 is not statistically significant\")\n",
    "if t_test_group_1_and_group_4[1] < bonferronily_corrected_alpha:\n",
    "    print(\"the difference between group 1 and group 4 is statistically significant\")\n",
    "else:\n",
    "    print(\"the difference between group 1 and group 4 is not statistically significant\")\n",
    "if t_test_group_2_and_group_3[1] < bonferronily_corrected_alpha:\n",
    "    print(\"the difference between group 2 and group 3 is statistically significant\")\n",
    "else:\n",
    "    print(\"the difference between group 2 and group 3 is not statistically significant\")\n",
    "if t_test_group_2_and_group_4[1] < bonferronily_corrected_alpha:\n",
    "    print(\"the difference between group 2 and group 4 is statistically significant\")\n",
    "else:\n",
    "    print(\"the difference between group 2 and group 4 is not statistically significant\")\n",
    "if t_test_group_3_and_group_4[1] < bonferronily_corrected_alpha:\n",
    "    print(\"the difference between group 3 and group 4 is statistically significant\")\n",
    "else:\n",
    "    print(\"the difference between group 3 and group 4 is not statistically significant\")\n",
    "\n",
    "# conclusion: ageism perhaps may be involved in Yorshire citizens' incomes, except between those who lie in the \n",
    "# categorical age ranges of '30 to 41' and '42 to 53'"
   ]
  },
  {
   "cell_type": "markdown",
   "metadata": {},
   "source": [
    "**(vii) Plot a boxplot showing the income per age group**"
   ]
  },
  {
   "cell_type": "code",
   "execution_count": 31,
   "metadata": {},
   "outputs": [
    {
     "name": "stdout",
     "output_type": "stream",
     "text": [
      "Income (y axis) By Ages (x axis)\n",
      "________________________________\n"
     ]
    },
    {
     "data": {
      "image/png": "[encoded data removed]",
      "text/plain": [
       "<Figure size 1000x1000 with 1 Axes>"
      ]
     },
     "metadata": {
      "needs_background": "light"
     },
     "output_type": "display_data"
    }
   ],
   "source": [
    "#Write your answer here\n",
    "ages = pd.DataFrame(data={\"17 to 29\": df_17_to_29, \"30 to 41\": df_30_to_41, \"42 to 53\": df_42_to_53, \"54 to 67\": df_54_to_67})\n",
    "ax = plt.subplots(figsize=(10, 10), dpi=100)\n",
    "ax = sns.boxplot(data=ages)  # x=\"ages\", y=\"income\" # for some reason sns not accepting these label parameters\n",
    "print(\"Income (y axis) By Ages (x axis)\")\n",
    "print(\"________________________________\")"
   ]
  },
  {
   "cell_type": "markdown",
   "metadata": {},
   "source": [
    "**TA14) Implement the Pearson colleration metric to investigate whether there is any correlation between 'Age' (no groups) and 'Income'. Once you finish the implementation you can check their correctness using the built-in functions of Scipy.stats**\n",
    "\n",
    "What is your interpretation for the correlation between \"Age\" and \"Income\"?\n",
    "\n",
    "* Tip: See https://docs.scipy.org/doc/scipy-0.14.0/reference/generated/scipy.stats.pearsonr.html\n"
   ]
  },
  {
   "cell_type": "code",
   "execution_count": 32,
   "metadata": {},
   "outputs": [
    {
     "data": {
      "text/plain": [
       "True"
      ]
     },
     "execution_count": 32,
     "metadata": {},
     "output_type": "execute_result"
    }
   ],
   "source": [
    "# correlation is not always causation\n",
    "# r formula:\n",
    "# r =  ∑((x - x̄) * (y - y̅)) / √(∑(x - x̄)^2 * ∑(y - y̅)^2) = ∑(a) / √(∑b * ∑c)\n",
    "x_bar = np.mean(dataframe[\"age\"])\n",
    "y_bar = np.mean(dataframe[\"income\"])\n",
    "\n",
    "a = []\n",
    "b = []\n",
    "c = []\n",
    "\n",
    "for i in range(0, dataframe.shape[0]):  # note: dataframe.size does not give number of records\n",
    "    c_i = (dataframe[\"income\"][i] - y_bar)  # (y - y̅)\n",
    "    b_i = (dataframe[\"age\"][i] - x_bar)  # (x - x̄)\n",
    "    a_i = b_i * c_i  # (x - x̄) * (y - y̅)\n",
    "    a.append(a_i)\n",
    "    b.append(np.power(b_i, 2))  # (x - x̄)^2\n",
    "    c.append(np.power(c_i, 2))  # (y - y̅)^2\n",
    "\n",
    "pearson_r_via_form = sum(a) / np.sqrt(sum(b) * sum(c))\n",
    "# or sum(a) could have alternatively been calculated through:\n",
    "# np.sum( (dataframe[\"age\"] - np.mean(dataframe[\"age\"])) * (dataframe[\"income\"] - np.mean(dataframe[\"income\"])) )\n",
    "# different ways of doing the same stats:\n",
    "# r = (sum(a) / (df.shape[0] - 1)) / (np.std(df[\"age\"], ddof=1) * np.std(df[\"income\"], ddof=1))\n",
    "\n",
    "pearson_via_lib = stats.pearsonr(dataframe[\"age\"], dataframe[\"income\"])\n",
    "pearson_r_via_lib = pearson_via_lib[0]\n",
    "pearson_p_via_lib = pearson_via_lib[1]\n",
    "round(pearson_r_via_form, 13) == round(pearson_r_via_lib, 13)  # yaaaaaaaas alhamdulillah X')"
   ]
  },
  {
   "cell_type": "markdown",
   "metadata": {},
   "source": [
    "**TA15) Create a new column in the dataframe called \"age group\" that splits the ages into groups of size 15**\n",
    "\n",
    "Hint: Look at the Pandas method cut(data, bins, labels)"
   ]
  },
  {
   "cell_type": "code",
   "execution_count": 33,
   "metadata": {},
   "outputs": [
    {
     "data": {
      "text/plain": [
       "0      [45, 60)\n",
       "1      [30, 45)\n",
       "2      [45, 60)\n",
       "3      [15, 30)\n",
       "4      [45, 60)\n",
       "         ...   \n",
       "325    [15, 30)\n",
       "326    [30, 45)\n",
       "327    [15, 30)\n",
       "328    [45, 60)\n",
       "329    [15, 30)\n",
       "Name: age group {in fifteens}, Length: 330, dtype: category\n",
       "Categories (5, interval[int64]): [[0, 15) < [15, 30) < [30, 45) < [45, 60) < [60, 75)]"
      ]
     },
     "execution_count": 33,
     "metadata": {},
     "output_type": "execute_result"
    }
   ],
   "source": [
    "#Write your answer here\n",
    "df_with_age_groups = dataframe.copy()\n",
    "# df[\"age group {fifteenthile}\"] = pd.cut(x=df_with_age_groups[\"age\"], bins=15, right=False)  # not 15 groups!\n",
    "df_with_age_groups[\"age group {in fifteens}\"] = pd.cut(x=df_with_age_groups[\"age\"], bins=range(0, 81, 15), right=False)\n",
    "# df_with_age_groups[df_with_age_groups[\"age group {in fifteens}\"].str.contains(\"[75,\")]  # was (unsuccesfully) trying to find oldest group - if any bigger\n",
    "# df_with_age_groups[\"age group {in fifteens}\"]  # thankfully, this lets us know the categories! AH!\n",
    "# so the right=False makes it so that any catogeries  [75, infintity] is unincluded because it breaks the rule of all the categories only having members with ages in a 15 age interval only\n",
    "# no wait idk I'm prolly wrong T>T\n",
    "# df_with_age_groups[\"age group {in fifteens}\"][0]  # returns Interval(45, 60, closed='left')\n",
    "df_with_age_groups[\"age group {in fifteens}\"]"
   ]
  },
  {
   "cell_type": "markdown",
   "metadata": {},
   "source": [
    "**TA16) Generate a contingency table to show how the age group (x axis) is related to the region (y axis)**\n",
    "\n",
    "* Hint: https://pandas.pydata.org/pandas-docs/stable/reference/api/pandas.crosstab.html\n",
    "\n",
    "**Note**: A contingency table summarises data for two (or more) categorical variables"
   ]
  },
  {
   "cell_type": "code",
   "execution_count": 34,
   "metadata": {},
   "outputs": [
    {
     "data": {
      "text/plain": [
       "pandas.core.frame.DataFrame"
      ]
     },
     "execution_count": 34,
     "metadata": {},
     "output_type": "execute_result"
    }
   ],
   "source": [
    "# categorical variables: age group, region\n",
    "contingency_table = pd.crosstab(index=df_with_age_groups[\"age group {in fifteens}\"], columns=df_with_age_groups[\"region\"], margins=all)\n",
    "type(contingency_table)"
   ]
  },
  {
   "cell_type": "markdown",
   "metadata": {},
   "source": [
    "**TA17) What would be the hypotheses if the Council wants to assess whether the age group and region variables are independent? Report these hypotheses**"
   ]
  },
  {
   "cell_type": "code",
   "execution_count": 35,
   "metadata": {},
   "outputs": [],
   "source": [
    "# Ho: age group and region are independent  # equal frequencies\n",
    "# Ha: age group and region are not independent  # unequal frequencies"
   ]
  },
  {
   "cell_type": "markdown",
   "metadata": {},
   "source": [
    "**TA18) Implement the Chi Square to investigate whether there is any dependency between correlation between region and age group. Once you finish the implementation you can check their correctness using the built-in functions of Scipy.stats**\n",
    "\n",
    "* Hint: You may need to use the data from TA16\n",
    "\n",
    "* Hint: https://docs.scipy.org/doc/scipy/reference/generated/scipy.stats.chi2_contingency.html"
   ]
  },
  {
   "cell_type": "code",
   "execution_count": 75,
   "metadata": {},
   "outputs": [
    {
     "name": "stdout",
     "output_type": "stream",
     "text": [
      "564.5539529280385\n"
     ]
    }
   ],
   "source": [
    "# carrying out the chi square test of independence\n",
    "\n",
    "# analytically  # too difficult tbf T.T cri\n",
    "# chi square distribution is asymettric, a skewed distribution\n",
    "# area of the critical region is equal to alpha, and the critical region is defined by the critical chi square value(s) - found from the from chi square critical values table\n",
    "# if the observed value lies in the critical region, sufficent enough evidence to reject Ho\n",
    "\n",
    "# calculating the expected value of the two nominal variables\n",
    "# Ei, j = (sum_of_the_ith_column * sum_of_the_kth_row) / total_number\n",
    "total_number = contingency_table[\"All\"].max()\n",
    "expected_values_contingency_table = contingency_table.copy()  # deep=True is default parameter value\n",
    "region_alls = expected_values_contingency_table[\"All\"]\n",
    "age_group_alls = expected_values_contingency_table.loc[\"All\"]\n",
    "age_groups_array, regions_array = expected_values_contingency_table.axes\n",
    "\n",
    "# valid_test = True  # validity can only be established at the end, if number of lessthan5s is less than 20%\n",
    "less_than_5 = 0\n",
    "iteration = 0\n",
    "i = 0\n",
    "while i < (len(age_groups_array) - 1):\n",
    "    j = 0\n",
    "    while j < (len(regions_array) - 1):\n",
    "        expected_value = (age_group_alls[i] * region_alls[j]) / total_number\n",
    "        expected_values_contingency_table.at[age_groups_array[i], regions_array[j]] = expected_value\n",
    "        if expected_value < 5:\n",
    "            less_than_5 += 1\n",
    "        j += 1\n",
    "        iteration += 1\n",
    "    i += 1\n",
    "percentage_of_less_than_5 = less_than_5 / iteration\n",
    "if percentage_of_less_than_5 > 0.2:\n",
    "    print(\"cannot proceed with chi squared test\")\n",
    "    valid_test = False\n",
    "\n",
    "# for i in range(len(age_groups_array) - 1):\n",
    "#     for j in range(len(regions_array) - 1):\n",
    "#         expected_value = (age_group_alls[i] * region_alls[j]) / total_number\n",
    "#         expected_values_contingency_table.at[age_groups_array[i], regions_array[j]] = expected_value\n",
    "\n",
    "#         if expected_value > 5:\n",
    "#             print(\"cannot proceed with chi squared test due to value less than 5:\", expected_value)\n",
    "#             break  # baaad practice\n",
    "            \n",
    "# alhamdulillah - finally - after a day agonising intermittently X'S only with the help of Allah, yup, hum\n",
    "\n",
    "# calculating the value of the chi square test of independence\n",
    "# x^2 = summing summing (observed value of two nominal variables - expected value of two nominal variables)^2 / expected value of two nominal variables)\n",
    "summing = []\n",
    "for i in range(len(age_groups_array) - 1):\n",
    "    for j in range(len(regions_array) - 1):\n",
    "        observed = contingency_table.at[age_groups_array[i], regions_array[j]]\n",
    "        expected = expected_values_contingency_table.at[age_groups_array[i], regions_array[j]]\n",
    "        appending = np.power((observed - expected), 2) / expected\n",
    "        summing.append(appending)\n",
    "print(sum(summing))\n",
    "# idk give up after daysss, dunno how to get to 17.451443551632916... Y.Y\n",
    "\n",
    "# changed_values_contingency_table = pd.DataFrame(np.where(isinstance(contingency_table, int), contingency_table, contingency_table*2), \n",
    "#                   index=contingency_table.index, \n",
    "#                   columns=contingency_table.columns)  # actually this ends up changing all the values in the table according to the boolean you set out ~ cool, but not our aim rn\n",
    "# later on in midst of things, was tempted to do matrix multiplication, but I'm not well versed enough in it tbf T.T"
   ]
  },
  {
   "cell_type": "code",
   "execution_count": 37,
   "metadata": {},
   "outputs": [
    {
     "data": {
      "text/plain": [
       "(17.451443551632916, 0.35698153776001246, 16)"
      ]
     },
     "execution_count": 37,
     "metadata": {},
     "output_type": "execute_result"
    }
   ],
   "source": [
    "# programmatically\n",
    "chi_square_stat, p_value, degrees_of_freedom, expected_frequencies = stats.chi2_contingency(contingency_table)\n",
    "\n",
    "chi_square_stat, p_value, degrees_of_freedom"
   ]
  },
  {
   "cell_type": "markdown",
   "metadata": {},
   "source": [
    "**TA19) Calculate the degrees of freedom for TA16/18**"
   ]
  },
  {
   "cell_type": "code",
   "execution_count": 38,
   "metadata": {},
   "outputs": [
    {
     "data": {
      "text/plain": [
       "9"
      ]
     },
     "execution_count": 38,
     "metadata": {},
     "output_type": "execute_result"
    }
   ],
   "source": [
    "#Write your answer here\n",
    "\n",
    "# hmmm differernt d of f to the function in stats\n",
    "\n",
    "# degrees_of_freedom = (r - 1)(c - 1)  # where r = number of rows (catogeries), c = number of columns (categories)\n",
    "d_of_f = ((len(age_groups_array) - 1 ) - 1) * ((len(regions_array) - 1) - 1)  # minusing an extra cuzza the extra \"All\" row and column\n",
    "d_of_f"
   ]
  },
  {
   "cell_type": "markdown",
   "metadata": {},
   "source": [
    "**TA20) Using a significance level 𝛼=0.05, find the critical value for the hypothesis from TA17 and determine whether the Null hypothesis holds or not**"
   ]
  },
  {
   "cell_type": "code",
   "execution_count": 39,
   "metadata": {},
   "outputs": [
    {
     "data": {
      "text/html": [
       "<div>\n",
       "<style scoped>\n",
       "    .dataframe tbody tr th:only-of-type {\n",
       "        vertical-align: middle;\n",
       "    }\n",
       "\n",
       "    .dataframe tbody tr th {\n",
       "        vertical-align: top;\n",
       "    }\n",
       "\n",
       "    .dataframe thead th {\n",
       "        text-align: right;\n",
       "    }\n",
       "</style>\n",
       "<table border=\"1\" class=\"dataframe\">\n",
       "  <thead>\n",
       "    <tr style=\"text-align: right;\">\n",
       "      <th>region</th>\n",
       "      <th>INNER_CITY</th>\n",
       "      <th>RURAL</th>\n",
       "      <th>SUBURBAN</th>\n",
       "      <th>TOWN</th>\n",
       "      <th>All</th>\n",
       "    </tr>\n",
       "    <tr>\n",
       "      <th>age group {in fifteens}</th>\n",
       "      <th></th>\n",
       "      <th></th>\n",
       "      <th></th>\n",
       "      <th></th>\n",
       "      <th></th>\n",
       "    </tr>\n",
       "  </thead>\n",
       "  <tbody>\n",
       "    <tr>\n",
       "      <th>[15, 30)</th>\n",
       "      <td>48</td>\n",
       "      <td>13</td>\n",
       "      <td>4</td>\n",
       "      <td>18</td>\n",
       "      <td>83</td>\n",
       "    </tr>\n",
       "    <tr>\n",
       "      <th>[30, 45)</th>\n",
       "      <td>44</td>\n",
       "      <td>10</td>\n",
       "      <td>7</td>\n",
       "      <td>41</td>\n",
       "      <td>102</td>\n",
       "    </tr>\n",
       "    <tr>\n",
       "      <th>[45, 60)</th>\n",
       "      <td>36</td>\n",
       "      <td>20</td>\n",
       "      <td>10</td>\n",
       "      <td>24</td>\n",
       "      <td>90</td>\n",
       "    </tr>\n",
       "    <tr>\n",
       "      <th>[60, 75)</th>\n",
       "      <td>27</td>\n",
       "      <td>11</td>\n",
       "      <td>4</td>\n",
       "      <td>13</td>\n",
       "      <td>55</td>\n",
       "    </tr>\n",
       "    <tr>\n",
       "      <th>All</th>\n",
       "      <td>155</td>\n",
       "      <td>54</td>\n",
       "      <td>25</td>\n",
       "      <td>96</td>\n",
       "      <td>330</td>\n",
       "    </tr>\n",
       "  </tbody>\n",
       "</table>\n",
       "</div>"
      ],
      "text/plain": [
       "region                   INNER_CITY  RURAL  SUBURBAN  TOWN  All\n",
       "age group {in fifteens}                                        \n",
       "[15, 30)                         48     13         4    18   83\n",
       "[30, 45)                         44     10         7    41  102\n",
       "[45, 60)                         36     20        10    24   90\n",
       "[60, 75)                         27     11         4    13   55\n",
       "All                             155     54        25    96  330"
      ]
     },
     "execution_count": 39,
     "metadata": {},
     "output_type": "execute_result"
    }
   ],
   "source": [
    "# critical value is 16.919, from chi squared table\n",
    "# as calclualted p = 17.451443551632916 is greater than critical value, and so lies inside the critical region\n",
    "# thus Ho is rejected {only narrowly tho XOS}"
   ]
  },
  {
   "cell_type": "markdown",
   "metadata": {},
   "source": [
    "**TA21) Plot a scatter plot for the ages VS income**"
   ]
  },
  {
   "cell_type": "code",
   "execution_count": 50,
   "metadata": {},
   "outputs": [
    {
     "data": {
      "text/plain": [
       "Text(0, 0.5, 'Income(£)')"
      ]
     },
     "execution_count": 50,
     "metadata": {},
     "output_type": "execute_result"
    },
    {
     "data": {
      "image/png": "[encoded data removed]",
      "text/plain": [
       "<Figure size 700x600 with 1 Axes>"
      ]
     },
     "metadata": {
      "needs_background": "light"
     },
     "output_type": "display_data"
    }
   ],
   "source": [
    "#Write your answer here\n",
    "plt.subplots(figsize=(7,6), dpi=100)\n",
    "ax = sns.scatterplot(x=\"age\", y=\"income\", data=dataframe, marker='o')\n",
    "ax.set_xlabel('Year', fontsize=15) # set x label\n",
    "ax.set_ylabel('Income(£)', fontsize=15,rotation=90) # set y label\n"
   ]
  },
  {
   "cell_type": "markdown",
   "metadata": {},
   "source": [
    "**TA22) Train a linear regression model to determine the \"best line of fit\" for this data using only the Year as the input variable**\n",
    "\n",
    "* Hint: You might want to use the following library\n",
    "  \n",
    "  from sklearn import linear_model\n",
    "  \n",
    " * Hint: You might want to check https://scikit-learn.org/stable/modules/generated/sklearn.linear_model.LinearRegression.html"
   ]
  },
  {
   "cell_type": "code",
   "execution_count": 52,
   "metadata": {},
   "outputs": [
    {
     "data": {
      "text/plain": [
       "LinearRegression()"
      ]
     },
     "execution_count": 52,
     "metadata": {},
     "output_type": "execute_result"
    }
   ],
   "source": [
    "\n",
    "from sklearn import linear_model\n",
    "reg = linear_model.LinearRegression()\n",
    "reg.fit(dataframe[\"age\"].to_numpy().reshape(-1, 1), dataframe[\"income\"])"
   ]
  },
  {
   "cell_type": "markdown",
   "metadata": {},
   "source": [
    "**TA23) Extract and report the coefficients (regression coefficient and intercept) of the trained linear regression model**\n",
    "\n",
    " * Hint: You might want to check https://scikit-learn.org/stable/modules/generated/sklearn.linear_model.LinearRegression.html"
   ]
  },
  {
   "cell_type": "code",
   "execution_count": 72,
   "metadata": {},
   "outputs": [
    {
     "name": "stdout",
     "output_type": "stream",
     "text": [
      "beta: 539.1150726420367\n",
      "alpha: 3631.49023086526\n",
      "pearson r: 0.6237592016595748\n"
     ]
    }
   ],
   "source": [
    "# programatical calculations\n",
    "print(\"beta:\", reg.coef_[0])  # array of shape... containing estimated coefficients for the linear regression problem\n",
    "print(\"alpha:\", reg.intercept_)  # independent term in the linear model (set to 0.0 if fit_intercept = False)\n",
    "person_r_program = stats.pearsonr(dataframe[\"age\"], dataframe[\"income\"])[0]\n",
    "print(\"pearson r:\", person_r_program)"
   ]
  },
  {
   "cell_type": "code",
   "execution_count": 69,
   "metadata": {},
   "outputs": [],
   "source": [
    "# analytical calculations\n",
    "# beta  = pearsonr * std_of_Y / std_of_X\n",
    "beta  = person_r_program * np.std(dataframe[\"income\"], ddof=1)  / np.std(dataframe[\"age\"], ddof=1)\n",
    "# alpha = mean_of_Y - (beta * mean_of_X)\n",
    "alpha = np.mean(dataframe[\"income\"]) - ( beta * np.mean(dataframe[\"age\"]) )"
   ]
  },
  {
   "cell_type": "code",
   "execution_count": 73,
   "metadata": {},
   "outputs": [
    {
     "data": {
      "text/plain": [
       "0.6237592016595748"
      ]
     },
     "execution_count": 73,
     "metadata": {},
     "output_type": "execute_result"
    }
   ],
   "source": [
    "pearson_r_calculated = beta * np.std(dataframe[\"age\"], ddof=1) / np.std(dataframe[\"income\"], ddof=1)\n",
    "pearson_r_calculated\n",
    "# loops"
   ]
  },
  {
   "cell_type": "markdown",
   "metadata": {},
   "source": [
    "**TA24) Using your age, make a prediction about your income in 10 years time (i.e., your age in 2030). Also, report the complete linear regression model**\n"
   ]
  },
  {
   "cell_type": "code",
   "execution_count": 60,
   "metadata": {},
   "outputs": [
    {
     "data": {
      "text/plain": [
       "array([19265.82733748])"
      ]
     },
     "execution_count": 60,
     "metadata": {},
     "output_type": "execute_result"
    }
   ],
   "source": [
    "#Write your answer here\n",
    "reg.predict([[19 + 10]])"
   ]
  },
  {
   "cell_type": "markdown",
   "metadata": {},
   "source": [
    "**TA25) Plot the linear regression model alongside the scatter plot from TA21**\n",
    "\n",
    "* Hint: invoke the plotting functions (one for the scatter plot, one for the linear regression model) one after the other\n",
    "\n",
    "* Hint: To generate the linear regression model, you can use (i) high school maths or (ii) the predict() method of the LinearRegression library"
   ]
  },
  {
   "cell_type": "code",
   "execution_count": 65,
   "metadata": {},
   "outputs": [
    {
     "data": {
      "image/png": "[encoded data removed]",
      "text/plain": [
       "<Figure size 700x600 with 1 Axes>"
      ]
     },
     "metadata": {
      "needs_background": "light"
     },
     "output_type": "display_data"
    }
   ],
   "source": [
    "#Write your answer here\n",
    "#Write your answer here\n",
    "plt.subplots(figsize=(7,6), dpi=100)\n",
    "ax = sns.scatterplot(x=\"age\", y=\"income\", data=dataframe, marker='o')\n",
    "ax.set_xlabel('Year', fontsize=15) # set x label\n",
    "ax.set_ylabel('Income(£)', fontsize=15,rotation=90) # set y label\n",
    "min_earning_age = 16\n",
    "max_earning_age = 70\n",
    "model = reg.predict(np.arange(min_earning_age, max_earning_age).reshape(-1, 1))\n",
    "ax = sns.lineplot(y=model, x=np.arange(min_earning_age, max_earning_age), color=\"r\")\n"
   ]
  },
  {
   "cell_type": "markdown",
   "metadata": {},
   "source": [
    "## Should you finish earlier/want to practice at home, you could\n",
    "\n",
    "* Go back to the previous practicals and run some statistical tests\n",
    "    * Do some statistical analysis on the Titanic (e.g., is there a relationship between the people survived and gender?)\n",
    "    * Do a linear regression on the Android Store (e.g., what might be the rating that a game of a specific nature might received)"
   ]
  }
 ],
 "metadata": {
  "kernelspec": {
   "display_name": "Python 3",
   "language": "python",
   "name": "python3"
  },
  "language_info": {
   "codemirror_mode": {
    "name": "ipython",
    "version": 3
   },
   "file_extension": ".py",
   "mimetype": "text/x-python",
   "name": "python",
   "nbconvert_exporter": "python",
   "pygments_lexer": "ipython3",
   "version": "3.8.2"
  }
 },
 "nbformat": 4,
 "nbformat_minor": 4
}

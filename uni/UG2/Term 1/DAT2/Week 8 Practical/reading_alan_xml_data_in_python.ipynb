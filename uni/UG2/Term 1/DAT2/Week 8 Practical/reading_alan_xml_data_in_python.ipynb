{
 "cells": [
  {
   "cell_type": "code",
   "execution_count": 4,
   "metadata": {},
   "outputs": [],
   "source": [
    "# importing the namespace first to read the XML file\n",
    "import xml.etree.ElementTree as xml\n",
    "\n",
    "# reading the file\n",
    "tree = xml.ElementTree(file=\"alandoc.xml\")"
   ]
  },
  {
   "cell_type": "code",
   "execution_count": 5,
   "metadata": {},
   "outputs": [
    {
     "name": "stdout",
     "output_type": "stream",
     "text": [
      "student\n"
     ]
    }
   ],
   "source": [
    "# finding the root\n",
    "root = tree.getroot()\n",
    "root_tag = root.tag\n",
    "print(root_tag)"
   ]
  },
  {
   "cell_type": "code",
   "execution_count": 6,
   "metadata": {},
   "outputs": [
    {
     "name": "stdout",
     "output_type": "stream",
     "text": [
      "name\n",
      "id\n"
     ]
    }
   ],
   "source": [
    "# finding all the child elements of the root\n",
    "for child_element in root:\n",
    "    print(child_element.tag)"
   ]
  },
  {
   "cell_type": "code",
   "execution_count": 7,
   "metadata": {},
   "outputs": [
    {
     "name": "stdout",
     "output_type": "stream",
     "text": [
      "name: Alan Smith\n",
      "id: 607545\n"
     ]
    }
   ],
   "source": [
    "# for all child elements and their respective contents\n",
    "for child_element in root:\n",
    "    print(child_element.tag + \": \" + child_element.text)"
   ]
  },
  {
   "cell_type": "code",
   "execution_count": 8,
   "metadata": {},
   "outputs": [
    {
     "name": "stdout",
     "output_type": "stream",
     "text": [
      "Alan Smith\n"
     ]
    }
   ],
   "source": [
    "# finding the content of a particular child element e.g. \"name\"\n",
    "for child_element in root.iter(\"name\"):\n",
    "    print(child_element.text)"
   ]
  },
  {
   "cell_type": "code",
   "execution_count": 10,
   "metadata": {},
   "outputs": [
    {
     "name": "stdout",
     "output_type": "stream",
     "text": [
      "id\n",
      "607545\n"
     ]
    }
   ],
   "source": [
    "# finding a particular child element\n",
    "print(root[1].tag)\n",
    "print(root[1].text)"
   ]
  },
  {
   "cell_type": "code",
   "execution_count": null,
   "metadata": {},
   "outputs": [],
   "source": []
  }
 ],
 "metadata": {
  "kernelspec": {
   "display_name": "Python 3",
   "language": "python",
   "name": "python3"
  },
  "language_info": {
   "codemirror_mode": {
    "name": "ipython",
    "version": 3
   },
   "file_extension": ".py",
   "mimetype": "text/x-python",
   "name": "python",
   "nbconvert_exporter": "python",
   "pygments_lexer": "ipython3",
   "version": "3.8.2"
  }
 },
 "nbformat": 4,
 "nbformat_minor": 4
}

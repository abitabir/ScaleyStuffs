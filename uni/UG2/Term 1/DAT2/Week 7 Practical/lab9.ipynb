{
 "cells": [
  {
   "cell_type": "code",
   "execution_count": 15,
   "metadata": {},
   "outputs": [],
   "source": [
    "# data base api\n",
    "\n",
    "import sqlite3\n",
    "con=sqlite3.connect(r\"C:\\projects\\ScaleyStuffs\\uni\\DAT2\\Week 7 Practical\\lab9db.db\")\n",
    "# lab9.db didn't exist before we ran this cell"
   ]
  },
  {
   "cell_type": "code",
   "execution_count": 16,
   "metadata": {},
   "outputs": [],
   "source": [
    "# remember to run this cell before trying to call the functions defined in it from elsewhere in the Jupyter notebook\n",
    "\n",
    "def gettingHeaders(tup):\n",
    "    returning = [tu[0] for tu in tup]\n",
    "    return str(tuple(returning))\n",
    "\n",
    "def gettingRecords(recs):\n",
    "    returning = \"\"\n",
    "    for record in recs:\n",
    "        returning += str(record) + \"\\n\"\n",
    "    return returning\n",
    "\n",
    "def formattingPrintings():\n",
    "    print(gettingHeaders(cursor.description) + \"\\n\\n\" + gettingRecords(cursor.fetchall()))"
   ]
  },
  {
   "cell_type": "code",
   "execution_count": 17,
   "metadata": {},
   "outputs": [
    {
     "ename": "OperationalError",
     "evalue": "table Instructor already exists",
     "output_type": "error",
     "traceback": [
      "\u001B[1;31m---------------------------------------------------------------------------\u001B[0m",
      "\u001B[1;31mOperationalError\u001B[0m                          Traceback (most recent call last)",
      "\u001B[1;32m<ipython-input-17-1995cb6615be>\u001B[0m in \u001B[0;36m<module>\u001B[1;34m\u001B[0m\n\u001B[0;32m      1\u001B[0m \u001B[0mcursor\u001B[0m\u001B[1;33m=\u001B[0m\u001B[0mcon\u001B[0m\u001B[1;33m.\u001B[0m\u001B[0mcursor\u001B[0m\u001B[1;33m(\u001B[0m\u001B[1;33m)\u001B[0m\u001B[1;33m\u001B[0m\u001B[1;33m\u001B[0m\u001B[0m\n\u001B[1;32m----> 2\u001B[1;33m cursor.execute(\"\"\"\n\u001B[0m\u001B[0;32m      3\u001B[0m CREATE TABLE Instructor(\n\u001B[0;32m      4\u001B[0m \u001B[0mid\u001B[0m \u001B[0mINTEGER\u001B[0m \u001B[0mPRIMARY\u001B[0m \u001B[0mKEY\u001B[0m \u001B[0mNOT\u001B[0m \u001B[0mNULL\u001B[0m\u001B[1;33m,\u001B[0m\u001B[1;33m\u001B[0m\u001B[1;33m\u001B[0m\u001B[0m\n\u001B[0;32m      5\u001B[0m \u001B[0mname\u001B[0m \u001B[0mTEXT\u001B[0m\u001B[1;33m,\u001B[0m\u001B[1;33m\u001B[0m\u001B[1;33m\u001B[0m\u001B[0m\n",
      "\u001B[1;31mOperationalError\u001B[0m: table Instructor already exists"
     ]
    }
   ],
   "source": [
    "cursor=con.cursor()\n",
    "cursor.execute(\"\"\"\n",
    "CREATE TABLE Instructor(\n",
    "id INTEGER PRIMARY KEY NOT NULL,\n",
    "name TEXT,\n",
    "address TEXT\n",
    ")\n",
    "\"\"\")\n",
    "con.commit()\n",
    "# table called Instructor created in database - empty rn only though"
   ]
  },
  {
   "cell_type": "code",
   "execution_count": 18,
   "metadata": {},
   "outputs": [
    {
     "ename": "IntegrityError",
     "evalue": "UNIQUE constraint failed: Instructor.id",
     "output_type": "error",
     "traceback": [
      "\u001B[1;31m---------------------------------------------------------------------------\u001B[0m",
      "\u001B[1;31mIntegrityError\u001B[0m                            Traceback (most recent call last)",
      "\u001B[1;32m<ipython-input-18-bfbb0104abc7>\u001B[0m in \u001B[0;36m<module>\u001B[1;34m\u001B[0m\n\u001B[0;32m      4\u001B[0m \u001B[0mVALUES\u001B[0m \u001B[1;33m(\u001B[0m\u001B[1;36m1001\u001B[0m\u001B[1;33m,\u001B[0m \u001B[1;34m\"JS\"\u001B[0m\u001B[1;33m,\u001B[0m \u001B[1;34m\"Sheffield\"\u001B[0m\u001B[1;33m)\u001B[0m\u001B[1;33m;\u001B[0m\u001B[1;33m\u001B[0m\u001B[1;33m\u001B[0m\u001B[0m\n\u001B[0;32m      5\u001B[0m \"\"\")\n\u001B[1;32m----> 6\u001B[1;33m cursor.execute(\"\"\"\n\u001B[0m\u001B[0;32m      7\u001B[0m \u001B[0mINSERT\u001B[0m \u001B[0mINTO\u001B[0m \u001B[0mInstructor\u001B[0m \u001B[1;33m(\u001B[0m\u001B[0mid\u001B[0m\u001B[1;33m,\u001B[0m \u001B[0mname\u001B[0m\u001B[1;33m,\u001B[0m \u001B[0maddress\u001B[0m\u001B[1;33m)\u001B[0m\u001B[1;33m\u001B[0m\u001B[1;33m\u001B[0m\u001B[0m\n\u001B[0;32m      8\u001B[0m \u001B[0mVALUES\u001B[0m \u001B[1;33m(\u001B[0m\u001B[1;36m1002\u001B[0m\u001B[1;33m,\u001B[0m \u001B[1;34m\"MN\"\u001B[0m\u001B[1;33m,\u001B[0m \u001B[1;34m\"Leeds\"\u001B[0m\u001B[1;33m)\u001B[0m\u001B[1;33m;\u001B[0m\u001B[1;33m\u001B[0m\u001B[1;33m\u001B[0m\u001B[0m\n",
      "\u001B[1;31mIntegrityError\u001B[0m: UNIQUE constraint failed: Instructor.id"
     ]
    }
   ],
   "source": [
    "# inserting values - remember can't use \"\"\" \"\"\" in \"\"\" \"\"\"\n",
    "cursor.execute(\"\"\"\n",
    "INSERT INTO Instructor (id, name, address)\n",
    "VALUES (1001, \"JS\", \"Sheffield\");\n",
    "\"\"\")\n",
    "cursor.execute(\"\"\"\n",
    "INSERT INTO Instructor (id, name, address)\n",
    "VALUES (1002, \"MN\", \"Leeds\");\n",
    "\"\"\")\n",
    "cursor.execute(\"\"\"\n",
    "INSERT INTO Instructor (id, name, address)\n",
    "VALUES (1003, \"SK\", \"Derby\");\n",
    "\"\"\")\n",
    "con.commit()"
   ]
  },
  {
   "cell_type": "code",
   "execution_count": 19,
   "metadata": {},
   "outputs": [
    {
     "ename": "OperationalError",
     "evalue": "table Learner already exists",
     "output_type": "error",
     "traceback": [
      "\u001B[1;31m---------------------------------------------------------------------------\u001B[0m",
      "\u001B[1;31mOperationalError\u001B[0m                          Traceback (most recent call last)",
      "\u001B[1;32m<ipython-input-19-f4519aad13f7>\u001B[0m in \u001B[0;36m<module>\u001B[1;34m\u001B[0m\n\u001B[0;32m      1\u001B[0m \u001B[1;31m# cursor.execute(\"\"\"DROP TABLE Learner\"\"\")  # resetting shenanigans hummies\u001B[0m\u001B[1;33m\u001B[0m\u001B[1;33m\u001B[0m\u001B[1;33m\u001B[0m\u001B[0m\n\u001B[1;32m----> 2\u001B[1;33m cursor.execute(\"\"\"\n\u001B[0m\u001B[0;32m      3\u001B[0m CREATE TABLE Learner(\n\u001B[0;32m      4\u001B[0m \u001B[0mlearnerNo\u001B[0m \u001B[0mINTEGER\u001B[0m \u001B[0mPRIMARY\u001B[0m \u001B[0mKEY\u001B[0m \u001B[0mNOT\u001B[0m \u001B[0mNULL\u001B[0m\u001B[1;33m,\u001B[0m\u001B[1;33m\u001B[0m\u001B[1;33m\u001B[0m\u001B[0m\n\u001B[0;32m      5\u001B[0m \u001B[0mname\u001B[0m \u001B[0mTEXT\u001B[0m\u001B[1;33m,\u001B[0m\u001B[1;33m\u001B[0m\u001B[1;33m\u001B[0m\u001B[0m\n",
      "\u001B[1;31mOperationalError\u001B[0m: table Learner already exists"
     ]
    }
   ],
   "source": [
    "# cursor.execute(\"\"\"DROP TABLE Learner\"\"\")  # resetting shenanigans hummies\n",
    "cursor.execute(\"\"\"\n",
    "CREATE TABLE Learner(\n",
    "learnerNo INTEGER PRIMARY KEY NOT NULL,\n",
    "name TEXT,\n",
    "address TEXT,\n",
    "age INTEGER,\n",
    "id INTEGER,\n",
    "\n",
    "FOREIGN KEY(id) REFERENCES Instructor(id)\n",
    "ON DELETE CASCADE\n",
    "ON UPDATE CASCADE\n",
    "ON INSERT CASCADE\n",
    ")\n",
    "\"\"\")\n",
    "con.commit()\n",
    "cursor.execute(\"\"\"\n",
    "INSERT INTO Learner\n",
    "VALUES(1, \"TK\", \"York\", 19, 1001)\n",
    "\"\"\")\n",
    "cursor.execute(\"\"\"\n",
    "INSERT INTO Learner\n",
    "VALUES(2, \"KS\", \"Newcastle\", 20, 1002)\n",
    "\"\"\")\n",
    "cursor.execute(\"\"\"\n",
    "INSERT INTO Learner\n",
    "VALUES(3, \"FB\", \"Derby\", 19, 1001)\n",
    "\"\"\")\n",
    "cursor.execute(\"\"\"\n",
    "INSERT INTO Learner\n",
    "VALUES(4, \"MD\", \"York\", 18, 1003)\n",
    "\"\"\")\n",
    "con.commit()\n",
    "# they're all kids! T.T I wanna have lessons and pass soon too, inshallah X'("
   ]
  },
  {
   "cell_type": "code",
   "execution_count": 20,
   "metadata": {
    "scrolled": false
   },
   "outputs": [
    {
     "name": "stdout",
     "output_type": "stream",
     "text": [
      "('learnerNo', 'name', 'address', 'age', 'id')\n",
      "\n",
      "(1, 'TK', 'York', 19, 999)\n",
      "\n"
     ]
    }
   ],
   "source": [
    "cursor.execute(\"\"\"SELECT * FROM Learner WHERE learnerNo=1\"\"\")\n",
    "formattingPrintings()"
   ]
  },
  {
   "cell_type": "code",
   "execution_count": 21,
   "metadata": {},
   "outputs": [
    {
     "ename": "OperationalError",
     "evalue": "table Lesson already exists",
     "output_type": "error",
     "traceback": [
      "\u001B[1;31m---------------------------------------------------------------------------\u001B[0m",
      "\u001B[1;31mOperationalError\u001B[0m                          Traceback (most recent call last)",
      "\u001B[1;32m<ipython-input-21-6804915edc65>\u001B[0m in \u001B[0;36m<module>\u001B[1;34m\u001B[0m\n\u001B[0;32m      1\u001B[0m \u001B[1;31m# cursor.execute(\"DROP TABLE Lesson\")\u001B[0m\u001B[1;33m\u001B[0m\u001B[1;33m\u001B[0m\u001B[1;33m\u001B[0m\u001B[0m\n\u001B[1;32m----> 2\u001B[1;33m cursor.execute(\"\"\"\n\u001B[0m\u001B[0;32m      3\u001B[0m CREATE TABLE Lesson(\n\u001B[0;32m      4\u001B[0m \u001B[0mlessonID\u001B[0m \u001B[0mINTEGER\u001B[0m \u001B[0mPRIMARY\u001B[0m \u001B[0mKEY\u001B[0m \u001B[0mNOT\u001B[0m \u001B[0mNULL\u001B[0m\u001B[1;33m,\u001B[0m\u001B[1;33m\u001B[0m\u001B[1;33m\u001B[0m\u001B[0m\n\u001B[0;32m      5\u001B[0m \u001B[0mdate\u001B[0m \u001B[0mTEXT\u001B[0m\u001B[1;33m,\u001B[0m\u001B[1;33m\u001B[0m\u001B[1;33m\u001B[0m\u001B[0m\n",
      "\u001B[1;31mOperationalError\u001B[0m: table Lesson already exists"
     ]
    }
   ],
   "source": [
    "# cursor.execute(\"DROP TABLE Lesson\")\n",
    "cursor.execute(\"\"\"\n",
    "CREATE TABLE Lesson(\n",
    "lessonID INTEGER PRIMARY KEY NOT NULL,\n",
    "date TEXT,\n",
    "learnerNo INTEGER NOT NULL,\n",
    "\n",
    "FOREIGN KEY(learnerNo) REFERENCES Learner(learnerNo)\n",
    "ON DELETE CASCADE\n",
    "ON UPDATE CASCADE\n",
    "ON INSERT CASCADE\n",
    ")\n",
    "\"\"\")\n",
    "con.commit()\n",
    "cursor.execute(\"\"\"\n",
    "INSERT INTO Lesson\n",
    "VALUES(111, \"23-10-20\", 1)\n",
    "\"\"\")\n",
    "cursor.execute(\"\"\"\n",
    "INSERT INTO Lesson\n",
    "VALUES(222, \"25-10-20\", 2)\n",
    "\"\"\")\n",
    "cursor.execute(\"\"\"\n",
    "INSERT INTO Lesson\n",
    "VALUES(333, \"05-11-20\", 1)\n",
    "\"\"\")\n",
    "cursor.execute(\"\"\"\n",
    "INSERT INTO Lesson\n",
    "VALUES(444, \"27-10-20\", 3)\n",
    "\"\"\")\n",
    "cursor.execute(\"\"\"\n",
    "INSERT INTO Lesson\n",
    "VALUES(554, \"29-10-20\", 4)\n",
    "\"\"\")\n",
    "con.commit()\n",
    "cursor.execute(\"SELECT * FROM Lesson\")\n",
    "formattingPrintings()"
   ]
  },
  {
   "cell_type": "code",
   "execution_count": 22,
   "metadata": {},
   "outputs": [
    {
     "name": "stdout",
     "output_type": "stream",
     "text": [
      "('id', 'name', 'address')\n",
      "\n",
      "(888, 'SG', 'Hull')\n",
      "(999, 'JS', 'Sheffield')\n",
      "(1001, 'JS', 'Sheffield')\n",
      "(1002, 'MN', 'Leeds')\n",
      "(1003, 'SK', 'Derby')\n",
      "(1004, 'SG', 'Hull')\n",
      "\n"
     ]
    }
   ],
   "source": [
    "# before closing a connection, where applicable, make sure to commit, otherwise changes made won't be saved\n",
    "\n",
    "# We are going to an insert a new instructor in the Instructor table, with ID=1004,name=SG, and address = Hull\n",
    "cursor.execute(\"\"\"\n",
    "INSERT INTO Instructor\n",
    "VALUES(?, ?, ?)\"\"\",\n",
    "(1004, \"SG\", \"Hull\"))\n",
    "# paramaterised insertions\n",
    "con.commit()\n",
    "cursor.execute(\"SELECT * FROM Instructor\")\n",
    "formattingPrintings()"
   ]
  },
  {
   "cell_type": "code",
   "execution_count": 23,
   "metadata": {},
   "outputs": [
    {
     "ename": "IntegrityError",
     "evalue": "UNIQUE constraint failed: Instructor.id",
     "output_type": "error",
     "traceback": [
      "\u001B[1;31m---------------------------------------------------------------------------\u001B[0m",
      "\u001B[1;31mIntegrityError\u001B[0m                            Traceback (most recent call last)",
      "\u001B[1;32m<ipython-input-23-ca71815942a3>\u001B[0m in \u001B[0;36m<module>\u001B[1;34m\u001B[0m\n\u001B[0;32m      9\u001B[0m \u001B[1;31m# wai without this statement, foreign key id in Learner table is not updated - ooo\u001B[0m\u001B[1;33m\u001B[0m\u001B[1;33m\u001B[0m\u001B[1;33m\u001B[0m\u001B[0m\n\u001B[0;32m     10\u001B[0m \u001B[1;31m# through this statement, foreign keys are enforced in this relational database\u001B[0m\u001B[1;33m\u001B[0m\u001B[1;33m\u001B[0m\u001B[1;33m\u001B[0m\u001B[0m\n\u001B[1;32m---> 11\u001B[1;33m cursor.execute(\"\"\"\n\u001B[0m\u001B[0;32m     12\u001B[0m \u001B[0mUPDATE\u001B[0m \u001B[0mInstructor\u001B[0m\u001B[1;33m\u001B[0m\u001B[1;33m\u001B[0m\u001B[0m\n\u001B[0;32m     13\u001B[0m \u001B[0mSET\u001B[0m \u001B[0mid\u001B[0m\u001B[1;33m=\u001B[0m\u001B[1;36m999\u001B[0m\u001B[1;33m\u001B[0m\u001B[1;33m\u001B[0m\u001B[0m\n",
      "\u001B[1;31mIntegrityError\u001B[0m: UNIQUE constraint failed: Instructor.id"
     ]
    }
   ],
   "source": [
    "# Next, we are going to change the id of one of the instructors. Current id = 1001, and needs to be changed to 999.\n",
    "\n",
    "# cursor.execute(\"\"\"\n",
    "# UPDATE Instructor\n",
    "# SET id=1001\n",
    "# WHERE id=999\n",
    "# \"\"\")\n",
    "con.execute(\"PRAGMA foreign_keys=ON\")  # no idea what this does, works the same without in my limited understanding XOS\n",
    "# wai without this statement, foreign key id in Learner table is not updated - ooo\n",
    "# through this statement, foreign keys are enforced in this relational database\n",
    "cursor.execute(\"\"\"\n",
    "UPDATE Instructor\n",
    "SET id=999\n",
    "WHERE id=1001\n",
    "\"\"\")\n",
    "con.commit()\n",
    "cursor.execute(\"SELECT * FROM Instructor\")\n",
    "formattingPrintings()\n",
    "cursor.execute(\"SELECT * FROM Learner\")\n",
    "formattingPrintings()\n",
    "# checking to see if all corresponding tables have been updated"
   ]
  },
  {
   "cell_type": "code",
   "execution_count": 24,
   "metadata": {},
   "outputs": [
    {
     "ename": "IntegrityError",
     "evalue": "UNIQUE constraint failed: Instructor.id",
     "output_type": "error",
     "traceback": [
      "\u001B[1;31m---------------------------------------------------------------------------\u001B[0m",
      "\u001B[1;31mIntegrityError\u001B[0m                            Traceback (most recent call last)",
      "\u001B[1;32m<ipython-input-24-9fa408506286>\u001B[0m in \u001B[0;36m<module>\u001B[1;34m\u001B[0m\n\u001B[0;32m      3\u001B[0m \u001B[1;33m\u001B[0m\u001B[0m\n\u001B[0;32m      4\u001B[0m \u001B[0mVALUES\u001B[0m \u001B[1;33m=\u001B[0m \u001B[1;33m(\u001B[0m\u001B[1;36m888\u001B[0m\u001B[1;33m,\u001B[0m \u001B[1;36m1004\u001B[0m\u001B[1;33m)\u001B[0m\u001B[1;33m\u001B[0m\u001B[1;33m\u001B[0m\u001B[0m\n\u001B[1;32m----> 5\u001B[1;33m cursor.execute(\"\"\"\n\u001B[0m\u001B[0;32m      6\u001B[0m \u001B[0mUPDATE\u001B[0m \u001B[0mInstructor\u001B[0m\u001B[1;33m\u001B[0m\u001B[1;33m\u001B[0m\u001B[0m\n\u001B[0;32m      7\u001B[0m \u001B[0mSET\u001B[0m \u001B[0mid\u001B[0m\u001B[1;33m=\u001B[0m\u001B[0;31m?\u001B[0m\u001B[1;33m\u001B[0m\u001B[1;33m\u001B[0m\u001B[0m\n",
      "\u001B[1;31mIntegrityError\u001B[0m: UNIQUE constraint failed: Instructor.id"
     ]
    }
   ],
   "source": [
    "# Another way of using the UPDATE statement:\n",
    "# Suppose we want to update the id of one of the instructors, with current id=1004 to 888, we can use the following commands:\n",
    "\n",
    "VALUES = (888, 1004)\n",
    "cursor.execute(\"\"\"\n",
    "UPDATE Instructor\n",
    "SET id=?\n",
    "WHERE id=?\n",
    "\"\"\", VALUES)\n",
    "con.commit()\n",
    "cursor.execute(\"SELECT * FROM Instructor\")\n",
    "formattingPrintings()"
   ]
  },
  {
   "cell_type": "code",
   "execution_count": 25,
   "metadata": {},
   "outputs": [
    {
     "data": {
      "text/plain": [
       "[]"
      ]
     },
     "execution_count": 25,
     "metadata": {},
     "output_type": "execute_result"
    }
   ],
   "source": [
    "# Now, you need to delete a learner, with learnerNo = 3. Write your commands to perform this\n",
    "# change and check if your table has been updated in the DB browser.\n",
    "cursor.execute(\"\"\"\n",
    "DELETE FROM Learner WHERE learnerNo=3\n",
    "\"\"\")\n",
    "con.commit()\n",
    "cursor.execute(\"\"\"\n",
    "SELECT learnerNo\n",
    "FROM Learner\n",
    "WHERE (SELECT learnerNo FROM Learner WHERE learnerNo=3)\n",
    "\"\"\")\n",
    "cursor.fetchall()  # returns empty list\n",
    "# formattingPrintings()  # returns nothing due to bool - only column header learnerNo"
   ]
  },
  {
   "cell_type": "code",
   "execution_count": 26,
   "metadata": {},
   "outputs": [
    {
     "name": "stdout",
     "output_type": "stream",
     "text": [
      "888 SG Hull\n",
      "999 JS Sheffield\n",
      "1001 JS Sheffield\n",
      "1002 MN Leeds\n",
      "1003 SK Derby\n",
      "1004 SG Hull\n"
     ]
    }
   ],
   "source": [
    "# We are now going to process results from SELECT using the fetchmany(size), fetchall(), and\n",
    "# fetchone() methods.\n",
    "# Suppose we want to retrieve all attributes and records from Instructor table. To accomplish this,\n",
    "# we simply need the following commands.\n",
    "cursor.execute(\"SELECT * FROM Instructor\")\n",
    "for row in cursor.fetchall():\n",
    "    print(row[0], row[1], row[2])\n",
    "# Now, if you only want the following columns - ‘id’ and ‘name’ – in your result, how would you\n",
    "# adjust the above commands?\n",
    "for row in cursor.fetchall():\n",
    "    print(row[0], row[1])\n",
    "    \n",
    "# nicely formatted, much better than my just tuple printing function lollies XP"
   ]
  },
  {
   "cell_type": "code",
   "execution_count": 27,
   "metadata": {},
   "outputs": [
    {
     "name": "stdout",
     "output_type": "stream",
     "text": [
      "Average age of all learners at this driving school is:  19\n"
     ]
    }
   ],
   "source": [
    "# How would you use fetchone() method to calculate and display the average age?\n",
    "import math as m\n",
    "cursor.execute(\"SELECT AVG(age) FROM Learner\")\n",
    "row = cursor.fetchone()\n",
    "print(\"Average age of all learners at this driving school is: \", m.floor(row[0]))"
   ]
  },
  {
   "cell_type": "code",
   "execution_count": 14,
   "metadata": {},
   "outputs": [
    {
     "name": "stdout",
     "output_type": "stream",
     "text": [
      "1 TK York 19 999\n",
      "2 KS Newcastle 20 1002\n"
     ]
    }
   ],
   "source": [
    "# How would you use the fetchmany() method to display the first two records from the Learner table?\n",
    "cursor.execute(\"SELECT * FROM Learner\")\n",
    "tworows = cursor.fetchmany(2) # specific value of records to be returned passed through as parameter\n",
    "for row in tworows:\n",
    "    print(row[0], row[1], row[2], row[3], row[4])"
   ]
  },
  {
   "cell_type": "code",
   "execution_count": 14,
   "metadata": {},
   "outputs": [],
   "source": []
  }
 ],
 "metadata": {
  "kernelspec": {
   "display_name": "Python 3",
   "language": "python",
   "name": "python3"
  },
  "language_info": {
   "codemirror_mode": {
    "name": "ipython",
    "version": 3
   },
   "file_extension": ".py",
   "mimetype": "text/x-python",
   "name": "python",
   "nbconvert_exporter": "python",
   "pygments_lexer": "ipython3",
   "version": "3.8.2"
  }
 },
 "nbformat": 4,
 "nbformat_minor": 1
}
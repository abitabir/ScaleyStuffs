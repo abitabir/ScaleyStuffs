{
 "cells": [
  {
   "cell_type": "code",
   "execution_count": 12,
   "metadata": {},
   "outputs": [],
   "source": [
    "# writing XML elements in python\n",
    "\"\"\"\n",
    "<student>\n",
    " <name>Alan Smith</name>\n",
    " <id>607545</id>\n",
    "</student>\n",
    "\"\"\"\n",
    "import xml.etree.ElementTree as xmldoc\n",
    "# Note: xmldoc is an object for the namespace"
   ]
  },
  {
   "cell_type": "code",
   "execution_count": 13,
   "metadata": {},
   "outputs": [],
   "source": [
    "# generating root tag ~ student and its child tag name\n",
    "root = xmldoc.Element('student')\n",
    "child = xmldoc.Element('name')\n",
    "# appending the child to the root\n",
    "root.append(child)\n",
    "\n",
    "child.text = \"Alan Smith\"\n",
    "# note: now Alan Smith is the content of the tag named name"
   ]
  },
  {
   "cell_type": "code",
   "execution_count": 14,
   "metadata": {},
   "outputs": [],
   "source": [
    "# generating the second child tag id and appending to the root\n",
    "child_ii = xmldoc.Element('id')\n",
    "root.append(child_ii)\n",
    "child_ii.text = \"607545\""
   ]
  },
  {
   "cell_type": "code",
   "execution_count": 15,
   "metadata": {},
   "outputs": [],
   "source": [
    "# adding root to a tree\n",
    "tree = xmldoc.ElementTree(root)"
   ]
  },
  {
   "cell_type": "code",
   "execution_count": 16,
   "metadata": {},
   "outputs": [],
   "source": [
    "# tagging the information we have defined to a file via a file path we have specified\n",
    "tree.write(\"alandoc.xml\")\n"
   ]
  },
  {
   "cell_type": "code",
   "execution_count": null,
   "metadata": {},
   "outputs": [],
   "source": []
  }
 ],
 "metadata": {
  "kernelspec": {
   "display_name": "Python 3",
   "language": "python",
   "name": "python3"
  },
  "language_info": {
   "codemirror_mode": {
    "name": "ipython",
    "version": 3
   },
   "file_extension": ".py",
   "mimetype": "text/x-python",
   "name": "python",
   "nbconvert_exporter": "python",
   "pygments_lexer": "ipython3",
   "version": "3.8.2"
  }
 },
 "nbformat": 4,
 "nbformat_minor": 1
}
